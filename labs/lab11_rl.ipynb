{
 "cells": [
  {
   "cell_type": "markdown",
   "metadata": {},
   "source": [
    "[![Open In Colab](https://colab.research.google.com/assets/colab-badge.svg)](https://github.com/porterjenkins/byu-cs474/blob/master/lab11_rl.ipynb)"
   ]
  },
  {
   "cell_type": "markdown",
   "metadata": {
    "id": "sl7hEuB3J4k3"
   },
   "source": [
    "# Deep Reinforcement Learning\n",
    "\n",
    "## Objective\n",
    "\n",
    "- Build DQN and PPO Deep RL algorithms\n",
    "- Learn the difference between Q Learning and Policy Gradient techniques\n",
    "\n",
    "## Deliverable\n",
    "\n",
    "For this lab you will submit an ipython notebook via learning suite. This lab gives you a lot of code, and you should only need to modify two of the cells of this notebook. Feel free to download and modify this notebook or create your own. The below code is given for your convinience. You can modify any of the given code if you wish.\n",
    "\n",
    "## Tips\n",
    "\n",
    "Deep reinforcement learning is difficult. We provide hyperparameters, visualizations, and code for gathering experience, but require you to code up algorithms for training your networks. \n",
    "\n",
    "- Your networks should be able to demonstrate learning on cartpole within a minute of wall time.\n",
    "\n",
    "- Understand what your the starter code is doing. This will help you with the *TODO* sections. The main code block is similar for the two algorithms with some small yet important differences.\n",
    "\n",
    "- We provide hyperparameters for you to start with. Feel free to experiment with different values, but these worked for us.\n",
    "\n",
    "- **Print dtypes and shapes** throughout your code to make sure your tensors look the way you expect.\n",
    "\n",
    "- The DQN algorithm is significantly more unstable than PPO. Even with a correct implementation it may fail to learn every 1/10 times.\n",
    "\n",
    "- Unfortunately visualizing your agent acting in the environment is non-trivial in Colab. You can visualize your agent by running this code locally and uncommenting the `env.render()` line.\n",
    "\n",
    "## Grading\n",
    "\n",
    "- 40% Part 1: DQN *TODO* methods\n",
    "- 40% Part 2: PPO *TODO* methods\n",
    "- 20% Cartpole learning curves\n",
    "\n",
    "\n",
    "### Cartpole\n",
    "\n",
    "Cartpole is a simple environment to get your agent up and running. It has a continuous state space of 4 dimensions and a discrete action space of 2. The agent is given a reward of 1 for each timestep it remains standing. Your agent should be able to reach close to 200 cumulative reward for an episode after a minute or two of training. The below graphs show example results for dqn (left) and ppo (right).\n",
    "\n",
    "![alt text](https://github.com/wingated/cs474_labs/blob/master/images/dqn.png?raw=true)\n",
    "![alt text](https://github.com/wingated/cs474_labs/blob/master/images/ppo.png?raw=true)\n",
    "\n",
    "### TODO\n",
    "\n",
    "- Train DQN and PPO on cartpole\n",
    "- Display learning curves with average episodic reward per epoch"
   ]
  },
  {
   "cell_type": "markdown",
   "metadata": {
    "id": "gVWokqnVab6O"
   },
   "source": [
    "# Starter Code"
   ]
  },
  {
   "cell_type": "markdown",
   "metadata": {
    "id": "WhaPOG6xt0yn"
   },
   "source": [
    "## Init"
   ]
  },
  {
   "cell_type": "code",
   "execution_count": 1,
   "metadata": {
    "id": "EyykNyRM1Tf3"
   },
   "outputs": [],
   "source": [
    "# ! pip3 install gymnasium\n",
    "# ! pip3 install torch\n",
    "# ! pip install pygame\n",
    "# ! pip install moviepy==1.0.3\n",
    "# ! pip install imageio_ffmpeg\n",
    "# ! pip install pyvirtualdisplay\n",
    "# ! apt-get install -y xvfb python3-opengl ffmpeg"
   ]
  },
  {
   "cell_type": "code",
   "execution_count": 2,
   "metadata": {
    "id": "Rim8iocC1Vva"
   },
   "outputs": [],
   "source": [
    "import gymnasium as gym\n",
    "import torch\n",
    "import torch.nn as nn\n",
    "import torch.nn.functional as F\n",
    "from itertools import chain\n",
    "import matplotlib.pyplot as plt\n",
    "from tqdm import tqdm\n",
    "import random\n",
    "from torch.utils.data import Dataset, DataLoader\n",
    "import numpy as np\n",
    "\n",
    "from gymnasium import logger as gymlogger\n",
    "from gymnasium.wrappers import RecordVideo\n",
    "gymlogger.min_level = 40 # Error only\n",
    "\n",
    "import glob\n",
    "import io\n",
    "import base64\n",
    "from IPython.display import HTML\n",
    "from IPython import display as ipythondisplay"
   ]
  },
  {
   "cell_type": "code",
   "execution_count": 3,
   "metadata": {
    "id": "l1f8lZp19Lwj"
   },
   "outputs": [
    {
     "data": {
      "text/plain": [
       "<pyvirtualdisplay.display.Display at 0x70c52ad8b810>"
      ]
     },
     "execution_count": 3,
     "metadata": {},
     "output_type": "execute_result"
    }
   ],
   "source": [
    "from pyvirtualdisplay import Display\n",
    "display = Display(visible=0, size=(1400,900))\n",
    "display.start()"
   ]
  },
  {
   "cell_type": "code",
   "execution_count": 4,
   "metadata": {
    "id": "_TI_5c0l9Ojv"
   },
   "outputs": [],
   "source": [
    "def show_video():\n",
    "  mp4list = glob.glob('video/*.mp4')\n",
    "  if len(mp4list) > 0:\n",
    "    mp4 = mp4list[0]\n",
    "    video = io.open(mp4, 'r+b').read()\n",
    "    encoded = base64.b64encode(video)\n",
    "    ipythondisplay.display(HTML(data='''<video alt=\"test\" autoplay \n",
    "                loop controls style=\"height: 400px;\">\n",
    "                <source src=\"data:video/mp4;base64,{0}\" type=\"video/mp4\" />\n",
    "             </video>'''.format(encoded.decode('ascii'))))\n",
    "  else: \n",
    "    print(\"Could not find video\")\n",
    "\n",
    "def wrap_env(env):\n",
    "  env = RecordVideo(env, './video')\n",
    "  return env"
   ]
  },
  {
   "cell_type": "markdown",
   "metadata": {
    "id": "mV282uYJ2aSw"
   },
   "source": [
    "## DQN"
   ]
  },
  {
   "cell_type": "markdown",
   "metadata": {
    "id": "Qi_aDdTg2btp"
   },
   "source": [
    "## Part 1\n",
    "\n",
    "\n",
    "Deep Q-Network (https://www.cs.toronto.edu/~vmnih/docs/dqn.pdf) is a Q-learning algorithm that learns values for state-action pairs.\n",
    "\n",
    "Actions are sampled according to an $\\epsilon-greedy$ policy to help with exploration of the state space. Every time an action is sampled, the agent chooses a random action with $\\epsilon$ probability. Otherwise, the agent selects the action with the highest Q-value for a state. $\\epsilon$ decays over time according to $\\epsilon \\gets \\epsilon * epsilon\\_decay$.\n",
    "\n",
    "Tuples of state, action, reward, next_state, and terminal $(s,a,r,s',d)$ are collected during training. Every $learn\\_frequency$ steps $sample\\_size$ tuples are sampled and made into 5 tensors tensors of states, actions, rewarads, next_states, and terminals.\n",
    "\n",
    "The loss for a batch of size N is given below.\n",
    "\n",
    "$Loss=\\frac{1}{N}\\sum \\bigg(Q(s,a) - (r + \\gamma \\underset{a'\\sim A}{max} \\hat{Q}(s',a')(1-d))\\bigg)^2 $\n",
    "\n",
    "Loss is calculated and used to update the Q-Network. The target network $\\hat{Q}$ begins as a copy of the Q network but is not updated by the optimizer. Every $target\\_update$ steps, the target network is updated with the parameters of the Q-Network. This process is a type of bootstrapping.\n",
    "\n",
    "### TODO\n",
    "\n",
    "- Implement get action method with e-greedy policy\n",
    "- Implement sample batch method\n",
    "- Implement DQN learning algorithm\n",
    "\n"
   ]
  },
  {
   "cell_type": "code",
   "execution_count": 5,
   "metadata": {},
   "outputs": [
    {
     "name": "stdout",
     "output_type": "stream",
     "text": [
      "Using device: cuda\n"
     ]
    }
   ],
   "source": [
    "device = 'cuda' if torch.cuda.is_available() else 'cpu'\n",
    "print(f\"Using device: {device}\")"
   ]
  },
  {
   "cell_type": "code",
   "execution_count": 6,
   "metadata": {
    "id": "_mBUvXkT2dHy"
   },
   "outputs": [],
   "source": [
    "def get_action_dqn(network, state, epsilon, epsilon_decay):\n",
    "  \"\"\"Select action according to e-greedy policy and decay epsilon\n",
    "\n",
    "    Args:\n",
    "        network (QNetwork): Q-Network\n",
    "        state (np-array): current state, size (state_size)\n",
    "        epsilon (float): probability of choosing a random action\n",
    "        epsilon_decay (float): amount by which to decay epsilon\n",
    "\n",
    "    Returns:\n",
    "        action (int): chosen action [0, action_size)\n",
    "        epsilon (float): decayed epsilon\n",
    "  \"\"\"\n",
    "  epsilon = epsilon * epsilon_decay\n",
    "\n",
    "  if random.random() < epsilon:\n",
    "    action =  random.randrange(2)\n",
    "  \n",
    "  else:\n",
    "    state_tensor = torch.FloatTensor(state).unsqueeze(0).to(device)\n",
    "\n",
    "    with torch.no_grad():\n",
    "      network.eval()\n",
    "      q_values = network(state_tensor)\n",
    "\n",
    "      network.train()\n",
    "      action = q_values.max(1)[1].item()\n",
    "    \n",
    "  return action, epsilon\n",
    "\n",
    "\n",
    "def prepare_batch(memory, batch_size):\n",
    "  \"\"\"Randomly sample batch from memory\n",
    "     Prepare cuda tensors\n",
    "\n",
    "    Args:\n",
    "        memory (list): state, action, next_state, reward, done tuples\n",
    "        batch_size (int): amount of memory to sample into a batch\n",
    "\n",
    "    Returns:\n",
    "        state (tensor): float cuda tensor of size (batch_size x state_size)\n",
    "        action (tensor): long tensor of size (batch_size)\n",
    "        next_state (tensor): float cuda tensor of size (batch_size x state_size)\n",
    "        reward (tensor): float cuda tensor of size (batch_size)\n",
    "        done (tensor): float cuda tensor of size (batch_size)\n",
    "  \"\"\"\n",
    "  batch = random.sample(memory, batch_size)\n",
    "  states, actions, next_states, rewards, dones = zip(*batch)\n",
    "\n",
    "  states = torch.FloatTensor(np.array(states)).to(device)\n",
    "  actions = torch.LongTensor(np.array(actions)).to(device)\n",
    "  next_states = torch.FloatTensor(np.array(next_states)).to(device)\n",
    "  rewards = torch.FloatTensor(np.array(rewards)).to(device)\n",
    "  dones = torch.FloatTensor(np.array(dones)).to(device)\n",
    "  \n",
    "  return states, actions, next_states, rewards, dones\n",
    "\n",
    "  \n",
    "def learn_dqn(batch, optim, q_network, target_network, gamma, global_step, target_update):\n",
    "  \"\"\"Update Q-Network according to DQN Loss function\n",
    "     Update Target Network every target_update global steps\n",
    "\n",
    "    Args:\n",
    "        batch (tuple): tuple of state, action, next_state, reward, and done tensors\n",
    "        optim (Adam): Q-Network optimizer\n",
    "        q_network (QNetwork): Q-Network\n",
    "        target_network (QNetwork): Target Q-Network\n",
    "        gamma (float): discount factor\n",
    "        global_step (int): total steps taken in environment\n",
    "        target_update (int): frequency of target network update\n",
    "  \"\"\"\n",
    "  states, actions, next_states, rewards, dones = batch\n",
    "\n",
    "  with torch.no_grad():\n",
    "    target_network.eval()\n",
    "    next_q_values = target_network(next_states)\n",
    "    target_network.train()\n",
    "    max_next_q_values = next_q_values.max(1)[0].unsqueeze(1)\n",
    "\n",
    "  target_q_values = rewards.unsqueeze(1) + (gamma * max_next_q_values * (1 - dones.unsqueeze(1)))\n",
    "\n",
    "  q_network.train()\n",
    "  current_q_values = q_network(states)\n",
    "  predicted_q_values = current_q_values.gather(1, actions.unsqueeze(1))\n",
    "  \n",
    "  loss_fn = torch.nn.MSELoss()\n",
    "  loss = loss_fn(predicted_q_values, target_q_values)\n",
    "\n",
    "  optim.zero_grad()\n",
    "  loss.backward()\n",
    "\n",
    "  optim.step()\n",
    "\n",
    "  if global_step % target_update == 0:\n",
    "    target_network.load_state_dict(q_network.state_dict())\n",
    "  \n",
    "  return loss.item()"
   ]
  },
  {
   "cell_type": "markdown",
   "metadata": {
    "id": "vGQgiY0WvImB"
   },
   "source": [
    "### Modules"
   ]
  },
  {
   "cell_type": "code",
   "execution_count": 7,
   "metadata": {
    "id": "1vMhl-oevIBo"
   },
   "outputs": [],
   "source": [
    "# Q-Value Network\n",
    "class QNetwork(nn.Module):\n",
    "  def __init__(self, state_size, action_size):\n",
    "    super().__init__()\n",
    "    hidden_size = 8\n",
    "    \n",
    "    self.net = nn.Sequential(nn.Linear(state_size, hidden_size),\n",
    "                             nn.ReLU(),\n",
    "                             nn.Linear(hidden_size, hidden_size),\n",
    "                             nn.ReLU(),\n",
    "                             nn.Linear(hidden_size, hidden_size),\n",
    "                             nn.ReLU(),\n",
    "                             nn.Linear(hidden_size, action_size))  \n",
    "    \n",
    "  def forward(self, x):\n",
    "    \"\"\"Estimate q-values given state\n",
    "\n",
    "      Args:\n",
    "          state (tensor): current state, size (batch x state_size)\n",
    "\n",
    "      Returns:\n",
    "          q-values (tensor): estimated q-values, size (batch x action_size)\n",
    "    \"\"\"\n",
    "    return self.net(x)"
   ]
  },
  {
   "cell_type": "markdown",
   "metadata": {
    "id": "yCafVI552dgg"
   },
   "source": [
    "### Main"
   ]
  },
  {
   "cell_type": "code",
   "execution_count": 8,
   "metadata": {
    "id": "8Sy_r9Wr2eg8"
   },
   "outputs": [
    {
     "name": "stderr",
     "output_type": "stream",
     "text": [
      "                                                                              \r"
     ]
    },
    {
     "data": {
      "text/html": [
       "<video alt=\"test\" autoplay \n",
       "                loop controls style=\"height: 400px;\">\n",
       "                <source src=\"data:video/mp4;base64,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\" type=\"video/mp4\" />\n",
       "             </video>"
      ],
      "text/plain": [
       "<IPython.core.display.HTML object>"
      ]
     },
     "metadata": {},
     "output_type": "display_data"
    }
   ],
   "source": [
    "def dqn_main():\n",
    "  # Hyper parameters\n",
    "  lr = 1e-3\n",
    "  epochs = 500\n",
    "  start_training = 1000\n",
    "  gamma = 0.99\n",
    "  batch_size = 32\n",
    "  epsilon = 1\n",
    "  epsilon_decay = .9999\n",
    "  target_update = 1000\n",
    "  learn_frequency = 2\n",
    "\n",
    "  # Init environment\n",
    "  state_size = 4\n",
    "  action_size = 2\n",
    "  env = gym.make('CartPole-v1', render_mode=\"rgb_array\")\n",
    "\n",
    "  # Init networks\n",
    "  q_network = QNetwork(state_size, action_size).cuda()\n",
    "  target_network = QNetwork(state_size, action_size).cuda()\n",
    "  target_network.load_state_dict(q_network.state_dict())\n",
    "\n",
    "  # Init optimizer\n",
    "  optim = torch.optim.Adam(q_network.parameters(), lr=lr)\n",
    "\n",
    "  # Init replay buffer\n",
    "  memory = []\n",
    "\n",
    "  # Begin main loop\n",
    "  results_dqn = []\n",
    "  global_step = 0\n",
    "  loop = tqdm(total=epochs, position=0, leave=False)\n",
    "  for epoch in range(epochs):\n",
    "    last_epoch = (epoch+1 == epochs)\n",
    "    # Record the last epoch, not the previous epochs\n",
    "    if last_epoch:\n",
    "      env = wrap_env(env)\n",
    "\n",
    "    # Reset environment\n",
    "    state, _ = env.reset()\n",
    "    done = False\n",
    "    cum_reward = 0  # Track cumulative reward per episode\n",
    "\n",
    "    # Begin episode\n",
    "    while not done and cum_reward < 200:  # End after 200 steps \n",
    "      # Select e-greedy action\n",
    "      action, epsilon = get_action_dqn(q_network, state, epsilon, epsilon_decay)\n",
    "\n",
    "      # Take step\n",
    "      next_state, reward, terminated, truncated, _ = env.step(action)\n",
    "      done = terminated or truncated\n",
    "      # env.render()\n",
    "\n",
    "      # Store step in replay buffer\n",
    "      memory.append((state, action, next_state, reward, done))\n",
    "\n",
    "      cum_reward += reward\n",
    "      global_step += 1  # Increment total steps\n",
    "      state = next_state  # Set current state\n",
    "\n",
    "      # If time to train\n",
    "      if global_step > start_training and global_step % learn_frequency == 0:\n",
    "\n",
    "        # Sample batch\n",
    "        batch = prepare_batch(memory, batch_size)\n",
    "        \n",
    "        # Train\n",
    "        learn_dqn(batch, optim, q_network, target_network, gamma, global_step, target_update)\n",
    "    env.close()\n",
    "    # Print results at end of episode\n",
    "    results_dqn.append(cum_reward)\n",
    "    loop.update(1)\n",
    "    loop.set_description('Episodes: {} Reward: {}'.format(epoch, cum_reward))\n",
    "  \n",
    "  return results_dqn\n",
    "\n",
    "results_dqn = dqn_main()\n",
    "show_video()"
   ]
  },
  {
   "cell_type": "code",
   "execution_count": 9,
   "metadata": {
    "id": "ZWYwytCDC3aw"
   },
   "outputs": [
    {
     "data": {
      "image/png": "[encoded data removed]",
      "text/plain": [
       "<Figure size 640x480 with 1 Axes>"
      ]
     },
     "metadata": {},
     "output_type": "display_data"
    }
   ],
   "source": [
    "plt.plot(results_dqn)\n",
    "plt.show()"
   ]
  },
  {
   "cell_type": "markdown",
   "metadata": {
    "id": "qN9yy5EWVNz0"
   },
   "source": [
    "## PPO"
   ]
  },
  {
   "cell_type": "markdown",
   "metadata": {
    "id": "XvRUJUew0yN_"
   },
   "source": [
    "## Part 2\n",
    "\n",
    "Proximal Policy Optimization (https://arxiv.org/pdf/1707.06347.pdf) is a type of policy gradient method. Instead of calculating Q-values, we train a network $\\pi$ to optimize the probability of taking good actions directly, using states as inputs and actions as outputs. PPO also uses a value network $V$ that estimates state values in order to estimate the advantage $\\hat{A}$. \n",
    "\n",
    "Tuples of state, action distribution, action taken, and return $(s,\\pi(s), a,\\hat{R})$ are gathered for several rollouts. After training on this experience, these tuples are discarded and new experience is gathered.\n",
    "\n",
    "Loss for the value network and the policy network are calculated according to the following formula:\n",
    "\n",
    "$Loss=ValueLoss+PolicyLoss$\n",
    "\n",
    "$ValueLoss=\\frac{1}{N}\\sum \\bigg(\\hat{R} - V(s) \\bigg)^2 $\n",
    "\n",
    "$PolicyLoss=-\\frac{1}{N}\\sum \\min\\bigg( \\frac{\\pi'(a|s)}{\\pi(a|s)} \\hat{A}, clip(\\frac{\\pi'(a|s)}{\\pi(a|s)},1-\\epsilon,1+\\epsilon) \\hat{A} \\bigg) $\n",
    "\n",
    "$\\hat{R}_t = \\sum_{i=t}^H \\gamma^{i-t}r_i$\n",
    "\n",
    "$\\hat{A}_t=\\hat{R}_t-V(s_t)$\n",
    "\n",
    "Here, $\\pi'(a|s)$ is the probability of taking an action given a state under the current policy and $\\pi(a|s)$ is the probability of taking an action given a state under the policy used to gather data. In the loss function, $a$ is the action your agent actually took and is sampled from memory. \n",
    "\n",
    "Additionally, the $clip$ function clips the value of the first argument according to the lower and upper bounds in the second and third arguments resectively.\n",
    "\n",
    "Another important note: Your the calculation of your advantage $\\hat{A}$ should not permit gradient flow from your policy loss calculation. In other words, make sure to call `.detach()` on your advantage.\n",
    "\n",
    "### TODO\n",
    "\n",
    "- Implement calculate return method\n",
    "- Implement get action method\n",
    "- Implement PPO learning algorithm"
   ]
  },
  {
   "cell_type": "code",
   "execution_count": 10,
   "metadata": {
    "id": "zsm1pILHVcEp"
   },
   "outputs": [],
   "source": [
    "def calculate_return(memory, rollout, gamma):\n",
    "  \"\"\"Return memory with calculated return in experience tuple\n",
    "\n",
    "    Args:\n",
    "        memory (list): (state, action, action_dist, return) tuples\n",
    "        rollout (list): (state, action, action_dist, reward) tuples from last rollout\n",
    "        gamma (float): discount factor\n",
    "\n",
    "    Returns:\n",
    "        list: memory updated with (state, action, action_dist, return) tuples from rollout\n",
    "  \"\"\"\n",
    "  returns = []\n",
    "  running_return = 0\n",
    "\n",
    "  for state, action, action_dist, reward in reversed(rollout):\n",
    "    running_return = reward + gamma * running_return\n",
    "    returns.insert(0, running_return)\n",
    "\n",
    "  updated_rollout = [(state, action, action_dist, ret) for (state, action, action_dist, _), ret in zip(rollout, returns)]\n",
    "\n",
    "  memory.extend(updated_rollout)\n",
    "  \n",
    "  return memory\n",
    "\n",
    "def get_action_ppo(network, state):\n",
    "  \"\"\"Sample action from the distribution obtained from the policy network\n",
    "\n",
    "    Args:\n",
    "        network (PolicyNetwork): Policy Network\n",
    "        state (np-array): current state, size (state_size)\n",
    "\n",
    "    Returns:\n",
    "        int: action sampled from output distribution of policy network\n",
    "        array: output distribution of policy network\n",
    "  \"\"\"\n",
    "  state_tensor = torch.FloatTensor(state).unsqueeze(0).to(device)\n",
    "  \n",
    "  with torch.no_grad():\n",
    "      network.eval()\n",
    "      action_probs = network(state_tensor).squeeze(0)\n",
    "      network.train()\n",
    "  \n",
    "  action_dist = action_probs.cpu().numpy()\n",
    "  \n",
    "  action = np.random.choice(len(action_dist), p=action_dist)\n",
    "  \n",
    "  return action, action_dist\n",
    "\n",
    "\n",
    "def learn_ppo(optim, policy, value, memory_dataloader, epsilon, policy_epochs):\n",
    "  \"\"\"Implement PPO policy and value network updates. Iterate over your entire \n",
    "     memory the number of times indicated by policy_epochs.    \n",
    "\n",
    "    Args:\n",
    "        optim (Adam): value and policy optimizer\n",
    "        policy (PolicyNetwork): Policy Network\n",
    "        value (ValueNetwork): Value Network\n",
    "        memory_dataloader (DataLoader): dataloader with (state, action, action_dist, return) tensors\n",
    "        epsilon (float): trust region\n",
    "        policy_epochs (int): number of times to iterate over all memory\n",
    "  \"\"\"\n",
    "  for _ in range(policy_epochs):\n",
    "    for states, actions, old_action_dists, returns in memory_dataloader:\n",
    "      states = states.to(device).float()\n",
    "      actions = actions.to(device)\n",
    "      old_action_dists = old_action_dists.to(device).float()\n",
    "      returns = returns.to(device).float()\n",
    "      \n",
    "      value_predictions = value(states).squeeze(1)\n",
    "      advantages = returns - value_predictions.detach()\n",
    "      advantages = (advantages - advantages.mean()) / (advantages.std() + 1e-8)\n",
    "            \n",
    "      current_action_dists = policy(states)\n",
    "      batch_indices = torch.arange(len(actions)).to(device)\n",
    "\n",
    "      old_action_probs = old_action_dists[batch_indices, actions]\n",
    "      current_action_probs = current_action_dists[batch_indices, actions]\n",
    "      \n",
    "      ratio = current_action_probs / (old_action_probs + 1e-10)\n",
    "      \n",
    "      surr1 = ratio * advantages\n",
    "      surr2 = torch.clamp(ratio, 1.0 - epsilon, 1.0 + epsilon) * advantages\n",
    "      policy_loss = -torch.min(surr1, surr2).mean()\n",
    "      \n",
    "      value_loss = F.mse_loss(value_predictions, returns)\n",
    "      \n",
    "      total_loss = policy_loss + value_loss\n",
    "      \n",
    "      optim.zero_grad()\n",
    "      total_loss.backward()\n",
    "      optim.step()"
   ]
  },
  {
   "cell_type": "markdown",
   "metadata": {
    "id": "R6RXma_-vSGX"
   },
   "source": [
    "### Modules"
   ]
  },
  {
   "cell_type": "code",
   "execution_count": 11,
   "metadata": {
    "id": "L8URnP8xvTTG"
   },
   "outputs": [],
   "source": [
    "# Dataset that wraps memory for a dataloader\n",
    "class RLDataset(Dataset):\n",
    "  def __init__(self, data):\n",
    "    super().__init__()\n",
    "    self.data = []\n",
    "    for d in data:\n",
    "      self.data.append(d)\n",
    "  \n",
    "  def __getitem__(self, index):\n",
    "    return self.data[index]\n",
    " \n",
    "  def __len__(self):\n",
    "    return len(self.data)\n",
    "\n",
    "\n",
    "# Policy Network\n",
    "class PolicyNetwork(nn.Module):\n",
    "  def __init__(self, state_size, action_size):\n",
    "    super().__init__()\n",
    "    hidden_size = 8\n",
    "    \n",
    "    self.net = nn.Sequential(nn.Linear(state_size, hidden_size),\n",
    "                             nn.ReLU(),\n",
    "                             nn.Linear(hidden_size, hidden_size),\n",
    "                             nn.ReLU(),\n",
    "                             nn.Linear(hidden_size, hidden_size),\n",
    "                             nn.ReLU(),\n",
    "                             nn.Linear(hidden_size, action_size),\n",
    "                             nn.Softmax(dim=1))\n",
    "  \n",
    "  def forward(self, x):\n",
    "    \"\"\"Get policy from state\n",
    "\n",
    "      Args:\n",
    "          state (tensor): current state, size (batch x state_size)\n",
    "\n",
    "      Returns:\n",
    "          action_dist (tensor): probability distribution over actions (batch x action_size)\n",
    "    \"\"\"\n",
    "    return self.net(x)\n",
    "  \n",
    "\n",
    "# Value Network\n",
    "class ValueNetwork(nn.Module):\n",
    "  def __init__(self, state_size):\n",
    "    super().__init__()\n",
    "    hidden_size = 8\n",
    "  \n",
    "    self.net = nn.Sequential(nn.Linear(state_size, hidden_size),\n",
    "                             nn.ReLU(),\n",
    "                             nn.Linear(hidden_size, hidden_size),\n",
    "                             nn.ReLU(),\n",
    "                             nn.Linear(hidden_size, hidden_size),\n",
    "                             nn.ReLU(),\n",
    "                             nn.Linear(hidden_size, 1))\n",
    "    \n",
    "  def forward(self, x):\n",
    "    \"\"\"Estimate value given state\n",
    "\n",
    "      Args:\n",
    "          state (tensor): current state, size (batch x state_size)\n",
    "\n",
    "      Returns:\n",
    "          value (tensor): estimated value, size (batch)\n",
    "    \"\"\"\n",
    "    return self.net(x)"
   ]
  },
  {
   "cell_type": "markdown",
   "metadata": {
    "id": "_aBD_R_e01Qb"
   },
   "source": [
    "### Main"
   ]
  },
  {
   "cell_type": "code",
   "execution_count": 12,
   "metadata": {
    "id": "qX_Bv4M4MyY2"
   },
   "outputs": [
    {
     "name": "stderr",
     "output_type": "stream",
     "text": [
      "                                                                         \r"
     ]
    },
    {
     "data": {
      "text/html": [
       "<video alt=\"test\" autoplay \n",
       "                loop controls style=\"height: 400px;\">\n",
       "                <source src=\"data:video/mp4;base64,AAAAIGZ0eXBpc29tAAACAGlzb21pc28yYXZjMW1wNDEAAAAIZnJlZQAALUNtZGF0AAACrwYF//+r3EXpvebZSLeWLNgg2SPu73gyNjQgLSBjb3JlIDE2NCByMzE5MSA0NjEzYWMzIC0gSC4yNjQvTVBFRy00IEFWQyBjb2RlYyAtIENvcHlsZWZ0IDIwMDMtMjAyNCAtIGh0dHA6Ly93d3cudmlkZW9sYW4ub3JnL3gyNjQuaHRtbCAtIG9wdGlvbnM6IGNhYmFjPTEgcmVmPTMgZGVibG9jaz0xOjA6MCBhbmFseXNlPTB4MzoweDExMyBtZT1oZXggc3VibWU9NyBwc3k9MSBwc3lfcmQ9MS4wMDowLjAwIG1peGVkX3JlZj0xIG1lX3JhbmdlPTE2IGNocm9tYV9tZT0xIHRyZWxsaXM9MSA4eDhkY3Q9MSBjcW09MCBkZWFkem9uZT0yMSwxMSBmYXN0X3Bza2lwPTEgY2hyb21hX3FwX29mZnNldD0tMiB0aHJlYWRzPTEyIGxvb2thaGVhZF90aHJlYWRzPTIgc2xpY2VkX3RocmVhZHM9MCBucj0wIGRlY2ltYXRlPTEgaW50ZXJsYWNlZD0wIGJsdXJheV9jb21wYXQ9MCBjb25zdHJhaW5lZF9pbnRyYT0wIGJmcmFtZXM9MyBiX3B5cmFtaWQ9MiBiX2FkYXB0PTEgYl9iaWFzPTAgZGlyZWN0PTEgd2VpZ2h0Yj0xIG9wZW5fZ29wPTAgd2VpZ2h0cD0yIGtleWludD0yNTAga2V5aW50X21pbj0yNSBzY2VuZWN1dD00MCBpbnRyYV9yZWZyZXNoPTAgcmNfbG9va2FoZWFkPTQwIHJjPWNyZiBtYnRyZWU9MSBjcmY9MjMuMCBxY29tcD0wLjYwIHFwbWluPTAgcXBtYXg9NjkgcXBzdGVwPTQgaXBfcmF0aW89MS40MCBhcT0xOjEuMDAAgAAAAXlliIQAJ//+9bF8CmrJ84oM6DIu4Zckya62IuJtAMABjhSAAAADABos3+LmQEo1L4AAACEgBqA+gyg8xExVioErxBxbuYkAJr2y3wN5/7hh5FAMdrFMc+zejKfDO8xjoRMcpXSZQNpqVoLbtvYhMDnlvrAeQUAgrdBiacyj4MrQ8hm7I47gnFliqtJdXY6bBT37BeSPzN75trcI20102EQONIndq+a5GyJXjHK8koQ0Rd3emmxR91hgpolddqoLtTDBSaPbeR8fP4/SIXXP4xkPti9o8zn4TTVsVXBk0SFkO7ir1Qexh5xlrP/NeYBCQaCQ2T7I3cNIBx72e8v2TtMXGfcyt4GSiyQMtOei3wXuP7oNeYDLutjRRJMV53hQ/Kdm6wfwDF7UwGAraQL8OHG4LEmv/3i/X2ZWZLYEAH1sX7cZrus6+qVcgw5qzoo7MMiu6CGDelN19qpzoYK5d4Zp3B/CEL7jPrioHe8BqMqthwAAAwAAAwAR8QAAAE1BmiRsQn/98QAAAwKfWDdAIVKj8pQY8suRsilZx6bou1KTLTwG6HsevOGZM7HACOV5t74K3uzlQjVV5053aXy2k5RWiGoVf9BbsW6+rAAAADVBnkJ4hH8AABazSBi9+KAFf1vY59x7Smfrh9GRE7xsrh1YUwc3ZFD0jsnfpVrWVBGBLKVgQQAAACABnmF0R/8AAAUf0MHPGwn4px9MZpMKrbfecjp9DjoYEAAAACkBnmNqR/8AACO/BCAhVoASySgu0CNE2VT6QpxLucQybkxIgOV5oxu/pQAAAFVBmmhJqEFomUwIT//98QAAAwKhs7SEjy2Rs5lapTiQJYeKOgCembsqepg+LO6NoWweHcj3fW84Tgf/njePm1GIA5km4Ucn8qYjmymgtJp16fPpIqWjAAAAJkGehkURLCP/AAAWtSs3lO1ych90cfM8Zy/6hGly3a1WSOHnuwrZAAAANgGepXRH/wAAI8Lwfx3TvLgALnq86fHSa14cmahA1ig7t+SSuMOfhbvna/xnpprIpEWF2e1gQQAAABMBnqdqR/8AAAUfNQ2gzMw543HAAAAATEGarEmoQWyZTAhP//3xAAADAF/8z8H7t41v1ZyMAVUySIOYcUsgUNi+nc7AgsKhyEyQ7vlQwET3K8jwndNyBEXAdRtvNem0oj9hRrAAAABGQZ7KRRUsI/8AAAMDNobQoAHFPxNgh0q9b3yhiL3ABDlvewdbLCT0G+YVj4uAgLgBlKcWu83/ocrZSUZEhtIhkI6pt+8QmQAAADIBnul0R/8AAAUbD6uS1o272i47VfxtXRFltNnfG59AA+jZ/SD1fTapIEd2m6H525AJswAAABwBnutqR/8AAAUfNNWxhSOi9kkBYW5gWlBVudgMAAAAREGa8EmoQWyZTAhP//3xAAADArD22GhjQJZ63s6CpHWM5aywNTxinFQqE/VxOUZj3dzihaZZsozd25TFIafF40c4qxqRAAAAJkGfDkUVLCP/AAAXQ0e3DbkdC161v/2O77q1gbDoSAACKfqhvhGpAAAAGAGfLXRH/wAAJKv4W3gSnWgofhLkpun0vQAAABoBny9qR/8AACS/BCcSyWmauFNoOE3CtOPhUwAAAD5BmzRJqEFsmUwIT//98QAAAwBifM5Pd8JVWTHnv8hlDfltKyEbt+DNYi8nOZqHOsvT1xs8sGBivyZrplrSwAAAADhBn1JFFSwj/wAAAwNNMHm2PCHJywLMUnPdnQSQxNlMnP8AJmoyGmv0P4nqJC/Kwbky77p4xqZwQQAAABYBn3F0R/8AAAMACoe0PYN6CuMBseHuAAAANAGfc2pH/wAABUF7mAG60urx5xn/IY+aUtpqxRUXCXHLo3D9Q0VU/cuwuHHnwNVGyhFbLvcAAAA8QZt4SahBbJlMCE///fEAAAMCsQKXGisOEjGGFVkiN743D3Wcu0AbEcrjSADFQxU2YuqV1hPOzK97zbXJAAAAHUGflkUVLCP/AAAXRSs3a1peuKKDwjCwOdzHmocEAAAAHQGftXRH/wAAJMMXaJ0F7DH7G+JGO7f+E6Fo+w9xAAAADgGft2pH/wAAAwAAAwGpAAAAREGbvEmoQWyZTAhP//3xAAADArHt3eXoVjwdPZVGBiHMNACUeS09EFdzp/exO/uVvwa/l2EhNQMH80lgpRAhWfJ3XKXgAAAAIEGf2kUVLCP/AAAXRSs3a1peuKKL3vWJaIZAS+05ElcDAAAANAGf+XRH/wAAJKv4W3gTKgABLUbJpINpHKPJmZt5El7p5dUsn/fPJcHcy9kGzJUd8Zcy14AAAAAOAZ/7akf/AAADAAADAakAAABfQZvgSahBbJlMCEf//eEAAAQzc1JN1ohRQ5eEEkeO8XOhJ6dViaOI/yXmutvyRNFQ02Ec1lgXLsd3gl6hqyfoTzSH4K8XidsAxlhZvIZh54XSkZU1ll0WuXGU2wjsUXEAAAAnQZ4eRRUsI/8AABdFKzlzUJS0DhYjCKpoSd+MPVhKNEqtxtHl9bgQAAAAOwGePXRH/wAAJKv4W3SgWTICIACWo2fvQuJhSiPgOTuxvnxgNZju5lgWETFDyEYd2bm/YEyGI5ANMedeAAAAJQGeP2pH/wAABUMg5aYx9eUTu3DnLAGqeT5NZqvIKP5GzY4Uj3EAAAByQZokSahBbJlMCE///fEAAAMCse3dfiupBiEi1feUFQUxOjkJpwBP8PU5TzSAYCHvUDrIsmIdURdydxmr1oYQ9lS47kaVkYJpueUjRPeSRfWYzaAcyUdCMrOMFf+gKZ9HYvVkuDKWYHBXLXDXFhU4hFxQAAAALEGeQkUVLCP/AAAXTEPNikhPCzW++QWkUWkHdc36S6mBGmL5eDMiEz0HbptfAAAAHAGeYXRH/wAABUBSWJCV2kCcS7iwCglFp7HRa8AAAAAdAZ5jakf/AAAkvwQnEslpmrhWUx8qO34vrY0EkWEAAAByQZpoSahBbJlMCE///fEAAAMA/YZQFKZfCyTfIoAUFWLb6pNYB9CQiwBQBG8+MJEjVdQstw0b7yZasznF7LG/vfw6U/rv6Aa4bqKZOf6thLn6r64nQyC7FI5UAqVwKeMjjV1ff4NNIzoZCu4OERK0H/fVAAAAI0GehkUVLCP/AAAIryHm5+f1mbuPKqRYflj4+fAUuOo6CZ3dAAAAEAGepXRH/wAABUDeNSVAD5kAAAAqAZ6nakf/AAANz7aMNyg1xcembybdL9rzpf0ApUAAIEA6td/Zp1JPTNTAAAAATkGarEmoQWyZTAhH//3hAAAEM1u0Y2vS+zoUuernHgARkFyCjxOEUzXkiS68VexHaU2by/hZ64M9HJpyMU/8i6wILUc7qqUhQcSIcNFmwwAAAD1BnspFFSwj/wAAF0NHtw0wkAAcU/Pob3f6X8QFBYH/GiJcEJWK/FIjiKDOn30lSg3gg0Ng6zWW98M6g1WVAAAAGgGe6XRH/wAAJMMXaKmlU9T6ZL8mFoexNW/uAAAAIgGe62pH/wAAJL8EJxLJaZq5Dy6rxKYxsxHSNkkSGL7M4IAAAAB4QZrwSahBbJlMCE///fEAAAMA/od+RWCQvCfxEAy9BnxWKKTAml4yMxLUwLBRP7dGhZ7KmcqnVh8s49bgE6dbnQGj9VQfIiW8cBfHHltjzBrMdFyJL1EtU5zj7rWXvCns0LVSyFoFyVH2tgV8bHh468t0Y4UufMgbAAAAMEGfDkUVLCP/AAAIbyhYIOJ+ro5b7qDNwkINg5SVhcpDvs7Jyj8rE5g9yEkVnGrtSQAAAB0Bny10R/8AAA3V6ia87sqWTYI3vgDCsKZYcdYe4QAAABkBny9qR/8AAA3XjlOc4MoY1P7CsJAldT7/AAAAUEGbNEmoQWyZTAhP//3xAAADArEDCZAvUxZV1ZjZnkD1UtEauDwm3wiuQ5day36v/vfm8r1RJQ73N6ASnwRYOtu8DCFJcd1lHwZz+RKImO9AAAAAIEGfUkUVLCP/AAAXTEPMcoDxHLymKA/RX604PpH8fKXlAAAAIQGfcXRH/wAADdXdL2ySqep94QXe0nl/7azT2oLD0F97gAAAABkBn3NqR/8AACS/BCcSyWmauFZTHyl7fRXkAAAAUkGbeEmoQWyZTAhP//3xAAADAGJ+70gCO/WWIrTusexShgS459sQUb3xOQrvHCjRnKHyQzNEHAzIlQzP54Up4Th8OFawgPaERCuXo+wYPrSxbR0AAAAoQZ+WRRUsI/8AAAMDTXxVnO57SAVngJfa5VC26hfnKRmhwE7Xl/sdeAAAAB0Bn7V0R/8AAAUcW3nri5+7cEPGibz83TQeQnqHBQAAABsBn7dqR/8AAAMB8X/VSX8TcdX2dxiHhqcmOvEAAAA9QZu8SahBbJlMCE///fEAAAMAYeps2A4C/DQFnJTAoKnju8VmZs1U0htP95AMDCsCTvf+ngRribvsl+ZVgAAAAB5Bn9pFFSwj/wAAAwNMTWbta0vXEEdUloO8e93W1IEAAAAaAZ/5dEf/AAAFQ8vtFTSqep95KnJKG7PaK1IAAAAOAZ/7akf/AAADAAADAakAAABoQZvgSahBbJlMCE///fEAAAMAYflRM/I8uFu0xVrrpsUAeoV7hZq4is1iAeL0/C1jvyVYvm/13om7CdXvNEBnros5DYNDS8Ld4YhcegKEdJJup8kuz9TqeoHXVUydGyQUtz+S7GKiQw0AAABPQZ4eRRUsI/8AABdDR7cKVygwgButYqJlvpuXfjlxYjaCKwP1ov6QUZZt6qMODZe/LFtIm7SJT91rwNslwjJ3C4dJSZ2EiyMpJw0pujQdqQAAACwBnj10R/8AACTDF2ippcMOtdABBC/cjEMMDzE0h67cIAJfjzS2vpvcGKxMiwAAABgBnj9qR/8AACS/BCcSyWmayhstYK+fAScAAABMQZokSahBbJlMCE///fEAAAMAYn7vSAL8lBnHIDv2OppCEiotvYfMpuDhE14lSev8pnftahM5XruYI7YNGzea2xxYyFUzWRIZox4/gAAAACRBnkJFFSwj/wAAAwNNfHPAfjYcek95l4mA8aO+Fe9vcURu1IEAAAA4AZ5hdEf/AAAkwLjfwNczAAlqNmV19krMa4HW0oftgpUYC+KFzXtwbul7ZORaxEQxBPoYklz4e4EAAAAZAZ5jakf/AAAFQTAOG5Qa4uPsbVm3Ov/8iwAAADhBmmhJqEFsmUwIR//94QAABDZV+Q8WeWAAWGEO1JKvsT/bSQzUCQdM2dNZb7/CFT0WAncnHNSFgQAAAChBnoZFFSwj/wAAF0UrN2tu/mB2Z8HI+uGkywHkkdibADeGtYXyn2pBAAAAHgGepXRH/wAAJMMXUoRQZKRRjj82L3+N+ErQDEhTYQAAABwBnqdqR/8AAAVDMJdABniZr7IMa/oDrNEzwWpAAAAAbUGarEmoQWyZTAhP//3xAAADArHt9/4rhAvZOABa2pYqvH/lmwmAKY7a9IOBsRqU0lHqt86CGH6qNBEXUPmjJ1u6XimJiXcQw5bwqljlzrBKl0aEiTwZn9Oiyu0nQRrL83wJEBdgBqOzOsYyflgAAAAiQZ7KRRUsI/8AABdMQ823Fhe13uXdbeDmF7xJAx29Gye9wQAAABsBnul0R/8AAAVDy+6KCROLXsZ2jYDfDHMUHuAAAAAYAZ7rakf/AAAkscwJb6lvsrhGnLmEXZOwAAAAUUGa8EmoQWyZTAhP//3xAAADAP75n0G5QCXxbcP1OBiYxgFSnOP1GXbXT1j1hoc4RkkUAJYdE74yZShBsxLU7aIsjqvnOWoL/KhZtZbmvRBhkQAAACtBnw5FFSwj/wAACGwMuDrWwADjbq7r+QdWf65tQ1/qCy/FccDnqRE4YHuBAAAAGwGfLXRH/wAADYXvMP7NTSAE027cnTLGtCTpFwAAAC8Bny9qR/8AAA3UmziYp7gW1AiPynd2xDwr8wQFsd4ABrUsg2irAXIv/myAQ04kWAAAAFJBmzRJqEFsmUwIT//98QAAAwBifM4FNfFPTfbMwDBACL8b2PT8GoJGFayHwwdmu7NgYnJLrA0yxhj+dq9/KWFaeKbnSNQPjfLd3Uoms3AkbGSAAAAAMkGfUkUVLCP/AAADA0xPMayVxQi+CtmrvJehgCE2XLYAHCFBvtkv4DfTU0B6vxhRd3uBAAAAKgGfcXRH/wAAJMCZ3elnagBLDZjeIfZCxO+1DsfIZdiO/9AAGKnZL5I4IAAAABsBn3NqR/8AAAUfNNXe24hqgkgb6PDoJHCRk4IAAABHQZt4SahBbJlMCE///fEAAAMCsQVg4FKS/0BCD1a3FkIpBSLbFFy/YcOsmtu4B/PFHh09XGG4z5/yJxcTuJgdCnYFLe0K3MEAAAAqQZ+WRRUsI/8AABdFKzdrWyCtXOJY67AGgfEZK1WCpDYC1QPtzDrSdFqQAAAAKwGftXRH/wAAJMMXaKmk9CIa/u6AFmNro2AAFzl/b0wNGtQLouAapO2IHXkAAAAsAZ+3akf/AAAkx72LGdlIzWAAturzk4hAfhgCwEc0LbBPaEFj3pP5pMNE1wMAAAAuQZu8SahBbJlMCE///fEAAAMCsQUU+8+Q/hrreAGxC2qMTQJyPVbyojvU7OeCZgAAAB1Bn9pFFSwj/wAAF0xDzbcVzK2+sAA3TAb+ASAtoQAAAA4Bn/l0R/8AAAMAAAMBqQAAABgBn/tqR/8AACS/BCcSyWmauIxkzCxgaMEAAAAlQZvgSahBbJlMCE///fEAAAMCsbq2+NCKDr5NWsio+tWD2gDugQAAAB9Bnh5FFSwj/wAAF0xDzbHhDk5YjCe4fZHZ/8/uXYvIAAAAEAGePXRH/wAAAwAa/CfYkYAAAAAYAZ4/akf/AAAkvwQnEslpmrhWa0dbJILzAAAAVkGaJEmoQWyZTAhP//3xAAADAPl93pACWUuC5U4OHqZNhyOcrES2MxfE83vWASRl2jjt2viztG4BhxEf+lozxPDJiDg4FlBvlB2tFvBxzqSCJIUkKwJgAAAALEGeQkUVLCP/AAAIbAy0vAoFUycAAsHkg1OK9cdJBcZXm0PxRx2YerqqxC4FAAAAKQGeYXRH/wAAJMCZ3eletygBJeR9pHdbSVWUptIDmaecSfg0EtgJIO9wAAAAEAGeY2pH/wAAAwC/WcDKBB0AAAAyQZpoSahBbJlMCFf//jhAAAEU+uCgNoFDOGxAx3QDj4zX68e1tuUmuNJLugMR4qqYrYEAAAA4QZ6GRRUsI/8AABdFKzdrbXz1tC0I6A/ZazBSeAADjzv7OhCEa3TWUx31aN/69kfY4jJuin/ZteEAAAAiAZ6ldEf/AAAkwxdoqaUyWXcy2gmeqGmvflMQEEXsgNtXYQAAABsBnqdqR/8AAAMB8X/VbGTC9A1sMZCzQd37tSAAAAA8QZqsSahBbJlMCE///fEAAAMAYenmFhME61IRkQe7TOY5oa6A9zLLICC3y68P0AP8EUWqYN+k5ZqeYwb/AAAAJUGeykUVLCP/AAADA0xPMiTwP6HGw1Li5dOapYVmOjQNDdWfh7kAAAAUAZ7pdEf/AAAFQFxK+3G2Bkp1CygAAAAdAZ7rakf/AAAFHT3NQ130t4Y/x9fBgLKrIaBy14AAAABuQZrwSahBbJlMCE///fEAAAMCsQVg4FKS1RiLr1a3FlDswOzAMnmUSMypbjpNr9ZP1SAzGN17wl2vzNQ1VbJk4z8SC1N4t8fsBxD4RN70Db3NNx1fAOxXS+C6a4Nmrhc5bMngVVAxdUDXZnz2NkcAAAAsQZ8ORRUsI/8AABdMQ8204i6dGAF6JyKjocqiD8tYxjT/mT53PRbMPN4Sb6kAAAAeAZ8tdEf/AAAFQhWJYieDYZPgVk1OlD9BMYINfValAAAALwGfL2pH/wAAJLHMCW+pb7IVUoCukY8j/NYJ7ee4+ABF6XxYNfOLWg4V+Ji/6ZcoAAAAeUGbNEmoQWyZTAhX//44QAAAZwZwFC7QiZoDeQ2QhhKlXAP7VlHZ/UBYtevZMEZflF1fBCgQr04ZUsbz3sGdSxJlZJ0E3UIs/THlCC7xCaJzkOe2fIQ7HyiZ9boFl3pSfhYKk0r7O9R+cm2IDK5nRX5mvRF/kQk0nYAAAAAbQZ9SRRUsI/8AAAMDTTB5tw8Jjujjg4DqQAOVAAAADgGfcXRH/wAAAwAAAwGpAAAAGAGfc2pH/wAABUMwliA7dBIr41yZaE5SqgAAACtBm3hJqEFsmUwIR//94QAAAwABNN4ftb98AjI4mkmmU5svQHg7YeVTLje7AAAAGEGflkUVLCP/AAADAAaYso4svWjzzD+OCAAAADMBn7V0R/8AAA16nO76UiGBsxHlJtG4/aCFYmYicEgARVAqMz05azFsXqtVDWYKJnx92pEAAAAOAZ+3akf/AAADAAADAakAAABaQZu8SahBbJlMCFf//jhAAAEU+t35V4CtVRM7JyoLmbujpP6XEsXhXrhzb+Bzx1QXAzGRtqHa6sIFi4vwWmzUs5izG0GCVBZlRgLHKNzsyPG/W+2EWJUrJlj4AAAAK0Gf2kUVLCP/AAAXRSs3a1opARcpKWTKYvSOfO0/e1zaYDHBPqiFoax/73EAAAAcAZ/5dEf/AAAkq/hbeBLbDl3fEtAz//9jvmUiwAAAABwBn/tqR/8AAAMB5oAS+OBpuK11QpcJO2ZW4OCBAAAAWEGb4EmoQWyZTAhH//3hAAADAJp+14AbrWL2sH8H+Whfz7+bGQETxRR2oe/uF4NVNOky3Elrp6OVCdcycWrMeqMUMn3MmBXoc2U31w++1aUwDgCsv1E+6m0AAAAmQZ4eRRUsI/8AAAMDTTDiv9bydlWEvVDpNN2MEf8sKp14zyGIptAAAAAbAZ49dEf/AAADAeWKeE6AkYkoc0V5erqC5sPcAAAAGwGeP2pH/wAABUMwlnuJLTNXCs96Gh8AgpUyLQAAADlBmiNJqEFsmUwIV//+OEAAARbomtWdEVAzDSDS6y4iXQQw9RBCus90T4wM8+Hoq7ovA6wyZnYrpSAAAAAlQZ5BRRUsI/8AABdMQ823FoKNiwMA6QeH812+aUgN6RPPgSauwQAAABgBnmJqR/8AACSxzAlvqW+yFUwNNepatswAAABHQZpnSahBbJlMCE///fEAAAMA/XMPgKGKf0yAfuLOHe0RT12KU2LQNBoVfo4VuZB9qrXfVfq7sCaV1znAM10164GM3E8syhEAAAAbQZ6FRRUsI/8AAAisCh5FZx7XrgTT9YOX0BkXAAAAGwGepHRH/wAADc4TUjYuvQ/IINn8LRv4Ui1qQQAAAB4BnqZqR/8AAA3XkF4vWewzl+PP6aYTUXrbsbnzUi0AAABIQZqrSahBbJlMCEf//eEAAAQTeMjAjDZdyYR5PcqxcwlUFuuOXWjMHtBR3t2mLAPJN8pMpEU3jokao9AjhsWXVWX5MyWyhYuAAAAAOEGeyUUVLCP/AAAWvFC0whPP8xxgaNWPrRxlH6+GmE9sGd4X+1GgG8JimlYfz/aMw+govBsJwJwQAAAAGgGe6HRH/wAADc4S8yWPj6TRnEHsvP7yAmRZAAAAIwGe6mpH/wAAI7IrBxd+Y3w8enLdwK/HMQviQ99+c1De/j3AAAAAOEGa7UmoQWyZTBRMJ//98QAAAwKfylLMo/dvPEombrTU1VR1fBMZAIkW17UKcAGSUEQ3hyeBJym0AAAAMQGfDGpH/wAAI78ZYDN93onb5jfDygm6VsfoSGibNjsPTJqydk+6VI3Lvofh7e+0IsEAAABPQZsRSeEKUmUwIV/+OEAAAQ0/ZErmEAdpkiWT+RiG2SiaD48uhrPgVt5OJItE93Sm74QCrcpVo3Gl9nx2OkfiFZukhnVueL6Nucubc5TUgQAAAEdBny9FNEwj/wAAFrxObKgkaVuCJduAIaDoYSplLYmrvye2O+ye5a5myhRzlLTdKfm1oe1qdRijHWXp+KTxhkViCsNWM7nqQQAAABkBn050R/8AAAMB5YoeZLH2vFdCPcrfe8tSAAAAGwGfUGpH/wAAI78aznveCbZisVh/hvEd8ygiwAAAABlBm1VJqEFomUwIT//98QAAAwAB3PM/CMETAAAAI0Gfc0URLCP/AAADAHOweWnYlvd2A1anzSZ9ngl67lbKiD3AAAAAGAGfknRH/wAAAwC6ehg55/T5luqJ0S9pFgAAABgBn5RqR/8AAAMAuifMHF532xvq6tmLHuEAAACQQZuZSahBbJlMCE///fEAAAMCnvfmu0s92FOQAJ1UYcsn2r7DxO9zp43oJ0g8E9nCNSgFmmf390gncVowUaXlU3VaYNualfQlzzELA0ipmB12aDqMC/cn41CZKZk5HsXUp42JNs+xAimiLUUUWCVXqtgPB9zQtc1oEknHIsZFKYymO/q/NGCu/cEZ2ynmRiLAAAAAQUGft0UVLCP/AAAWsyxsnexRAA1oG/OM3X+WQTLadzFodLURtfDuBPBQ3+ygOY8xHKov5s5r0Vg4sd6JYd/+rdrxAAAAHQGf1nRH/wAAI6w5AidptEZNTlGw46vAkt/NO1FhAAAAHgGf2GpH/wAAI7Isl3JvQQwOD9WLXOFAws1DEdqXkAAAAHFBm91JqEFsmUwIT//98QAAAwD4IP80g3VfUATq6zU4DF1IAFKP56/D5iHzZv6ADWfsi90my2UKU8jwYJFH1ohnoxwAxdCwMCE4082PRRyg+yOpP+OcfiFju+4gNHS62ENrFWHugCvhLGPoTaE5w1YyhwAAAC9Bn/tFFSwj/wAACHEtCQ1jO3+4ee39VAZN2E4rL4se3+25g5q948ijnmnGjn9qQAAAADEBnhp0R/8AAA1/QIn+gmUKce5w5BfmMO1fErDQ+UXPe2ZYI209o0vxXe0MJyUMNVrxAAAAKQGeHGpH/wAABRp3GER0PsgtXKr58lGIrwpMua6AeSlzC6VIeKVqPZFhAAAAS0GaAUmoQWyZTAhP//3xAAADAp8FNH/kaTD3ntDzn3m9AFodwnAQACLmvfAZdOIw5NyofQ02iv6RQVmi8OvadJkpcBS6CVShRaiyEAAAACRBnj9FFSwj/wAAFrxObMLYPLW5mdvSevz/rSghXICz3Sm6P2wAAAAYAZ5edEf/AAADAdqKfVDn9rD8LeY34ErBAAAAHwGeQGpH/wAAI78aza5H13VhFtwtRYL42NcuHzqmDjgAAABdQZpFSahBbJlMCEf//eEAAAMAlxQEpwjtZ4y4B0R0AKARkytTRS3ZmX0Dxwekki8szvlNdrmuE2y3/A/wfgnefEmRUoRVvAOBxyHcJzSH3EtAPZgaiLxqZplXsEP7AAAAIUGeY0UVLCP/AAADAzkxzaO3loyEe89HIRXouJt7uCv9IAAAAA4BnoJ0R/8AAAMAAAMBqQAAAB0BnoRqR/8AAAUfNNXe24jiX8qAxjxV3C8q/oCJUQAAAF9BmolJqEFsmUwIT//98QAAAwKfBTR/5dSyFHq2AwCxOVQs9YTOPm/7mMw/RLBBHvdvgDSX1W6pohMSHNO63IyJhYEC4q0g9CmAw87KHCMpkB40tk4/Rnpr1WPjsaYW4QAAACBBnqdFFSwj/wAAFrVYVYrO8iMqTUbMY1vfgFViytqQcQAAAB0BnsZ0R/8AACOsOQWuT3hBhQXtheOibbGEsF3iDgAAABABnshqR/8AAAMAv0nhQIOAAAAAiUGazUmoQWyZTAhH//3hAAAEE13Am/Cr0EAd8z8ocEAc9Vu+uFxN7hNO44lNGGfWm5/h/uCkib1DE562w4CppZ+m3acj4TIOSp0+b/gfxtZ2mRFmpY9Ty6COdOehN79xZqvVEO9lDxweb1ryKIQ3IhL+kG75F1rYB0vhd4mWn/PuG87kaN9f2edxAAAATEGe60UVLCP/AAAWsyu1Bi0VrVb8HmNgAceUaHkdgtqpbj/Z1jDcNzbYJ397dV+QuCRrYT/tXrkHFkcP62h9adwen5r7GLO1iXnr9kwAAAAZAZ8KdEf/AAAjq/hbeBKdaC1x/L2xJxYYMAAAACABnwxqR/8AACO/BCcSyWmauXqG7vPqnIPWWw4TCnFswQAAAIFBmxFJqEFsmUwIR//94QAABBNdwJv4NIyoko0Q3z3YXtfqEJPPfpRAFLygLLJhsW5QX9W6IPs7iuZerw6UF5xqGuBgk7eY4MbfTLw//8L2f4V5XlwVKRIW8AUYi7iscv2sNRth0VKBuqOZI5OaPr8LlQHe+cAuCZPepzjgdLkBVbMAAAAtQZ8vRRUsI/8AABazK7UGAQIIATU753/wCR1Iv+K2ceBKlrSE+YolIaQrLHbhAAAAJAGfTnRH/wAAI8MXaKmwCZTr2byDiXWGMx1mHqweLPDPnUskwAAAABoBn1BqR/8AACOxzAlvqXZwYMHiQKYYVuUiVAAAAGdBm1VJqEFsmUwIR//94QAABBNdwJv6JlvO18T5yAM+TA/l46RpTG9eVExQALP3QFCfKBoiM+91Yi2xmr9Wgn+ujpO5NG8xJaLPy+UDWE12CHh1UcGauNQcb3BDdVa6TBGYW/5yXk4HAAAAKkGfc0UVLCP/AAAWsyu1BgDWRWvF4ukPfHmzwhitT7C6POjsBzD9t4QckAAAAC8Bn5J0R/8AACOr+FihNpMt6IqovPo1ZZeezw/bsNEL7PQGXDiDB7O7dpAGdl5FswAAAC4Bn5RqR/8AACO/BCcSyWTc1da1P5ESRjYlqrgyCQAV0tIAYsWgvBWn/DUbW9bdAAAAZkGbmUmoQWyZTAhP//3xAAADAp8FYOAiZc2U+hP1LgsC0bnTt5tcL6AV90r/d2tkc2/wlK0Os4CKEfnlHioNz33/UziZ7gPG/MPQgapeK2etqQnMMaNBZD5kpirbeDH5zC7/JZycYAAAAC5Bn7dFFSwj/wAAFrUrOLxNui6wA1Ak1S7WLcwAUE4o8gQABtpwxeQgbgOw6bOTAAAAJwGf1nRH/wAAI8MXYq8fkrXXkCfzvwq8q4ABaNDgIszI7uZtTIM9swAAADEBn9hqR/8AAA2CPfVlkIc4pViSCfCdTS9E+CBoKhSqPO2jyAbRA98Y+Dqq6TVOw23AAAAAi0Gb3UmoQWyZTAhH//3hAAAEE3gyUSa/l4QiS+cj58YBvxGEw2Wl5Dec7WNY9A6yYCl9NauB0P8X6Q1JZF5JRjiyu0iZWPSME3dpKzodnjePaqqaUkFr5L1AKotPuLqof9uXMcvdURHTIKeaYNYsYJ2yr8rJkeE/wYourpdwsArvYCIYRhdHWbP5RW8AAABFQZ/7RRUsI/8AABa8Q8qaXhAF6bopAeDamMN9vwy0wkF+zCfnH8uj/7tuches4sCA0vTNtVt//4shGViOSaA+6eUAgu2YAAAAIwGeGnRH/wAAAwHlbo4sNcx4lN7yfuVPjwU52W93xeQC3deDAAAALQGeHGpH/wAAI7HMD3bc3xoxzM4bf9+kzLe266g/isJ+zswe4Pf7kK04lQ7ZgQAAAIZBmgFJqEFsmUwIT//98QAAAwKfurXbEKYWo9kJ2w8HqYA2z4HtagfchjVPeIdqM9JcWmac/luNJftKotX2Ce79PC9+Jo0W/+qdrBRfodOH+e181PEBputIxeFEj/BMUasFC6FZzNlntniJqtn7EahqYISjeT/C4nW0GefC654i1U8XccoyogAAAEhBnj9FFSwj/wAAFrUrOsRvUm7uYcWq0IE/LzGVz14N5Ln8zkqAVrkU9Nkuxs1ocFK3D/O3E+utyBU1owNIujMtoPmZ4KMgTYAAAAApAZ5edEf/AAAjwxdirwYze+wTnHmcJm4/m7zPOMTfR/lqaJEquMofrbcAAAA5AZ5Aakf/AAANeUtZr/CfjXJI0YCU0Jy5tXjfteABIogticPiFhHa3FC72yTjsyWCchwnbCOBFAhsAAAAR0GaRUmoQWyZTAhP//3xAAADAqPJ9Zkbj8AnuIb97sQNh4HiOja4Gs5m/KtB6dFtY3gsR7FqR9YoD3W5J7iIaWEBeAoQbjOPAAAALEGeY0UVLCP/AAAWsyu1BbkcL+K78bP3i6QFt41JElrUrnecg/0E+KwvXvKwAAAAHwGegnRH/wAAI8MXYrI/gOBKX20RgPAABqSbQvB1o2cAAAApAZ6Eakf/AAAjscwJiaHX+hmdUAhN+Il7fPM0jluhAM06q+HydJsEBTUAAAA7QZqJSahBbJlMCP/8hAAAD3vm17Tj1uwE5auYXkrCdQvCGzOxbrQAlkd2hMyRGEObNviroJ4lNpXmqNEAAAA0QZ6nRRUsI/8AABYjLIvEma6Ue892KRt2m2GngVSWiIqzNw5O3U3+VQAkvLdqjXdBwGeELQAAACwBnsZ0R/8AACKsOQWuT3hBhQPUrkEWdCyjrGGvmcAEAFKJxWBekllUnqWCPgAAACQBnshqR/8AACKyKwfs9sAneFaMMM91APPKWfOwsEpHtMI4hYAAAAyabW9vdgAAAGxtdmhkAAAAAAAAAAAAAAAAAAAD6AAAD8gAAQAAAQAAAAAAAAAAAAAAAAEAAAAAAAAAAAAAAAAAAAABAAAAAAAAAAAAAAAAAABAAAAAAAAAAAAAAAAAAAAAAAAAAAAAAAAAAAAAAAAAAgAAC8V0cmFrAAAAXHRraGQAAAADAAAAAAAAAAAAAAABAAAAAAAAD8gAAAAAAAAAAAAAAAAAAAAAAAEAAAAAAAAAAAAAAAAAAAABAAAAAAAAAAAAAAAAAABAAAAAAlgAAAGQAAAAAAAkZWR0cwAAABxlbHN0AAAAAAAAAAEAAA/IAAACAAABAAAAAAs9bWRpYQAAACBtZGhkAAAAAAAAAAAAAAAAAAAyAAAAygBVxAAAAAAALWhkbHIAAAAAAAAAAHZpZGUAAAAAAAAAAAAAAABWaWRlb0hhbmRsZXIAAAAK6G1pbmYAAAAUdm1oZAAAAAEAAAAAAAAAAAAAACRkaW5mAAAAHGRyZWYAAAAAAAAAAQAAAAx1cmwgAAAAAQAACqhzdGJsAAAAsHN0c2QAAAAAAAAAAQAAAKBhdmMxAAAAAAAAAAEAAAAAAAAAAAAAAAAAAAAAAlgBkABIAAAASAAAAAAAAAABFExhdmM2MS4zLjEwMCBsaWJ4MjY0AAAAAAAAAAAAAAAAGP//AAAANmF2Y0MBZAAf/+EAGWdkAB+s2UCYM+XhAAADAAEAAAMAZA8YMZYBAAZo6+PLIsD9+PgAAAAAFGJ0cnQAAAAAAABZkAAAWZAAAAAYc3R0cwAAAAAAAAABAAAAygAAAQAAAAAUc3RzcwAAAAAAAAABAAAAAQAABlhjdHRzAAAAAAAAAMkAAAABAAACAAAAAAEAAAUAAAAAAQAAAgAAAAABAAAAAAAAAAEAAAEAAAAAAQAABQAAAAABAAACAAAAAAEAAAAAAAAAAQAAAQAAAAABAAAFAAAAAAEAAAIAAAAAAQAAAAAAAAABAAABAAAAAAEAAAUAAAAAAQAAAgAAAAABAAAAAAAAAAEAAAEAAAAAAQAABQAAAAABAAACAAAAAAEAAAAAAAAAAQAAAQAAAAABAAAFAAAAAAEAAAIAAAAAAQAAAAAAAAABAAABAAAAAAEAAAUAAAAAAQAAAgAAAAABAAAAAAAAAAEAAAEAAAAAAQAABQAAAAABAAACAAAAAAEAAAAAAAAAAQAAAQAAAAABAAAFAAAAAAEAAAIAAAAAAQAAAAAAAAABAAABAAAAAAEAAAUAAAAAAQAAAgAAAAABAAAAAAAAAAEAAAEAAAAAAQAABQAAAAABAAACAAAAAAEAAAAAAAAAAQAAAQAAAAABAAAFAAAAAAEAAAIAAAAAAQAAAAAAAAABAAABAAAAAAEAAAUAAAAAAQAAAgAAAAABAAAAAAAAAAEAAAEAAAAAAQAABQAAAAABAAACAAAAAAEAAAAAAAAAAQAAAQAAAAABAAAFAAAAAAEAAAIAAAAAAQAAAAAAAAABAAABAAAAAAEAAAUAAAAAAQAAAgAAAAABAAAAAAAAAAEAAAEAAAAAAQAABQAAAAABAAACAAAAAAEAAAAAAAAAAQAAAQAAAAABAAAFAAAAAAEAAAIAAAAAAQAAAAAAAAABAAABAAAAAAEAAAUAAAAAAQAAAgAAAAABAAAAAAAAAAEAAAEAAAAAAQAABQAAAAABAAACAAAAAAEAAAAAAAAAAQAAAQAAAAABAAAFAAAAAAEAAAIAAAAAAQAAAAAAAAABAAABAAAAAAEAAAUAAAAAAQAAAgAAAAABAAAAAAAAAAEAAAEAAAAAAQAABQAAAAABAAACAAAAAAEAAAAAAAAAAQAAAQAAAAABAAAFAAAAAAEAAAIAAAAAAQAAAAAAAAABAAABAAAAAAEAAAUAAAAAAQAAAgAAAAABAAAAAAAAAAEAAAEAAAAAAQAABQAAAAABAAACAAAAAAEAAAAAAAAAAQAAAQAAAAABAAAFAAAAAAEAAAIAAAAAAQAAAAAAAAABAAABAAAAAAEAAAUAAAAAAQAAAgAAAAABAAAAAAAAAAEAAAEAAAAAAQAABQAAAAABAAACAAAAAAEAAAAAAAAAAQAAAQAAAAABAAAFAAAAAAEAAAIAAAAAAQAAAAAAAAABAAABAAAAAAEAAAUAAAAAAQAAAgAAAAABAAAAAAAAAAEAAAEAAAAAAQAABQAAAAABAAACAAAAAAEAAAAAAAAAAQAAAQAAAAABAAAEAAAAAAIAAAEAAAAAAQAABQAAAAABAAACAAAAAAEAAAAAAAAAAQAAAQAAAAABAAAFAAAAAAEAAAIAAAAAAQAAAAAAAAABAAABAAAAAAEAAAMAAAAAAQAAAQAAAAABAAAFAAAAAAEAAAIAAAAAAQAAAAAAAAABAAABAAAAAAEAAAUAAAAAAQAAAgAAAAABAAAAAAAAAAEAAAEAAAAAAQAABQAAAAABAAACAAAAAAEAAAAAAAAAAQAAAQAAAAABAAAFAAAAAAEAAAIAAAAAAQAAAAAAAAABAAABAAAAAAEAAAUAAAAAAQAAAgAAAAABAAAAAAAAAAEAAAEAAAAAAQAABQAAAAABAAACAAAAAAEAAAAAAAAAAQAAAQAAAAABAAAFAAAAAAEAAAIAAAAAAQAAAAAAAAABAAABAAAAAAEAAAUAAAAAAQAAAgAAAAABAAAAAAAAAAEAAAEAAAAAAQAABQAAAAABAAACAAAAAAEAAAAAAAAAAQAAAQAAAAABAAAFAAAAAAEAAAIAAAAAAQAAAAAAAAABAAABAAAAAAEAAAUAAAAAAQAAAgAAAAABAAAAAAAAAAEAAAEAAAAAAQAABQAAAAABAAACAAAAAAEAAAAAAAAAAQAAAQAAAAABAAAFAAAAAAEAAAIAAAAAAQAAAAAAAAABAAABAAAAAAEAAAUAAAAAAQAAAgAAAAABAAAAAAAAAAEAAAEAAAAAAQAABQAAAAABAAACAAAAAAEAAAAAAAAAAQAAAQAAAAAcc3RzYwAAAAAAAAABAAAAAQAAAMoAAAABAAADPHN0c3oAAAAAAAAAAAAAAMoAAAQwAAAAUQAAADkAAAAkAAAALQAAAFkAAAAqAAAAOgAAABcAAABQAAAASgAAADYAAAAgAAAASAAAACoAAAAcAAAAHgAAAEIAAAA8AAAAGgAAADgAAABAAAAAIQAAACEAAAASAAAASAAAACQAAAA4AAAAEgAAAGMAAAArAAAAPwAAACkAAAB2AAAAMAAAACAAAAAhAAAAdgAAACcAAAAUAAAALgAAAFIAAABBAAAAHgAAACYAAAB8AAAANAAAACEAAAAdAAAAVAAAACQAAAAlAAAAHQAAAFYAAAAsAAAAIQAAAB8AAABBAAAAIgAAAB4AAAASAAAAbAAAAFMAAAAwAAAAHAAAAFAAAAAoAAAAPAAAAB0AAAA8AAAALAAAACIAAAAgAAAAcQAAACYAAAAfAAAAHAAAAFUAAAAvAAAAHwAAADMAAABWAAAANgAAAC4AAAAfAAAASwAAAC4AAAAvAAAAMAAAADIAAAAhAAAAEgAAABwAAAApAAAAIwAAABQAAAAcAAAAWgAAADAAAAAtAAAAFAAAADYAAAA8AAAAJgAAAB8AAABAAAAAKQAAABgAAAAhAAAAcgAAADAAAAAiAAAAMwAAAH0AAAAfAAAAEgAAABwAAAAvAAAAHAAAADcAAAASAAAAXgAAAC8AAAAgAAAAIAAAAFwAAAAqAAAAHwAAAB8AAAA9AAAAKQAAABwAAABLAAAAHwAAAB8AAAAiAAAATAAAADwAAAAeAAAAJwAAADwAAAA1AAAAUwAAAEsAAAAdAAAAHwAAAB0AAAAnAAAAHAAAABwAAACUAAAARQAAACEAAAAiAAAAdQAAADMAAAA1AAAALQAAAE8AAAAoAAAAHAAAACMAAABhAAAAJQAAABIAAAAhAAAAYwAAACQAAAAhAAAAFAAAAI0AAABQAAAAHQAAACQAAACFAAAAMQAAACgAAAAeAAAAawAAAC4AAAAzAAAAMgAAAGoAAAAyAAAAKwAAADUAAACPAAAASQAAACcAAAAxAAAAigAAAEwAAAAtAAAAPQAAAEsAAAAwAAAAIwAAAC0AAAA/AAAAOAAAADAAAAAoAAAAFHN0Y28AAAAAAAAAAQAAADAAAABhdWR0YQAAAFltZXRhAAAAAAAAACFoZGxyAAAAAAAAAABtZGlyYXBwbAAAAAAAAAAAAAAAACxpbHN0AAAAJKl0b28AAAAcZGF0YQAAAAEAAAAATGF2ZjYxLjEuMTAw\" type=\"video/mp4\" />\n",
       "             </video>"
      ],
      "text/plain": [
       "<IPython.core.display.HTML object>"
      ]
     },
     "metadata": {},
     "output_type": "display_data"
    }
   ],
   "source": [
    "def ppo_main():\n",
    "  # Hyper parameters\n",
    "  lr = 1e-3\n",
    "  epochs = 20\n",
    "  env_samples = 100\n",
    "  gamma = 0.9\n",
    "  batch_size = 256\n",
    "  epsilon = 0.2\n",
    "  policy_epochs = 5\n",
    "\n",
    "  # Init environment \n",
    "  state_size = 4\n",
    "  action_size = 2\n",
    "  env = gym.make('CartPole-v1', render_mode=\"rgb_array\")\n",
    "\n",
    "  # Init networks\n",
    "  policy_network = PolicyNetwork(state_size, action_size).cuda()\n",
    "  value_network = ValueNetwork(state_size).cuda()\n",
    "\n",
    "  # Init optimizer\n",
    "  optim = torch.optim.Adam(chain(policy_network.parameters(), value_network.parameters()), lr=lr)\n",
    "\n",
    "  # Start main loop\n",
    "  results_ppo = []\n",
    "  loop = tqdm(total=epochs, position=0, leave=False)\n",
    "  for epoch in range(epochs):\n",
    "    last_epoch = (epoch+1 == epochs)\n",
    "    # Record only last epoch\n",
    "    if last_epoch:\n",
    "      env = wrap_env(env)\n",
    "    \n",
    "    memory = []  # Reset memory every epoch\n",
    "    rewards = []  # Calculate average episodic reward per epoch\n",
    "\n",
    "    # Begin experience loop\n",
    "    for episode in range(env_samples):\n",
    "      \n",
    "      # Reset environment\n",
    "      state, _ = env.reset()\n",
    "      done = False\n",
    "      rollout = []\n",
    "      cum_reward = 0  # Track cumulative reward\n",
    "\n",
    "      # Begin episode\n",
    "      while not done and cum_reward < 200:  # End after 200 steps   \n",
    "        # Get action\n",
    "        action, action_dist = get_action_ppo(policy_network, state)\n",
    "        \n",
    "        # Take step\n",
    "        next_state, reward, terminated, truncated, _ = env.step(action)\n",
    "        done = terminated or truncated\n",
    "        # env.render()\n",
    "\n",
    "        # Store step\n",
    "        rollout.append((state, action, action_dist, reward))\n",
    "\n",
    "        cum_reward += reward\n",
    "        state = next_state  # Set current state\n",
    "\n",
    "      # Calculate returns and add episode to memory\n",
    "      memory = calculate_return(memory, rollout, gamma)\n",
    "\n",
    "      rewards.append(cum_reward)\n",
    "      env.close()\n",
    "    # Train\n",
    "    dataset = RLDataset(memory)\n",
    "    loader = DataLoader(dataset, batch_size=batch_size, shuffle=True)\n",
    "    learn_ppo(optim, policy_network, value_network, loader, epsilon, policy_epochs)\n",
    "    \n",
    "    # Print results\n",
    "    results_ppo.extend(rewards)  # Store rewards for this epoch\n",
    "    loop.update(1)\n",
    "    loop.set_description(\"Epochs: {} Reward: {}\".format(epoch, results_ppo[-1]))\n",
    "\n",
    "  return results_ppo\n",
    "\n",
    "results_ppo = ppo_main()\n",
    "show_video()"
   ]
  },
  {
   "cell_type": "code",
   "execution_count": 13,
   "metadata": {
    "id": "pLXetCMpC1DE"
   },
   "outputs": [
    {
     "data": {
      "image/png": "[encoded data removed]",
      "text/plain": [
       "<Figure size 640x480 with 1 Axes>"
      ]
     },
     "metadata": {},
     "output_type": "display_data"
    }
   ],
   "source": [
    "plt.plot(results_ppo)\n",
    "plt.show()"
   ]
  },
  {
   "cell_type": "code",
   "execution_count": null,
   "metadata": {},
   "outputs": [],
   "source": []
  }
 ],
 "metadata": {
  "accelerator": "GPU",
  "colab": {
   "provenance": []
  },
  "kernelspec": {
   "display_name": ".venv",
   "language": "python",
   "name": "python3"
  },
  "language_info": {
   "codemirror_mode": {
    "name": "ipython",
    "version": 3
   },
   "file_extension": ".py",
   "mimetype": "text/x-python",
   "name": "python",
   "nbconvert_exporter": "python",
   "pygments_lexer": "ipython3",
   "version": "3.11.11"
  }
 },
 "nbformat": 4,
 "nbformat_minor": 4
}
