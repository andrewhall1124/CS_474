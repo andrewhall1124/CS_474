{
 "cells": [
  {
   "cell_type": "markdown",
   "metadata": {},
   "source": [
    "[![Open In Colab](https://colab.research.google.com/assets/colab-badge.svg)](https://github.com/porterjenkins/byu-cs474/blob/master/lab3_cross_entropy_convnets.ipynb)"
   ]
  },
  {
   "cell_type": "markdown",
   "metadata": {
    "id": "view-in-github"
   },
   "source": [
    "# Deep Learning Part 3: Datasets, Data Loading, Cross Entropy, and Convolutional Networks\n",
    "\n",
    "## Grading Standards:\n",
    "*  10%: Dataset/MNIST section\n",
    "*  10%: Correct implementation and use of cross entropy loss\n",
    "*  20%: Correct training/validation functions\n",
    "*  40%: Successful training and validation with MLP and convolution networks\n",
    "*  12%: Convolutional layer quiz\n",
    "*   8%: Comparison between MLP and convolution networks\n",
    "___\n"
   ]
  },
  {
   "cell_type": "code",
   "execution_count": 1,
   "metadata": {
    "id": "wQOefmcZVgTl"
   },
   "outputs": [],
   "source": [
    "import numpy as np\n",
    "import matplotlib.pyplot as plt\n",
    "\n",
    "import torch\n",
    "import torch.nn as nn\n",
    "import torch.nn.functional as F"
   ]
  },
  {
   "cell_type": "markdown",
   "metadata": {
    "id": "IUHlLRJ0Q9Fz"
   },
   "source": [
    "Set your global variable `device`, using the `torch.device()` function. In order to use cuda remember to request a GPU from Runtime > Change Runtime.\n",
    "\n",
    "***Important Note**: If you spend too much time or memory on the GPU in Google Colab then you will be timed out. This may not be a big deal with this lab, but it can become a big deal in later labs. It is recommended to set your `device` and Runtime to CPU first and once everything in the lab is working properly to set it to the GPU.*"
   ]
  },
  {
   "cell_type": "code",
   "execution_count": 2,
   "metadata": {
    "id": "kFAeNl0mQ9F0"
   },
   "outputs": [],
   "source": [
    "device = torch.device('cuda')"
   ]
  },
  {
   "cell_type": "markdown",
   "metadata": {
    "id": "h8plxzBbQ9F1"
   },
   "source": [
    "---\n",
    "\n",
    "# Datasets and Data Loading\n",
    "\n"
   ]
  },
  {
   "cell_type": "code",
   "execution_count": 3,
   "metadata": {
    "id": "6A1ZwnczQ9F1"
   },
   "outputs": [],
   "source": [
    "from torch.utils.data import Dataset, DataLoader"
   ]
  },
  {
   "cell_type": "markdown",
   "metadata": {
    "id": "sP7rpMjiQ9F2"
   },
   "source": [
    "We are going to make a PyTorch `Dataset`.\n",
    "There are three parts to creating a `Dataset`:\n",
    "1. `__init__()`: This is where you get all relevant data for your dataset.\n",
    "2. `__len__()`: You return how large your dataset is.\n",
    "3. `__getitem__()`: You return an item from your dataset given an index.\n",
    "\n",
    "Implement the TODOs below."
   ]
  },
  {
   "cell_type": "code",
   "execution_count": 4,
   "metadata": {
    "id": "x3SGWrkbQ9F3"
   },
   "outputs": [],
   "source": [
    "class SineDataset(Dataset):\n",
    "    def __init__(self):\n",
    "        # TODO: The code is same from lab 2, so you can uncomment the code below.\n",
    "        self.x = torch.rand((100,1))*8 - 4\n",
    "        self.y = torch.sin(self.x) + torch.randn_like(self.x)*.1 # the second part of the sum adds noise to the function\n",
    "\n",
    "    def __len__(self):\n",
    "        # TODO: Return the len of your dataset.\n",
    "        return self.x.shape[0]\n",
    "\n",
    "    def __getitem__(self, i):\n",
    "        # TODO: i will be an index so return x_i and y_i\n",
    "        return (self.x[i], self.y[i])"
   ]
  },
  {
   "cell_type": "markdown",
   "metadata": {
    "id": "IQtRsLxWQ9F3"
   },
   "source": [
    "We will now create a `SineDataset` and print out the length of dataset, i.e. `len(dataset)`, and the item in your dataset at index 0, i.e. `dataset[0]`.\n",
    "\n",
    "*Note: `__len__()` and `__getitem__()` are private methods and should not be called directly.*"
   ]
  },
  {
   "cell_type": "code",
   "execution_count": 5,
   "metadata": {
    "id": "M1HD_XafQ9F4"
   },
   "outputs": [
    {
     "data": {
      "text/plain": [
       "(100, (tensor([-2.3560]), tensor([-0.5781])))"
      ]
     },
     "execution_count": 5,
     "metadata": {},
     "output_type": "execute_result"
    }
   ],
   "source": [
    "dataset = SineDataset()\n",
    "len(dataset), dataset[0]"
   ]
  },
  {
   "cell_type": "markdown",
   "metadata": {
    "id": "9Ow7q2UEQ9F4"
   },
   "source": [
    "A `DataLoader` uses the `__len__` and `__getitem__` of a `Dataset` to sample indices in `[0, ..., len(dataset)-1]` and collect a batch of items from the `Dataset`.\n",
    "The `DataLoader` will then try to convert the sampled entries into tensors (if they are not already) and concatenate them together.\n",
    "Create a `DataLoader` object below; pass in your dataset and `batch_size=32` as arguments."
   ]
  },
  {
   "cell_type": "code",
   "execution_count": 6,
   "metadata": {
    "id": "8G9BkZUgQ9F4"
   },
   "outputs": [],
   "source": [
    "dataloader = DataLoader(\n",
    "    dataset=dataset,\n",
    "    batch_size=32,\n",
    ")"
   ]
  },
  {
   "cell_type": "markdown",
   "metadata": {
    "id": "KHE3O4wwQ9F5"
   },
   "source": [
    "Iterate through your dataloader with a for loop. Because `SineDataset.__getitem__()` returns two items, the for loop will return a tuple.\n",
    "Either unpack the entries in your tuple in the for loop:\n",
    "```python\n",
    "for x, y in dataloader\n",
    "```\n",
    "or after the loop:\n",
    "```python\n",
    "for batch in dataloader:\n",
    "    x, y = batch\n",
    "```\n",
    "\n",
    "Print out the shapes of `x` and `y` for each batch in the dataloader."
   ]
  },
  {
   "cell_type": "code",
   "execution_count": 7,
   "metadata": {
    "id": "zxJ-K52QQ9F5"
   },
   "outputs": [
    {
     "name": "stdout",
     "output_type": "stream",
     "text": [
      "tensor([[-2.3560],\n",
      "        [ 0.7771],\n",
      "        [-0.9527],\n",
      "        [-1.3964],\n",
      "        [-0.7630],\n",
      "        [-0.0211],\n",
      "        [ 3.2323],\n",
      "        [-3.9271],\n",
      "        [-2.9054],\n",
      "        [-2.4463],\n",
      "        [-3.5816],\n",
      "        [ 2.1197],\n",
      "        [-1.5789],\n",
      "        [-1.8971],\n",
      "        [-1.8598],\n",
      "        [-0.7056],\n",
      "        [-1.7986],\n",
      "        [ 2.5869],\n",
      "        [ 2.5703],\n",
      "        [-0.8421],\n",
      "        [ 2.4860],\n",
      "        [-0.3200],\n",
      "        [-2.3793],\n",
      "        [ 2.8393],\n",
      "        [ 2.9061],\n",
      "        [-3.6110],\n",
      "        [ 3.3177],\n",
      "        [ 3.5105],\n",
      "        [-0.7950],\n",
      "        [-3.7368],\n",
      "        [-1.9244],\n",
      "        [ 0.7135]]) tensor([[-0.5781],\n",
      "        [ 0.6279],\n",
      "        [-0.7222],\n",
      "        [-0.9379],\n",
      "        [-0.6233],\n",
      "        [-0.0601],\n",
      "        [-0.1503],\n",
      "        [ 0.6151],\n",
      "        [-0.2062],\n",
      "        [-0.4955],\n",
      "        [ 0.4531],\n",
      "        [ 0.9543],\n",
      "        [-0.9146],\n",
      "        [-1.0059],\n",
      "        [-0.8238],\n",
      "        [-0.6585],\n",
      "        [-1.1458],\n",
      "        [ 0.5045],\n",
      "        [ 0.5776],\n",
      "        [-0.6879],\n",
      "        [ 0.5289],\n",
      "        [-0.5322],\n",
      "        [-0.7238],\n",
      "        [ 0.3218],\n",
      "        [ 0.2399],\n",
      "        [ 0.3592],\n",
      "        [-0.3315],\n",
      "        [-0.3657],\n",
      "        [-0.8161],\n",
      "        [ 0.4772],\n",
      "        [-1.0030],\n",
      "        [ 0.5563]])\n",
      "tensor([[ 0.4448],\n",
      "        [ 1.6942],\n",
      "        [ 1.3866],\n",
      "        [-3.0568],\n",
      "        [-0.3934],\n",
      "        [ 1.1393],\n",
      "        [-0.0487],\n",
      "        [-1.3932],\n",
      "        [ 0.8823],\n",
      "        [-1.7568],\n",
      "        [ 3.7985],\n",
      "        [ 2.9855],\n",
      "        [-3.3771],\n",
      "        [ 3.5645],\n",
      "        [ 0.2703],\n",
      "        [ 2.5464],\n",
      "        [ 1.1597],\n",
      "        [ 2.8102],\n",
      "        [-1.7950],\n",
      "        [-0.1968],\n",
      "        [ 0.0514],\n",
      "        [-3.8123],\n",
      "        [-2.9897],\n",
      "        [ 0.0467],\n",
      "        [ 3.6109],\n",
      "        [-0.1996],\n",
      "        [-0.1350],\n",
      "        [-3.6685],\n",
      "        [-2.9055],\n",
      "        [ 0.0913],\n",
      "        [-3.9329],\n",
      "        [ 3.9506]]) tensor([[ 0.4311],\n",
      "        [ 1.0690],\n",
      "        [ 0.8822],\n",
      "        [-0.2180],\n",
      "        [-0.4354],\n",
      "        [ 0.8735],\n",
      "        [-0.0698],\n",
      "        [-0.9751],\n",
      "        [ 0.7865],\n",
      "        [-1.1421],\n",
      "        [-0.5692],\n",
      "        [ 0.2302],\n",
      "        [ 0.2523],\n",
      "        [-0.3679],\n",
      "        [ 0.3679],\n",
      "        [ 0.4775],\n",
      "        [ 0.8327],\n",
      "        [ 0.4150],\n",
      "        [-1.0739],\n",
      "        [-0.3329],\n",
      "        [ 0.1552],\n",
      "        [ 0.5960],\n",
      "        [-0.1563],\n",
      "        [ 0.0505],\n",
      "        [-0.3359],\n",
      "        [-0.1874],\n",
      "        [-0.0812],\n",
      "        [ 0.5457],\n",
      "        [-0.4104],\n",
      "        [ 0.1068],\n",
      "        [ 0.8778],\n",
      "        [-0.4872]])\n",
      "tensor([[ 3.9629],\n",
      "        [ 0.0290],\n",
      "        [-2.4768],\n",
      "        [ 1.3771],\n",
      "        [-3.3399],\n",
      "        [ 3.0560],\n",
      "        [ 1.8884],\n",
      "        [-1.7936],\n",
      "        [-0.8143],\n",
      "        [-3.6572],\n",
      "        [-0.1485],\n",
      "        [-1.3799],\n",
      "        [-1.5032],\n",
      "        [ 2.6125],\n",
      "        [-1.3737],\n",
      "        [ 3.1575],\n",
      "        [-3.6053],\n",
      "        [-2.1552],\n",
      "        [ 3.7338],\n",
      "        [ 0.6409],\n",
      "        [-3.9184],\n",
      "        [-2.3813],\n",
      "        [ 3.4163],\n",
      "        [-0.4994],\n",
      "        [-1.3674],\n",
      "        [-0.4941],\n",
      "        [ 2.1757],\n",
      "        [-2.5816],\n",
      "        [ 0.5066],\n",
      "        [-0.4299],\n",
      "        [ 3.2624],\n",
      "        [ 2.7651]]) tensor([[-0.6763],\n",
      "        [-0.0208],\n",
      "        [-0.4329],\n",
      "        [ 0.8723],\n",
      "        [ 0.3048],\n",
      "        [ 0.2138],\n",
      "        [ 0.9438],\n",
      "        [-1.1249],\n",
      "        [-0.7115],\n",
      "        [ 0.6260],\n",
      "        [ 0.0043],\n",
      "        [-0.9060],\n",
      "        [-1.0086],\n",
      "        [ 0.4461],\n",
      "        [-0.9034],\n",
      "        [ 0.0733],\n",
      "        [ 0.4559],\n",
      "        [-0.7773],\n",
      "        [-0.6340],\n",
      "        [ 0.4652],\n",
      "        [ 0.7442],\n",
      "        [-0.6934],\n",
      "        [-0.1893],\n",
      "        [-0.4242],\n",
      "        [-0.9121],\n",
      "        [-0.3658],\n",
      "        [ 0.7594],\n",
      "        [-0.4941],\n",
      "        [ 0.6617],\n",
      "        [-0.4093],\n",
      "        [-0.2917],\n",
      "        [ 0.4158]])\n",
      "tensor([[3.2147],\n",
      "        [3.6915],\n",
      "        [0.4645],\n",
      "        [2.4393]]) tensor([[-0.1707],\n",
      "        [-0.4676],\n",
      "        [ 0.5864],\n",
      "        [ 0.7802]])\n"
     ]
    }
   ],
   "source": [
    "for x, y in dataloader:\n",
    "    print(x, y)"
   ]
  },
  {
   "cell_type": "markdown",
   "metadata": {
    "id": "T9XGi82cQ9F5"
   },
   "source": [
    "You will notice that the shapes are `(B, Z_in)`, where `B` is batch size and `Z_in` is our input feature size, which is exactly what we want.\n",
    "Also note that the last batch has a batch size of 4; this is because the `DataLoader` samples **without replacement** and these are the last items in our `Dataset` that have not been sampled.\n",
    "\n",
    "Let's now create our real dataset."
   ]
  },
  {
   "cell_type": "markdown",
   "metadata": {
    "id": "ORW8H-QwQ9F6"
   },
   "source": [
    "---\n",
    "\n",
    "# MNIST\n",
    "\n",
    "We are now going to look at the MNIST dataset, which is a dataset of handwritten numbers.\n",
    "Our objective will be to create a neural network that can predict the number given the image.\n",
    "\n",
    "First import `torchvision` below so we can retrieve the MNIST dataset."
   ]
  },
  {
   "cell_type": "code",
   "execution_count": 8,
   "metadata": {
    "id": "ybgv1p4PQ9F6"
   },
   "outputs": [],
   "source": [
    "import torchvision"
   ]
  },
  {
   "cell_type": "markdown",
   "metadata": {
    "id": "QroZnsvvQ9F7"
   },
   "source": [
    "You can use `torchvision.datasets.MNIST()` to download the MNIST dataset (which inherits the `Dataset` class).\n",
    "For arguments, specify `root=\"/tmp/\"` to denote the location, `train=True` or `train=False` to get the training or test dataset, `download=True` to specify you want to download the dataset, and `transform=torchvision.transforms.ToTensor()` to convert the MNIST images from PIL images to PyTorch tensors.\n",
    "Create both a `train_dataset` and `val_dataset`.\n",
    "\n",
    "*Note: It is good practice to use a train, val, and test dataset, especially in the real world, but in this class we will mainly focus on train and val datasets to simplify things.*"
   ]
  },
  {
   "cell_type": "code",
   "execution_count": 9,
   "metadata": {
    "id": "BeJcijXkQ9F7"
   },
   "outputs": [],
   "source": [
    "train_dataset = torchvision.datasets.MNIST(\n",
    "    root=\"/tmp/\",\n",
    "    train=True,\n",
    "    download=True,\n",
    "    transform=torchvision.transforms.ToTensor()\n",
    ")\n",
    "\n",
    "val_dataset = torchvision.datasets.MNIST(\n",
    "    root=\"/tmp/\",\n",
    "    train=False,\n",
    "    download=True,\n",
    "    transform=torchvision.transforms.ToTensor()\n",
    ")"
   ]
  },
  {
   "cell_type": "markdown",
   "metadata": {
    "id": "ujysG9TCQ9F7"
   },
   "source": [
    "Print out the lengths of `train_dataset` and `val_dataset`."
   ]
  },
  {
   "cell_type": "code",
   "execution_count": 10,
   "metadata": {
    "id": "61Px30_LQ9F8"
   },
   "outputs": [
    {
     "data": {
      "text/plain": [
       "(60000, 10000)"
      ]
     },
     "execution_count": 10,
     "metadata": {},
     "output_type": "execute_result"
    }
   ],
   "source": [
    "len(train_dataset), len(val_dataset)"
   ]
  },
  {
   "cell_type": "markdown",
   "metadata": {
    "id": "4fViNzhuQ9F8"
   },
   "source": [
    "Grab element 0 from the `train_dataset`. As a heads up, like our `SineDataset`, `MNIST` returns an image `x` and a class/target `y`."
   ]
  },
  {
   "cell_type": "code",
   "execution_count": 11,
   "metadata": {
    "id": "3QUod3d5Q9F8"
   },
   "outputs": [
    {
     "data": {
      "text/plain": [
       "(tensor([[[0.0000, 0.0000, 0.0000, 0.0000, 0.0000, 0.0000, 0.0000, 0.0000,\n",
       "           0.0000, 0.0000, 0.0000, 0.0000, 0.0000, 0.0000, 0.0000, 0.0000,\n",
       "           0.0000, 0.0000, 0.0000, 0.0000, 0.0000, 0.0000, 0.0000, 0.0000,\n",
       "           0.0000, 0.0000, 0.0000, 0.0000],\n",
       "          [0.0000, 0.0000, 0.0000, 0.0000, 0.0000, 0.0000, 0.0000, 0.0000,\n",
       "           0.0000, 0.0000, 0.0000, 0.0000, 0.0000, 0.0000, 0.0000, 0.0000,\n",
       "           0.0000, 0.0000, 0.0000, 0.0000, 0.0000, 0.0000, 0.0000, 0.0000,\n",
       "           0.0000, 0.0000, 0.0000, 0.0000],\n",
       "          [0.0000, 0.0000, 0.0000, 0.0000, 0.0000, 0.0000, 0.0000, 0.0000,\n",
       "           0.0000, 0.0000, 0.0000, 0.0000, 0.0000, 0.0000, 0.0000, 0.0000,\n",
       "           0.0000, 0.0000, 0.0000, 0.0000, 0.0000, 0.0000, 0.0000, 0.0000,\n",
       "           0.0000, 0.0000, 0.0000, 0.0000],\n",
       "          [0.0000, 0.0000, 0.0000, 0.0000, 0.0000, 0.0000, 0.0000, 0.0000,\n",
       "           0.0000, 0.0000, 0.0000, 0.0000, 0.0000, 0.0000, 0.0000, 0.0000,\n",
       "           0.0000, 0.0000, 0.0000, 0.0000, 0.0000, 0.0000, 0.0000, 0.0000,\n",
       "           0.0000, 0.0000, 0.0000, 0.0000],\n",
       "          [0.0000, 0.0000, 0.0000, 0.0000, 0.0000, 0.0000, 0.0000, 0.0000,\n",
       "           0.0000, 0.0000, 0.0000, 0.0000, 0.0000, 0.0000, 0.0000, 0.0000,\n",
       "           0.0000, 0.0000, 0.0000, 0.0000, 0.0000, 0.0000, 0.0000, 0.0000,\n",
       "           0.0000, 0.0000, 0.0000, 0.0000],\n",
       "          [0.0000, 0.0000, 0.0000, 0.0000, 0.0000, 0.0000, 0.0000, 0.0000,\n",
       "           0.0000, 0.0000, 0.0000, 0.0000, 0.0118, 0.0706, 0.0706, 0.0706,\n",
       "           0.4941, 0.5333, 0.6863, 0.1020, 0.6510, 1.0000, 0.9686, 0.4980,\n",
       "           0.0000, 0.0000, 0.0000, 0.0000],\n",
       "          [0.0000, 0.0000, 0.0000, 0.0000, 0.0000, 0.0000, 0.0000, 0.0000,\n",
       "           0.1176, 0.1412, 0.3686, 0.6039, 0.6667, 0.9922, 0.9922, 0.9922,\n",
       "           0.9922, 0.9922, 0.8824, 0.6745, 0.9922, 0.9490, 0.7647, 0.2510,\n",
       "           0.0000, 0.0000, 0.0000, 0.0000],\n",
       "          [0.0000, 0.0000, 0.0000, 0.0000, 0.0000, 0.0000, 0.0000, 0.1922,\n",
       "           0.9333, 0.9922, 0.9922, 0.9922, 0.9922, 0.9922, 0.9922, 0.9922,\n",
       "           0.9922, 0.9843, 0.3647, 0.3216, 0.3216, 0.2196, 0.1529, 0.0000,\n",
       "           0.0000, 0.0000, 0.0000, 0.0000],\n",
       "          [0.0000, 0.0000, 0.0000, 0.0000, 0.0000, 0.0000, 0.0000, 0.0706,\n",
       "           0.8588, 0.9922, 0.9922, 0.9922, 0.9922, 0.9922, 0.7765, 0.7137,\n",
       "           0.9686, 0.9451, 0.0000, 0.0000, 0.0000, 0.0000, 0.0000, 0.0000,\n",
       "           0.0000, 0.0000, 0.0000, 0.0000],\n",
       "          [0.0000, 0.0000, 0.0000, 0.0000, 0.0000, 0.0000, 0.0000, 0.0000,\n",
       "           0.3137, 0.6118, 0.4196, 0.9922, 0.9922, 0.8039, 0.0431, 0.0000,\n",
       "           0.1686, 0.6039, 0.0000, 0.0000, 0.0000, 0.0000, 0.0000, 0.0000,\n",
       "           0.0000, 0.0000, 0.0000, 0.0000],\n",
       "          [0.0000, 0.0000, 0.0000, 0.0000, 0.0000, 0.0000, 0.0000, 0.0000,\n",
       "           0.0000, 0.0549, 0.0039, 0.6039, 0.9922, 0.3529, 0.0000, 0.0000,\n",
       "           0.0000, 0.0000, 0.0000, 0.0000, 0.0000, 0.0000, 0.0000, 0.0000,\n",
       "           0.0000, 0.0000, 0.0000, 0.0000],\n",
       "          [0.0000, 0.0000, 0.0000, 0.0000, 0.0000, 0.0000, 0.0000, 0.0000,\n",
       "           0.0000, 0.0000, 0.0000, 0.5451, 0.9922, 0.7451, 0.0078, 0.0000,\n",
       "           0.0000, 0.0000, 0.0000, 0.0000, 0.0000, 0.0000, 0.0000, 0.0000,\n",
       "           0.0000, 0.0000, 0.0000, 0.0000],\n",
       "          [0.0000, 0.0000, 0.0000, 0.0000, 0.0000, 0.0000, 0.0000, 0.0000,\n",
       "           0.0000, 0.0000, 0.0000, 0.0431, 0.7451, 0.9922, 0.2745, 0.0000,\n",
       "           0.0000, 0.0000, 0.0000, 0.0000, 0.0000, 0.0000, 0.0000, 0.0000,\n",
       "           0.0000, 0.0000, 0.0000, 0.0000],\n",
       "          [0.0000, 0.0000, 0.0000, 0.0000, 0.0000, 0.0000, 0.0000, 0.0000,\n",
       "           0.0000, 0.0000, 0.0000, 0.0000, 0.1373, 0.9451, 0.8824, 0.6275,\n",
       "           0.4235, 0.0039, 0.0000, 0.0000, 0.0000, 0.0000, 0.0000, 0.0000,\n",
       "           0.0000, 0.0000, 0.0000, 0.0000],\n",
       "          [0.0000, 0.0000, 0.0000, 0.0000, 0.0000, 0.0000, 0.0000, 0.0000,\n",
       "           0.0000, 0.0000, 0.0000, 0.0000, 0.0000, 0.3176, 0.9412, 0.9922,\n",
       "           0.9922, 0.4667, 0.0980, 0.0000, 0.0000, 0.0000, 0.0000, 0.0000,\n",
       "           0.0000, 0.0000, 0.0000, 0.0000],\n",
       "          [0.0000, 0.0000, 0.0000, 0.0000, 0.0000, 0.0000, 0.0000, 0.0000,\n",
       "           0.0000, 0.0000, 0.0000, 0.0000, 0.0000, 0.0000, 0.1765, 0.7294,\n",
       "           0.9922, 0.9922, 0.5882, 0.1059, 0.0000, 0.0000, 0.0000, 0.0000,\n",
       "           0.0000, 0.0000, 0.0000, 0.0000],\n",
       "          [0.0000, 0.0000, 0.0000, 0.0000, 0.0000, 0.0000, 0.0000, 0.0000,\n",
       "           0.0000, 0.0000, 0.0000, 0.0000, 0.0000, 0.0000, 0.0000, 0.0627,\n",
       "           0.3647, 0.9882, 0.9922, 0.7333, 0.0000, 0.0000, 0.0000, 0.0000,\n",
       "           0.0000, 0.0000, 0.0000, 0.0000],\n",
       "          [0.0000, 0.0000, 0.0000, 0.0000, 0.0000, 0.0000, 0.0000, 0.0000,\n",
       "           0.0000, 0.0000, 0.0000, 0.0000, 0.0000, 0.0000, 0.0000, 0.0000,\n",
       "           0.0000, 0.9765, 0.9922, 0.9765, 0.2510, 0.0000, 0.0000, 0.0000,\n",
       "           0.0000, 0.0000, 0.0000, 0.0000],\n",
       "          [0.0000, 0.0000, 0.0000, 0.0000, 0.0000, 0.0000, 0.0000, 0.0000,\n",
       "           0.0000, 0.0000, 0.0000, 0.0000, 0.0000, 0.0000, 0.1804, 0.5098,\n",
       "           0.7176, 0.9922, 0.9922, 0.8118, 0.0078, 0.0000, 0.0000, 0.0000,\n",
       "           0.0000, 0.0000, 0.0000, 0.0000],\n",
       "          [0.0000, 0.0000, 0.0000, 0.0000, 0.0000, 0.0000, 0.0000, 0.0000,\n",
       "           0.0000, 0.0000, 0.0000, 0.0000, 0.1529, 0.5804, 0.8980, 0.9922,\n",
       "           0.9922, 0.9922, 0.9804, 0.7137, 0.0000, 0.0000, 0.0000, 0.0000,\n",
       "           0.0000, 0.0000, 0.0000, 0.0000],\n",
       "          [0.0000, 0.0000, 0.0000, 0.0000, 0.0000, 0.0000, 0.0000, 0.0000,\n",
       "           0.0000, 0.0000, 0.0941, 0.4471, 0.8667, 0.9922, 0.9922, 0.9922,\n",
       "           0.9922, 0.7882, 0.3059, 0.0000, 0.0000, 0.0000, 0.0000, 0.0000,\n",
       "           0.0000, 0.0000, 0.0000, 0.0000],\n",
       "          [0.0000, 0.0000, 0.0000, 0.0000, 0.0000, 0.0000, 0.0000, 0.0000,\n",
       "           0.0902, 0.2588, 0.8353, 0.9922, 0.9922, 0.9922, 0.9922, 0.7765,\n",
       "           0.3176, 0.0078, 0.0000, 0.0000, 0.0000, 0.0000, 0.0000, 0.0000,\n",
       "           0.0000, 0.0000, 0.0000, 0.0000],\n",
       "          [0.0000, 0.0000, 0.0000, 0.0000, 0.0000, 0.0000, 0.0706, 0.6706,\n",
       "           0.8588, 0.9922, 0.9922, 0.9922, 0.9922, 0.7647, 0.3137, 0.0353,\n",
       "           0.0000, 0.0000, 0.0000, 0.0000, 0.0000, 0.0000, 0.0000, 0.0000,\n",
       "           0.0000, 0.0000, 0.0000, 0.0000],\n",
       "          [0.0000, 0.0000, 0.0000, 0.0000, 0.2157, 0.6745, 0.8863, 0.9922,\n",
       "           0.9922, 0.9922, 0.9922, 0.9569, 0.5216, 0.0431, 0.0000, 0.0000,\n",
       "           0.0000, 0.0000, 0.0000, 0.0000, 0.0000, 0.0000, 0.0000, 0.0000,\n",
       "           0.0000, 0.0000, 0.0000, 0.0000],\n",
       "          [0.0000, 0.0000, 0.0000, 0.0000, 0.5333, 0.9922, 0.9922, 0.9922,\n",
       "           0.8314, 0.5294, 0.5176, 0.0627, 0.0000, 0.0000, 0.0000, 0.0000,\n",
       "           0.0000, 0.0000, 0.0000, 0.0000, 0.0000, 0.0000, 0.0000, 0.0000,\n",
       "           0.0000, 0.0000, 0.0000, 0.0000],\n",
       "          [0.0000, 0.0000, 0.0000, 0.0000, 0.0000, 0.0000, 0.0000, 0.0000,\n",
       "           0.0000, 0.0000, 0.0000, 0.0000, 0.0000, 0.0000, 0.0000, 0.0000,\n",
       "           0.0000, 0.0000, 0.0000, 0.0000, 0.0000, 0.0000, 0.0000, 0.0000,\n",
       "           0.0000, 0.0000, 0.0000, 0.0000],\n",
       "          [0.0000, 0.0000, 0.0000, 0.0000, 0.0000, 0.0000, 0.0000, 0.0000,\n",
       "           0.0000, 0.0000, 0.0000, 0.0000, 0.0000, 0.0000, 0.0000, 0.0000,\n",
       "           0.0000, 0.0000, 0.0000, 0.0000, 0.0000, 0.0000, 0.0000, 0.0000,\n",
       "           0.0000, 0.0000, 0.0000, 0.0000],\n",
       "          [0.0000, 0.0000, 0.0000, 0.0000, 0.0000, 0.0000, 0.0000, 0.0000,\n",
       "           0.0000, 0.0000, 0.0000, 0.0000, 0.0000, 0.0000, 0.0000, 0.0000,\n",
       "           0.0000, 0.0000, 0.0000, 0.0000, 0.0000, 0.0000, 0.0000, 0.0000,\n",
       "           0.0000, 0.0000, 0.0000, 0.0000]]]),\n",
       " 5)"
      ]
     },
     "execution_count": 11,
     "metadata": {},
     "output_type": "execute_result"
    }
   ],
   "source": [
    "train_dataset[0]"
   ]
  },
  {
   "cell_type": "markdown",
   "metadata": {
    "id": "JEJ45xaVQ9F8"
   },
   "source": [
    "Use the `type()` function to see what type of object `x` and `y` are."
   ]
  },
  {
   "cell_type": "code",
   "execution_count": 12,
   "metadata": {
    "id": "BH7jijNxQ9F8"
   },
   "outputs": [
    {
     "data": {
      "text/plain": [
       "(torch.Tensor, int)"
      ]
     },
     "execution_count": 12,
     "metadata": {},
     "output_type": "execute_result"
    }
   ],
   "source": [
    "x = train_dataset[0][0]\n",
    "y = train_dataset[0][1]\n",
    "\n",
    "type(x), type(y)"
   ]
  },
  {
   "cell_type": "markdown",
   "metadata": {
    "id": "s8xFEKjZQ9F9"
   },
   "source": [
    "Since x is a tensor, print out its `.dtype`, `.shape`"
   ]
  },
  {
   "cell_type": "code",
   "execution_count": 13,
   "metadata": {
    "id": "nspQc1uSQ9F9"
   },
   "outputs": [
    {
     "data": {
      "text/plain": [
       "(torch.float32, torch.Size([1, 28, 28]))"
      ]
     },
     "execution_count": 13,
     "metadata": {},
     "output_type": "execute_result"
    }
   ],
   "source": [
    "x.dtype, x.shape"
   ]
  },
  {
   "cell_type": "markdown",
   "metadata": {
    "id": "XV-K1HjMQ9F9"
   },
   "source": [
    "The shape of a tensor image is `(C, H, W)`, where `C` is channels, `H` is height, and `W` is width.\n",
    "In our case `x` has 1 channel and it is a 28x28 image.\n",
    "Because there is 1 channel, it is likely that the image is grayscale (which it is).\n",
    "\n",
    "Now visualize the image and display its class.\n",
    "Use the `plt.imshow()` function to visualize `x`; add the argument `cmap=\"gray\"` to denote the image is grayscale.\n",
    "Use the `plt.title()` function to set the title of the `plt` image to the class `y`.\n",
    "\n",
    "*Note: `plt` expects grayscale images to only have to dimension, HxW, so `.squeeze()` the 0th dimension*"
   ]
  },
  {
   "cell_type": "code",
   "execution_count": 14,
   "metadata": {
    "id": "Xq6qHfNZQ9F9"
   },
   "outputs": [
    {
     "data": {
      "text/plain": [
       "Text(0.5, 1.0, '5')"
      ]
     },
     "execution_count": 14,
     "metadata": {},
     "output_type": "execute_result"
    },
    {
     "data": {
      "image/png": "[encoded data removed]",
      "text/plain": [
       "<Figure size 640x480 with 1 Axes>"
      ]
     },
     "metadata": {},
     "output_type": "display_data"
    }
   ],
   "source": [
    "plt.imshow(x.squeeze(), cmap='gray')\n",
    "plt.title(y)"
   ]
  },
  {
   "cell_type": "markdown",
   "metadata": {
    "id": "SQ7Qc7N5Q9F9"
   },
   "source": [
    "Print out the min and max values of `x` using `torch.min()` and `torch.max()`."
   ]
  },
  {
   "cell_type": "code",
   "execution_count": 15,
   "metadata": {
    "id": "0fU7fzKGQ9F-"
   },
   "outputs": [
    {
     "data": {
      "text/plain": [
       "(tensor(0.), tensor(1.))"
      ]
     },
     "execution_count": 15,
     "metadata": {},
     "output_type": "execute_result"
    }
   ],
   "source": [
    "torch.min(x), torch.max(x)"
   ]
  },
  {
   "cell_type": "markdown",
   "metadata": {
    "id": "kLK7CH_YQ9F-"
   },
   "source": [
    "Our tensors are normalized between 0 and 1, which is good so we don't have to do any normalization.\n",
    "Now that we have a better understanding of our image data, let's examine the classes in the dataset.\n",
    "\n",
    "Create a `get_dataset_classes()` function which takes a dataset as input and count how many times each class appears.\n",
    "Return a dictionary where the keys are the classes and the values represent the number of times each class appears in the dataset."
   ]
  },
  {
   "cell_type": "code",
   "execution_count": 16,
   "metadata": {
    "id": "RLGxbOj3Q9F-"
   },
   "outputs": [],
   "source": [
    "def get_dataset_classes(dataset):\n",
    "    classes = {}\n",
    "    \n",
    "    for x, y in dataset:\n",
    "        classes[y] = classes.get(y, 0) + 1\n",
    "    \n",
    "    return classes"
   ]
  },
  {
   "cell_type": "markdown",
   "metadata": {
    "id": "fNlLGb2pQ9F-"
   },
   "source": [
    "Execute the code below to visualize the dataset classes."
   ]
  },
  {
   "cell_type": "code",
   "execution_count": 17,
   "metadata": {
    "id": "3ZoP7o0JQ9F_"
   },
   "outputs": [
    {
     "data": {
      "image/png": "[encoded data removed]",
      "text/plain": [
       "<Figure size 800x400 with 2 Axes>"
      ]
     },
     "metadata": {},
     "output_type": "display_data"
    }
   ],
   "source": [
    "train_classes = get_dataset_classes(train_dataset)\n",
    "val_classes = get_dataset_classes(val_dataset)\n",
    "\n",
    "def plot_classes(ax, classes, title):\n",
    "    ax.bar(classes.keys(), classes.values())\n",
    "    ax.set_title(title)\n",
    "    ax.set_xticks(list(range(10)))\n",
    "\n",
    "fig, axes = plt.subplots(1, 2, figsize=(8, 4))\n",
    "plot_classes(axes[0], train_classes, \"Train Dataset Classes\")\n",
    "plot_classes(axes[1], val_classes, \"Val Dataset Classes\")\n",
    "plt.show()"
   ]
  },
  {
   "cell_type": "markdown",
   "metadata": {
    "id": "Lfg-UTydQ9F_"
   },
   "source": [
    "There are 10 classes, which makes sense because there are 10 digits, 0-9.\n",
    "Furthermore, the classes are pretty evenly spread on both datasets, which means our baseline accuracy is roughly 10%.\n",
    "\n",
    "Now create two `DataLoader` objects called, `train_loader` and `val_loader`.\n",
    "The `train_loader` should have your `train_dataset` and the `val_loader` should have your `val_dataset`.\n",
    "Set the `batch_size` of both dataloaders equal to 32 and set `shuffle=True` for the `train_loader` so that the dataset is shuffled every time.\n",
    "To improve the speed at which you `DataLoader`s can load the data, set `num_workers=4` (for multiprocessing)."
   ]
  },
  {
   "cell_type": "code",
   "execution_count": 18,
   "metadata": {
    "id": "mLp4yWwXQ9F_"
   },
   "outputs": [],
   "source": [
    "train_loader = DataLoader(\n",
    "    dataset=train_dataset,\n",
    "    batch_size=32,\n",
    "    shuffle=True,\n",
    "    num_workers=4\n",
    ")\n",
    "\n",
    "val_loader = DataLoader(\n",
    "    dataset=val_dataset,\n",
    "    batch_size=32,\n",
    "    shuffle=True,\n",
    "    num_workers=4\n",
    ")"
   ]
  },
  {
   "cell_type": "markdown",
   "metadata": {
    "id": "cEGFonGnQ9GH"
   },
   "source": [
    "Now use `x, y = next(iter(train_loader))` to get a single batch of data from the `train_loader` and print out the shapes and dtypes of `x` and `y`"
   ]
  },
  {
   "cell_type": "code",
   "execution_count": 19,
   "metadata": {
    "id": "b_XsyFmUQ9GH"
   },
   "outputs": [
    {
     "name": "stdout",
     "output_type": "stream",
     "text": [
      "torch.Size([32, 1, 28, 28]) torch.float32\n",
      "torch.Size([32]) torch.int64\n"
     ]
    }
   ],
   "source": [
    "x, y = next(iter(train_loader))\n",
    "\n",
    "print(x.shape, x.dtype)\n",
    "print(y.shape, y.dtype)"
   ]
  },
  {
   "cell_type": "markdown",
   "metadata": {
    "id": "CpSxXIkQQ9GI"
   },
   "source": [
    "The shape of `x` is `(B, C, H, W)`, where `B` is the batch size. **Always remember, in PyTorch, your data should have a batch dimension.**\n",
    "The shape of `y` is `(B,)` and it is a tensor of type `long`, which is what we want because we are doing classification, which means we want our target to be a class label."
   ]
  },
  {
   "cell_type": "markdown",
   "metadata": {
    "id": "QY4owfQwm-Ni"
   },
   "source": [
    "___\n",
    "\n",
    "### MLP Network\n",
    "\n",
    "We are now going to make our network.\n",
    "Because we are doing image classification, the input to our network is a batch of images, `shape=(B, C, H, W)`, and the output of our network is a batch of probabilities, `shape=(B, K)`, where `K` represents the number classes in our dataset.\n",
    "In our case `K=10`.\n",
    "\n",
    "We will first try to solve this problem using a fully connected deep network (like your DeepNet from lab 2), sometimes called a Multi-Layer Perceptron (MLP).  \n",
    "Implement an `MLP` below (don't forget to use `nn.Sequential`, `nn.Linear`, `nn.ReLU`).\n",
    "Because `nn.Linear` expects tensors of shape `(B, Z)`, where `Z` is the input feature size, we need to flatten our images. Use the `.view()` function to reshape `x.shape=(B, C, H, W)` into `x.shape=(B, Z)`, where `Z=C*H*W`.  "
   ]
  },
  {
   "cell_type": "code",
   "execution_count": 20,
   "metadata": {
    "id": "ljx0drnxQ9GI"
   },
   "outputs": [],
   "source": [
    "class MLP(nn.Module):\n",
    "    def __init__(self, in_features, out_features, hidden_size):\n",
    "        super().__init__()\n",
    "        self.model = nn.Sequential(\n",
    "            nn.Linear(in_features, hidden_size),\n",
    "            nn.ReLU(),\n",
    "            nn.Linear(hidden_size, out_features)\n",
    "        )\n",
    "\n",
    "    def forward(self, x: torch.Tensor):\n",
    "        B, C, H, W = x.shape\n",
    "        x = x.view(B, C * H * W)\n",
    "        return self.model(x)"
   ]
  },
  {
   "cell_type": "markdown",
   "metadata": {
    "id": "LJIluYrhQ9GI"
   },
   "source": [
    "Because we are doing classification, we need to use a different loss function that MSE; cross entropy loss is a good choice and is a common loss function for classification."
   ]
  },
  {
   "cell_type": "markdown",
   "metadata": {
    "id": "trSdeZy2Q9GJ"
   },
   "source": [
    "---\n",
    "\n",
    "# Softmax and CrossEntropy\n",
    "\n",
    "The cross entropy (CE) function is $CE(p, q) = - \\sum p(x) \\log q(x)$, where $p$ and $q$ are probability functions ($p$ is the target probabilities and $q$ is the predicted probabilities) and in our case $x$ represents a class.\n",
    "\n",
    "$p$ represents the target distribution, the true class distribution, which means it is a one-hot vector $p_c$, where $c$ represents the index of the class:\n",
    "$$p_i = \\begin{cases}\n",
    "1, & \\textrm{if } i = c \\\\\n",
    "0, & \\textrm{if } i \\not = c \\\\\n",
    "\\end{cases}$$\n",
    "\n",
    "Then $CE(p, q) = - \\sum_i p_i \\log q_i$ will become $CE(p, q) = - p_c \\log q_c$, because $p_{i \\not = c} = 0$, which is further reduced to $CE(p, q) = - \\log q_c$, since $p_c = 1$. In other words, cross entropy loss for classification is the negative log of the predicted probability of the correct class.\n",
    "\n",
    "Therefore, $p$ is never passed into `F.cross_entropy_loss()`, instead you pass in $q$ you predicted distribution and $c$ the index of the correct class.\n",
    "\n",
    "Implement `prenormalized_cross_entropy_loss` below. $q$ is assumed to be a normalized probability distribution.\n",
    "\n",
    "*Note 1: Do **not** use a for loop. You can index into a tensor with array slicing (hint: You will need to use `torch.arange()` for the 0th dimension of `q`)*\n",
    "\n",
    "*Note 2: Compute the mean cross entropy of the batch not the sum* "
   ]
  },
  {
   "cell_type": "code",
   "execution_count": 21,
   "metadata": {
    "id": "xuhEjtx7Q9GJ"
   },
   "outputs": [],
   "source": [
    "def prenormalized_cross_entropy_loss(q, c):\n",
    "    logs = torch.log(q)\n",
    "    batch_size = c.shape[0]\n",
    "    loss = -logs[torch.arange(batch_size), c].mean()\n",
    "    return loss"
   ]
  },
  {
   "cell_type": "markdown",
   "metadata": {
    "id": "bqzoiQDgQ9GK"
   },
   "source": [
    "Validate your function below."
   ]
  },
  {
   "cell_type": "code",
   "execution_count": 22,
   "metadata": {
    "id": "5l96Vh8HQ9GK"
   },
   "outputs": [],
   "source": [
    "def test_prenormalized_cross_entropy_loss():\n",
    "    q = torch.tensor([[.1, .5, .4],\n",
    "                      [.2, .2, .6],\n",
    "                      [.3, .3, .3]])\n",
    "    c = torch.tensor([2, 0, 1])\n",
    "    assert torch.allclose(prenormalized_cross_entropy_loss(q, c), torch.tensor(1.2432), atol=1e-4)\n",
    "\n",
    "test_prenormalized_cross_entropy_loss()"
   ]
  },
  {
   "cell_type": "markdown",
   "metadata": {
    "id": "G4pxw0AhQ9GL"
   },
   "source": [
    "This assumed that `q` was a probability distribution, but usually neural networks output logits $l$, which are unnormalized probabilities.\n",
    "One way we could normalize our logits $l$ into probabilities $q$ is to divide $l$ by the sum of logits $q_i = \\frac{l_i}{\\sum_j l_j}$, but that doesn't work if $l_i$ is negative.\n",
    "The softmax, which exponentiates the $logit$, $q_i = \\frac{e^{l_i}}{\\sum_j e^{l_j}}$, before dividing by the sum of exponentiated logits removes the issues of negativity (there are other good reasons for using softmax, such as numerical stability).\n",
    "\n",
    "However, applying `q = softmax(l)` to `prenormalized_cross_entropy_loss(q, c)` can still be numerically unstable.\n",
    "Luckily, we can simplify our function:\n",
    "$$\\begin{align}\n",
    "CE(l, c) &= - \\log \\frac{e^{l_c}}{\\sum_j e^{l_j}} \\\\\n",
    "&= - (\\log e^{l_c} - \\log \\sum_j e^{l_j}) \\\\\n",
    "&= - (l_c - \\log \\sum_j e^{l_j}) \\\\\n",
    "&= - l_c + \\log \\sum_j e^{l_j}\n",
    "\\end{align}$$\n",
    "\n",
    "While you could implement $\\log \\sum_j e^{l_j}$, you should use `torch.logsumexp()` which will exponentiate, sum, and then log your logits, but in a more numerically stable way.\n",
    "Implement `cross_entropy_loss()` below.\n",
    "You can validate it works by comparing it with the output of `F.cross_entropy()`.\n",
    "\n",
    "*Note: Do **not** use a for loop*"
   ]
  },
  {
   "cell_type": "code",
   "execution_count": 23,
   "metadata": {
    "id": "eqBTmzaWQ9GL"
   },
   "outputs": [],
   "source": [
    "def cross_entropy_loss(l, c):\n",
    "    batch_size = c.shape[0]\n",
    "    return (-l[torch.arange(batch_size), c] + torch.logsumexp(l, dim=1)).mean()"
   ]
  },
  {
   "cell_type": "code",
   "execution_count": 24,
   "metadata": {},
   "outputs": [],
   "source": [
    "q = torch.tensor([[.1, .5, .4],\n",
    "                  [.2, .2, .6],\n",
    "                  [.3, .3, .3]])\n",
    "c = torch.tensor([2, 0, 1])\n",
    "\n",
    "l = torch.log(q)\n",
    "\n",
    "assert torch.allclose(cross_entropy_loss(l, c), F.cross_entropy(l, c), atol=1e-6)"
   ]
  },
  {
   "cell_type": "markdown",
   "metadata": {
    "id": "cBEOn1gKQ9GL"
   },
   "source": [
    "It is hard to tell how well a model is performing just from its cross entropy loss, so create a `get_accuracy()` function to measure accuracy.\n",
    "`get_accuracy()` takes in a `y_hat` and `y`, where `y_hat` contains the predicted logits (unnormalized probabilities) for some images `x` and `y` are the labels.\n",
    "You can get the predicted label from `y_hat`, by using the `torch.argmax()` function.\n",
    "\n",
    "*Note: Do **not** use a for loop.*"
   ]
  },
  {
   "cell_type": "code",
   "execution_count": 25,
   "metadata": {
    "id": "aDoJ9UewQ9GL"
   },
   "outputs": [],
   "source": [
    "def get_accuracy(y_hat, y):\n",
    "    y_hat = torch.argmax(y_hat, dim=1)\n",
    "    return (y_hat == y).float().mean()"
   ]
  },
  {
   "cell_type": "markdown",
   "metadata": {
    "id": "Gliu8YgjQ9GL"
   },
   "source": [
    "## Validation and Training"
   ]
  },
  {
   "cell_type": "markdown",
   "metadata": {},
   "source": [
    "To see how well training is going, implement a `validation()` function to compute the average loss and accuracy over all instances in the `val_loader`. \n",
    "This function will look very similar to a basic training loop, but without any optimization, e.g. no `loss.backward()` or `optimizer.step()`. \n",
    "To speed up the process use `torch.no_grad()` to keep PyTorch from building the computation graph.\n",
    "You can use `torch.no_grad()` either as a decorator:\n",
    "```python\n",
    "@torch.no_grad() \n",
    "def fn():\n",
    "    ...\n",
    "```\n",
    "or as a context manager:\n",
    "```python\n",
    "def fn(): \n",
    "    with torch.no_grad():\n",
    "        ...\n",
    "```\n",
    "\n",
    "*Remember you can use `.item()` on a tensor with one element to convert it into a float/int.*"
   ]
  },
  {
   "cell_type": "code",
   "execution_count": 74,
   "metadata": {
    "id": "eVpKK9_bQ9GM"
   },
   "outputs": [],
   "source": [
    "@torch.no_grad()\n",
    "def validation(net, val_loader):\n",
    "    # TODO: Return the network's average loss and accuracy on the val loader\n",
    "    losses = []\n",
    "    accuracies = []\n",
    "    for x, y in val_loader:\n",
    "        x, y = x.to(device), y.to(device)\n",
    "        y_hat = net(x)\n",
    "\n",
    "        loss = cross_entropy_loss(y_hat, y).mean().item()\n",
    "        losses.append(loss)\n",
    "\n",
    "        accuracy = get_accuracy(y_hat, y).item()\n",
    "        accuracies.append(accuracy)\n",
    "    \n",
    "    return np.mean(losses), np.mean(accuracies)"
   ]
  },
  {
   "cell_type": "markdown",
   "metadata": {
    "id": "2RHZYEKNQ9GM"
   },
   "source": [
    "Now implement the `train()` function.\n",
    "This will look similar to the `train()` you implemented in lab 2, but now you will also store training accuracies, and at every `log_val_interval` you will call `validation` and store the validation loss and accuracy."
   ]
  },
  {
   "cell_type": "code",
   "execution_count": 75,
   "metadata": {
    "id": "7PQFG1zAQ9GM"
   },
   "outputs": [],
   "source": [
    "def train(net, train_loader, val_loader, optimizer, n_optimization_steps, log_val_interval):\n",
    "    training_losses = []\n",
    "    training_accuracies = []\n",
    "    val_losses = []\n",
    "    val_accuracies = []\n",
    "\n",
    "    for i, batch in enumerate(train_loader):\n",
    "        \n",
    "        if i >= n_optimization_steps:\n",
    "            break\n",
    "        \n",
    "        x, y = batch\n",
    "        x, y = x.to(device), y.to(device)\n",
    "        y_hat = net(x)\n",
    "\n",
    "        loss = cross_entropy_loss(y_hat, y)\n",
    "        training_losses.append(loss.item())\n",
    "\n",
    "        accuracy = get_accuracy(y_hat, y)\n",
    "        training_accuracies.append(accuracy.item())\n",
    "\n",
    "        optimizer.zero_grad()\n",
    "        loss.backward()\n",
    "        optimizer.step()\n",
    "\n",
    "        if i % log_val_interval == 0:\n",
    "            val_loss, val_accuracy = validation(net, val_loader)\n",
    "            val_losses.append(val_loss)\n",
    "            val_accuracies.append(val_accuracy)\n",
    "\n",
    "    return training_losses, training_accuracies, val_losses, val_accuracies"
   ]
  },
  {
   "cell_type": "markdown",
   "metadata": {
    "id": "zpKn33eFQ9GM"
   },
   "source": [
    "Now train an `MLP` on `MNIST`. To speed up training use the `torch.optim.Adam` optimizer instead of `torch.optim.SGD`.\n",
    "\n",
    "*Note: Don't forget to put your network on `device`.*"
   ]
  },
  {
   "cell_type": "code",
   "execution_count": 76,
   "metadata": {
    "id": "PaunNy19Q9GN"
   },
   "outputs": [],
   "source": [
    "# TODO: Set torch seed for reproducibility\n",
    "torch.manual_seed(0)\n",
    "\n",
    "# TODO: Initialize your MLP, called net\n",
    "net = MLP(\n",
    "    in_features=28*28,\n",
    "    out_features=64,\n",
    "    hidden_size=10,\n",
    ").to(device)\n",
    "\n",
    "# TODO: Create an Adam optimizer (lr=.001 works well)\n",
    "optimizer = torch.optim.Adam(net.parameters(), lr=.001)\n",
    "\n",
    "# TODO: Train your MLP for 2000 steps and set log_val_interval=50\n",
    "training_losses, training_accuracies, val_losses, val_accuracies = train(net, train_loader, val_loader, optimizer, 2000, 50)"
   ]
  },
  {
   "cell_type": "markdown",
   "metadata": {
    "id": "qxlBHEY5Q9GN"
   },
   "source": [
    "Now plot your training and validation loss on the same plot and plot your training and validation accuracies on the same plot.\n",
    "Properly set your x- and y-axis labels and create a legend to make your plot legible.  \n",
    "\n",
    "*Note: that you can specify the x-values for each point by calling `plt.plot(x, y)` instead of `plt.plot(y)`. Since you store validation every 50 steps, you'll need to use `torch.arange` to get the proper x-values to align the validation results to the training results.*"
   ]
  },
  {
   "cell_type": "code",
   "execution_count": 81,
   "metadata": {
    "id": "janqsjw6Q9GN"
   },
   "outputs": [
    {
     "data": {
      "image/png": "[encoded data removed]",
      "text/plain": [
       "<Figure size 640x480 with 1 Axes>"
      ]
     },
     "metadata": {},
     "output_type": "display_data"
    }
   ],
   "source": [
    "plt.plot(training_accuracies)\n",
    "plt.plot(torch.arange(0, 1900, 50), val_accuracies)\n",
    "plt.show()"
   ]
  },
  {
   "cell_type": "code",
   "execution_count": 82,
   "metadata": {},
   "outputs": [
    {
     "data": {
      "image/png": "[encoded data removed]",
      "text/plain": [
       "<Figure size 640x480 with 1 Axes>"
      ]
     },
     "metadata": {},
     "output_type": "display_data"
    }
   ],
   "source": [
    "plt.plot(training_losses)\n",
    "plt.plot(torch.arange(0, 1900, 50), val_losses)\n",
    "plt.show()"
   ]
  },
  {
   "cell_type": "markdown",
   "metadata": {
    "id": "ronkEckHiDaU"
   },
   "source": [
    "___\n",
    "\n",
    "# Convolution Networks\n",
    "\n",
    "Now we will create a convolution network.\n",
    "When we were dealing with an `MLP` we used fully-connected `nn.Linear` layers.\n",
    "In a convolution network we use `nn.Conv2d` layers.\n",
    "`nn.Linear` maps tensors of shape `(B, F_in) -> (B, F_out)`.\n",
    "`nn.Conv2d` maps tensors of shape `(B, C_in, H_in, W_in) -> (B, C_out, H_out, W_out)`, where `C_in` represents our input channels and `C_out` represents our output channels.\n",
    "You decide what `C_out` should be when you initialize.\n",
    "The mapping that\n",
    "\n",
    "If we had a batch of `img` tensors with shape `(B, 3, 8, 8)` and we wanted it to become `(B, 6, 4, 4)` we could create a convolution layer:\n",
    "```python\n",
    "conv_layer = nn.Conv2d(in_channels=3,  # Our 'C_in' which is 3\n",
    "                       out_channels=6, # Our desired 'C_out'\n",
    "                       kernel_size=2,  # One way to make an 8x8 image become a 2x2 image is to have the kernel be 2x2,\n",
    "                       padding=0,      #    with zero padding,\n",
    "                       stride=2,       #    and a stride of 2.\n",
    "                      )\n",
    "```\n",
    "Validate this is true below by creating `conv_prac()` function, which creates a random tensor with shape `(B, 3, 8, 8)`, passes it through `conv_layer`, and prints out the resulting shape.\n",
    "\n",
    "*Note: `kernel_size`, `padding`, and `stride` can all be tuples in case you want different (height, width) parameters, e.g. `kernel=(kernel_height, kernel_width)`.*"
   ]
  },
  {
   "cell_type": "code",
   "execution_count": 101,
   "metadata": {
    "id": "0WFcZkkWQ9GN"
   },
   "outputs": [
    {
     "data": {
      "text/plain": [
       "tensor([[[[-7.6291e-02,  1.0106e-01,  1.4533e-01,  2.1594e-01],\n",
       "          [-9.0560e-02,  5.0515e-02, -1.2340e-01,  3.9657e-02],\n",
       "          [-2.7650e-02, -3.0758e-01, -2.0180e-01, -4.5964e-02],\n",
       "          [-1.1933e-01, -1.7975e-01,  2.4715e-01, -3.6827e-02]],\n",
       "\n",
       "         [[-1.1256e-01,  2.6240e-01, -2.3500e-01,  4.2114e-02],\n",
       "          [-1.1885e-01,  1.4180e-01, -4.7918e-02, -2.9500e-01],\n",
       "          [ 2.7821e-01,  2.2544e-02,  7.0180e-02, -3.5543e-01],\n",
       "          [-1.4716e-01, -6.5705e-02, -2.2911e-01,  1.1792e-01]],\n",
       "\n",
       "         [[ 6.6110e-01,  3.8334e-01,  5.0997e-01,  4.4262e-01],\n",
       "          [ 4.4493e-01,  4.4830e-01,  8.2213e-01,  4.7646e-01],\n",
       "          [ 6.4723e-01,  4.1752e-01,  3.7609e-01,  5.1851e-01],\n",
       "          [ 7.5272e-01,  5.0176e-01,  6.1227e-01,  7.7266e-01]],\n",
       "\n",
       "         [[-2.1943e-01,  4.6253e-03, -2.3768e-01,  1.5655e-01],\n",
       "          [-2.1669e-01,  3.5400e-02, -7.6023e-02, -2.6666e-01],\n",
       "          [ 2.5702e-04, -4.6091e-01, -2.1467e-02, -2.5427e-01],\n",
       "          [-8.1990e-02, -3.8982e-01, -1.1828e-01, -3.2784e-01]],\n",
       "\n",
       "         [[-1.8995e-01, -4.0413e-02, -9.5372e-03, -1.6249e-02],\n",
       "          [-4.3135e-02, -2.7354e-02, -4.7629e-02, -7.2393e-02],\n",
       "          [ 3.0570e-04, -2.0570e-01,  9.4260e-02, -1.3639e-01],\n",
       "          [-3.1172e-02, -2.2634e-02, -2.7143e-01, -3.2157e-01]],\n",
       "\n",
       "         [[-7.0313e-01, -7.7056e-01, -6.1756e-01, -6.1633e-01],\n",
       "          [-9.4125e-01, -7.3882e-01, -9.7883e-01, -7.5084e-01],\n",
       "          [-9.6653e-01, -8.1522e-01, -8.0597e-01, -6.2696e-01],\n",
       "          [-1.0536e+00, -8.5615e-01, -9.0949e-01, -7.3945e-01]]]],\n",
       "       grad_fn=<ConvolutionBackward0>)"
      ]
     },
     "execution_count": 101,
     "metadata": {},
     "output_type": "execute_result"
    }
   ],
   "source": [
    "def conv_prac(B = 1, x = 3, y = 8, z = 8):\n",
    "    x = torch.rand((B, x, y, z))\n",
    "\n",
    "    conv_layer = nn.Conv2d(\n",
    "        in_channels=x.shape[1],\n",
    "        out_channels=6,\n",
    "        kernel_size=2,\n",
    "        padding=0,\n",
    "        stride=2\n",
    "    )\n",
    "\n",
    "    return conv_layer(x)\n",
    "\n",
    "conv_prac()"
   ]
  },
  {
   "cell_type": "code",
   "execution_count": 137,
   "metadata": {},
   "outputs": [
    {
     "data": {
      "text/plain": [
       "torch.Size([1, 1, 10, 10])"
      ]
     },
     "execution_count": 137,
     "metadata": {},
     "output_type": "execute_result"
    }
   ],
   "source": [
    "def conv_prac():\n",
    "    x = torch.rand((1, 3, 10, 10))\n",
    "\n",
    "    conv_layer = nn.Conv2d(\n",
    "        in_channels=x.shape[1],\n",
    "        out_channels=1,\n",
    "        kernel_size=(1, 1),\n",
    "        padding=(0, 0),\n",
    "        stride=1\n",
    "    )\n",
    "\n",
    "    return conv_layer(x)\n",
    "\n",
    "conv_prac().shape"
   ]
  },
  {
   "cell_type": "markdown",
   "metadata": {
    "id": "7hXGRxUQh9gX"
   },
   "source": [
    "___\n",
    "\n",
    "### Quiz\n",
    "Test your knowledge of how convolution layers affect the shape of outputs by answering the following quiz questions.\n",
    "\n",
    "\n",
    "*Using a Kernel size of 3×3 what should the settings of your 2d convolution be that results in the following mappings (first answer given to you)*\n",
    "\n",
    "* (c=3, h=10, w=10) ⇒ (c=10, h=8, w=8) : **(out_channels=10, kernel_size=(3, 3), padding=(0, 0))**\n",
    "* (c=3, h=10, w=10) ⇒ (c=22, h=10, w=10) : **(out_channels=22, kernel_size=(3, 3), padding=(1, 1))**\n",
    "* (c=3, h=10, w=10) ⇒ (c=65, h=12, w=12) : **(out_channels=65, kernel_size=(3, 3), padding=(2, 2))**\n",
    "* (c=3, h=10, w=10) ⇒ (c=7, h=20, w=20) : **(out_channels=7, kernel_size=(3, 3), padding=(6, 6))**\n",
    "\n",
    "*Using a Kernel size of 5×5:*\n",
    "\n",
    "* (c=3, h=10, w=10) ⇒ (c=10, h=8, w=8) : **(out_channels=10, kernel_size=(5, 5), padding=(1, 1))**\n",
    "* (c=3, h=10, w=10) ⇒ (c=100, h=10, w=10) : **(out_channels=100, kernel_size=(5, 5), padding=(2,2))**\n",
    "* (c=3, h=10, w=10) ⇒ (c=23, h=12, w=12) : **(out_channels=23, kernel_size=(5, 5), padding=(3, 3))**\n",
    "* (c=3, h=10, w=10) ⇒ (c=5, h=24, w=24) : **(out_channels=5, kernel_size=(5, 5), padding=(9, 9))**\n",
    "\n",
    "*Using Kernel size of 5×3:*\n",
    "\n",
    "* (c=3, h=10, w=10) ⇒ (c=10, h=8, w=8) : **(out_channels=10, kernel_size=(5, 3), padding=(1, 0))**\n",
    "* (c=3, h=10, w=10) ⇒ (c=100, h=10, w=10) : **(out_channels=100, kernel_size=(5, 3), padding=(2, 1))**\n",
    "* (c=3, h=10, w=10) ⇒ (c=23, h=12, w=12) : **(out_channels=23, kernel_size=(5, 3), padding=(3, 2))**\n",
    "* (c=3, h=10, w=10) ⇒ (c=5, h=24, w=24) : **(out_channels=5, kernel_size=(5, 3), padding=(9, 8))**\n",
    "\n",
    "*Determine the kernel that requires the smallest padding size to make the following mappings possible:*\n",
    "\n",
    "* (c=3, h=10, w=10) ⇒ (c=10, h=9, w=7) : **(out_channels=10, kernel_size=(4, 4), padding=(1, 0))**\n",
    "* (c=3, h=10, w=10) ⇒ (c=22, h=10, w=10) : **(out_channels=22, kernel_size=(1, 1), padding=(0, 0))**\n",
    "\n",
    "\n"
   ]
  },
  {
   "cell_type": "markdown",
   "metadata": {
    "id": "X6iWe-vrQ9GO"
   },
   "source": [
    "## ConvNet\n",
    "\n",
    "Now create a convolution network `ConvNet` that inherits `nn.Module`.\n",
    "The network should have 3 convolution layers (each layer should have 16 output channels):\n",
    "1. Conv Layer 1 should have a 6x6 kernel, no padding, and a stride of 2.\n",
    "2. Conv Layer 2 should have a 4x4 kernel, no padding, and a stride of 2.\n",
    "3. Conv Layer 3 should have a 3x3 kernel, no padding, and a stride of 1.\n",
    "\n",
    "The output of these layers should be a 3x3 image with 16 channels.\n",
    "You should flatten the image (you can use `.view()`, `torch.flatten()`, or `nn.Flatten()`) and then pass it through 2 linear layers:\n",
    "1. Linear Layer 1 should take the flattened image and map it to a vector with 16 features.\n",
    "2. Linear Layer 2 should map its vector to logits.\n",
    "\n",
    "Do not forget to add nonlinearities between the layers (do not add them to the last layer)."
   ]
  },
  {
   "cell_type": "code",
   "execution_count": 146,
   "metadata": {
    "id": "a0_GBKlkQ9GO"
   },
   "outputs": [],
   "source": [
    "class ConvNet(nn.Module):\n",
    "    def __init__(self):\n",
    "        super().__init__()\n",
    "        self.model = nn.Sequential(\n",
    "            nn.Conv2d(in_channels=1, out_channels=16, kernel_size=(6, 6), stride=2, padding=0),\n",
    "            nn.ReLU(),\n",
    "            nn.Conv2d(in_channels=16, out_channels=16, kernel_size=(4, 4), stride=2, padding=0),\n",
    "            nn.ReLU(),\n",
    "            nn.Conv2d(in_channels=16, out_channels=16, kernel_size=(3, 3), stride=1, padding=0),\n",
    "            nn.ReLU(),\n",
    "            nn.Flatten(),\n",
    "            nn.Linear(in_features=16 * 3 * 3, out_features=16),\n",
    "            nn.ReLU(),\n",
    "            nn.Linear(in_features=16, out_features=10)\n",
    "        )\n",
    "\n",
    "    def forward(self, x):\n",
    "        return self.model(x)"
   ]
  },
  {
   "cell_type": "markdown",
   "metadata": {
    "id": "gynh4o0GQ9GP"
   },
   "source": [
    "Train you convolution network below."
   ]
  },
  {
   "cell_type": "code",
   "execution_count": 147,
   "metadata": {
    "id": "AeFfiCH4Q9GP"
   },
   "outputs": [],
   "source": [
    "# TODO: Set seed for reproducibility\n",
    "torch.manual_seed(0)\n",
    "\n",
    "# TODO: Initalize your ConvNet, called 'conv_net'\n",
    "conv_net = ConvNet().to(device)\n",
    "\n",
    "# TODO: Create an Adam optimizer (lr=.001 works well)\n",
    "optimizer = torch.optim.Adam(conv_net.parameters(), lr=.001)\n",
    "\n",
    "# TODO: Train your ConvNet for 2000 steps and set log_val_interval=50\n",
    "training_losses, training_accuracies, val_losses, val_accuracies = train(conv_net, train_loader, val_loader, optimizer, 2000, 50)"
   ]
  },
  {
   "cell_type": "markdown",
   "metadata": {
    "id": "wpvG7fl1Q9GP"
   },
   "source": [
    "Now plot your training and validation loss on the same plot and plot your training and validation accuracies on the same plot."
   ]
  },
  {
   "cell_type": "code",
   "execution_count": 148,
   "metadata": {},
   "outputs": [
    {
     "data": {
      "image/png": "[encoded data removed]",
      "text/plain": [
       "<Figure size 640x480 with 1 Axes>"
      ]
     },
     "metadata": {},
     "output_type": "display_data"
    }
   ],
   "source": [
    "plt.plot(training_accuracies)\n",
    "plt.plot(torch.arange(0, 1900, 50), val_accuracies)\n",
    "plt.show()"
   ]
  },
  {
   "cell_type": "code",
   "execution_count": 149,
   "metadata": {
    "id": "mC3GifTWQ9GP"
   },
   "outputs": [
    {
     "data": {
      "image/png": "[encoded data removed]",
      "text/plain": [
       "<Figure size 640x480 with 1 Axes>"
      ]
     },
     "metadata": {},
     "output_type": "display_data"
    }
   ],
   "source": [
    "plt.plot(training_losses)\n",
    "plt.plot(torch.arange(0, 1900, 50), val_losses)\n",
    "plt.show()"
   ]
  },
  {
   "cell_type": "markdown",
   "metadata": {
    "id": "xlgZfmwRQ9GP"
   },
   "source": [
    "Create a function that outputs the number of parameters in a network.\n",
    "Remember you can call `.parameters()` to recursively retrieve the `Parameter`s in a `Module`.\n",
    "You could then use `.shape` to figure out the number of parameters in a `Parameter` or you could flatten the parameter and get its length."
   ]
  },
  {
   "cell_type": "code",
   "execution_count": 162,
   "metadata": {
    "id": "INzCWjI5Q9GP"
   },
   "outputs": [],
   "source": [
    "def get_n_net_params(net: nn.Module):\n",
    "    return sum(len(parameter.view(-1)) for parameter in net.parameters())"
   ]
  },
  {
   "cell_type": "markdown",
   "metadata": {
    "id": "aQR4_hPjQ9GQ"
   },
   "source": [
    "Print the number of parameters and the accuracy of your trained `MLP` and `ConvNet` networks and then write down below:\n",
    "- Which one is more accurate?\n",
    "- Which one is smaller?\n",
    "\n",
    "*Note: You can use `validation()` to get the accuracy of your network.*"
   ]
  },
  {
   "cell_type": "code",
   "execution_count": 164,
   "metadata": {
    "id": "wVCnQ1ccQ9GQ"
   },
   "outputs": [
    {
     "data": {
      "text/plain": [
       "(8554, 9514)"
      ]
     },
     "execution_count": 164,
     "metadata": {},
     "output_type": "execute_result"
    }
   ],
   "source": [
    "get_n_net_params(net), get_n_net_params(conv_net)"
   ]
  },
  {
   "cell_type": "code",
   "execution_count": 166,
   "metadata": {},
   "outputs": [
    {
     "data": {
      "text/plain": [
       "(np.float64(0.8857827476038339), np.float64(0.9607627795527156))"
      ]
     },
     "execution_count": 166,
     "metadata": {},
     "output_type": "execute_result"
    }
   ],
   "source": [
    "validation(net, val_loader)[1], validation(conv_net, val_loader)[1]"
   ]
  },
  {
   "cell_type": "markdown",
   "metadata": {},
   "source": [
    "The convolutional neural network is more accurate than the multi layer perceptron with an accuracy of 96% compared to 86%. <br>\n",
    "The multi layer perceptron is smaller than the convolutional neural network with only 8554 parameters compared to 9514."
   ]
  },
  {
   "cell_type": "code",
   "execution_count": null,
   "metadata": {},
   "outputs": [],
   "source": []
  }
 ],
 "metadata": {
  "accelerator": "GPU",
  "colab": {
   "provenance": []
  },
  "kernelspec": {
   "display_name": ".venv",
   "language": "python",
   "name": "python3"
  },
  "language_info": {
   "codemirror_mode": {
    "name": "ipython",
    "version": 3
   },
   "file_extension": ".py",
   "mimetype": "text/x-python",
   "name": "python",
   "nbconvert_exporter": "python",
   "pygments_lexer": "ipython3",
   "version": "3.11.11"
  },
  "pycharm": {
   "stem_cell": {
    "cell_type": "raw",
    "metadata": {
     "collapsed": false
    },
    "source": []
   }
  }
 },
 "nbformat": 4,
 "nbformat_minor": 4
}
