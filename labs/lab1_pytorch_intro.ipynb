{
 "cells": [
  {
   "cell_type": "markdown",
   "metadata": {},
   "source": [
    "[![Open In Colab](https://colab.research.google.com/assets/colab-badge.svg)](https://colab.research.google.com/github/porterjenkins/byu-cs474/blob/master/lab1_pytorch_intro.ipynb)"
   ]
  },
  {
   "cell_type": "markdown",
   "metadata": {
    "id": "FYabkPq6Osas"
   },
   "source": [
    "# Deep Learning Part 1: PyTorch, Autodifferentiation, and Optimization\n",
    "\n",
    "---\n",
    "\n",
    "While these labs can be completed on your own computer using Jupyter, we suggest using Google Colab. Colab provides a standardized virtual environment and allows you to request a GPU, which will let you perform deep learning much faster. If you choose to do these labs on your own computer, you may have to do extra work in getting your CUDA-compatible GPU working and getting the right versions of the packages for the labs.\n",
    "\n",
    "We won't use GPUs for this lab, but it will be vital to speed up training in some of the future labs."
   ]
  },
  {
   "cell_type": "markdown",
   "metadata": {
    "id": "F7yAMqLfOquC"
   },
   "source": [
    "# Preface: Jupyter Notebooks"
   ]
  },
  {
   "cell_type": "markdown",
   "metadata": {
    "id": "0a6MTkmnOquF"
   },
   "source": [
    "All of your labs will utilize jupyter notebooks, which are useful tools, but they have one big side effect: hidden states. Jupyter notebooks store the state of an executed cell, which can spell problems if you are not careful. To see what we mean execute cell 1 and cell 2."
   ]
  },
  {
   "cell_type": "code",
   "execution_count": 114,
   "metadata": {
    "id": "jmumQeH9OquF"
   },
   "outputs": [],
   "source": [
    "# cell 1\n",
    "x = 0"
   ]
  },
  {
   "cell_type": "code",
   "execution_count": 115,
   "metadata": {
    "id": "psSQuB-TOquG"
   },
   "outputs": [],
   "source": [
    "# cell 2\n",
    "x += 1"
   ]
  },
  {
   "cell_type": "markdown",
   "metadata": {
    "id": "m7FvNaj-OquH"
   },
   "source": [
    "Now print `x` below and validate that it equals 1."
   ]
  },
  {
   "cell_type": "code",
   "execution_count": 116,
   "metadata": {
    "id": "PV64iTjhOquH"
   },
   "outputs": [
    {
     "data": {
      "text/plain": [
       "1"
      ]
     },
     "execution_count": 116,
     "metadata": {},
     "output_type": "execute_result"
    }
   ],
   "source": [
    "x"
   ]
  },
  {
   "cell_type": "markdown",
   "metadata": {
    "id": "WxyZtWTeOquI"
   },
   "source": [
    "Now execute cell 2 again and print `x` below"
   ]
  },
  {
   "cell_type": "code",
   "execution_count": 117,
   "metadata": {
    "id": "G8Wpn0YEOquI"
   },
   "outputs": [
    {
     "data": {
      "text/plain": [
       "1"
      ]
     },
     "execution_count": 117,
     "metadata": {},
     "output_type": "execute_result"
    }
   ],
   "source": [
    "x"
   ]
  },
  {
   "cell_type": "markdown",
   "metadata": {
    "id": "OlXeevt7OquJ"
   },
   "source": [
    "This time `x` equals 2, which makes sense because we incremented it twice, but if an outsider looked at this code sequentially it would seem weird that x prints out 1 and 2. Since the state is hidden, an outsider can't assume code cells are run in sequential order, or that the cells weren't edited after being run.\n",
    "\n",
    "Jupyter notebooks are great for development: letting you quickly iterate on a program without executing everything sequentially, but at some point you may run into an issue with hidden state.\n",
    "\n",
    "There are two ways to reset the hidden state in this example. The quickest would be to execute cell 1 again which would reset `x` back to 0. Then if you execute cell 2 and print `x` twice with the two statements below, they should both output 1.\n",
    "\n",
    "To fully reset the state, just restart your Jupyter notebook runtime/session. This erases all data in RAM, but keeps anything stored on disk (installs, datasets, etc.). When you disconnect from the session in Colab, it deletes everything except for what is saved in your notebook file: code, text, and outputs."
   ]
  },
  {
   "cell_type": "markdown",
   "metadata": {
    "id": "hiquMGSKOquL"
   },
   "source": [
    "---\n",
    "\n",
    "# What is PyTorch and Automatic Differentiation"
   ]
  },
  {
   "cell_type": "code",
   "execution_count": 118,
   "metadata": {
    "id": "YedNwhuoOquL"
   },
   "outputs": [],
   "source": [
    "import torch"
   ]
  },
  {
   "cell_type": "markdown",
   "metadata": {
    "id": "4Mwd_l3-OquM"
   },
   "source": [
    "## Part 1: Tensors and Array Operations"
   ]
  },
  {
   "cell_type": "markdown",
   "metadata": {
    "id": "PHvGT9ceOquM"
   },
   "source": [
    "Some of you may already be familiar with NumPy or vector math and so this should be a simple and brief overview.\n",
    "\n",
    "PyTorch tries to be as close to NumPy as possible."
   ]
  },
  {
   "cell_type": "markdown",
   "metadata": {
    "id": "xdxCQ0gYOquN"
   },
   "source": [
    "### Tensor creation, shapes, and data types\n",
    "\n",
    "Tensors are n-dimensional containers: 0D tensors are scalars, 1D tensors are vectors, and 2D tensors are matrices. We'll often work with tensors with more than 2 dimensions.\n",
    "\n",
    "Let start by creating a simple tensor.\n",
    "Pass in the array `[1, 2]` into the `torch.tensor()` function and store the tensor as variable `v`."
   ]
  },
  {
   "cell_type": "code",
   "execution_count": 119,
   "metadata": {
    "id": "hD19cj9tOquN"
   },
   "outputs": [],
   "source": [
    "v = torch.tensor([1, 2])"
   ]
  },
  {
   "cell_type": "markdown",
   "metadata": {
    "id": "iKZqsb2yOquN"
   },
   "source": [
    "Let us look at shape and data type of `v`.\n",
    "You can view the shape of `v` with `v.shape` or calling `v.size()` and you can look at the data type of `v` with `v.dtype`.\n",
    "\n",
    "Print the shape and data type of `v` below."
   ]
  },
  {
   "cell_type": "code",
   "execution_count": 120,
   "metadata": {
    "id": "FILMXnbmOquO"
   },
   "outputs": [
    {
     "data": {
      "text/plain": [
       "(torch.Size([2]), torch.int64)"
      ]
     },
     "execution_count": 120,
     "metadata": {},
     "output_type": "execute_result"
    }
   ],
   "source": [
    "v.shape, v.dtype"
   ]
  },
  {
   "cell_type": "markdown",
   "metadata": {
    "id": "2-ZYtRxPOquO"
   },
   "source": [
    "We see that that the shape of `v.shape = torch.Size([2])` and its dtype is `torch.int64`.\n",
    "\n",
    "Initialize a new tensor `w` with the following array `[[1.0], [2.0]]` and print out its shape and dtype."
   ]
  },
  {
   "cell_type": "code",
   "execution_count": 121,
   "metadata": {
    "id": "8CEuvIr9OquO"
   },
   "outputs": [],
   "source": [
    "w = torch.tensor([[1.0], [2.0]])"
   ]
  },
  {
   "cell_type": "markdown",
   "metadata": {
    "id": "Ij9Ek7qhOquO"
   },
   "source": [
    "This time our tensor has a shape of `torch.Size([2, 1])` and its dtype is `torch.float32`."
   ]
  },
  {
   "cell_type": "markdown",
   "metadata": {
    "id": "iZ41g6YqOquO"
   },
   "source": [
    "Let's now change `v` to look like `w`.\n",
    "First we will try to make `v` share the same shape as `w`. `v` has 1 dimension and `w` has 2.\n",
    "Both `v` and `w` have a value of 2 in dimension 0 (using 0-based indexing) and `w` has a value of 1 in dimension 1.\n",
    "\n",
    "To add a dimension to `v` we can call the `v.unsqueeze()` function.\n",
    "It takes in a dimension argument (`dim`) specifying where we want to add the dimension.\n",
    "Because `v` is missing its dimension 1, specify `1` as the `dim` argument.\n",
    "\n",
    "*Note: `.unsqueeze()` returns a reshaped tensor and doesn't modify `v`.*\n",
    "\n",
    "Do not modify `v` and assign the unsqueezed tensor to the `answer` variable."
   ]
  },
  {
   "cell_type": "code",
   "execution_count": 122,
   "metadata": {
    "id": "cfzdW8DoOquO"
   },
   "outputs": [],
   "source": [
    "answer = v.unsqueeze(1)\n",
    "\n",
    "assert answer.shape == w.shape == torch.Size([2, 1])\n",
    "assert v.shape == torch.Size([2])"
   ]
  },
  {
   "cell_type": "markdown",
   "metadata": {
    "id": "Jb8Xg05hOquP"
   },
   "source": [
    "Now let's change the `v`'s data type. This easiest method is to call is the `.float()` function.\n",
    "\n",
    "*Note: Like `.unsqueeze()`, `.float()` returns a new tensor with the specified dtype and doesn't modify `v`*.\n",
    "Do not modify v and assign the float tensor to the `answer` variable."
   ]
  },
  {
   "cell_type": "code",
   "execution_count": 123,
   "metadata": {
    "id": "9B4G9NJ_OquP"
   },
   "outputs": [],
   "source": [
    "answer = v.float()\n",
    "\n",
    "assert answer.dtype == w.dtype == torch.float32\n",
    "assert v.dtype == torch.int64"
   ]
  },
  {
   "cell_type": "markdown",
   "metadata": {
    "id": "S1FoaU2NOquP"
   },
   "source": [
    "Now let's change `w` to look like `v`, but this time let's do it in one line.\n",
    "\n",
    "First we should change `w`'s dimensions so it matches `v`.\n",
    "To remove a dimension we can call the `.squeeze()` function and specify the dimension we want to remove.\n",
    "This will only remove the dimension if it has **value of 1**, if you squeeze a dimension with a value >1, then nothing changes.\n",
    "If you do not specify a dimension, all dimensions with a value of 1 are removed.\n",
    "**It is good coding practice to specify the dimension.**\n",
    "\n",
    "To make `w` share the same dtype as `v` we can use the `.long()` (because a long is a 64-bit integer).\n",
    "\n",
    "Now convert `w` to have the same shape and dtype as `v`, in 1 line of code. Remember `.squeeze()` and `.long()` returns tensors so you can chain the functions."
   ]
  },
  {
   "cell_type": "code",
   "execution_count": 124,
   "metadata": {
    "id": "4fylIEn8OquQ"
   },
   "outputs": [],
   "source": [
    "answer = w.squeeze(1).long()\n",
    "\n",
    "assert answer.shape == v.shape == torch.Size([2])\n",
    "assert answer.dtype == v.dtype == torch.int64"
   ]
  },
  {
   "cell_type": "markdown",
   "metadata": {
    "id": "3nseyumWOquQ"
   },
   "source": [
    "While there are many other dtypes, `torch.float32` and `torch.int64` are the main ones you will encounter."
   ]
  },
  {
   "cell_type": "markdown",
   "metadata": {
    "id": "bXyNW0IhOquQ"
   },
   "source": [
    "There are a few other helpful tensor creation functions."
   ]
  },
  {
   "cell_type": "code",
   "execution_count": 125,
   "metadata": {
    "id": "wugxs7bcOquQ"
   },
   "outputs": [
    {
     "data": {
      "text/plain": [
       "tensor([0, 0])"
      ]
     },
     "execution_count": 125,
     "metadata": {},
     "output_type": "execute_result"
    }
   ],
   "source": [
    "torch.zeros(size=(3, 3)) # returns a 3x3 tensor filled with 0's\n",
    "torch.ones(2) # returns a tensor with shape (3,) filled with 1's\n",
    "torch.full((3, 1), fill_value=-1) # returns a tensor with shape (3,) filled with -1's\n",
    "torch.rand(size=(2, 2)) # returns a 2x2 tensor filled with (uniform) random floats between 0 and 1\n",
    "torch.randn(size=(2,2)) # returns a 2x2 tensors filled with random floats drawn from a standard normal distribution\n",
    "\n",
    "torch.zeros_like(v) # returns a tensor with the same shape and dtype as v, but filled with 0's.\n",
    "# You could similarly call ones_like(), full_like(), rand_like()"
   ]
  },
  {
   "cell_type": "markdown",
   "metadata": {
    "id": "fd4FzZLaOquR"
   },
   "source": [
    "You can also easily create a tensor with a sequence of integers with the `torch.arange()` function. Just like Python's `range()` function you can specify where the sequence should start, end, and the sequence step size."
   ]
  },
  {
   "cell_type": "code",
   "execution_count": 126,
   "metadata": {
    "id": "iLiKqVObOquS"
   },
   "outputs": [
    {
     "data": {
      "text/plain": [
       "tensor([1, 3, 5])"
      ]
     },
     "execution_count": 126,
     "metadata": {},
     "output_type": "execute_result"
    }
   ],
   "source": [
    "torch.arange(6) # returns a tensor with shape (6,) containing a sequence from 0 to 6 (exclusive), i.e. [0, 1, 2, 3, 4, 5]\n",
    "torch.arange(1, 7) # returns a tensor with shape (6,) containing a sequence from 1 to 7 (exclusive), i.e. [1, 2, 3, 4, 5, 6]\n",
    "torch.arange(1, 7, 2) # returns a tensor with shape (6,) containing sequence [1, 3, 5]"
   ]
  },
  {
   "cell_type": "markdown",
   "metadata": {
    "id": "Q7dgX7SlOquS"
   },
   "source": [
    "### Changing shapes"
   ]
  },
  {
   "cell_type": "markdown",
   "metadata": {
    "id": "pKGdsuSaOquT"
   },
   "source": [
    "We have explained how you can add or remove dimensions to a tensor with `.unsqueeze()` and `.squeeze()`.\n",
    "But what if we want reshape a tensor?\n",
    "\n",
    "Using the `torch.arange()` function, create a tensor, named `x`, containing a sequence from 0 to 12 (exclusive)"
   ]
  },
  {
   "cell_type": "code",
   "execution_count": 127,
   "metadata": {
    "id": "vrGpHdRjOquT"
   },
   "outputs": [],
   "source": [
    "x = torch.arange(0,12)\n",
    "\n",
    "assert x.equal(torch.tensor([0, 1, 2, 3, 4, 5, 6, 7, 8, 9, 10, 11]))"
   ]
  },
  {
   "cell_type": "markdown",
   "metadata": {
    "id": "9GKaLp7yOquT"
   },
   "source": [
    "Let's say we want to change our tensor sequence (vector) into a matrix such that: $$\\begin{bmatrix} 0 & 1 & 2 & 3 & 4 & 5 & 6 & 7 & 8 & 9 & 10 & 11 \\end{bmatrix} \\rightarrow \\begin{bmatrix} 0 & 1 & 2 & 3 \\\\ 4 & 5 & 6 & 7 \\\\ 8 & 9 & 10 & 11 \\end{bmatrix}$$\n",
    "\n",
    "This matrix has 3 rows and 4 columns, i.e. shape=(3,4), so we can call the `.view()` function and specify the shape we want to view sequence of data.\n",
    "**Note: `.view()` returns a tensor*. Do **not** overwrite `x`, just print out `x.view(3, 4)` and validate that we get the desired matrix."
   ]
  },
  {
   "cell_type": "code",
   "execution_count": 128,
   "metadata": {
    "id": "QSATVKvKOquT"
   },
   "outputs": [
    {
     "data": {
      "text/plain": [
       "tensor([[ 0,  1,  2,  3],\n",
       "        [ 4,  5,  6,  7],\n",
       "        [ 8,  9, 10, 11]])"
      ]
     },
     "execution_count": 128,
     "metadata": {},
     "output_type": "execute_result"
    }
   ],
   "source": [
    "x.view(3,4)"
   ]
  },
  {
   "cell_type": "markdown",
   "metadata": {
    "id": "qqZuUqtYOquT"
   },
   "source": [
    "Now change the shape of `x` so that: $\\begin{bmatrix} 0 & 1 & 2 & 3 & 4 & 5 & 6 & 7& 8 & 9 & 10 & 11 \\end{bmatrix} \\rightarrow \\begin{bmatrix} 0 & 1 & 2 \\\\ 3 & 4 & 5 \\\\ 6 & 7 & 8 \\\\ 9 & 10 & 11 \\end{bmatrix}$"
   ]
  },
  {
   "cell_type": "code",
   "execution_count": 129,
   "metadata": {
    "id": "XkVpIIXzOquT"
   },
   "outputs": [
    {
     "data": {
      "text/plain": [
       "tensor([[ 0,  1,  2],\n",
       "        [ 3,  4,  5],\n",
       "        [ 6,  7,  8],\n",
       "        [ 9, 10, 11]])"
      ]
     },
     "execution_count": 129,
     "metadata": {},
     "output_type": "execute_result"
    }
   ],
   "source": [
    "x.view(4,3)"
   ]
  },
  {
   "cell_type": "markdown",
   "metadata": {
    "id": "8-x4Pg6wOquT"
   },
   "source": [
    "Now change the shape so that we that 2 matrices that are 3 by 2: $$\\begin{bmatrix} 0 & 1 & 2 & 3 & 4 & 5 & 6 & 7 & 8 & 9 & 10 & 11 \\end{bmatrix} \\rightarrow \\begin{bmatrix} \\begin{bmatrix} 0 & 1 \\\\ 2 & 3 \\\\ 4 & 5 \\end{bmatrix} \\\\ \\begin{bmatrix} 6 & 7 \\\\ 8 & 9 \\\\ 10 & 11 \\end{bmatrix} \\end{bmatrix}$$\n"
   ]
  },
  {
   "cell_type": "code",
   "execution_count": 130,
   "metadata": {
    "id": "BGi3-BWgOquT"
   },
   "outputs": [
    {
     "data": {
      "text/plain": [
       "tensor([[[ 0,  1],\n",
       "         [ 2,  3],\n",
       "         [ 4,  5]],\n",
       "\n",
       "        [[ 6,  7],\n",
       "         [ 8,  9],\n",
       "         [10, 11]]])"
      ]
     },
     "execution_count": 130,
     "metadata": {},
     "output_type": "execute_result"
    }
   ],
   "source": [
    "x.view(2,3,2)"
   ]
  },
  {
   "cell_type": "markdown",
   "metadata": {
    "id": "q00IyV1pOquT"
   },
   "source": [
    "Notice that the memory in all three cases is contiguous, meaning we can count the numbers from left to right and top to bottom, but what if we wanted our tensor to look like:\n",
    "$$\\begin{bmatrix} 0 & 1 & 2 & 3 & 4 & 5 & 6 & 7 & 8 & 9 & 10 & 11 \\end{bmatrix} \\rightarrow \\begin{bmatrix} 0 & 4 & 8 \\\\ 1 & 5 & 9 \\\\ 2 & 6 & 10 \\\\ 3 & 7 & 11 \\end{bmatrix}$$\n",
    "We can make use of the `.transpose()` function by first making our data sequence into a 3x4 matrix and then calling `.transpose()`:\n",
    "$$\\begin{aligned}\n",
    "\\begin{bmatrix} 0 & 1 & 2 & 3 & 4 & 5 & 6 & 7 & 8 & 9 & 10 & 11 \\end{bmatrix} \\rightarrow \\begin{bmatrix} 0 & 1 & 2 & 3 \\\\ 4 & 5 & 6 & 7 \\\\ 8 & 9 & 10 & 11 \\end{bmatrix} \\\\\n",
    "\\begin{bmatrix} 0 & 1 & 2 & 3 \\\\ 4 & 5 & 6 & 7 \\\\ 8 & 9 & 10 & 11 \\end{bmatrix}^\\textrm{T} \\rightarrow \\begin{bmatrix} 0 & 4 & 8 \\\\ 1 & 5 & 9 \\\\ 2 & 6 & 10 \\\\ 3 & 7 & 11 \\end{bmatrix}\n",
    "\\end{aligned}$$\n",
    "The `.transpose()` function takes in two arguments, the two dimensions you want to transpose, this is easy in our case since there are only two dimensions (because we only have two dimension you could also use `.T`, which is an alias for `.transpose()` in two dimensions).\n",
    "\n",
    "Use `.view()` and `.transpose()` and validate your new tensor is correct."
   ]
  },
  {
   "cell_type": "code",
   "execution_count": 131,
   "metadata": {
    "id": "-geOJlK7OquU"
   },
   "outputs": [
    {
     "data": {
      "text/plain": [
       "tensor([[ 0,  4,  8],\n",
       "        [ 1,  5,  9],\n",
       "        [ 2,  6, 10],\n",
       "        [ 3,  7, 11]])"
      ]
     },
     "execution_count": 131,
     "metadata": {},
     "output_type": "execute_result"
    }
   ],
   "source": [
    "x.view(3,4).transpose(0,1)"
   ]
  },
  {
   "cell_type": "markdown",
   "metadata": {
    "id": "PkvWYceIOquU"
   },
   "source": [
    "What if we wanted to flatten the above tensor so that:\n",
    "$$\\begin{bmatrix} 0 & 4 & 8 \\\\ 1 & 5 & 9 \\\\ 2 & 6 & 10 \\\\ 3 & 7 & 11 \\end{bmatrix} \\rightarrow \\begin{bmatrix} 0 & 4 & 8 & 1 & 5 & 9 & 2 & 6 & 10 & 3 & 7 & 11 \\end{bmatrix}$$\n",
    "\n",
    "Use the same `.view()` and `.transpose()` functions you used above, but this time tack on `.view(12)` to flatten the matrix."
   ]
  },
  {
   "cell_type": "code",
   "execution_count": 132,
   "metadata": {
    "id": "ZJHNg9abOquU"
   },
   "outputs": [
    {
     "ename": "RuntimeError",
     "evalue": "view size is not compatible with input tensor's size and stride (at least one dimension spans across two contiguous subspaces). Use .reshape(...) instead.",
     "output_type": "error",
     "traceback": [
      "\u001b[0;31m---------------------------------------------------------------------------\u001b[0m",
      "\u001b[0;31mRuntimeError\u001b[0m                              Traceback (most recent call last)",
      "Cell \u001b[0;32mIn[132], line 1\u001b[0m\n\u001b[0;32m----> 1\u001b[0m \u001b[43mx\u001b[49m\u001b[38;5;241;43m.\u001b[39;49m\u001b[43mview\u001b[49m\u001b[43m(\u001b[49m\u001b[38;5;241;43m3\u001b[39;49m\u001b[43m,\u001b[49m\u001b[38;5;241;43m4\u001b[39;49m\u001b[43m)\u001b[49m\u001b[38;5;241;43m.\u001b[39;49m\u001b[43mtranspose\u001b[49m\u001b[43m(\u001b[49m\u001b[38;5;241;43m0\u001b[39;49m\u001b[43m,\u001b[49m\u001b[38;5;241;43m1\u001b[39;49m\u001b[43m)\u001b[49m\u001b[38;5;241;43m.\u001b[39;49m\u001b[43mview\u001b[49m\u001b[43m(\u001b[49m\u001b[38;5;241;43m12\u001b[39;49m\u001b[43m)\u001b[49m\n",
      "\u001b[0;31mRuntimeError\u001b[0m: view size is not compatible with input tensor's size and stride (at least one dimension spans across two contiguous subspaces). Use .reshape(...) instead."
     ]
    }
   ],
   "source": [
    "x.view(3,4).transpose(0,1).view(12)"
   ]
  },
  {
   "cell_type": "markdown",
   "metadata": {
    "id": "pqtd-Kq0OquU"
   },
   "source": [
    "You should have run into `RuntimeError: view size is not compatible with input tensor's size and stride ...`.\n",
    "This error was thrown because the transpose messed with the contiguity of our data and `.view()` ensures that our data remains contiguous.\n",
    "If however, we want to enforce our change, we can call `.reshape()`.\n",
    "Go ahead and rerun the same line of code above, but this time replace `.view(12)` with `.reshape(12)`."
   ]
  },
  {
   "cell_type": "code",
   "execution_count": 133,
   "metadata": {
    "id": "HKbhfWluOquU"
   },
   "outputs": [
    {
     "data": {
      "text/plain": [
       "tensor([ 0,  4,  8,  1,  5,  9,  2,  6, 10,  3,  7, 11])"
      ]
     },
     "execution_count": 133,
     "metadata": {},
     "output_type": "execute_result"
    }
   ],
   "source": [
    "x.view(3,4).transpose(0,1).reshape(12)"
   ]
  },
  {
   "cell_type": "markdown",
   "metadata": {
    "id": "5D5KFr-NOquU"
   },
   "source": [
    "`.view()` is faster than `.reshape()`, so you use `.reshape()` only when needed."
   ]
  },
  {
   "cell_type": "markdown",
   "metadata": {
    "id": "YXEamNTXOquV"
   },
   "source": [
    "### Broadcasting and Array Operations"
   ]
  },
  {
   "cell_type": "code",
   "execution_count": 134,
   "metadata": {
    "id": "TxuBiA4HOquV"
   },
   "outputs": [],
   "source": [
    "s = torch.tensor(1)\n",
    "v1 = torch.tensor([1])\n",
    "v2 = torch.tensor([1, 2])\n",
    "v3 = torch.tensor([1, 2, 3])\n",
    "A = torch.tensor([[1, 2],\n",
    "                  [3, 4]])\n",
    "B = torch.tensor([[1, 2, 3],\n",
    "                  [4, 5, 6]])"
   ]
  },
  {
   "cell_type": "markdown",
   "metadata": {
    "id": "wNZjR5CoOquV"
   },
   "source": [
    "Print out the shape of `s`"
   ]
  },
  {
   "cell_type": "code",
   "execution_count": 135,
   "metadata": {
    "id": "Q06EhiAgOquV"
   },
   "outputs": [
    {
     "data": {
      "text/plain": [
       "torch.Size([])"
      ]
     },
     "execution_count": 135,
     "metadata": {},
     "output_type": "execute_result"
    }
   ],
   "source": [
    "s.shape"
   ]
  },
  {
   "cell_type": "markdown",
   "metadata": {
    "id": "XABSu6xtOquV"
   },
   "source": [
    "The shape of `s` is `torch.Size([])` because it has no dimensions and is therefore a scalar and so in some cases it will operate different from `v1` which is a vector of size 1."
   ]
  },
  {
   "cell_type": "markdown",
   "metadata": {
    "id": "lYysRt9yOquW"
   },
   "source": [
    "### Broadcasting\n",
    "\n",
    "Broadcasting is how array libraries, such as PyTorch and NumPy, perform arithmetic operations on two arrays with different shapes.\n",
    "\n",
    "There are two main rules to remember:\n",
    "1. If one array has fewer dimensions than another, then we **prepend** (e.g. `unsqueeze(0)`) dimensions to the smaller array until both arrays have the same number of dimensions.\n",
    "    ```python\n",
    "    x.shape == (5, 4, 2)\n",
    "    y.shape == (2, )\n",
    "    # After Step 1\n",
    "    x.shape == (5, 4, 2)\n",
    "    y.shape == (1, 1, 2)\n",
    "    ```\n",
    "2. After Step 1, both arrays must have the same value at each dimension must or one of them must have a value of one. Whenever a dimension of 1 is matched to a dimension >1, it duplicates its data to match the size of the other.\n",
    "    ```python\n",
    "    # Example will Fail\n",
    "    x.shape == (1, 4, 2, 9)\n",
    "    y.shape == (1, 1, 5, 9)\n",
    "    Matches:   (T, T, F, T)\n",
    "\n",
    "    # Example will Pass\n",
    "    x.shape == (1, 4, 2, 9)\n",
    "    y.shape == (2, 4, 1, 9)\n",
    "    Matches:   (T, T, T, T)\n",
    "    ```\n",
    "\n",
    "You do not need to implement these rules, they are done automatically, but you need to know them when you are performing operations on two arrays."
   ]
  },
  {
   "cell_type": "markdown",
   "metadata": {
    "id": "4YbP1Ja9OquX"
   },
   "source": [
    "Example 1: Adding `A + s`\n",
    "\n",
    "Because `A.shape == (2, 2)` and `s.shape == ()` then Step 1 prepends 1 to `s` twice so that it has a shape of (1, 1). Then the value of `s` gets copied on the dimensions where it has a value of 1.\n",
    "\n",
    "<!-- $\\begin{aligned}\n",
    "A + s &= \\begin{bmatrix} 1 & 2 \\\\ 3 & 4 \\end{bmatrix} + 1 \\\\  \n",
    "\\textrm{After Step 1} \\\\\n",
    "    &= \\begin{bmatrix} 1 & 2 \\\\ 3 & 4 \\end{bmatrix} + \\begin{bmatrix} \\begin{bmatrix} 1 \\end{bmatrix} \\end{bmatrix} \\\\\n",
    "\\textrm{After Step 2} \\\\\n",
    "    &= \\begin{bmatrix} 1 & 2 \\\\ 3 & 4 \\end{bmatrix} + \\begin{bmatrix} 1 & 1 \\\\ 1 & 1 \\end{bmatrix} = \\begin{bmatrix} 2 & 3 \\\\ 4 & 5 \\end{bmatrix}\n",
    "\\end{aligned}$ -->\n",
    "\n",
    "$\\begin{aligned}\n",
    "A + s &= \\begin{array}{cc} [[1 & 2]\\; \\\\ \\;[3 & 4]] \\end{array} + 1 \\\\  \n",
    "\\textrm{After Step 1} \\\\\n",
    "    &= \\begin{array}{cc} [[1 & 2]\\; \\\\ \\;[3 & 4]] \\end{array} + \\begin{array}{c} [[1]] \\end{array} \\\\  \n",
    "\\textrm{After Step 2} \\\\\n",
    "    &= \\begin{array}{cc} [[1 & 2]\\; \\\\ \\;[3 & 4]] \\end{array} + \\begin{array}{c} [[1 & 1]\\; \\\\ \\;[1 & 1]] \\end{array} = \\begin{array}{cc} [[2 & 3]\\; \\\\ \\;[4 & 5]] \\end{array} \\\\  \n",
    "\\end{aligned}$\n",
    "\n",
    "Add `A + s` below and validate you get the correct answer."
   ]
  },
  {
   "cell_type": "code",
   "execution_count": 136,
   "metadata": {
    "id": "LL1of2EzOquX"
   },
   "outputs": [
    {
     "data": {
      "text/plain": [
       "tensor([[2, 3],\n",
       "        [4, 5]])"
      ]
     },
     "execution_count": 136,
     "metadata": {},
     "output_type": "execute_result"
    }
   ],
   "source": [
    "A + s"
   ]
  },
  {
   "cell_type": "markdown",
   "metadata": {
    "id": "OMzL9MG-OquX"
   },
   "source": [
    "*Note, you can get the same result if you add by a float/integer, i.e. `A + 1`. PyTorch works well with floats and integers.*"
   ]
  },
  {
   "cell_type": "markdown",
   "metadata": {
    "id": "3_ezGsdeOquX"
   },
   "source": [
    "Example 2: Adding `B + v3`.\n",
    "\n",
    "Because `B.shape == (2, 3)` and `v3.shape == (3,)` then Step 1 prepends 1 to `v3` once so that it has a shape of (1, 3). Then the value of `v3` gets copied on the dimensions where it has a value of 1.\n",
    "\n",
    "$\\begin{aligned}\n",
    "B + v_3 &= \\begin{array}{ccc} [[1 & 2 & 3]\\; \\\\ \\;[4 & 5 & 6]] \\end{array} + \\begin{array}{ccc} [1 & 2 & 3] \\end{array} \\\\  \n",
    "\\textrm{After Step 1} \\\\\n",
    "    &= \\begin{array}{ccc} [[1 & 2 & 3]\\; \\\\ \\;[4 & 5 & 6]] \\end{array} + \\begin{array}{ccc} [[1 & 2 & 3]] \\end{array} \\\\  \n",
    "\\textrm{After Step 2} \\\\\n",
    "    &= \\begin{array}{ccc} [[1 & 2 & 3]\\; \\\\ \\;[4 & 5 & 6]] \\end{array} + \\begin{array}{ccc} [[1 & 2 & 3]\\; \\\\ \\;[1 & 2 & 3]] \\end{array} = \\begin{array}{ccc} [[2 & 4 & 6]\\; \\\\ \\;[5 & 7 & 9]] \\end{array} \\\\  \n",
    "\\end{aligned}$\n",
    "\n",
    "Add `B + v3` below and validate you get the correct answer."
   ]
  },
  {
   "cell_type": "code",
   "execution_count": 137,
   "metadata": {
    "id": "rgcK8zzkOquY"
   },
   "outputs": [
    {
     "data": {
      "text/plain": [
       "tensor([[2, 4, 6],\n",
       "        [5, 7, 9]])"
      ]
     },
     "execution_count": 137,
     "metadata": {},
     "output_type": "execute_result"
    }
   ],
   "source": [
    "B + v3"
   ]
  },
  {
   "cell_type": "markdown",
   "metadata": {
    "id": "NCyeULhuOquY"
   },
   "source": [
    "Example 3: Adding `B + v2`\n",
    "\n",
    "We want to happen is for:\n",
    "\n",
    "$\\begin{aligned}\n",
    "B + v_2 &= \\begin{array}{ccc} [[1 & 2 & 3]\\; \\\\ \\;[4 & 5 & 6]] \\end{array} + \\begin{array}{cc} [1 & 2] \\end{array} \\\\  \n",
    "\\textrm{After Step 1} \\\\\n",
    "    &= \\begin{array}{ccc} [[1 & 2 & 3]\\; \\\\ \\;[4 & 5 & 6]] \\end{array} + \\begin{array}{c} [[1]\\; \\\\ \\;[2]] \\end{array} \\\\  \n",
    "\\textrm{After Step 2} \\\\\n",
    "    &= \\begin{array}{ccc} [[1 & 2 & 3]\\; \\\\ \\;[4 & 5 & 6]] \\end{array} + \\begin{array}{c} [[1 & 1 & 1]\\; \\\\ \\;[2 & 2 & 2]] \\end{array} = \\begin{array}{ccc} [[2 & 3 & 4]\\; \\\\ \\;[6 & 7 & 8]] \\end{array}\n",
    "\\end{aligned}$\n",
    "\n",
    "Try by first running `B + v2`"
   ]
  },
  {
   "cell_type": "code",
   "execution_count": 138,
   "metadata": {
    "id": "XPDrm-lYOquY"
   },
   "outputs": [
    {
     "ename": "RuntimeError",
     "evalue": "The size of tensor a (3) must match the size of tensor b (2) at non-singleton dimension 1",
     "output_type": "error",
     "traceback": [
      "\u001b[0;31m---------------------------------------------------------------------------\u001b[0m",
      "\u001b[0;31mRuntimeError\u001b[0m                              Traceback (most recent call last)",
      "Cell \u001b[0;32mIn[138], line 1\u001b[0m\n\u001b[0;32m----> 1\u001b[0m \u001b[43mB\u001b[49m\u001b[43m \u001b[49m\u001b[38;5;241;43m+\u001b[39;49m\u001b[43m \u001b[49m\u001b[43mv2\u001b[49m\n",
      "\u001b[0;31mRuntimeError\u001b[0m: The size of tensor a (3) must match the size of tensor b (2) at non-singleton dimension 1"
     ]
    }
   ],
   "source": [
    "B + v2"
   ]
  },
  {
   "cell_type": "markdown",
   "metadata": {
    "id": "iabDzcLwOquY"
   },
   "source": [
    "This does not work.\n",
    "You should have run into the following error `RuntimeError: The size of tensor a (3) must match the size of tensor b (2) at non-singleton dimension 1.`\n",
    "\n",
    "Let's quickly parse this statement. `The size of tensor a`, i.e. `B`, `must match the size of tensor b`, i.e. `v2`, `at dimension 1`.\n",
    "`B.shape == (2, 3)` and `v2.shape == (2,)` and after Step 1 `v2.shape == (1, 2)`.\n",
    "Therefore, the value at `B`'s 1st dimension is `(3)` and the value at `v2`'s 1st dimension is `(2)`. Hence the error.\n",
    "\n",
    "We need to use an `.unsqueeze()` to fix the dimensions of `v2`. Fix the dimensions of `v2` below and validate you get the correct answer: $\\begin{array}{ccc} [[2 & 3 & 4]\\; \\\\ \\;[6 & 7 & 8]] \\end{array}$.\n"
   ]
  },
  {
   "cell_type": "code",
   "execution_count": 139,
   "metadata": {
    "id": "jn4VahMbOquY"
   },
   "outputs": [
    {
     "data": {
      "text/plain": [
       "tensor([[2, 3, 4],\n",
       "        [6, 7, 8]])"
      ]
     },
     "execution_count": 139,
     "metadata": {},
     "output_type": "execute_result"
    }
   ],
   "source": [
    "B + v2.unsqueeze(1)"
   ]
  },
  {
   "cell_type": "markdown",
   "metadata": {
    "id": "PQT7kSaWOquZ"
   },
   "source": [
    "### Multiplication Notation\n",
    "$A \\times x$ versus $Ax$\n",
    "\n",
    "When we use the notation $A \\times x$ we mean we are performing elementwise multiplication, and in Python it looks like `A * x`, but if we use notation $Ax$ we mean that we are performing matrix multiplication and in Python it looks like `A @ x`."
   ]
  },
  {
   "cell_type": "markdown",
   "metadata": {
    "id": "2_wRvZXaOquZ"
   },
   "source": [
    "### Broadcasting Quiz"
   ]
  },
  {
   "cell_type": "code",
   "execution_count": 140,
   "metadata": {
    "id": "6AiBkGtkOquZ"
   },
   "outputs": [],
   "source": [
    "a = torch.arange(2)\n",
    "b = torch.arange(4)"
   ]
  },
  {
   "cell_type": "markdown",
   "metadata": {
    "id": "y1gvO9idOquZ"
   },
   "source": [
    "Add `a` and `b` such that: $$\\begin{bmatrix} 0 \\\\ 1 \\end{bmatrix} + \\begin{bmatrix} 0 & 1 & 2 & 3 \\end{bmatrix} = \\begin{bmatrix}  0 & 1 & 2 & 3 \\\\ 1 & 2 & 3 & 4 \\end{bmatrix}$$"
   ]
  },
  {
   "cell_type": "code",
   "execution_count": 141,
   "metadata": {
    "id": "J-MZDqB3Oqua"
   },
   "outputs": [],
   "source": [
    "answer = b + a.view(2,1)\n",
    "\n",
    "assert torch.equal(answer, torch.tensor([[0, 1 , 2, 3], [1, 2, 3, 4]]))"
   ]
  },
  {
   "cell_type": "markdown",
   "metadata": {
    "id": "s9h9VXLLOqua"
   },
   "source": [
    "Change `b` into a 2x2 matrix (use `.view()`) multiply with `a` along `b`'s column dimension. $$\\begin{bmatrix} 0 & 1 \\\\ 2 & 3 \\end{bmatrix} * \\begin{bmatrix} 0 & 1 \\end{bmatrix} = \\begin{bmatrix} 0 & 1 \\\\ 0 & 3 \\end{bmatrix}$$"
   ]
  },
  {
   "cell_type": "code",
   "execution_count": 142,
   "metadata": {
    "id": "S5UwpLA7Oqua"
   },
   "outputs": [],
   "source": [
    "answer  = b.view(2,2) * a\n",
    "\n",
    "assert torch.equal(answer, torch.tensor([[0, 1], [0, 3]]))"
   ]
  },
  {
   "cell_type": "markdown",
   "metadata": {
    "id": "Um_34FbKOqua"
   },
   "source": [
    "Change `b` into a 2x2 matrix (use `.view()`) multiply with `a` along `b`'s row dimension. $$\\begin{bmatrix} 0 & 1 \\\\ 2 & 3 \\end{bmatrix} * \\begin{bmatrix} 0 \\\\ 1 \\end{bmatrix} = \\begin{bmatrix} 0 & 0 \\\\ 2 & 3 \\end{bmatrix}$$"
   ]
  },
  {
   "cell_type": "code",
   "execution_count": 143,
   "metadata": {
    "id": "jr99bcDnOqua"
   },
   "outputs": [],
   "source": [
    "answer = b.view(2,2) * a.view(2,1)\n",
    "\n",
    "assert torch.equal(answer, torch.tensor([[0, 0], [2, 3]]))"
   ]
  },
  {
   "cell_type": "markdown",
   "metadata": {
    "id": "9rQjWhvBOqua"
   },
   "source": [
    "Change `b` into a 2x2 matrix and matrix multiply `a` such that:  $$\\begin{bmatrix} 0 & 1 \\\\ 2 & 3 \\end{bmatrix} \\begin{bmatrix} 0 \\\\ 1 \\end{bmatrix} = \\begin{bmatrix} 1 \\\\ 3 \\end{bmatrix}$$"
   ]
  },
  {
   "cell_type": "code",
   "execution_count": 144,
   "metadata": {
    "id": "rfapMwiYOqua"
   },
   "outputs": [],
   "source": [
    "answer = b.view(2,2) @ a.view(2,1)\n",
    "\n",
    "assert torch.equal(answer, torch.tensor([[1], [3]]))"
   ]
  },
  {
   "cell_type": "code",
   "execution_count": 145,
   "metadata": {
    "id": "id5lWBlAOqua"
   },
   "outputs": [],
   "source": [
    "c = torch.zeros((1, 2))\n",
    "d = torch.zeros(3)"
   ]
  },
  {
   "cell_type": "markdown",
   "metadata": {
    "id": "pvzBZBBmOqua"
   },
   "source": [
    "Add `c` and `d` such that the resulting shape is (1, 3, 2)."
   ]
  },
  {
   "cell_type": "code",
   "execution_count": 146,
   "metadata": {
    "id": "YsaJmHhuOqua"
   },
   "outputs": [],
   "source": [
    "answer = c.view(1,2) + d.view(1,3,1)\n",
    "\n",
    "assert answer.shape == torch.Size([1, 3, 2])"
   ]
  },
  {
   "cell_type": "markdown",
   "metadata": {
    "id": "nLYejjkzOqub"
   },
   "source": [
    "---\n",
    "\n",
    "# Automatic Differentiation"
   ]
  },
  {
   "cell_type": "markdown",
   "metadata": {
    "id": "2OflsKQLOqub"
   },
   "source": [
    "PyTorch is a machine learning library that provides us with the ability to automatically differentiate (autodiff) functions. In this section we will explore how we can make use of PyTorch's autodiff functions.\n",
    "\n",
    "To help us understand a little more about how PyTorch performs autodiff, we are going to import the `make_dot()` function below"
   ]
  },
  {
   "cell_type": "code",
   "execution_count": 147,
   "metadata": {
    "id": "mtZIZnxhOquc"
   },
   "outputs": [
    {
     "name": "stdout",
     "output_type": "stream",
     "text": [
      "Requirement already satisfied: torchviz in /opt/miniconda3/lib/python3.12/site-packages (0.0.3)\n",
      "Requirement already satisfied: torch in /opt/miniconda3/lib/python3.12/site-packages (from torchviz) (2.5.1)\n",
      "Requirement already satisfied: graphviz in /opt/miniconda3/lib/python3.12/site-packages (from torchviz) (0.20.3)\n",
      "Requirement already satisfied: filelock in /opt/miniconda3/lib/python3.12/site-packages (from torch->torchviz) (3.16.1)\n",
      "Requirement already satisfied: typing-extensions>=4.8.0 in /opt/miniconda3/lib/python3.12/site-packages (from torch->torchviz) (4.12.2)\n",
      "Requirement already satisfied: networkx in /opt/miniconda3/lib/python3.12/site-packages (from torch->torchviz) (3.4.2)\n",
      "Requirement already satisfied: jinja2 in /opt/miniconda3/lib/python3.12/site-packages (from torch->torchviz) (3.1.4)\n",
      "Requirement already satisfied: fsspec in /opt/miniconda3/lib/python3.12/site-packages (from torch->torchviz) (2024.10.0)\n",
      "Requirement already satisfied: setuptools in /opt/miniconda3/lib/python3.12/site-packages (from torch->torchviz) (72.1.0)\n",
      "Requirement already satisfied: sympy==1.13.1 in /opt/miniconda3/lib/python3.12/site-packages (from torch->torchviz) (1.13.1)\n",
      "Requirement already satisfied: mpmath<1.4,>=1.1.0 in /opt/miniconda3/lib/python3.12/site-packages (from sympy==1.13.1->torch->torchviz) (1.3.0)\n",
      "Requirement already satisfied: MarkupSafe>=2.0 in /opt/miniconda3/lib/python3.12/site-packages (from jinja2->torch->torchviz) (3.0.2)\n"
     ]
    }
   ],
   "source": [
    "!pip install torchviz # `!` signifies a bash operation rather than Python\n",
    "from torchviz import make_dot"
   ]
  },
  {
   "cell_type": "markdown",
   "metadata": {
    "id": "hjbjg9omOquc"
   },
   "source": [
    "Let's make scalar tensor `x = torch.tensor(2)` to see how PyTorch works."
   ]
  },
  {
   "cell_type": "code",
   "execution_count": 148,
   "metadata": {
    "id": "CeWaetIbOquc"
   },
   "outputs": [],
   "source": [
    "x = torch.tensor(2)"
   ]
  },
  {
   "cell_type": "markdown",
   "metadata": {
    "id": "m9SHyEUtOquc"
   },
   "source": [
    "We have already talked about two important properties that a tensor has: `.shape` and `.dtype`.\n",
    "There are three more properties of a tensor we need to introduce: `.requires_grad`, `.grad`, and `.data`.\n",
    "Let's first look at whether `x` is using autograd by printing out `x.requires_grad` below."
   ]
  },
  {
   "cell_type": "code",
   "execution_count": 149,
   "metadata": {
    "id": "ANbn1k5QOqud"
   },
   "outputs": [
    {
     "data": {
      "text/plain": [
       "False"
      ]
     },
     "execution_count": 149,
     "metadata": {},
     "output_type": "execute_result"
    }
   ],
   "source": [
    "x.requires_grad"
   ]
  },
  {
   "cell_type": "markdown",
   "metadata": {
    "id": "bFMR8WZlOqud"
   },
   "source": [
    "By default tensors have `x.requires_grad` set to `False`, which means we will never calculate `x`'s gradients. Let's change that by setting `x.requires_grad` to `True`."
   ]
  },
  {
   "cell_type": "code",
   "execution_count": 150,
   "metadata": {
    "id": "bx2jeA_LOqud"
   },
   "outputs": [
    {
     "ename": "RuntimeError",
     "evalue": "only Tensors of floating point and complex dtype can require gradients",
     "output_type": "error",
     "traceback": [
      "\u001b[0;31m---------------------------------------------------------------------------\u001b[0m",
      "\u001b[0;31mRuntimeError\u001b[0m                              Traceback (most recent call last)",
      "Cell \u001b[0;32mIn[150], line 1\u001b[0m\n\u001b[0;32m----> 1\u001b[0m \u001b[43mx\u001b[49m\u001b[38;5;241;43m.\u001b[39;49m\u001b[43mrequires_grad\u001b[49m \u001b[38;5;241m=\u001b[39m \u001b[38;5;28;01mTrue\u001b[39;00m\n",
      "\u001b[0;31mRuntimeError\u001b[0m: only Tensors of floating point and complex dtype can require gradients"
     ]
    }
   ],
   "source": [
    "x.requires_grad = True"
   ]
  },
  {
   "cell_type": "markdown",
   "metadata": {
    "id": "L4_TNPhZOqud"
   },
   "source": [
    "You should run into `RuntimeError: only Tensors of floating point and complex dtype can require gradients.`\n",
    "We need to make `x` into a `torch.float32` tensor.\n",
    "Go ahead and call the `.float()` function (remember to update `x` with the output of `.float()`) and then set `x.requires_grad` to `True`."
   ]
  },
  {
   "cell_type": "code",
   "execution_count": 151,
   "metadata": {
    "id": "8XMMaB_iOqud"
   },
   "outputs": [],
   "source": [
    "x = x.float()\n",
    "x.requires_grad = True\n",
    "\n",
    "assert x.requires_grad == True"
   ]
  },
  {
   "cell_type": "markdown",
   "metadata": {
    "id": "N_29hn0FOque"
   },
   "source": [
    "Now print out `x.grad`"
   ]
  },
  {
   "cell_type": "code",
   "execution_count": 152,
   "metadata": {
    "id": "wUxuvcPhOque"
   },
   "outputs": [],
   "source": [
    "x.grad"
   ]
  },
  {
   "cell_type": "markdown",
   "metadata": {
    "id": "ADJg2DyoOque"
   },
   "source": [
    "`x` has no gradients right now because we haven't computed any derivatives.\n",
    "Let's fix that, create a simple function $y = 3x$, i.e. `y = 3*x`, and print out the value of `y`."
   ]
  },
  {
   "cell_type": "code",
   "execution_count": 153,
   "metadata": {
    "id": "m3V5-IcpOque"
   },
   "outputs": [
    {
     "data": {
      "text/plain": [
       "tensor(6., grad_fn=<MulBackward0>)"
      ]
     },
     "execution_count": 153,
     "metadata": {},
     "output_type": "execute_result"
    }
   ],
   "source": [
    "y = 3 * x\n",
    "y"
   ]
  },
  {
   "cell_type": "markdown",
   "metadata": {
    "id": "V9Q6au3dOque"
   },
   "source": [
    "Because $x = 2$ the output of $y = 3(2) = 6$.\n",
    "More than that though, there is a `grad_fn=<MulBackward0>` attached to our tensor.\n",
    "This gradient function is part of a computation graph, which is the history of operations that were necessary to compute `y`.\n",
    "PyTorch utilizes this computation graph to know how to compute the gradients of all tensors involved in making `y`."
   ]
  },
  {
   "cell_type": "markdown",
   "metadata": {
    "id": "k15Zqf4BOque"
   },
   "source": [
    "To visualize this computation graph, let's use the `make_dot()` function."
   ]
  },
  {
   "cell_type": "code",
   "execution_count": 154,
   "metadata": {
    "id": "8WXaj5jsOquf"
   },
   "outputs": [
    {
     "data": {
      "image/svg+xml": [
       "<?xml version=\"1.0\" encoding=\"UTF-8\" standalone=\"no\"?>\n",
       "<!DOCTYPE svg PUBLIC \"-//W3C//DTD SVG 1.1//EN\"\n",
       " \"http://www.w3.org/Graphics/SVG/1.1/DTD/svg11.dtd\">\n",
       "<!-- Generated by graphviz version 12.2.1 (20241206.2353)\n",
       " -->\n",
       "<!-- Pages: 1 -->\n",
       "<svg width=\"108pt\" height=\"225pt\"\n",
       " viewBox=\"0.00 0.00 108.00 224.50\" xmlns=\"http://www.w3.org/2000/svg\" xmlns:xlink=\"http://www.w3.org/1999/xlink\">\n",
       "<g id=\"graph0\" class=\"graph\" transform=\"scale(1 1) rotate(0) translate(4 220.5)\">\n",
       "<polygon fill=\"white\" stroke=\"none\" points=\"-4,4 -4,-220.5 104,-220.5 104,4 -4,4\"/>\n",
       "<!-- 5192258032 -->\n",
       "<g id=\"node1\" class=\"node\">\n",
       "<title>5192258032</title>\n",
       "<polygon fill=\"#caff70\" stroke=\"black\" points=\"77,-33.5 23,-33.5 23,0 77,0 77,-33.5\"/>\n",
       "<text text-anchor=\"middle\" x=\"50\" y=\"-20\" font-family=\"monospace\" font-size=\"10.00\">y</text>\n",
       "<text text-anchor=\"middle\" x=\"50\" y=\"-7.25\" font-family=\"monospace\" font-size=\"10.00\"> ()</text>\n",
       "</g>\n",
       "<!-- 6023486032 -->\n",
       "<g id=\"node2\" class=\"node\">\n",
       "<title>6023486032</title>\n",
       "<polygon fill=\"lightgrey\" stroke=\"black\" points=\"94,-90.25 6,-90.25 6,-69.5 94,-69.5 94,-90.25\"/>\n",
       "<text text-anchor=\"middle\" x=\"50\" y=\"-76.75\" font-family=\"monospace\" font-size=\"10.00\">MulBackward0</text>\n",
       "</g>\n",
       "<!-- 6023486032&#45;&gt;5192258032 -->\n",
       "<g id=\"edge3\" class=\"edge\">\n",
       "<title>6023486032&#45;&gt;5192258032</title>\n",
       "<path fill=\"none\" stroke=\"black\" d=\"M50,-69.05C50,-62.63 50,-53.9 50,-45.45\"/>\n",
       "<polygon fill=\"black\" stroke=\"black\" points=\"53.5,-45.5 50,-35.5 46.5,-45.5 53.5,-45.5\"/>\n",
       "</g>\n",
       "<!-- 6023486608 -->\n",
       "<g id=\"node3\" class=\"node\">\n",
       "<title>6023486608</title>\n",
       "<polygon fill=\"lightgrey\" stroke=\"black\" points=\"100,-147 0,-147 0,-126.25 100,-126.25 100,-147\"/>\n",
       "<text text-anchor=\"middle\" x=\"50\" y=\"-133.5\" font-family=\"monospace\" font-size=\"10.00\">AccumulateGrad</text>\n",
       "</g>\n",
       "<!-- 6023486608&#45;&gt;6023486032 -->\n",
       "<g id=\"edge1\" class=\"edge\">\n",
       "<title>6023486608&#45;&gt;6023486032</title>\n",
       "<path fill=\"none\" stroke=\"black\" d=\"M50,-125.84C50,-119.22 50,-110.22 50,-102.02\"/>\n",
       "<polygon fill=\"black\" stroke=\"black\" points=\"53.5,-102.09 50,-92.09 46.5,-102.09 53.5,-102.09\"/>\n",
       "</g>\n",
       "<!-- 4704294224 -->\n",
       "<g id=\"node4\" class=\"node\">\n",
       "<title>4704294224</title>\n",
       "<polygon fill=\"lightblue\" stroke=\"black\" points=\"77,-216.5 23,-216.5 23,-183 77,-183 77,-216.5\"/>\n",
       "<text text-anchor=\"middle\" x=\"50\" y=\"-203\" font-family=\"monospace\" font-size=\"10.00\">x</text>\n",
       "<text text-anchor=\"middle\" x=\"50\" y=\"-190.25\" font-family=\"monospace\" font-size=\"10.00\"> ()</text>\n",
       "</g>\n",
       "<!-- 4704294224&#45;&gt;6023486608 -->\n",
       "<g id=\"edge2\" class=\"edge\">\n",
       "<title>4704294224&#45;&gt;6023486608</title>\n",
       "<path fill=\"none\" stroke=\"black\" d=\"M50,-182.69C50,-175.35 50,-166.57 50,-158.71\"/>\n",
       "<polygon fill=\"black\" stroke=\"black\" points=\"53.5,-158.98 50,-148.98 46.5,-158.98 53.5,-158.98\"/>\n",
       "</g>\n",
       "</g>\n",
       "</svg>\n"
      ],
      "text/plain": [
       "<graphviz.graphs.Digraph at 0x166eb9b50>"
      ]
     },
     "execution_count": 154,
     "metadata": {},
     "output_type": "execute_result"
    }
   ],
   "source": [
    "make_dot(y, params={\"x\": x, \"y\": y})"
   ]
  },
  {
   "cell_type": "markdown",
   "metadata": {
    "id": "FyHEL0puOquf"
   },
   "source": [
    "Our computation graph starts with `x` fed into `AccumulatedGrad` (which we will discuss later), that is fed into `MulBackward0` which was the `grad_fn` attached to tensor `y`.\n",
    "`x` and `y` both have `()` underneath them specifying the shape of the tensors."
   ]
  },
  {
   "cell_type": "markdown",
   "metadata": {
    "id": "62mxG-xqOquf"
   },
   "source": [
    "Let's calculate the derivative of our function by calling `y.backward()`"
   ]
  },
  {
   "cell_type": "code",
   "execution_count": 155,
   "metadata": {
    "id": "-nZKw9j-Oquf"
   },
   "outputs": [],
   "source": [
    "y.backward()"
   ]
  },
  {
   "cell_type": "markdown",
   "metadata": {
    "id": "dYusyP1OOqug"
   },
   "source": [
    "We know that the derivative of our function $\\frac{dy}{dx} = \\frac{d}{dx} 3x = 3$. Print out `x.grad` to validate that PyTorch is working correctly."
   ]
  },
  {
   "cell_type": "code",
   "execution_count": 156,
   "metadata": {
    "id": "6m5JUIvtOquh"
   },
   "outputs": [
    {
     "data": {
      "text/plain": [
       "tensor(3.)"
      ]
     },
     "execution_count": 156,
     "metadata": {},
     "output_type": "execute_result"
    }
   ],
   "source": [
    "x.grad"
   ]
  },
  {
   "cell_type": "markdown",
   "metadata": {
    "id": "t_vModmQOquh"
   },
   "source": [
    "What happens if we call `y.backward()` again?"
   ]
  },
  {
   "cell_type": "code",
   "execution_count": 157,
   "metadata": {
    "id": "d5GqqRi8Oqui"
   },
   "outputs": [
    {
     "ename": "RuntimeError",
     "evalue": "Trying to backward through the graph a second time (or directly access saved tensors after they have already been freed). Saved intermediate values of the graph are freed when you call .backward() or autograd.grad(). Specify retain_graph=True if you need to backward through the graph a second time or if you need to access saved tensors after calling backward.",
     "output_type": "error",
     "traceback": [
      "\u001b[0;31m---------------------------------------------------------------------------\u001b[0m",
      "\u001b[0;31mRuntimeError\u001b[0m                              Traceback (most recent call last)",
      "Cell \u001b[0;32mIn[157], line 2\u001b[0m\n\u001b[1;32m      1\u001b[0m \u001b[38;5;66;03m# call y.backward() again\u001b[39;00m\n\u001b[0;32m----> 2\u001b[0m \u001b[43my\u001b[49m\u001b[38;5;241;43m.\u001b[39;49m\u001b[43mbackward\u001b[49m\u001b[43m(\u001b[49m\u001b[43m)\u001b[49m\n",
      "File \u001b[0;32m~/Projects/School/CS_474/.venv/lib/python3.11/site-packages/torch/_tensor.py:581\u001b[0m, in \u001b[0;36mTensor.backward\u001b[0;34m(self, gradient, retain_graph, create_graph, inputs)\u001b[0m\n\u001b[1;32m    571\u001b[0m \u001b[38;5;28;01mif\u001b[39;00m has_torch_function_unary(\u001b[38;5;28mself\u001b[39m):\n\u001b[1;32m    572\u001b[0m     \u001b[38;5;28;01mreturn\u001b[39;00m handle_torch_function(\n\u001b[1;32m    573\u001b[0m         Tensor\u001b[38;5;241m.\u001b[39mbackward,\n\u001b[1;32m    574\u001b[0m         (\u001b[38;5;28mself\u001b[39m,),\n\u001b[0;32m   (...)\u001b[0m\n\u001b[1;32m    579\u001b[0m         inputs\u001b[38;5;241m=\u001b[39minputs,\n\u001b[1;32m    580\u001b[0m     )\n\u001b[0;32m--> 581\u001b[0m \u001b[43mtorch\u001b[49m\u001b[38;5;241;43m.\u001b[39;49m\u001b[43mautograd\u001b[49m\u001b[38;5;241;43m.\u001b[39;49m\u001b[43mbackward\u001b[49m\u001b[43m(\u001b[49m\n\u001b[1;32m    582\u001b[0m \u001b[43m    \u001b[49m\u001b[38;5;28;43mself\u001b[39;49m\u001b[43m,\u001b[49m\u001b[43m \u001b[49m\u001b[43mgradient\u001b[49m\u001b[43m,\u001b[49m\u001b[43m \u001b[49m\u001b[43mretain_graph\u001b[49m\u001b[43m,\u001b[49m\u001b[43m \u001b[49m\u001b[43mcreate_graph\u001b[49m\u001b[43m,\u001b[49m\u001b[43m \u001b[49m\u001b[43minputs\u001b[49m\u001b[38;5;241;43m=\u001b[39;49m\u001b[43minputs\u001b[49m\n\u001b[1;32m    583\u001b[0m \u001b[43m\u001b[49m\u001b[43m)\u001b[49m\n",
      "File \u001b[0;32m~/Projects/School/CS_474/.venv/lib/python3.11/site-packages/torch/autograd/__init__.py:347\u001b[0m, in \u001b[0;36mbackward\u001b[0;34m(tensors, grad_tensors, retain_graph, create_graph, grad_variables, inputs)\u001b[0m\n\u001b[1;32m    342\u001b[0m     retain_graph \u001b[38;5;241m=\u001b[39m create_graph\n\u001b[1;32m    344\u001b[0m \u001b[38;5;66;03m# The reason we repeat the same comment below is that\u001b[39;00m\n\u001b[1;32m    345\u001b[0m \u001b[38;5;66;03m# some Python versions print out the first line of a multi-line function\u001b[39;00m\n\u001b[1;32m    346\u001b[0m \u001b[38;5;66;03m# calls in the traceback and some print out the last line\u001b[39;00m\n\u001b[0;32m--> 347\u001b[0m \u001b[43m_engine_run_backward\u001b[49m\u001b[43m(\u001b[49m\n\u001b[1;32m    348\u001b[0m \u001b[43m    \u001b[49m\u001b[43mtensors\u001b[49m\u001b[43m,\u001b[49m\n\u001b[1;32m    349\u001b[0m \u001b[43m    \u001b[49m\u001b[43mgrad_tensors_\u001b[49m\u001b[43m,\u001b[49m\n\u001b[1;32m    350\u001b[0m \u001b[43m    \u001b[49m\u001b[43mretain_graph\u001b[49m\u001b[43m,\u001b[49m\n\u001b[1;32m    351\u001b[0m \u001b[43m    \u001b[49m\u001b[43mcreate_graph\u001b[49m\u001b[43m,\u001b[49m\n\u001b[1;32m    352\u001b[0m \u001b[43m    \u001b[49m\u001b[43minputs\u001b[49m\u001b[43m,\u001b[49m\n\u001b[1;32m    353\u001b[0m \u001b[43m    \u001b[49m\u001b[43mallow_unreachable\u001b[49m\u001b[38;5;241;43m=\u001b[39;49m\u001b[38;5;28;43;01mTrue\u001b[39;49;00m\u001b[43m,\u001b[49m\n\u001b[1;32m    354\u001b[0m \u001b[43m    \u001b[49m\u001b[43maccumulate_grad\u001b[49m\u001b[38;5;241;43m=\u001b[39;49m\u001b[38;5;28;43;01mTrue\u001b[39;49;00m\u001b[43m,\u001b[49m\n\u001b[1;32m    355\u001b[0m \u001b[43m\u001b[49m\u001b[43m)\u001b[49m\n",
      "File \u001b[0;32m~/Projects/School/CS_474/.venv/lib/python3.11/site-packages/torch/autograd/graph.py:825\u001b[0m, in \u001b[0;36m_engine_run_backward\u001b[0;34m(t_outputs, *args, **kwargs)\u001b[0m\n\u001b[1;32m    823\u001b[0m     unregister_hooks \u001b[38;5;241m=\u001b[39m _register_logging_hooks_on_whole_graph(t_outputs)\n\u001b[1;32m    824\u001b[0m \u001b[38;5;28;01mtry\u001b[39;00m:\n\u001b[0;32m--> 825\u001b[0m     \u001b[38;5;28;01mreturn\u001b[39;00m \u001b[43mVariable\u001b[49m\u001b[38;5;241;43m.\u001b[39;49m\u001b[43m_execution_engine\u001b[49m\u001b[38;5;241;43m.\u001b[39;49m\u001b[43mrun_backward\u001b[49m\u001b[43m(\u001b[49m\u001b[43m  \u001b[49m\u001b[38;5;66;43;03m# Calls into the C++ engine to run the backward pass\u001b[39;49;00m\n\u001b[1;32m    826\u001b[0m \u001b[43m        \u001b[49m\u001b[43mt_outputs\u001b[49m\u001b[43m,\u001b[49m\u001b[43m \u001b[49m\u001b[38;5;241;43m*\u001b[39;49m\u001b[43margs\u001b[49m\u001b[43m,\u001b[49m\u001b[43m \u001b[49m\u001b[38;5;241;43m*\u001b[39;49m\u001b[38;5;241;43m*\u001b[39;49m\u001b[43mkwargs\u001b[49m\n\u001b[1;32m    827\u001b[0m \u001b[43m    \u001b[49m\u001b[43m)\u001b[49m  \u001b[38;5;66;03m# Calls into the C++ engine to run the backward pass\u001b[39;00m\n\u001b[1;32m    828\u001b[0m \u001b[38;5;28;01mfinally\u001b[39;00m:\n\u001b[1;32m    829\u001b[0m     \u001b[38;5;28;01mif\u001b[39;00m attach_logging_hooks:\n",
      "\u001b[0;31mRuntimeError\u001b[0m: Trying to backward through the graph a second time (or directly access saved tensors after they have already been freed). Saved intermediate values of the graph are freed when you call .backward() or autograd.grad(). Specify retain_graph=True if you need to backward through the graph a second time or if you need to access saved tensors after calling backward."
     ]
    }
   ],
   "source": [
    "# call y.backward() again\n",
    "y.backward()"
   ]
  },
  {
   "cell_type": "markdown",
   "metadata": {
    "id": "8aZIebkoOqui"
   },
   "source": [
    "You should run into a `RuntimeError: Trying to backward through the graph a second time ...` because PyTorch frees up certain resources required to compute gradients once `.backward()` is called.\n",
    "You can call `y.backward()` multiple times if you always specify `y.backward(retain_graph=True)`, but you should never do that in this class.\n",
    "If you run into this error hereafter, you most likely made a mistake."
   ]
  },
  {
   "cell_type": "markdown",
   "metadata": {
    "id": "MfPtCAKDOquj"
   },
   "source": [
    "Let's compute the derivative of $y = 3x$ again.\n",
    "This time compute `y = 3*x` first and then call `y.backward()`"
   ]
  },
  {
   "cell_type": "code",
   "execution_count": 158,
   "metadata": {
    "id": "5VJoC2atOquj"
   },
   "outputs": [],
   "source": [
    "y = 3 * x\n",
    "y.backward()"
   ]
  },
  {
   "cell_type": "markdown",
   "metadata": {
    "id": "GuIZWe0LOquj"
   },
   "source": [
    "Now print out `x.grad`"
   ]
  },
  {
   "cell_type": "code",
   "execution_count": 159,
   "metadata": {
    "id": "AaLApCvAOquj"
   },
   "outputs": [
    {
     "data": {
      "text/plain": [
       "tensor(6.)"
      ]
     },
     "execution_count": 159,
     "metadata": {},
     "output_type": "execute_result"
    }
   ],
   "source": [
    "x.grad"
   ]
  },
  {
   "cell_type": "markdown",
   "metadata": {
    "id": "f4mMJAs_Oquk"
   },
   "source": [
    "**6?** Wasn't the derivative of $3x$ equal to 3? This occurred because PyTorch accumulates the gradients every time you call `.backward()`. Because `x.grad` was previously 3 and this new gradient is 3, then `x.grad` is now equal to 6.\n",
    "This is what `AccumulatedGrad` meant on the computation graph.\n",
    "To avoid your gradients from accumulating set `x.grad = None` (we call this zeroing out the gradients)."
   ]
  },
  {
   "cell_type": "code",
   "execution_count": 160,
   "metadata": {
    "id": "cjq_hMW_Oquk"
   },
   "outputs": [],
   "source": [
    "x.grad = None"
   ]
  },
  {
   "cell_type": "markdown",
   "metadata": {
    "id": "x4v-1jmUOquk"
   },
   "source": [
    "Now set `y = 3*x`, call `y.backward()`, and print out `x.grad` and validate that it equals 3."
   ]
  },
  {
   "cell_type": "code",
   "execution_count": 161,
   "metadata": {
    "id": "jArU10_COquk"
   },
   "outputs": [
    {
     "data": {
      "text/plain": [
       "tensor(3.)"
      ]
     },
     "execution_count": 161,
     "metadata": {},
     "output_type": "execute_result"
    }
   ],
   "source": [
    "y = 3 * x\n",
    "y.backward()\n",
    "x.grad"
   ]
  },
  {
   "cell_type": "markdown",
   "metadata": {
    "id": "Z2ZsLY0VOqul"
   },
   "source": [
    "What about $x^2$? Set $y = x^2$, i.e. `y = x**2` and print out `y`."
   ]
  },
  {
   "cell_type": "code",
   "execution_count": 162,
   "metadata": {
    "id": "mFnct0ITOqul"
   },
   "outputs": [
    {
     "data": {
      "text/plain": [
       "tensor(4., grad_fn=<PowBackward0>)"
      ]
     },
     "execution_count": 162,
     "metadata": {},
     "output_type": "execute_result"
    }
   ],
   "source": [
    "y = x ** 2\n",
    "y"
   ]
  },
  {
   "cell_type": "markdown",
   "metadata": {
    "id": "VQgyQnz0Oqul"
   },
   "source": [
    "Because `x = 2` the output of $y = (2)^2 = 4$ and as before we have a `grad_fn=<PowBackward0>` attached to our tensor.\n",
    "\n",
    "Now let's visualize the computation graph."
   ]
  },
  {
   "cell_type": "code",
   "execution_count": 163,
   "metadata": {
    "id": "vfjybVclOqul"
   },
   "outputs": [
    {
     "data": {
      "image/svg+xml": [
       "<?xml version=\"1.0\" encoding=\"UTF-8\" standalone=\"no\"?>\n",
       "<!DOCTYPE svg PUBLIC \"-//W3C//DTD SVG 1.1//EN\"\n",
       " \"http://www.w3.org/Graphics/SVG/1.1/DTD/svg11.dtd\">\n",
       "<!-- Generated by graphviz version 12.2.1 (20241206.2353)\n",
       " -->\n",
       "<!-- Pages: 1 -->\n",
       "<svg width=\"168pt\" height=\"263pt\"\n",
       " viewBox=\"0.00 0.00 168.00 262.75\" xmlns=\"http://www.w3.org/2000/svg\" xmlns:xlink=\"http://www.w3.org/1999/xlink\">\n",
       "<g id=\"graph0\" class=\"graph\" transform=\"scale(1 1) rotate(0) translate(4 258.75)\">\n",
       "<polygon fill=\"white\" stroke=\"none\" points=\"-4,4 -4,-258.75 164,-258.75 164,4 -4,4\"/>\n",
       "<!-- 4704302480 -->\n",
       "<g id=\"node1\" class=\"node\">\n",
       "<title>4704302480</title>\n",
       "<polygon fill=\"#caff70\" stroke=\"black\" points=\"107,-33.5 53,-33.5 53,0 107,0 107,-33.5\"/>\n",
       "<text text-anchor=\"middle\" x=\"80\" y=\"-20\" font-family=\"monospace\" font-size=\"10.00\">y</text>\n",
       "<text text-anchor=\"middle\" x=\"80\" y=\"-7.25\" font-family=\"monospace\" font-size=\"10.00\"> ()</text>\n",
       "</g>\n",
       "<!-- 6028757312 -->\n",
       "<g id=\"node2\" class=\"node\">\n",
       "<title>6028757312</title>\n",
       "<polygon fill=\"lightgrey\" stroke=\"black\" points=\"160,-128.5 0,-128.5 0,-69.5 160,-69.5 160,-128.5\"/>\n",
       "<text text-anchor=\"middle\" x=\"80\" y=\"-115\" font-family=\"monospace\" font-size=\"10.00\">PowBackward0</text>\n",
       "<text text-anchor=\"middle\" x=\"80\" y=\"-102.25\" font-family=\"monospace\" font-size=\"10.00\">&#45;&#45;&#45;&#45;&#45;&#45;&#45;&#45;&#45;&#45;&#45;&#45;&#45;&#45;&#45;&#45;&#45;&#45;&#45;&#45;&#45;&#45;&#45;&#45;</text>\n",
       "<text text-anchor=\"middle\" x=\"80\" y=\"-89.5\" font-family=\"monospace\" font-size=\"10.00\">exponent: &#160;&#160;&#160;&#160;&#160;&#160;&#160;&#160;&#160;&#160;&#160;&#160;&#160;2</text>\n",
       "<text text-anchor=\"middle\" x=\"80\" y=\"-76.75\" font-family=\"monospace\" font-size=\"10.00\">self &#160;&#160;&#160;: [saved tensor]</text>\n",
       "</g>\n",
       "<!-- 6028757312&#45;&gt;4704302480 -->\n",
       "<g id=\"edge3\" class=\"edge\">\n",
       "<title>6028757312&#45;&gt;4704302480</title>\n",
       "<path fill=\"none\" stroke=\"black\" d=\"M80,-69.03C80,-61.25 80,-52.86 80,-45.17\"/>\n",
       "<polygon fill=\"black\" stroke=\"black\" points=\"83.5,-45.36 80,-35.36 76.5,-45.36 83.5,-45.36\"/>\n",
       "</g>\n",
       "<!-- 6028764416 -->\n",
       "<g id=\"node3\" class=\"node\">\n",
       "<title>6028764416</title>\n",
       "<polygon fill=\"lightgrey\" stroke=\"black\" points=\"130,-185.25 30,-185.25 30,-164.5 130,-164.5 130,-185.25\"/>\n",
       "<text text-anchor=\"middle\" x=\"80\" y=\"-171.75\" font-family=\"monospace\" font-size=\"10.00\">AccumulateGrad</text>\n",
       "</g>\n",
       "<!-- 6028764416&#45;&gt;6028757312 -->\n",
       "<g id=\"edge1\" class=\"edge\">\n",
       "<title>6028764416&#45;&gt;6028757312</title>\n",
       "<path fill=\"none\" stroke=\"black\" d=\"M80,-164.22C80,-157.89 80,-149.16 80,-140.16\"/>\n",
       "<polygon fill=\"black\" stroke=\"black\" points=\"83.5,-140.31 80,-130.31 76.5,-140.31 83.5,-140.31\"/>\n",
       "</g>\n",
       "<!-- 4704294224 -->\n",
       "<g id=\"node4\" class=\"node\">\n",
       "<title>4704294224</title>\n",
       "<polygon fill=\"lightblue\" stroke=\"black\" points=\"107,-254.75 53,-254.75 53,-221.25 107,-221.25 107,-254.75\"/>\n",
       "<text text-anchor=\"middle\" x=\"80\" y=\"-241.25\" font-family=\"monospace\" font-size=\"10.00\">x</text>\n",
       "<text text-anchor=\"middle\" x=\"80\" y=\"-228.5\" font-family=\"monospace\" font-size=\"10.00\"> ()</text>\n",
       "</g>\n",
       "<!-- 4704294224&#45;&gt;6028764416 -->\n",
       "<g id=\"edge2\" class=\"edge\">\n",
       "<title>4704294224&#45;&gt;6028764416</title>\n",
       "<path fill=\"none\" stroke=\"black\" d=\"M80,-220.94C80,-213.6 80,-204.82 80,-196.96\"/>\n",
       "<polygon fill=\"black\" stroke=\"black\" points=\"83.5,-197.23 80,-187.23 76.5,-197.23 83.5,-197.23\"/>\n",
       "</g>\n",
       "</g>\n",
       "</svg>\n"
      ],
      "text/plain": [
       "<graphviz.graphs.Digraph at 0x1180844d0>"
      ]
     },
     "execution_count": 163,
     "metadata": {},
     "output_type": "execute_result"
    }
   ],
   "source": [
    "make_dot(y, params={\"y\": y, \"x\": x}, show_attrs=True)"
   ]
  },
  {
   "cell_type": "markdown",
   "metadata": {
    "id": "VFyy3fWiOqum"
   },
   "source": [
    "We specified `show_attrs=True` this time and we see in `PowBackward0` the exponent that was used stored in the computation graph.\n",
    "\n",
    "Let's calculate the derivative of of our function by calling `y.backward()` and don't forget to zero out your gradient first, i.e. `x.grad = None`."
   ]
  },
  {
   "cell_type": "code",
   "execution_count": 164,
   "metadata": {
    "id": "pCbQA0v7Oqum"
   },
   "outputs": [],
   "source": [
    "x.grad = None\n",
    "y.backward()"
   ]
  },
  {
   "cell_type": "markdown",
   "metadata": {
    "id": "HdllcOLFOqum"
   },
   "source": [
    "We know that the derivative of our function $\\frac{dy}{dx} = \\frac{d}{dx} x^2 = 2x = 2(2) = 4$, print out `x.grad` to validate."
   ]
  },
  {
   "cell_type": "code",
   "execution_count": 165,
   "metadata": {
    "id": "ssbw-m_yOqum"
   },
   "outputs": [
    {
     "data": {
      "text/plain": [
       "tensor(4.)"
      ]
     },
     "execution_count": 165,
     "metadata": {},
     "output_type": "execute_result"
    }
   ],
   "source": [
    "x.grad"
   ]
  },
  {
   "cell_type": "markdown",
   "metadata": {
    "id": "fMpRkApcOqum"
   },
   "source": [
    "Now let's calculate a multivariable derivative $a^2 (x+1)^2$.\n",
    "\n",
    "Create a scalar tensor `a` with a value of 2 and a scalar tensor `x` with a value of 3.\n",
    "Make sure both have `.requires_grad` set to `True`."
   ]
  },
  {
   "cell_type": "code",
   "execution_count": 166,
   "metadata": {
    "id": "BQeX6yDxOqum"
   },
   "outputs": [],
   "source": [
    "a = torch.tensor([2]).float()\n",
    "x = torch.tensor([3]).float()\n",
    "\n",
    "a.requires_grad = True\n",
    "x.requires_grad = True"
   ]
  },
  {
   "cell_type": "markdown",
   "metadata": {
    "id": "LHt24ZOUOqun"
   },
   "source": [
    "Now set $y = a^2(x+1)^2$ and print out `y`. Validate that $y = a^2(x+1)^2 = (2)^2 * ((3) + 1)^2 = 4 * 4^2 = 64$."
   ]
  },
  {
   "cell_type": "code",
   "execution_count": 167,
   "metadata": {
    "id": "TpiYuTO6Oqun"
   },
   "outputs": [
    {
     "data": {
      "text/plain": [
       "tensor([64.], grad_fn=<MulBackward0>)"
      ]
     },
     "execution_count": 167,
     "metadata": {},
     "output_type": "execute_result"
    }
   ],
   "source": [
    "y = (a**2) * (x+1)**2\n",
    "y"
   ]
  },
  {
   "cell_type": "markdown",
   "metadata": {
    "id": "fTXm2v0AOqun"
   },
   "source": [
    "Now let's look at the computation graph."
   ]
  },
  {
   "cell_type": "code",
   "execution_count": 168,
   "metadata": {
    "id": "7s_5hXbDOqun"
   },
   "outputs": [
    {
     "data": {
      "image/svg+xml": [
       "<?xml version=\"1.0\" encoding=\"UTF-8\" standalone=\"no\"?>\n",
       "<!DOCTYPE svg PUBLIC \"-//W3C//DTD SVG 1.1//EN\"\n",
       " \"http://www.w3.org/Graphics/SVG/1.1/DTD/svg11.dtd\">\n",
       "<!-- Generated by graphviz version 12.2.1 (20241206.2353)\n",
       " -->\n",
       "<!-- Pages: 1 -->\n",
       "<svg width=\"220pt\" height=\"351pt\"\n",
       " viewBox=\"0.00 0.00 220.00 350.75\" xmlns=\"http://www.w3.org/2000/svg\" xmlns:xlink=\"http://www.w3.org/1999/xlink\">\n",
       "<g id=\"graph0\" class=\"graph\" transform=\"scale(1 1) rotate(0) translate(4 346.75)\">\n",
       "<polygon fill=\"white\" stroke=\"none\" points=\"-4,4 -4,-346.75 216,-346.75 216,4 -4,4\"/>\n",
       "<!-- 4703583024 -->\n",
       "<g id=\"node1\" class=\"node\">\n",
       "<title>4703583024</title>\n",
       "<polygon fill=\"#caff70\" stroke=\"black\" points=\"133,-33.5 79,-33.5 79,0 133,0 133,-33.5\"/>\n",
       "<text text-anchor=\"middle\" x=\"106\" y=\"-20\" font-family=\"monospace\" font-size=\"10.00\">y</text>\n",
       "<text text-anchor=\"middle\" x=\"106\" y=\"-7.25\" font-family=\"monospace\" font-size=\"10.00\"> (1)</text>\n",
       "</g>\n",
       "<!-- 6028767344 -->\n",
       "<g id=\"node2\" class=\"node\">\n",
       "<title>6028767344</title>\n",
       "<polygon fill=\"lightgrey\" stroke=\"black\" points=\"150,-90.25 62,-90.25 62,-69.5 150,-69.5 150,-90.25\"/>\n",
       "<text text-anchor=\"middle\" x=\"106\" y=\"-76.75\" font-family=\"monospace\" font-size=\"10.00\">MulBackward0</text>\n",
       "</g>\n",
       "<!-- 6028767344&#45;&gt;4703583024 -->\n",
       "<g id=\"edge8\" class=\"edge\">\n",
       "<title>6028767344&#45;&gt;4703583024</title>\n",
       "<path fill=\"none\" stroke=\"black\" d=\"M106,-69.05C106,-62.63 106,-53.9 106,-45.45\"/>\n",
       "<polygon fill=\"black\" stroke=\"black\" points=\"109.5,-45.5 106,-35.5 102.5,-45.5 109.5,-45.5\"/>\n",
       "</g>\n",
       "<!-- 6028764272 -->\n",
       "<g id=\"node3\" class=\"node\">\n",
       "<title>6028764272</title>\n",
       "<polygon fill=\"lightgrey\" stroke=\"black\" points=\"97,-147 9,-147 9,-126.25 97,-126.25 97,-147\"/>\n",
       "<text text-anchor=\"middle\" x=\"53\" y=\"-133.5\" font-family=\"monospace\" font-size=\"10.00\">PowBackward0</text>\n",
       "</g>\n",
       "<!-- 6028764272&#45;&gt;6028767344 -->\n",
       "<g id=\"edge1\" class=\"edge\">\n",
       "<title>6028764272&#45;&gt;6028767344</title>\n",
       "<path fill=\"none\" stroke=\"black\" d=\"M62.48,-125.84C69.79,-118.28 80.09,-107.64 88.84,-98.6\"/>\n",
       "<polygon fill=\"black\" stroke=\"black\" points=\"91.11,-101.29 95.55,-91.67 86.08,-96.42 91.11,-101.29\"/>\n",
       "</g>\n",
       "<!-- 6028769264 -->\n",
       "<g id=\"node4\" class=\"node\">\n",
       "<title>6028769264</title>\n",
       "<polygon fill=\"lightgrey\" stroke=\"black\" points=\"100,-203.75 0,-203.75 0,-183 100,-183 100,-203.75\"/>\n",
       "<text text-anchor=\"middle\" x=\"50\" y=\"-190.25\" font-family=\"monospace\" font-size=\"10.00\">AccumulateGrad</text>\n",
       "</g>\n",
       "<!-- 6028769264&#45;&gt;6028764272 -->\n",
       "<g id=\"edge2\" class=\"edge\">\n",
       "<title>6028769264&#45;&gt;6028764272</title>\n",
       "<path fill=\"none\" stroke=\"black\" d=\"M50.54,-182.59C50.9,-175.97 51.39,-166.97 51.84,-158.77\"/>\n",
       "<polygon fill=\"black\" stroke=\"black\" points=\"55.33,-159.02 52.39,-148.84 48.34,-158.63 55.33,-159.02\"/>\n",
       "</g>\n",
       "<!-- 4703584176 -->\n",
       "<g id=\"node5\" class=\"node\">\n",
       "<title>4703584176</title>\n",
       "<polygon fill=\"lightblue\" stroke=\"black\" points=\"77,-273.25 23,-273.25 23,-239.75 77,-239.75 77,-273.25\"/>\n",
       "<text text-anchor=\"middle\" x=\"50\" y=\"-259.75\" font-family=\"monospace\" font-size=\"10.00\">a</text>\n",
       "<text text-anchor=\"middle\" x=\"50\" y=\"-247\" font-family=\"monospace\" font-size=\"10.00\"> (1)</text>\n",
       "</g>\n",
       "<!-- 4703584176&#45;&gt;6028769264 -->\n",
       "<g id=\"edge3\" class=\"edge\">\n",
       "<title>4703584176&#45;&gt;6028769264</title>\n",
       "<path fill=\"none\" stroke=\"black\" d=\"M50,-239.44C50,-232.1 50,-223.32 50,-215.46\"/>\n",
       "<polygon fill=\"black\" stroke=\"black\" points=\"53.5,-215.73 50,-205.73 46.5,-215.73 53.5,-215.73\"/>\n",
       "</g>\n",
       "<!-- 6028762688 -->\n",
       "<g id=\"node6\" class=\"node\">\n",
       "<title>6028762688</title>\n",
       "<polygon fill=\"lightgrey\" stroke=\"black\" points=\"204,-147 116,-147 116,-126.25 204,-126.25 204,-147\"/>\n",
       "<text text-anchor=\"middle\" x=\"160\" y=\"-133.5\" font-family=\"monospace\" font-size=\"10.00\">PowBackward0</text>\n",
       "</g>\n",
       "<!-- 6028762688&#45;&gt;6028767344 -->\n",
       "<g id=\"edge4\" class=\"edge\">\n",
       "<title>6028762688&#45;&gt;6028767344</title>\n",
       "<path fill=\"none\" stroke=\"black\" d=\"M150.35,-125.84C142.9,-118.28 132.39,-107.64 123.48,-98.6\"/>\n",
       "<polygon fill=\"black\" stroke=\"black\" points=\"126.15,-96.32 116.63,-91.66 121.16,-101.23 126.15,-96.32\"/>\n",
       "</g>\n",
       "<!-- 6028757936 -->\n",
       "<g id=\"node7\" class=\"node\">\n",
       "<title>6028757936</title>\n",
       "<polygon fill=\"lightgrey\" stroke=\"black\" points=\"206,-203.75 118,-203.75 118,-183 206,-183 206,-203.75\"/>\n",
       "<text text-anchor=\"middle\" x=\"162\" y=\"-190.25\" font-family=\"monospace\" font-size=\"10.00\">AddBackward0</text>\n",
       "</g>\n",
       "<!-- 6028757936&#45;&gt;6028762688 -->\n",
       "<g id=\"edge5\" class=\"edge\">\n",
       "<title>6028757936&#45;&gt;6028762688</title>\n",
       "<path fill=\"none\" stroke=\"black\" d=\"M161.64,-182.59C161.4,-175.97 161.07,-166.97 160.77,-158.77\"/>\n",
       "<polygon fill=\"black\" stroke=\"black\" points=\"164.27,-158.71 160.41,-148.84 157.28,-158.96 164.27,-158.71\"/>\n",
       "</g>\n",
       "<!-- 6028758848 -->\n",
       "<g id=\"node8\" class=\"node\">\n",
       "<title>6028758848</title>\n",
       "<polygon fill=\"lightgrey\" stroke=\"black\" points=\"212,-266.88 112,-266.88 112,-246.12 212,-246.12 212,-266.88\"/>\n",
       "<text text-anchor=\"middle\" x=\"162\" y=\"-253.38\" font-family=\"monospace\" font-size=\"10.00\">AccumulateGrad</text>\n",
       "</g>\n",
       "<!-- 6028758848&#45;&gt;6028757936 -->\n",
       "<g id=\"edge6\" class=\"edge\">\n",
       "<title>6028758848&#45;&gt;6028757936</title>\n",
       "<path fill=\"none\" stroke=\"black\" d=\"M162,-245.68C162,-237.52 162,-225.63 162,-215.35\"/>\n",
       "<polygon fill=\"black\" stroke=\"black\" points=\"165.5,-215.48 162,-205.48 158.5,-215.48 165.5,-215.48\"/>\n",
       "</g>\n",
       "<!-- 4703581968 -->\n",
       "<g id=\"node9\" class=\"node\">\n",
       "<title>4703581968</title>\n",
       "<polygon fill=\"lightblue\" stroke=\"black\" points=\"189,-342.75 135,-342.75 135,-309.25 189,-309.25 189,-342.75\"/>\n",
       "<text text-anchor=\"middle\" x=\"162\" y=\"-329.25\" font-family=\"monospace\" font-size=\"10.00\">x</text>\n",
       "<text text-anchor=\"middle\" x=\"162\" y=\"-316.5\" font-family=\"monospace\" font-size=\"10.00\"> (1)</text>\n",
       "</g>\n",
       "<!-- 4703581968&#45;&gt;6028758848 -->\n",
       "<g id=\"edge7\" class=\"edge\">\n",
       "<title>4703581968&#45;&gt;6028758848</title>\n",
       "<path fill=\"none\" stroke=\"black\" d=\"M162,-309C162,-299.9 162,-288.39 162,-278.57\"/>\n",
       "<polygon fill=\"black\" stroke=\"black\" points=\"165.5,-278.84 162,-268.84 158.5,-278.84 165.5,-278.84\"/>\n",
       "</g>\n",
       "</g>\n",
       "</svg>\n"
      ],
      "text/plain": [
       "<graphviz.graphs.Digraph at 0x118a57610>"
      ]
     },
     "execution_count": 168,
     "metadata": {},
     "output_type": "execute_result"
    }
   ],
   "source": [
    "make_dot(y, params={\"a\": a, \"x\": x, \"y\": y})"
   ]
  },
  {
   "cell_type": "markdown",
   "metadata": {
    "id": "yz7GFzLsOquo"
   },
   "source": [
    "Now call `y.backward()` and validate that\n",
    "\n",
    "$\\frac{dy}{dx} = \\frac{d}{dx} a^2(x+1)^2 = 2a^2(x+1) = 2(2)^2(3 + 1) = 32$\n",
    "\n",
    "$\\frac{dy}{da} = \\frac{d}{da} a^2(x+1)^2 = 2a(x+1)^2 = 2(2)(3 + 1)^2 = 64$\n",
    "\n",
    "by printing `x.grad` and `a.grad`"
   ]
  },
  {
   "cell_type": "code",
   "execution_count": 169,
   "metadata": {
    "id": "5gvfw3FDOquo"
   },
   "outputs": [
    {
     "data": {
      "text/plain": [
       "(tensor([32.]), tensor([64.]))"
      ]
     },
     "execution_count": 169,
     "metadata": {},
     "output_type": "execute_result"
    }
   ],
   "source": [
    "x.grad = None\n",
    "y.backward()\n",
    "x.grad, a.grad"
   ]
  },
  {
   "cell_type": "markdown",
   "metadata": {
    "id": "GY0Y3O7MOqup"
   },
   "source": [
    "Hopefully, it is clear that there all all kinds of functions you could put in that can be differentiated by PyTorch.\n",
    "Let's now work with vector and matrix differentiation.\n",
    "\n",
    "Define two new tensors:\n",
    "- `A` with data `[[0, 1, 2], [3, 4, 5]]` with `requires_grad = True`\n",
    "- `x` with data `[-1, 0, 1]` with `requires_grad = True`"
   ]
  },
  {
   "cell_type": "code",
   "execution_count": 170,
   "metadata": {
    "id": "U6DfRbIbOqup"
   },
   "outputs": [],
   "source": [
    "A = torch.tensor([[0,1,2,], [3,4,5]]).float()\n",
    "x = torch.tensor([-1,0,1]).float()\n",
    "\n",
    "A.requires_grad = True\n",
    "x.requires_grad = True"
   ]
  },
  {
   "cell_type": "markdown",
   "metadata": {
    "id": "lafdsEDrOqup"
   },
   "source": [
    "Now set $y = (Ax)^2$ and print out `y`. Validate that the output $y = (Ax)^2 = \\left( \\begin{bmatrix} 0 & 1 & 2 \\\\ 3 & 4 & 5 \\end{bmatrix} \\begin{bmatrix} -1 \\\\ 0 \\\\ 1 \\end{bmatrix} \\right)^2 = \\left( \\begin{bmatrix} 2 \\\\ 2 \\end{bmatrix} \\right)^2 = \\begin{bmatrix} 2^2 \\\\ 2^2 \\end{bmatrix} = \\begin{bmatrix} 4 \\\\ 4 \\end{bmatrix}$"
   ]
  },
  {
   "cell_type": "code",
   "execution_count": 171,
   "metadata": {
    "id": "-fnnMcYnOquq"
   },
   "outputs": [
    {
     "data": {
      "text/plain": [
       "tensor([4., 4.], grad_fn=<PowBackward0>)"
      ]
     },
     "execution_count": 171,
     "metadata": {},
     "output_type": "execute_result"
    }
   ],
   "source": [
    "y = (A@x)**2\n",
    "y"
   ]
  },
  {
   "cell_type": "markdown",
   "metadata": {
    "id": "By-pWDfcOquq"
   },
   "source": [
    "Now the \"derivative\" we are computing here is called the Jacobian, because $y$ is a vector-valued function. The Jacobian contains the derivative of every output, $y_i$, with respect to every input, $x_j$. Therefore, the Jacobian of $y$ with respect to $x$ is:\n",
    "\n",
    "$\\begin{aligned}\n",
    "J_y = \\begin{bmatrix} \\frac{\\partial y_1}{\\partial x_1} & \\frac{\\partial y_1}{\\partial x_2} & \\frac{\\partial y_1}{\\partial x_3} \\\\ \\frac{\\partial y_2}{\\partial x_1} & \\frac{\\partial y_2}{\\partial x_2} & \\frac{\\partial y_2}{\\partial x_3} \\end{bmatrix} = \\frac{\\partial y}{\\partial x} &= \\frac{\\partial}{\\partial x} \\left( \\begin{bmatrix} A_{11} & A_{12} & A_{13} \\\\ A_{21} & A_{22} & A_{23} \\end{bmatrix} \\begin{bmatrix} x_1 \\\\ x_2 \\\\ x_3 \\end{bmatrix} \\right)^2 \\\\\n",
    "    &= \\frac{\\partial}{\\partial x} \\left( \\begin{bmatrix} A_{11}x_1 + A_{12}x_2 + A_{13}x_3 \\\\ A_{21}x_1 + A_{22}x_2 + A_{23}x_3 \\end{bmatrix} \\right)^2 \\\\\n",
    "    &= \\frac{\\partial}{\\partial x} \\begin{bmatrix} (A_{11}x_1 + A_{12}x_2 + A_{13}x_3)^2 \\\\ (A_{21}x_1 + A_{22}x_2 + A_{23}x_3)^2 \\end{bmatrix} \\\\\n",
    "    &= \\begin{bmatrix} \\frac{\\partial}{\\partial x} (A_{11}x_1 + A_{12}x_2 + A_{13}x_3)^2 \\\\ \\frac{\\partial}{\\partial x} (A_{21}x_1 + A_{22}x_2 + A_{23}x_3)^2 \\end{bmatrix} \\\\\n",
    "    &= \\begin{bmatrix} \\frac{\\partial}{\\partial x_1} (A_{11}x_1 + A_{12}x_2 + A_{13}x_3)^2 & \\frac{\\partial}{\\partial x_2} (A_{11}x_1 + A_{12}x_2 + A_{13}x_3)^2 & \\frac{\\partial}{\\partial x_3} (A_{11}x_1 + A_{12}x_2 + A_{13}x_3)^2  \\\\ \\frac{\\partial}{\\partial x_1} (A_{21}x_1 + A_{22}x_2 + A_{23}x_3)^2 & \\frac{\\partial}{\\partial x_2} (A_{21}x_1 + A_{22}x_2 + A_{23}x_3)^2 & \\frac{\\partial}{\\partial x_3} (A_{21}x_1 + A_{22}x_2 + A_{23}x_3)^2 \\end{bmatrix} \\\\\n",
    "    &= \\begin{bmatrix} 2A_{11}(A_{11}x_1 + A_{12}x_2 + A_{13}x_3) & 2A_{12}(A_{11}x_1 + A_{12}x_2 + A_{13}x_3) & 2A_{13}(A_{11}x_1 + A_{12}x_2 + A_{13}x_3)  \\\\ 2A_{21}(A_{21}x_1 + A_{22}x_2 + A_{23}x_3) & 2A_{22}(A_{21}x_1 + A_{22}x_2 + A_{23}x_3) & 2A_{23}(A_{21}x_1 + A_{22}x_2 + A_{23}x_3) \\end{bmatrix} \\\\\n",
    "    &= \\begin{bmatrix} 0 & 4 & 8  \\\\ 12 & 16 & 20 \\end{bmatrix}\n",
    "\\end{aligned}$\n",
    "\n",
    "Now call `y.backward()`."
   ]
  },
  {
   "cell_type": "code",
   "execution_count": 172,
   "metadata": {
    "id": "7KtI2BIYOquq"
   },
   "outputs": [
    {
     "ename": "RuntimeError",
     "evalue": "grad can be implicitly created only for scalar outputs",
     "output_type": "error",
     "traceback": [
      "\u001b[0;31m---------------------------------------------------------------------------\u001b[0m",
      "\u001b[0;31mRuntimeError\u001b[0m                              Traceback (most recent call last)",
      "Cell \u001b[0;32mIn[172], line 1\u001b[0m\n\u001b[0;32m----> 1\u001b[0m \u001b[43my\u001b[49m\u001b[38;5;241;43m.\u001b[39;49m\u001b[43mbackward\u001b[49m\u001b[43m(\u001b[49m\u001b[43m)\u001b[49m\n",
      "File \u001b[0;32m~/Projects/School/CS_474/.venv/lib/python3.11/site-packages/torch/_tensor.py:581\u001b[0m, in \u001b[0;36mTensor.backward\u001b[0;34m(self, gradient, retain_graph, create_graph, inputs)\u001b[0m\n\u001b[1;32m    571\u001b[0m \u001b[38;5;28;01mif\u001b[39;00m has_torch_function_unary(\u001b[38;5;28mself\u001b[39m):\n\u001b[1;32m    572\u001b[0m     \u001b[38;5;28;01mreturn\u001b[39;00m handle_torch_function(\n\u001b[1;32m    573\u001b[0m         Tensor\u001b[38;5;241m.\u001b[39mbackward,\n\u001b[1;32m    574\u001b[0m         (\u001b[38;5;28mself\u001b[39m,),\n\u001b[0;32m   (...)\u001b[0m\n\u001b[1;32m    579\u001b[0m         inputs\u001b[38;5;241m=\u001b[39minputs,\n\u001b[1;32m    580\u001b[0m     )\n\u001b[0;32m--> 581\u001b[0m \u001b[43mtorch\u001b[49m\u001b[38;5;241;43m.\u001b[39;49m\u001b[43mautograd\u001b[49m\u001b[38;5;241;43m.\u001b[39;49m\u001b[43mbackward\u001b[49m\u001b[43m(\u001b[49m\n\u001b[1;32m    582\u001b[0m \u001b[43m    \u001b[49m\u001b[38;5;28;43mself\u001b[39;49m\u001b[43m,\u001b[49m\u001b[43m \u001b[49m\u001b[43mgradient\u001b[49m\u001b[43m,\u001b[49m\u001b[43m \u001b[49m\u001b[43mretain_graph\u001b[49m\u001b[43m,\u001b[49m\u001b[43m \u001b[49m\u001b[43mcreate_graph\u001b[49m\u001b[43m,\u001b[49m\u001b[43m \u001b[49m\u001b[43minputs\u001b[49m\u001b[38;5;241;43m=\u001b[39;49m\u001b[43minputs\u001b[49m\n\u001b[1;32m    583\u001b[0m \u001b[43m\u001b[49m\u001b[43m)\u001b[49m\n",
      "File \u001b[0;32m~/Projects/School/CS_474/.venv/lib/python3.11/site-packages/torch/autograd/__init__.py:340\u001b[0m, in \u001b[0;36mbackward\u001b[0;34m(tensors, grad_tensors, retain_graph, create_graph, grad_variables, inputs)\u001b[0m\n\u001b[1;32m    331\u001b[0m inputs \u001b[38;5;241m=\u001b[39m (\n\u001b[1;32m    332\u001b[0m     (inputs,)\n\u001b[1;32m    333\u001b[0m     \u001b[38;5;28;01mif\u001b[39;00m \u001b[38;5;28misinstance\u001b[39m(inputs, (torch\u001b[38;5;241m.\u001b[39mTensor, graph\u001b[38;5;241m.\u001b[39mGradientEdge))\n\u001b[0;32m   (...)\u001b[0m\n\u001b[1;32m    336\u001b[0m     \u001b[38;5;28;01melse\u001b[39;00m ()\n\u001b[1;32m    337\u001b[0m )\n\u001b[1;32m    339\u001b[0m grad_tensors_ \u001b[38;5;241m=\u001b[39m _tensor_or_tensors_to_tuple(grad_tensors, \u001b[38;5;28mlen\u001b[39m(tensors))\n\u001b[0;32m--> 340\u001b[0m grad_tensors_ \u001b[38;5;241m=\u001b[39m \u001b[43m_make_grads\u001b[49m\u001b[43m(\u001b[49m\u001b[43mtensors\u001b[49m\u001b[43m,\u001b[49m\u001b[43m \u001b[49m\u001b[43mgrad_tensors_\u001b[49m\u001b[43m,\u001b[49m\u001b[43m \u001b[49m\u001b[43mis_grads_batched\u001b[49m\u001b[38;5;241;43m=\u001b[39;49m\u001b[38;5;28;43;01mFalse\u001b[39;49;00m\u001b[43m)\u001b[49m\n\u001b[1;32m    341\u001b[0m \u001b[38;5;28;01mif\u001b[39;00m retain_graph \u001b[38;5;129;01mis\u001b[39;00m \u001b[38;5;28;01mNone\u001b[39;00m:\n\u001b[1;32m    342\u001b[0m     retain_graph \u001b[38;5;241m=\u001b[39m create_graph\n",
      "File \u001b[0;32m~/Projects/School/CS_474/.venv/lib/python3.11/site-packages/torch/autograd/__init__.py:198\u001b[0m, in \u001b[0;36m_make_grads\u001b[0;34m(outputs, grads, is_grads_batched)\u001b[0m\n\u001b[1;32m    196\u001b[0m     out_numel_is_1 \u001b[38;5;241m=\u001b[39m out\u001b[38;5;241m.\u001b[39mnumel() \u001b[38;5;241m==\u001b[39m \u001b[38;5;241m1\u001b[39m\n\u001b[1;32m    197\u001b[0m \u001b[38;5;28;01mif\u001b[39;00m \u001b[38;5;129;01mnot\u001b[39;00m out_numel_is_1:\n\u001b[0;32m--> 198\u001b[0m     \u001b[38;5;28;01mraise\u001b[39;00m \u001b[38;5;167;01mRuntimeError\u001b[39;00m(\n\u001b[1;32m    199\u001b[0m         \u001b[38;5;124m\"\u001b[39m\u001b[38;5;124mgrad can be implicitly created only for scalar outputs\u001b[39m\u001b[38;5;124m\"\u001b[39m\n\u001b[1;32m    200\u001b[0m     )\n\u001b[1;32m    201\u001b[0m \u001b[38;5;28;01mif\u001b[39;00m \u001b[38;5;129;01mnot\u001b[39;00m out_dtype\u001b[38;5;241m.\u001b[39mis_floating_point:\n\u001b[1;32m    202\u001b[0m     msg \u001b[38;5;241m=\u001b[39m (\n\u001b[1;32m    203\u001b[0m         \u001b[38;5;124m\"\u001b[39m\u001b[38;5;124mgrad can be implicitly created only for real scalar outputs\u001b[39m\u001b[38;5;124m\"\u001b[39m\n\u001b[1;32m    204\u001b[0m         \u001b[38;5;124mf\u001b[39m\u001b[38;5;124m\"\u001b[39m\u001b[38;5;124m but got \u001b[39m\u001b[38;5;132;01m{\u001b[39;00mout_dtype\u001b[38;5;132;01m}\u001b[39;00m\u001b[38;5;124m\"\u001b[39m\n\u001b[1;32m    205\u001b[0m     )\n",
      "\u001b[0;31mRuntimeError\u001b[0m: grad can be implicitly created only for scalar outputs"
     ]
    }
   ],
   "source": [
    "y.backward()"
   ]
  },
  {
   "cell_type": "markdown",
   "metadata": {
    "id": "V4Lg1XYvOqur"
   },
   "source": [
    "You should run into `RuntimeError: grad can be implicitly created only for scalar outputs`.\n",
    "We can only call `.backward()` on scalar tensors in pytorch; there are some detailed explanations on why online, but simple reason behind this is because backpropagating on a scalar reduces the dimensionality of our gradients making backpropagation cheaper and quicker.\n",
    "Which makes sense because `x` is a vector and the Jacobian we calculated is a matrix.\n",
    "\n",
    "We can easily circumvent this issue by summing up our `y` tensor. Set `y_sum = torch.sum(y)` and call `.backward()` on `y_sum`."
   ]
  },
  {
   "cell_type": "code",
   "execution_count": 173,
   "metadata": {
    "id": "HLsGYnkgOqur"
   },
   "outputs": [],
   "source": [
    "y_sum = torch.sum(y)\n",
    "y_sum.backward()"
   ]
  },
  {
   "cell_type": "markdown",
   "metadata": {
    "id": "Bjb6bGI4Oqur"
   },
   "source": [
    "Now let's look at the gradients from our new function.\n",
    "\n",
    "$\\begin{aligned}\n",
    "\\frac{\\partial y}{\\partial x} &= \\frac{\\partial}{\\partial x} \\sum \\left( \\begin{bmatrix} A_{11} & A_{12} & A_{13} \\\\ A_{21} & A_{22} & A_{23} \\end{bmatrix} \\begin{bmatrix} x_1 \\\\ x_2 \\\\ x_3 \\end{bmatrix} \\right)^2 \\\\\n",
    "    &= \\sum \\frac{\\partial}{\\partial x} \\left( \\begin{bmatrix} A_{11} & A_{12} & A_{13} \\\\ A_{21} & A_{22} & A_{23} \\end{bmatrix} \\begin{bmatrix} x_1 \\\\ x_2 \\\\ x_3 \\end{bmatrix} \\right)^2 \\\\\n",
    "    &= \\sum \\frac{\\partial}{\\partial x} \\left( \\begin{bmatrix} A_{11}x_1 + A_{12}x_2 + A_{13}x_3 \\\\ A_{21}x_1 + A_{22}x_2 + A_{23}x_3 \\end{bmatrix} \\right)^2 \\\\\n",
    "    & \\quad \\quad \\vdots \\\\\n",
    "    &= \\sum \\begin{bmatrix} 2A_{11}(A_{11}x_1 + A_{12}x_2 + A_{13}x_3) & 2A_{12}(A_{11}x_1 + A_{12}x_2 + A_{13}x_3) & 2A_{13}(A_{11}x_1 + A_{12}x_2 + A_{13}x_3)  \\\\ 2A_{21}(A_{21}x_1 + A_{22}x_2 + A_{23}x_3) & 2A_{22}(A_{21}x_1 + A_{22}x_2 + A_{23}x_3) & 2A_{23}(A_{21}x_1 + A_{22}x_2 + A_{23}x_3) \\end{bmatrix} \\\\\n",
    "    &= \\sum \\begin{bmatrix} 0 & 4 & 8  \\\\ 12 & 16 & 20 \\end{bmatrix} \\\\\n",
    "    &= \\begin{bmatrix} 12 & 20 & 28  \\end{bmatrix} \\\\\n",
    "\\end{aligned}$\n",
    "\n",
    "**Note that by summing the output of `y` we ended up summing our Jacobian**.\n",
    "\n",
    "I will quickly show $\\frac{\\partial y}{\\partial A}$ in abbreviated form:\n",
    "\n",
    "$\\begin{aligned}\n",
    "\\frac{\\partial y}{\\partial A} &= \\frac{\\partial}{\\partial x} \\sum \\left( Ax \\right)^2 \\\\\n",
    "    &= \\frac{\\partial}{\\partial A}  (A_1x)^2 + (A_2x)^2 \\\\\n",
    "    &= \\begin{bmatrix} \\frac{\\partial}{\\partial A_1} (A_1x)^2 + (A_2x)^2 \\\\ \\frac{\\partial}{\\partial A_2} (A_1x)^2 + (A_2x)^2  \\end{bmatrix} \\\\\n",
    "    &= \\begin{bmatrix} 2(A_1x)x^T \\\\ 2(A_2x)x^T  \\end{bmatrix} \\\\\n",
    "    &= \\begin{bmatrix} 4x^T \\\\ 4x^T  \\end{bmatrix} \\\\\n",
    "    &= \\begin{bmatrix} -4 & 0 & 4 \\\\ -4 & 0 & 4  \\end{bmatrix} \\\\\n",
    "\\end{aligned}$\n",
    "\n",
    "Print out `x.grad` and `A.grad` and validate you got the correct answer."
   ]
  },
  {
   "cell_type": "code",
   "execution_count": 174,
   "metadata": {
    "id": "eFn__s7xOqur"
   },
   "outputs": [
    {
     "data": {
      "text/plain": [
       "(tensor([12., 20., 28.]),\n",
       " tensor([[-4.,  0.,  4.],\n",
       "         [-4.,  0.,  4.]]))"
      ]
     },
     "execution_count": 174,
     "metadata": {},
     "output_type": "execute_result"
    }
   ],
   "source": [
    "x.grad, A.grad"
   ]
  },
  {
   "cell_type": "markdown",
   "metadata": {
    "id": "NR2bfXm-Oqus"
   },
   "source": [
    "And just for fun, let's look at the computation graph."
   ]
  },
  {
   "cell_type": "code",
   "execution_count": 175,
   "metadata": {
    "id": "mCl0KiLpOqus"
   },
   "outputs": [
    {
     "data": {
      "image/svg+xml": [
       "<?xml version=\"1.0\" encoding=\"UTF-8\" standalone=\"no\"?>\n",
       "<!DOCTYPE svg PUBLIC \"-//W3C//DTD SVG 1.1//EN\"\n",
       " \"http://www.w3.org/Graphics/SVG/1.1/DTD/svg11.dtd\">\n",
       "<!-- Generated by graphviz version 12.2.1 (20241206.2353)\n",
       " -->\n",
       "<!-- Pages: 1 -->\n",
       "<svg width=\"226pt\" height=\"338pt\"\n",
       " viewBox=\"0.00 0.00 226.00 338.00\" xmlns=\"http://www.w3.org/2000/svg\" xmlns:xlink=\"http://www.w3.org/1999/xlink\">\n",
       "<g id=\"graph0\" class=\"graph\" transform=\"scale(1 1) rotate(0) translate(4 334)\">\n",
       "<polygon fill=\"white\" stroke=\"none\" points=\"-4,4 -4,-334 222,-334 222,4 -4,4\"/>\n",
       "<!-- 4702142832 -->\n",
       "<g id=\"node1\" class=\"node\">\n",
       "<title>4702142832</title>\n",
       "<polygon fill=\"#caff70\" stroke=\"black\" points=\"136,-33.5 82,-33.5 82,0 136,0 136,-33.5\"/>\n",
       "<text text-anchor=\"middle\" x=\"109\" y=\"-20\" font-family=\"monospace\" font-size=\"10.00\">y_sum</text>\n",
       "<text text-anchor=\"middle\" x=\"109\" y=\"-7.25\" font-family=\"monospace\" font-size=\"10.00\"> ()</text>\n",
       "</g>\n",
       "<!-- 6023488192 -->\n",
       "<g id=\"node2\" class=\"node\">\n",
       "<title>6023488192</title>\n",
       "<polygon fill=\"lightgrey\" stroke=\"black\" points=\"153,-90.25 65,-90.25 65,-69.5 153,-69.5 153,-90.25\"/>\n",
       "<text text-anchor=\"middle\" x=\"109\" y=\"-76.75\" font-family=\"monospace\" font-size=\"10.00\">SumBackward0</text>\n",
       "</g>\n",
       "<!-- 6023488192&#45;&gt;4702142832 -->\n",
       "<g id=\"edge7\" class=\"edge\">\n",
       "<title>6023488192&#45;&gt;4702142832</title>\n",
       "<path fill=\"none\" stroke=\"black\" d=\"M109,-69.05C109,-62.63 109,-53.9 109,-45.45\"/>\n",
       "<polygon fill=\"black\" stroke=\"black\" points=\"112.5,-45.5 109,-35.5 105.5,-45.5 112.5,-45.5\"/>\n",
       "</g>\n",
       "<!-- 6023494096 -->\n",
       "<g id=\"node3\" class=\"node\">\n",
       "<title>6023494096</title>\n",
       "<polygon fill=\"lightgrey\" stroke=\"black\" points=\"153,-147 65,-147 65,-126.25 153,-126.25 153,-147\"/>\n",
       "<text text-anchor=\"middle\" x=\"109\" y=\"-133.5\" font-family=\"monospace\" font-size=\"10.00\">PowBackward0</text>\n",
       "</g>\n",
       "<!-- 6023494096&#45;&gt;6023488192 -->\n",
       "<g id=\"edge1\" class=\"edge\">\n",
       "<title>6023494096&#45;&gt;6023488192</title>\n",
       "<path fill=\"none\" stroke=\"black\" d=\"M109,-125.84C109,-119.22 109,-110.22 109,-102.02\"/>\n",
       "<polygon fill=\"black\" stroke=\"black\" points=\"112.5,-102.09 109,-92.09 105.5,-102.09 112.5,-102.09\"/>\n",
       "</g>\n",
       "<!-- 6023490640 -->\n",
       "<g id=\"node4\" class=\"node\">\n",
       "<title>6023490640</title>\n",
       "<polygon fill=\"lightgrey\" stroke=\"black\" points=\"150,-203.75 68,-203.75 68,-183 150,-183 150,-203.75\"/>\n",
       "<text text-anchor=\"middle\" x=\"109\" y=\"-190.25\" font-family=\"monospace\" font-size=\"10.00\">MvBackward0</text>\n",
       "</g>\n",
       "<!-- 6023490640&#45;&gt;6023494096 -->\n",
       "<g id=\"edge2\" class=\"edge\">\n",
       "<title>6023490640&#45;&gt;6023494096</title>\n",
       "<path fill=\"none\" stroke=\"black\" d=\"M109,-182.59C109,-175.97 109,-166.97 109,-158.77\"/>\n",
       "<polygon fill=\"black\" stroke=\"black\" points=\"112.5,-158.84 109,-148.84 105.5,-158.84 112.5,-158.84\"/>\n",
       "</g>\n",
       "<!-- 6023490496 -->\n",
       "<g id=\"node5\" class=\"node\">\n",
       "<title>6023490496</title>\n",
       "<polygon fill=\"lightgrey\" stroke=\"black\" points=\"100,-260.5 0,-260.5 0,-239.75 100,-239.75 100,-260.5\"/>\n",
       "<text text-anchor=\"middle\" x=\"50\" y=\"-247\" font-family=\"monospace\" font-size=\"10.00\">AccumulateGrad</text>\n",
       "</g>\n",
       "<!-- 6023490496&#45;&gt;6023490640 -->\n",
       "<g id=\"edge3\" class=\"edge\">\n",
       "<title>6023490496&#45;&gt;6023490640</title>\n",
       "<path fill=\"none\" stroke=\"black\" d=\"M60.55,-239.34C68.77,-231.71 80.4,-220.92 90.2,-211.82\"/>\n",
       "<polygon fill=\"black\" stroke=\"black\" points=\"92.48,-214.48 97.43,-205.11 87.72,-209.34 92.48,-214.48\"/>\n",
       "</g>\n",
       "<!-- 5192257168 -->\n",
       "<g id=\"node6\" class=\"node\">\n",
       "<title>5192257168</title>\n",
       "<polygon fill=\"lightblue\" stroke=\"black\" points=\"79,-330 21,-330 21,-296.5 79,-296.5 79,-330\"/>\n",
       "<text text-anchor=\"middle\" x=\"50\" y=\"-316.5\" font-family=\"monospace\" font-size=\"10.00\">A</text>\n",
       "<text text-anchor=\"middle\" x=\"50\" y=\"-303.75\" font-family=\"monospace\" font-size=\"10.00\"> (2, 3)</text>\n",
       "</g>\n",
       "<!-- 5192257168&#45;&gt;6023490496 -->\n",
       "<g id=\"edge4\" class=\"edge\">\n",
       "<title>5192257168&#45;&gt;6023490496</title>\n",
       "<path fill=\"none\" stroke=\"black\" d=\"M50,-296.19C50,-288.85 50,-280.07 50,-272.21\"/>\n",
       "<polygon fill=\"black\" stroke=\"black\" points=\"53.5,-272.48 50,-262.48 46.5,-272.48 53.5,-272.48\"/>\n",
       "</g>\n",
       "<!-- 6023486752 -->\n",
       "<g id=\"node7\" class=\"node\">\n",
       "<title>6023486752</title>\n",
       "<polygon fill=\"lightgrey\" stroke=\"black\" points=\"218,-260.5 118,-260.5 118,-239.75 218,-239.75 218,-260.5\"/>\n",
       "<text text-anchor=\"middle\" x=\"168\" y=\"-247\" font-family=\"monospace\" font-size=\"10.00\">AccumulateGrad</text>\n",
       "</g>\n",
       "<!-- 6023486752&#45;&gt;6023490640 -->\n",
       "<g id=\"edge5\" class=\"edge\">\n",
       "<title>6023486752&#45;&gt;6023490640</title>\n",
       "<path fill=\"none\" stroke=\"black\" d=\"M157.45,-239.34C149.23,-231.71 137.6,-220.92 127.8,-211.82\"/>\n",
       "<polygon fill=\"black\" stroke=\"black\" points=\"130.28,-209.34 120.57,-205.11 125.52,-214.48 130.28,-209.34\"/>\n",
       "</g>\n",
       "<!-- 4704291728 -->\n",
       "<g id=\"node8\" class=\"node\">\n",
       "<title>4704291728</title>\n",
       "<polygon fill=\"lightblue\" stroke=\"black\" points=\"195,-330 141,-330 141,-296.5 195,-296.5 195,-330\"/>\n",
       "<text text-anchor=\"middle\" x=\"168\" y=\"-316.5\" font-family=\"monospace\" font-size=\"10.00\">x</text>\n",
       "<text text-anchor=\"middle\" x=\"168\" y=\"-303.75\" font-family=\"monospace\" font-size=\"10.00\"> (3)</text>\n",
       "</g>\n",
       "<!-- 4704291728&#45;&gt;6023486752 -->\n",
       "<g id=\"edge6\" class=\"edge\">\n",
       "<title>4704291728&#45;&gt;6023486752</title>\n",
       "<path fill=\"none\" stroke=\"black\" d=\"M168,-296.19C168,-288.85 168,-280.07 168,-272.21\"/>\n",
       "<polygon fill=\"black\" stroke=\"black\" points=\"171.5,-272.48 168,-262.48 164.5,-272.48 171.5,-272.48\"/>\n",
       "</g>\n",
       "</g>\n",
       "</svg>\n"
      ],
      "text/plain": [
       "<graphviz.graphs.Digraph at 0x136330450>"
      ]
     },
     "execution_count": 175,
     "metadata": {},
     "output_type": "execute_result"
    }
   ],
   "source": [
    "make_dot(y_sum, params={\"A\": A, \"x\": x, \"y_sum\": y_sum})"
   ]
  },
  {
   "cell_type": "markdown",
   "metadata": {
    "id": "KHtkfp91Oqus"
   },
   "source": [
    "## Final Notes about Autodiff"
   ]
  },
  {
   "cell_type": "markdown",
   "metadata": {
    "id": "juaxEdn8Oqus"
   },
   "source": [
    "There are two other functions that are useful when using autodifferentiation: `.clone()` and `.detach()`.\n",
    "\n",
    "- `.clone()` gives us the ability to copy a tensor and remain on the computation graph.\n",
    "- `.detach()` gives us the ability to copy a tensor, but to become detached from computation graph, i.e. the copy will have `requires_grad = False`.\n",
    "\n",
    "To illustrate this we will initialize two tensors: $x=1$ and $y=2$"
   ]
  },
  {
   "cell_type": "code",
   "execution_count": 176,
   "metadata": {
    "id": "ofw7LLdsOqut"
   },
   "outputs": [],
   "source": [
    "x = torch.tensor(1).float()\n",
    "y = torch.tensor(2).float()\n",
    "\n",
    "x.requires_grad = True\n",
    "y.requires_grad = True"
   ]
  },
  {
   "cell_type": "markdown",
   "metadata": {
    "id": "m1A6Hx_fOqut"
   },
   "source": [
    "And vizualize the computation graph of:\n",
    "```python\n",
    "z = x + y\n",
    "l = 2*z + 3*z\n",
    "```"
   ]
  },
  {
   "cell_type": "code",
   "execution_count": 177,
   "metadata": {
    "id": "Hhv1_fzUOqut"
   },
   "outputs": [
    {
     "data": {
      "image/svg+xml": [
       "<?xml version=\"1.0\" encoding=\"UTF-8\" standalone=\"no\"?>\n",
       "<!DOCTYPE svg PUBLIC \"-//W3C//DTD SVG 1.1//EN\"\n",
       " \"http://www.w3.org/Graphics/SVG/1.1/DTD/svg11.dtd\">\n",
       "<!-- Generated by graphviz version 12.2.1 (20241206.2353)\n",
       " -->\n",
       "<!-- Pages: 1 -->\n",
       "<svg width=\"226pt\" height=\"338pt\"\n",
       " viewBox=\"0.00 0.00 226.00 338.00\" xmlns=\"http://www.w3.org/2000/svg\" xmlns:xlink=\"http://www.w3.org/1999/xlink\">\n",
       "<g id=\"graph0\" class=\"graph\" transform=\"scale(1 1) rotate(0) translate(4 334)\">\n",
       "<polygon fill=\"white\" stroke=\"none\" points=\"-4,4 -4,-334 222,-334 222,4 -4,4\"/>\n",
       "<!-- 4698139984 -->\n",
       "<g id=\"node1\" class=\"node\">\n",
       "<title>4698139984</title>\n",
       "<polygon fill=\"#caff70\" stroke=\"black\" points=\"136,-33.5 82,-33.5 82,0 136,0 136,-33.5\"/>\n",
       "<text text-anchor=\"middle\" x=\"109\" y=\"-20\" font-family=\"monospace\" font-size=\"10.00\">l</text>\n",
       "<text text-anchor=\"middle\" x=\"109\" y=\"-7.25\" font-family=\"monospace\" font-size=\"10.00\"> ()</text>\n",
       "</g>\n",
       "<!-- 6023488336 -->\n",
       "<g id=\"node2\" class=\"node\">\n",
       "<title>6023488336</title>\n",
       "<polygon fill=\"lightgrey\" stroke=\"black\" points=\"153,-90.25 65,-90.25 65,-69.5 153,-69.5 153,-90.25\"/>\n",
       "<text text-anchor=\"middle\" x=\"109\" y=\"-76.75\" font-family=\"monospace\" font-size=\"10.00\">AddBackward0</text>\n",
       "</g>\n",
       "<!-- 6023488336&#45;&gt;4698139984 -->\n",
       "<g id=\"edge9\" class=\"edge\">\n",
       "<title>6023488336&#45;&gt;4698139984</title>\n",
       "<path fill=\"none\" stroke=\"black\" d=\"M109,-69.05C109,-62.63 109,-53.9 109,-45.45\"/>\n",
       "<polygon fill=\"black\" stroke=\"black\" points=\"112.5,-45.5 109,-35.5 105.5,-45.5 112.5,-45.5\"/>\n",
       "</g>\n",
       "<!-- 6023490064 -->\n",
       "<g id=\"node3\" class=\"node\">\n",
       "<title>6023490064</title>\n",
       "<polygon fill=\"lightgrey\" stroke=\"black\" points=\"100,-147 12,-147 12,-126.25 100,-126.25 100,-147\"/>\n",
       "<text text-anchor=\"middle\" x=\"56\" y=\"-133.5\" font-family=\"monospace\" font-size=\"10.00\">MulBackward0</text>\n",
       "</g>\n",
       "<!-- 6023490064&#45;&gt;6023488336 -->\n",
       "<g id=\"edge1\" class=\"edge\">\n",
       "<title>6023490064&#45;&gt;6023488336</title>\n",
       "<path fill=\"none\" stroke=\"black\" d=\"M65.48,-125.84C72.79,-118.28 83.09,-107.64 91.84,-98.6\"/>\n",
       "<polygon fill=\"black\" stroke=\"black\" points=\"94.11,-101.29 98.55,-91.67 89.08,-96.42 94.11,-101.29\"/>\n",
       "</g>\n",
       "<!-- 6023495152 -->\n",
       "<g id=\"node4\" class=\"node\">\n",
       "<title>6023495152</title>\n",
       "<polygon fill=\"lightgrey\" stroke=\"black\" points=\"153,-203.75 65,-203.75 65,-183 153,-183 153,-203.75\"/>\n",
       "<text text-anchor=\"middle\" x=\"109\" y=\"-190.25\" font-family=\"monospace\" font-size=\"10.00\">AddBackward0</text>\n",
       "</g>\n",
       "<!-- 6023495152&#45;&gt;6023490064 -->\n",
       "<g id=\"edge2\" class=\"edge\">\n",
       "<title>6023495152&#45;&gt;6023490064</title>\n",
       "<path fill=\"none\" stroke=\"black\" d=\"M99.52,-182.59C92.21,-175.03 81.91,-164.39 73.16,-155.35\"/>\n",
       "<polygon fill=\"black\" stroke=\"black\" points=\"75.92,-153.17 66.45,-148.42 70.89,-158.04 75.92,-153.17\"/>\n",
       "</g>\n",
       "<!-- 6023488720 -->\n",
       "<g id=\"node9\" class=\"node\">\n",
       "<title>6023488720</title>\n",
       "<polygon fill=\"lightgrey\" stroke=\"black\" points=\"206,-147 118,-147 118,-126.25 206,-126.25 206,-147\"/>\n",
       "<text text-anchor=\"middle\" x=\"162\" y=\"-133.5\" font-family=\"monospace\" font-size=\"10.00\">MulBackward0</text>\n",
       "</g>\n",
       "<!-- 6023495152&#45;&gt;6023488720 -->\n",
       "<g id=\"edge8\" class=\"edge\">\n",
       "<title>6023495152&#45;&gt;6023488720</title>\n",
       "<path fill=\"none\" stroke=\"black\" d=\"M118.48,-182.59C125.79,-175.03 136.09,-164.39 144.84,-155.35\"/>\n",
       "<polygon fill=\"black\" stroke=\"black\" points=\"147.11,-158.04 151.55,-148.42 142.08,-153.17 147.11,-158.04\"/>\n",
       "</g>\n",
       "<!-- 6027392144 -->\n",
       "<g id=\"node5\" class=\"node\">\n",
       "<title>6027392144</title>\n",
       "<polygon fill=\"lightgrey\" stroke=\"black\" points=\"100,-260.5 0,-260.5 0,-239.75 100,-239.75 100,-260.5\"/>\n",
       "<text text-anchor=\"middle\" x=\"50\" y=\"-247\" font-family=\"monospace\" font-size=\"10.00\">AccumulateGrad</text>\n",
       "</g>\n",
       "<!-- 6027392144&#45;&gt;6023495152 -->\n",
       "<g id=\"edge3\" class=\"edge\">\n",
       "<title>6027392144&#45;&gt;6023495152</title>\n",
       "<path fill=\"none\" stroke=\"black\" d=\"M60.55,-239.34C68.77,-231.71 80.4,-220.92 90.2,-211.82\"/>\n",
       "<polygon fill=\"black\" stroke=\"black\" points=\"92.48,-214.48 97.43,-205.11 87.72,-209.34 92.48,-214.48\"/>\n",
       "</g>\n",
       "<!-- 4698136144 -->\n",
       "<g id=\"node6\" class=\"node\">\n",
       "<title>4698136144</title>\n",
       "<polygon fill=\"lightblue\" stroke=\"black\" points=\"77,-330 23,-330 23,-296.5 77,-296.5 77,-330\"/>\n",
       "<text text-anchor=\"middle\" x=\"50\" y=\"-316.5\" font-family=\"monospace\" font-size=\"10.00\">x</text>\n",
       "<text text-anchor=\"middle\" x=\"50\" y=\"-303.75\" font-family=\"monospace\" font-size=\"10.00\"> ()</text>\n",
       "</g>\n",
       "<!-- 4698136144&#45;&gt;6027392144 -->\n",
       "<g id=\"edge4\" class=\"edge\">\n",
       "<title>4698136144&#45;&gt;6027392144</title>\n",
       "<path fill=\"none\" stroke=\"black\" d=\"M50,-296.19C50,-288.85 50,-280.07 50,-272.21\"/>\n",
       "<polygon fill=\"black\" stroke=\"black\" points=\"53.5,-272.48 50,-262.48 46.5,-272.48 53.5,-272.48\"/>\n",
       "</g>\n",
       "<!-- 6027380000 -->\n",
       "<g id=\"node7\" class=\"node\">\n",
       "<title>6027380000</title>\n",
       "<polygon fill=\"lightgrey\" stroke=\"black\" points=\"218,-260.5 118,-260.5 118,-239.75 218,-239.75 218,-260.5\"/>\n",
       "<text text-anchor=\"middle\" x=\"168\" y=\"-247\" font-family=\"monospace\" font-size=\"10.00\">AccumulateGrad</text>\n",
       "</g>\n",
       "<!-- 6027380000&#45;&gt;6023495152 -->\n",
       "<g id=\"edge5\" class=\"edge\">\n",
       "<title>6027380000&#45;&gt;6023495152</title>\n",
       "<path fill=\"none\" stroke=\"black\" d=\"M157.45,-239.34C149.23,-231.71 137.6,-220.92 127.8,-211.82\"/>\n",
       "<polygon fill=\"black\" stroke=\"black\" points=\"130.28,-209.34 120.57,-205.11 125.52,-214.48 130.28,-209.34\"/>\n",
       "</g>\n",
       "<!-- 4698140464 -->\n",
       "<g id=\"node8\" class=\"node\">\n",
       "<title>4698140464</title>\n",
       "<polygon fill=\"lightblue\" stroke=\"black\" points=\"195,-330 141,-330 141,-296.5 195,-296.5 195,-330\"/>\n",
       "<text text-anchor=\"middle\" x=\"168\" y=\"-316.5\" font-family=\"monospace\" font-size=\"10.00\">y</text>\n",
       "<text text-anchor=\"middle\" x=\"168\" y=\"-303.75\" font-family=\"monospace\" font-size=\"10.00\"> ()</text>\n",
       "</g>\n",
       "<!-- 4698140464&#45;&gt;6027380000 -->\n",
       "<g id=\"edge6\" class=\"edge\">\n",
       "<title>4698140464&#45;&gt;6027380000</title>\n",
       "<path fill=\"none\" stroke=\"black\" d=\"M168,-296.19C168,-288.85 168,-280.07 168,-272.21\"/>\n",
       "<polygon fill=\"black\" stroke=\"black\" points=\"171.5,-272.48 168,-262.48 164.5,-272.48 171.5,-272.48\"/>\n",
       "</g>\n",
       "<!-- 6023488720&#45;&gt;6023488336 -->\n",
       "<g id=\"edge7\" class=\"edge\">\n",
       "<title>6023488720&#45;&gt;6023488336</title>\n",
       "<path fill=\"none\" stroke=\"black\" d=\"M152.52,-125.84C145.21,-118.28 134.91,-107.64 126.16,-98.6\"/>\n",
       "<polygon fill=\"black\" stroke=\"black\" points=\"128.92,-96.42 119.45,-91.67 123.89,-101.29 128.92,-96.42\"/>\n",
       "</g>\n",
       "</g>\n",
       "</svg>\n"
      ],
      "text/plain": [
       "<graphviz.graphs.Digraph at 0x1675665d0>"
      ]
     },
     "execution_count": 177,
     "metadata": {},
     "output_type": "execute_result"
    }
   ],
   "source": [
    "z = x + y\n",
    "l = 2*z + 3*z\n",
    "\n",
    "make_dot(l, params={\"x\": x, \"y\": y, \"l\": l})"
   ]
  },
  {
   "cell_type": "markdown",
   "metadata": {
    "id": "4076oW3wOqut"
   },
   "source": [
    "The output of `l` is $l = 2z + 3z = 5(x + y) = 15$.\n",
    "The gradients of $x$ and $y$ are then $\\frac{d}{dx} 5(x+y) = \\frac{d}{dx} 5x = 5$ and $\\frac{d}{dy} 5(x+y) = \\frac{d}{dy} 5y = 5$. Take the derivative of `l` and print out `l` and the gradients of `x` and `y` to validate this is true."
   ]
  },
  {
   "cell_type": "code",
   "execution_count": 178,
   "metadata": {
    "id": "ZqbO_c1wOquu"
   },
   "outputs": [
    {
     "data": {
      "text/plain": [
       "(tensor(15., grad_fn=<AddBackward0>), tensor(5.), tensor(5.))"
      ]
     },
     "execution_count": 178,
     "metadata": {},
     "output_type": "execute_result"
    }
   ],
   "source": [
    "l.backward()\n",
    "l, x.grad, y.grad"
   ]
  },
  {
   "cell_type": "markdown",
   "metadata": {
    "id": "z1-5fDaIOquu"
   },
   "source": [
    "### `.clone()`\n",
    "\n"
   ]
  },
  {
   "cell_type": "markdown",
   "metadata": {
    "id": "UneExL8VOquu"
   },
   "source": [
    "Now compute the same function, but this time let `l = 2*z + 3*z.clone()`. Call `make_dot()` and visualize the computation graph."
   ]
  },
  {
   "cell_type": "code",
   "execution_count": 179,
   "metadata": {
    "id": "xAL_laJhOquv"
   },
   "outputs": [
    {
     "data": {
      "image/svg+xml": [
       "<?xml version=\"1.0\" encoding=\"UTF-8\" standalone=\"no\"?>\n",
       "<!DOCTYPE svg PUBLIC \"-//W3C//DTD SVG 1.1//EN\"\n",
       " \"http://www.w3.org/Graphics/SVG/1.1/DTD/svg11.dtd\">\n",
       "<!-- Generated by graphviz version 12.2.1 (20241206.2353)\n",
       " -->\n",
       "<!-- Pages: 1 -->\n",
       "<svg width=\"226pt\" height=\"395pt\"\n",
       " viewBox=\"0.00 0.00 226.00 394.75\" xmlns=\"http://www.w3.org/2000/svg\" xmlns:xlink=\"http://www.w3.org/1999/xlink\">\n",
       "<g id=\"graph0\" class=\"graph\" transform=\"scale(1 1) rotate(0) translate(4 390.75)\">\n",
       "<polygon fill=\"white\" stroke=\"none\" points=\"-4,4 -4,-390.75 222,-390.75 222,4 -4,4\"/>\n",
       "<!-- 5204388912 -->\n",
       "<g id=\"node1\" class=\"node\">\n",
       "<title>5204388912</title>\n",
       "<polygon fill=\"#caff70\" stroke=\"black\" points=\"136,-33.5 82,-33.5 82,0 136,0 136,-33.5\"/>\n",
       "<text text-anchor=\"middle\" x=\"109\" y=\"-20\" font-family=\"monospace\" font-size=\"10.00\">l</text>\n",
       "<text text-anchor=\"middle\" x=\"109\" y=\"-7.25\" font-family=\"monospace\" font-size=\"10.00\"> ()</text>\n",
       "</g>\n",
       "<!-- 6027381008 -->\n",
       "<g id=\"node2\" class=\"node\">\n",
       "<title>6027381008</title>\n",
       "<polygon fill=\"lightgrey\" stroke=\"black\" points=\"153,-90.25 65,-90.25 65,-69.5 153,-69.5 153,-90.25\"/>\n",
       "<text text-anchor=\"middle\" x=\"109\" y=\"-76.75\" font-family=\"monospace\" font-size=\"10.00\">AddBackward0</text>\n",
       "</g>\n",
       "<!-- 6027381008&#45;&gt;5204388912 -->\n",
       "<g id=\"edge10\" class=\"edge\">\n",
       "<title>6027381008&#45;&gt;5204388912</title>\n",
       "<path fill=\"none\" stroke=\"black\" d=\"M109,-69.05C109,-62.63 109,-53.9 109,-45.45\"/>\n",
       "<polygon fill=\"black\" stroke=\"black\" points=\"112.5,-45.5 109,-35.5 105.5,-45.5 112.5,-45.5\"/>\n",
       "</g>\n",
       "<!-- 6027383840 -->\n",
       "<g id=\"node3\" class=\"node\">\n",
       "<title>6027383840</title>\n",
       "<polygon fill=\"lightgrey\" stroke=\"black\" points=\"100,-147 12,-147 12,-126.25 100,-126.25 100,-147\"/>\n",
       "<text text-anchor=\"middle\" x=\"56\" y=\"-133.5\" font-family=\"monospace\" font-size=\"10.00\">MulBackward0</text>\n",
       "</g>\n",
       "<!-- 6027383840&#45;&gt;6027381008 -->\n",
       "<g id=\"edge1\" class=\"edge\">\n",
       "<title>6027383840&#45;&gt;6027381008</title>\n",
       "<path fill=\"none\" stroke=\"black\" d=\"M65.48,-125.84C72.79,-118.28 83.09,-107.64 91.84,-98.6\"/>\n",
       "<polygon fill=\"black\" stroke=\"black\" points=\"94.11,-101.29 98.55,-91.67 89.08,-96.42 94.11,-101.29\"/>\n",
       "</g>\n",
       "<!-- 6023495152 -->\n",
       "<g id=\"node4\" class=\"node\">\n",
       "<title>6023495152</title>\n",
       "<polygon fill=\"lightgrey\" stroke=\"black\" points=\"153,-260.5 65,-260.5 65,-239.75 153,-239.75 153,-260.5\"/>\n",
       "<text text-anchor=\"middle\" x=\"109\" y=\"-247\" font-family=\"monospace\" font-size=\"10.00\">AddBackward0</text>\n",
       "</g>\n",
       "<!-- 6023495152&#45;&gt;6027383840 -->\n",
       "<g id=\"edge2\" class=\"edge\">\n",
       "<title>6023495152&#45;&gt;6027383840</title>\n",
       "<path fill=\"none\" stroke=\"black\" d=\"M104.48,-239.62C95.88,-221.52 76.99,-181.78 65.49,-157.6\"/>\n",
       "<polygon fill=\"black\" stroke=\"black\" points=\"68.76,-156.32 61.31,-148.79 62.44,-159.33 68.76,-156.32\"/>\n",
       "</g>\n",
       "<!-- 6027382304 -->\n",
       "<g id=\"node10\" class=\"node\">\n",
       "<title>6027382304</title>\n",
       "<polygon fill=\"lightgrey\" stroke=\"black\" points=\"205,-203.75 105,-203.75 105,-183 205,-183 205,-203.75\"/>\n",
       "<text text-anchor=\"middle\" x=\"155\" y=\"-190.25\" font-family=\"monospace\" font-size=\"10.00\">CloneBackward0</text>\n",
       "</g>\n",
       "<!-- 6023495152&#45;&gt;6027382304 -->\n",
       "<g id=\"edge9\" class=\"edge\">\n",
       "<title>6023495152&#45;&gt;6027382304</title>\n",
       "<path fill=\"none\" stroke=\"black\" d=\"M117.22,-239.34C123.44,-231.94 132.15,-221.57 139.64,-212.66\"/>\n",
       "<polygon fill=\"black\" stroke=\"black\" points=\"142.12,-215.15 145.87,-205.24 136.76,-210.64 142.12,-215.15\"/>\n",
       "</g>\n",
       "<!-- 6027392144 -->\n",
       "<g id=\"node5\" class=\"node\">\n",
       "<title>6027392144</title>\n",
       "<polygon fill=\"lightgrey\" stroke=\"black\" points=\"100,-317.25 0,-317.25 0,-296.5 100,-296.5 100,-317.25\"/>\n",
       "<text text-anchor=\"middle\" x=\"50\" y=\"-303.75\" font-family=\"monospace\" font-size=\"10.00\">AccumulateGrad</text>\n",
       "</g>\n",
       "<!-- 6027392144&#45;&gt;6023495152 -->\n",
       "<g id=\"edge3\" class=\"edge\">\n",
       "<title>6027392144&#45;&gt;6023495152</title>\n",
       "<path fill=\"none\" stroke=\"black\" d=\"M60.55,-296.09C68.77,-288.46 80.4,-277.67 90.2,-268.57\"/>\n",
       "<polygon fill=\"black\" stroke=\"black\" points=\"92.48,-271.23 97.43,-261.86 87.72,-266.09 92.48,-271.23\"/>\n",
       "</g>\n",
       "<!-- 4698136144 -->\n",
       "<g id=\"node6\" class=\"node\">\n",
       "<title>4698136144</title>\n",
       "<polygon fill=\"lightblue\" stroke=\"black\" points=\"77,-386.75 23,-386.75 23,-353.25 77,-353.25 77,-386.75\"/>\n",
       "<text text-anchor=\"middle\" x=\"50\" y=\"-373.25\" font-family=\"monospace\" font-size=\"10.00\">x</text>\n",
       "<text text-anchor=\"middle\" x=\"50\" y=\"-360.5\" font-family=\"monospace\" font-size=\"10.00\"> ()</text>\n",
       "</g>\n",
       "<!-- 4698136144&#45;&gt;6027392144 -->\n",
       "<g id=\"edge4\" class=\"edge\">\n",
       "<title>4698136144&#45;&gt;6027392144</title>\n",
       "<path fill=\"none\" stroke=\"black\" d=\"M50,-352.94C50,-345.6 50,-336.82 50,-328.96\"/>\n",
       "<polygon fill=\"black\" stroke=\"black\" points=\"53.5,-329.23 50,-319.23 46.5,-329.23 53.5,-329.23\"/>\n",
       "</g>\n",
       "<!-- 6027380000 -->\n",
       "<g id=\"node7\" class=\"node\">\n",
       "<title>6027380000</title>\n",
       "<polygon fill=\"lightgrey\" stroke=\"black\" points=\"218,-317.25 118,-317.25 118,-296.5 218,-296.5 218,-317.25\"/>\n",
       "<text text-anchor=\"middle\" x=\"168\" y=\"-303.75\" font-family=\"monospace\" font-size=\"10.00\">AccumulateGrad</text>\n",
       "</g>\n",
       "<!-- 6027380000&#45;&gt;6023495152 -->\n",
       "<g id=\"edge5\" class=\"edge\">\n",
       "<title>6027380000&#45;&gt;6023495152</title>\n",
       "<path fill=\"none\" stroke=\"black\" d=\"M157.45,-296.09C149.23,-288.46 137.6,-277.67 127.8,-268.57\"/>\n",
       "<polygon fill=\"black\" stroke=\"black\" points=\"130.28,-266.09 120.57,-261.86 125.52,-271.23 130.28,-266.09\"/>\n",
       "</g>\n",
       "<!-- 4698140464 -->\n",
       "<g id=\"node8\" class=\"node\">\n",
       "<title>4698140464</title>\n",
       "<polygon fill=\"lightblue\" stroke=\"black\" points=\"195,-386.75 141,-386.75 141,-353.25 195,-353.25 195,-386.75\"/>\n",
       "<text text-anchor=\"middle\" x=\"168\" y=\"-373.25\" font-family=\"monospace\" font-size=\"10.00\">y</text>\n",
       "<text text-anchor=\"middle\" x=\"168\" y=\"-360.5\" font-family=\"monospace\" font-size=\"10.00\"> ()</text>\n",
       "</g>\n",
       "<!-- 4698140464&#45;&gt;6027380000 -->\n",
       "<g id=\"edge6\" class=\"edge\">\n",
       "<title>4698140464&#45;&gt;6027380000</title>\n",
       "<path fill=\"none\" stroke=\"black\" d=\"M168,-352.94C168,-345.6 168,-336.82 168,-328.96\"/>\n",
       "<polygon fill=\"black\" stroke=\"black\" points=\"171.5,-329.23 168,-319.23 164.5,-329.23 171.5,-329.23\"/>\n",
       "</g>\n",
       "<!-- 6027382592 -->\n",
       "<g id=\"node9\" class=\"node\">\n",
       "<title>6027382592</title>\n",
       "<polygon fill=\"lightgrey\" stroke=\"black\" points=\"206,-147 118,-147 118,-126.25 206,-126.25 206,-147\"/>\n",
       "<text text-anchor=\"middle\" x=\"162\" y=\"-133.5\" font-family=\"monospace\" font-size=\"10.00\">MulBackward0</text>\n",
       "</g>\n",
       "<!-- 6027382592&#45;&gt;6027381008 -->\n",
       "<g id=\"edge7\" class=\"edge\">\n",
       "<title>6027382592&#45;&gt;6027381008</title>\n",
       "<path fill=\"none\" stroke=\"black\" d=\"M152.52,-125.84C145.21,-118.28 134.91,-107.64 126.16,-98.6\"/>\n",
       "<polygon fill=\"black\" stroke=\"black\" points=\"128.92,-96.42 119.45,-91.67 123.89,-101.29 128.92,-96.42\"/>\n",
       "</g>\n",
       "<!-- 6027382304&#45;&gt;6027382592 -->\n",
       "<g id=\"edge8\" class=\"edge\">\n",
       "<title>6027382304&#45;&gt;6027382592</title>\n",
       "<path fill=\"none\" stroke=\"black\" d=\"M156.25,-182.59C157.11,-175.89 158.27,-166.76 159.33,-158.48\"/>\n",
       "<polygon fill=\"black\" stroke=\"black\" points=\"162.77,-159.19 160.57,-148.83 155.83,-158.31 162.77,-159.19\"/>\n",
       "</g>\n",
       "</g>\n",
       "</svg>\n"
      ],
      "text/plain": [
       "<graphviz.graphs.Digraph at 0x136f31190>"
      ]
     },
     "execution_count": 179,
     "metadata": {},
     "output_type": "execute_result"
    }
   ],
   "source": [
    "l = 2*z + 3*z.clone()\n",
    "\n",
    "make_dot(l, params={\"x\": x, \"y\": y, \"l\": l})"
   ]
  },
  {
   "cell_type": "markdown",
   "metadata": {
    "id": "qXq9ll_5Oquv"
   },
   "source": [
    "The computation graph now has `CloneBackward0` attached to, but since `.clone()` doesn't change any gradients then the output of `l` and `x.grad` and `y.grad` should all be the same as above.\n",
    "Take the derivative of `l` (don't forget to zero out the gradients of `x` and `y`) and print out `l` and the gradients of `x` and `y` to validate this is true."
   ]
  },
  {
   "cell_type": "code",
   "execution_count": 180,
   "metadata": {
    "id": "DKB_z8tEOquv"
   },
   "outputs": [
    {
     "data": {
      "text/plain": [
       "(tensor(15., grad_fn=<AddBackward0>), tensor(5.), tensor(5.))"
      ]
     },
     "execution_count": 180,
     "metadata": {},
     "output_type": "execute_result"
    }
   ],
   "source": [
    "x.grad = None\n",
    "y.grad = None\n",
    "l.backward()\n",
    "l, x.grad, y.grad"
   ]
  },
  {
   "cell_type": "markdown",
   "metadata": {
    "id": "-JZxBdVFOquv"
   },
   "source": [
    "### `.detach()`\n",
    "\n"
   ]
  },
  {
   "cell_type": "markdown",
   "metadata": {
    "id": "DikCUy2UOquv"
   },
   "source": [
    "Once again compute the same function, but this time let `l = 2*z + 3*z.detach()`. Call `make_dot()` and visualize the computation graph."
   ]
  },
  {
   "cell_type": "code",
   "execution_count": 181,
   "metadata": {
    "id": "2deQc6mxOquv"
   },
   "outputs": [
    {
     "data": {
      "image/svg+xml": [
       "<?xml version=\"1.0\" encoding=\"UTF-8\" standalone=\"no\"?>\n",
       "<!DOCTYPE svg PUBLIC \"-//W3C//DTD SVG 1.1//EN\"\n",
       " \"http://www.w3.org/Graphics/SVG/1.1/DTD/svg11.dtd\">\n",
       "<!-- Generated by graphviz version 12.2.1 (20241206.2353)\n",
       " -->\n",
       "<!-- Pages: 1 -->\n",
       "<svg width=\"226pt\" height=\"338pt\"\n",
       " viewBox=\"0.00 0.00 226.00 338.00\" xmlns=\"http://www.w3.org/2000/svg\" xmlns:xlink=\"http://www.w3.org/1999/xlink\">\n",
       "<g id=\"graph0\" class=\"graph\" transform=\"scale(1 1) rotate(0) translate(4 334)\">\n",
       "<polygon fill=\"white\" stroke=\"none\" points=\"-4,4 -4,-334 222,-334 222,4 -4,4\"/>\n",
       "<!-- 4704311856 -->\n",
       "<g id=\"node1\" class=\"node\">\n",
       "<title>4704311856</title>\n",
       "<polygon fill=\"#caff70\" stroke=\"black\" points=\"136,-33.5 82,-33.5 82,0 136,0 136,-33.5\"/>\n",
       "<text text-anchor=\"middle\" x=\"109\" y=\"-20\" font-family=\"monospace\" font-size=\"10.00\">l</text>\n",
       "<text text-anchor=\"middle\" x=\"109\" y=\"-7.25\" font-family=\"monospace\" font-size=\"10.00\"> ()</text>\n",
       "</g>\n",
       "<!-- 6028758368 -->\n",
       "<g id=\"node2\" class=\"node\">\n",
       "<title>6028758368</title>\n",
       "<polygon fill=\"lightgrey\" stroke=\"black\" points=\"153,-90.25 65,-90.25 65,-69.5 153,-69.5 153,-90.25\"/>\n",
       "<text text-anchor=\"middle\" x=\"109\" y=\"-76.75\" font-family=\"monospace\" font-size=\"10.00\">AddBackward0</text>\n",
       "</g>\n",
       "<!-- 6028758368&#45;&gt;4704311856 -->\n",
       "<g id=\"edge7\" class=\"edge\">\n",
       "<title>6028758368&#45;&gt;4704311856</title>\n",
       "<path fill=\"none\" stroke=\"black\" d=\"M109,-69.05C109,-62.63 109,-53.9 109,-45.45\"/>\n",
       "<polygon fill=\"black\" stroke=\"black\" points=\"112.5,-45.5 109,-35.5 105.5,-45.5 112.5,-45.5\"/>\n",
       "</g>\n",
       "<!-- 6028764560 -->\n",
       "<g id=\"node3\" class=\"node\">\n",
       "<title>6028764560</title>\n",
       "<polygon fill=\"lightgrey\" stroke=\"black\" points=\"153,-147 65,-147 65,-126.25 153,-126.25 153,-147\"/>\n",
       "<text text-anchor=\"middle\" x=\"109\" y=\"-133.5\" font-family=\"monospace\" font-size=\"10.00\">MulBackward0</text>\n",
       "</g>\n",
       "<!-- 6028764560&#45;&gt;6028758368 -->\n",
       "<g id=\"edge1\" class=\"edge\">\n",
       "<title>6028764560&#45;&gt;6028758368</title>\n",
       "<path fill=\"none\" stroke=\"black\" d=\"M109,-125.84C109,-119.22 109,-110.22 109,-102.02\"/>\n",
       "<polygon fill=\"black\" stroke=\"black\" points=\"112.5,-102.09 109,-92.09 105.5,-102.09 112.5,-102.09\"/>\n",
       "</g>\n",
       "<!-- 6023495152 -->\n",
       "<g id=\"node4\" class=\"node\">\n",
       "<title>6023495152</title>\n",
       "<polygon fill=\"lightgrey\" stroke=\"black\" points=\"153,-203.75 65,-203.75 65,-183 153,-183 153,-203.75\"/>\n",
       "<text text-anchor=\"middle\" x=\"109\" y=\"-190.25\" font-family=\"monospace\" font-size=\"10.00\">AddBackward0</text>\n",
       "</g>\n",
       "<!-- 6023495152&#45;&gt;6028764560 -->\n",
       "<g id=\"edge2\" class=\"edge\">\n",
       "<title>6023495152&#45;&gt;6028764560</title>\n",
       "<path fill=\"none\" stroke=\"black\" d=\"M109,-182.59C109,-175.97 109,-166.97 109,-158.77\"/>\n",
       "<polygon fill=\"black\" stroke=\"black\" points=\"112.5,-158.84 109,-148.84 105.5,-158.84 112.5,-158.84\"/>\n",
       "</g>\n",
       "<!-- 6027392144 -->\n",
       "<g id=\"node5\" class=\"node\">\n",
       "<title>6027392144</title>\n",
       "<polygon fill=\"lightgrey\" stroke=\"black\" points=\"100,-260.5 0,-260.5 0,-239.75 100,-239.75 100,-260.5\"/>\n",
       "<text text-anchor=\"middle\" x=\"50\" y=\"-247\" font-family=\"monospace\" font-size=\"10.00\">AccumulateGrad</text>\n",
       "</g>\n",
       "<!-- 6027392144&#45;&gt;6023495152 -->\n",
       "<g id=\"edge3\" class=\"edge\">\n",
       "<title>6027392144&#45;&gt;6023495152</title>\n",
       "<path fill=\"none\" stroke=\"black\" d=\"M60.55,-239.34C68.77,-231.71 80.4,-220.92 90.2,-211.82\"/>\n",
       "<polygon fill=\"black\" stroke=\"black\" points=\"92.48,-214.48 97.43,-205.11 87.72,-209.34 92.48,-214.48\"/>\n",
       "</g>\n",
       "<!-- 4698136144 -->\n",
       "<g id=\"node6\" class=\"node\">\n",
       "<title>4698136144</title>\n",
       "<polygon fill=\"lightblue\" stroke=\"black\" points=\"77,-330 23,-330 23,-296.5 77,-296.5 77,-330\"/>\n",
       "<text text-anchor=\"middle\" x=\"50\" y=\"-316.5\" font-family=\"monospace\" font-size=\"10.00\">x</text>\n",
       "<text text-anchor=\"middle\" x=\"50\" y=\"-303.75\" font-family=\"monospace\" font-size=\"10.00\"> ()</text>\n",
       "</g>\n",
       "<!-- 4698136144&#45;&gt;6027392144 -->\n",
       "<g id=\"edge4\" class=\"edge\">\n",
       "<title>4698136144&#45;&gt;6027392144</title>\n",
       "<path fill=\"none\" stroke=\"black\" d=\"M50,-296.19C50,-288.85 50,-280.07 50,-272.21\"/>\n",
       "<polygon fill=\"black\" stroke=\"black\" points=\"53.5,-272.48 50,-262.48 46.5,-272.48 53.5,-272.48\"/>\n",
       "</g>\n",
       "<!-- 6027380000 -->\n",
       "<g id=\"node7\" class=\"node\">\n",
       "<title>6027380000</title>\n",
       "<polygon fill=\"lightgrey\" stroke=\"black\" points=\"218,-260.5 118,-260.5 118,-239.75 218,-239.75 218,-260.5\"/>\n",
       "<text text-anchor=\"middle\" x=\"168\" y=\"-247\" font-family=\"monospace\" font-size=\"10.00\">AccumulateGrad</text>\n",
       "</g>\n",
       "<!-- 6027380000&#45;&gt;6023495152 -->\n",
       "<g id=\"edge5\" class=\"edge\">\n",
       "<title>6027380000&#45;&gt;6023495152</title>\n",
       "<path fill=\"none\" stroke=\"black\" d=\"M157.45,-239.34C149.23,-231.71 137.6,-220.92 127.8,-211.82\"/>\n",
       "<polygon fill=\"black\" stroke=\"black\" points=\"130.28,-209.34 120.57,-205.11 125.52,-214.48 130.28,-209.34\"/>\n",
       "</g>\n",
       "<!-- 4698140464 -->\n",
       "<g id=\"node8\" class=\"node\">\n",
       "<title>4698140464</title>\n",
       "<polygon fill=\"lightblue\" stroke=\"black\" points=\"195,-330 141,-330 141,-296.5 195,-296.5 195,-330\"/>\n",
       "<text text-anchor=\"middle\" x=\"168\" y=\"-316.5\" font-family=\"monospace\" font-size=\"10.00\">y</text>\n",
       "<text text-anchor=\"middle\" x=\"168\" y=\"-303.75\" font-family=\"monospace\" font-size=\"10.00\"> ()</text>\n",
       "</g>\n",
       "<!-- 4698140464&#45;&gt;6027380000 -->\n",
       "<g id=\"edge6\" class=\"edge\">\n",
       "<title>4698140464&#45;&gt;6027380000</title>\n",
       "<path fill=\"none\" stroke=\"black\" d=\"M168,-296.19C168,-288.85 168,-280.07 168,-272.21\"/>\n",
       "<polygon fill=\"black\" stroke=\"black\" points=\"171.5,-272.48 168,-262.48 164.5,-272.48 171.5,-272.48\"/>\n",
       "</g>\n",
       "</g>\n",
       "</svg>\n"
      ],
      "text/plain": [
       "<graphviz.graphs.Digraph at 0x122947e10>"
      ]
     },
     "execution_count": 181,
     "metadata": {},
     "output_type": "execute_result"
    }
   ],
   "source": [
    "l = 2*z + 3*z.detach()\n",
    "\n",
    "make_dot(l, params={\"x\": x, \"y\": y, \"l\": l})"
   ]
  },
  {
   "cell_type": "markdown",
   "metadata": {
    "id": "2TnqIWAIOquv"
   },
   "source": [
    "The computation graph has changed because `3*z.detach()` looks like the number 9 to the compuation graph.\n",
    "The output has not changed though, $l = 2z + 9 = 2(x + y) + 9 = 6 + 9 = 15$. However, our gradients are changed because $\\frac{d}{dx} 2(x+y) + 9 = \\frac{d}{dx} 2x = 2$ and $\\frac{d}{dy} 2(x+y) + 9= \\frac{d}{dy} 2y = 2$.\n",
    "Take the derivative of `l` (don't forget to zero out the gradients of `x` and `y`) and print out `l` and the gradients of `x` and `y` to validate this is true."
   ]
  },
  {
   "cell_type": "code",
   "execution_count": 182,
   "metadata": {
    "id": "MYTFhlQaOquw"
   },
   "outputs": [
    {
     "data": {
      "text/plain": [
       "(tensor(15., grad_fn=<AddBackward0>), tensor(2.), tensor(2.))"
      ]
     },
     "execution_count": 182,
     "metadata": {},
     "output_type": "execute_result"
    }
   ],
   "source": [
    "x.grad = None\n",
    "y.grad = None\n",
    "l.backward()\n",
    "l, x.grad, y.grad"
   ]
  },
  {
   "cell_type": "markdown",
   "metadata": {
    "id": "gH4C-ixiOquw"
   },
   "source": [
    "---\n",
    "\n",
    "# Gradient Descent Learning"
   ]
  },
  {
   "cell_type": "code",
   "execution_count": 183,
   "metadata": {
    "id": "bgKzMWRTOquw"
   },
   "outputs": [],
   "source": [
    "import numpy as np\n",
    "import matplotlib.pyplot as plt\n",
    "from matplotlib import cm\n",
    "import matplotlib.animation as animation\n",
    "from typing import List"
   ]
  },
  {
   "cell_type": "markdown",
   "metadata": {
    "id": "iAXxMZaWOquw"
   },
   "source": [
    "Why do we care about using PyTorch's autodiff functionality?\n",
    "Because it can be utilized for optimization.\n",
    "Assume for example, we have $n$ data points and we want to find a line that best fits the data, differentiation can tell us how to find the best fitting line through gradient descent."
   ]
  },
  {
   "cell_type": "markdown",
   "metadata": {
    "id": "AcbyZgD-Oquw"
   },
   "source": [
    "First let's create a Random Number Generator (RNG) to make sure our experiment is reproducible"
   ]
  },
  {
   "cell_type": "code",
   "execution_count": 184,
   "metadata": {
    "id": "fm668cwkOqux"
   },
   "outputs": [],
   "source": [
    "rng = np.random.default_rng(42)"
   ]
  },
  {
   "cell_type": "markdown",
   "metadata": {
    "id": "4qm5pRfgOquy"
   },
   "source": [
    "And now let's generate our data.\n",
    "The true slope to our line is $m=.3$ and the our true intercept is $b=.25$.\n",
    "Our data is 9 data points along this line with some added noise."
   ]
  },
  {
   "cell_type": "code",
   "execution_count": 185,
   "metadata": {
    "id": "GslnNWE0Oquy"
   },
   "outputs": [],
   "source": [
    "true_m = .3\n",
    "true_b = .25\n",
    "x_data = np.linspace(.1, .9, 9)\n",
    "noise = rng.normal(0, 1, size=x_data.shape) * .1\n",
    "y_data = true_m*x_data + true_b + noise"
   ]
  },
  {
   "cell_type": "markdown",
   "metadata": {
    "id": "Rx8GpfbCOquy"
   },
   "source": [
    "Below are some helper functions.\n",
    "You don't need to look at them, just execute the cell below and move on."
   ]
  },
  {
   "cell_type": "code",
   "execution_count": 186,
   "metadata": {
    "id": "La6b6KBGOquy"
   },
   "outputs": [],
   "source": [
    "def _add_true_fn_and_data(ax, handles, labels):\n",
    "    ax.set_xlim(-.05, 1.05)\n",
    "    ax.set_ylim(-.05, 1.05)\n",
    "    ax.set_xlabel(r\"x\")\n",
    "    ax.set_ylabel(r\"y\")\n",
    "    ax.set_title(\"Input/Output Plot\")\n",
    "    # Plot data\n",
    "    ax.scatter(x_data, y_data)\n",
    "    # Plot true function\n",
    "    xs = np.linspace(0, 1, 100)\n",
    "    true_ys = true_m*xs + true_b\n",
    "    handle, = ax.plot(xs, true_ys, label=\"true fn\")\n",
    "    handles.append(handle)\n",
    "    labels.append(\"true fn\")\n",
    "\n",
    "\n",
    "def _add_pred_fn_and_errors(pred_m, pred_b, ax, handles, labels):\n",
    "    xs = np.linspace(0, 1, 100)\n",
    "    pred_ys = pred_m * xs + pred_b\n",
    "    pred_line, = ax.plot(xs, pred_ys, label=\"pred fn\")\n",
    "    handles.append(pred_line)\n",
    "    labels.append(\"pred fn\")\n",
    "\n",
    "    pred_y = pred_m * x_data + pred_b\n",
    "    errors = pred_y - y_data\n",
    "    error_lines = []\n",
    "    for x_i, y_i, error in zip(x_data, y_data, errors):\n",
    "        error_line, = ax.plot([x_i, x_i], [y_i, y_i + error], c=\"red\", label=\"error\")\n",
    "        error_lines.append(error_line)\n",
    "    handles.append(error_line)\n",
    "    labels.append(\"error\")\n",
    "    return pred_line, error_lines\n",
    "\n",
    "\n",
    "def _add_loss_surface(ax, m_min=-1, m_max=1.5, b_min=-.4, b_max=.9):\n",
    "    steps = 50\n",
    "    m_space = np.linspace(m_min, m_max, steps)\n",
    "    b_space = np.linspace(b_min, b_max, steps)\n",
    "\n",
    "    MM, BB = np.meshgrid(m_space, b_space, indexing=\"ij\")\n",
    "    MM = MM.reshape(steps * steps)\n",
    "    BB = BB.reshape(steps * steps)\n",
    "\n",
    "    YY = MM[:, None] @ x_data[None, :] + BB[:, None]\n",
    "    EE = YY - y_data[None, :]\n",
    "    EE = np.mean(EE**2, axis=1)\n",
    "\n",
    "    MM = MM.reshape(steps, steps)\n",
    "    BB = BB.reshape(steps, steps)\n",
    "    EE = EE.reshape(steps, steps)\n",
    "\n",
    "    ax.contourf(MM, BB, np.log2(EE))\n",
    "    ax.set_title(\"Loss Surface\")\n",
    "    ax.set_xlabel(\"slope \" + r\"($m$)\")\n",
    "    ax.set_ylabel(\"intercept \" + r\"($b$)\")\n",
    "\n",
    "\n",
    "def plot_data(pred_m=None, pred_b=None, figsize=(6, 6)):\n",
    "    fig, ax = plt.subplots(1, 1, figsize=figsize)\n",
    "    handles = []\n",
    "    labels = []\n",
    "\n",
    "    _add_true_fn_and_data(ax=ax, handles=handles, labels=labels)\n",
    "\n",
    "    # Plot predicted function\n",
    "    if pred_m is not None or pred_b is not None:\n",
    "        if pred_m is None:\n",
    "            pred_m = 0\n",
    "        if pred_b is None:\n",
    "            pred_b = 0\n",
    "        _add_pred_fn_and_errors(pred_m=pred_m, pred_b=pred_b, ax=ax, handles=handles, labels=labels)\n",
    "\n",
    "    ax.legend(handles, labels)\n",
    "    plt.show()\n",
    "\n",
    "\n",
    "def plot_1d_loss_surface(pred_ms=None, pred_bs=None, figsize=(12, 6)):\n",
    "    if pred_ms is None and pred_bs is None:\n",
    "        raise ValueError(f\"Expected pred_ms or pred_bs to be not None\")\n",
    "    if pred_ms is not None and pred_bs is not None:\n",
    "        print(f\"Both pred_ms and pred_bs are not None and function will default to using pred_ms\")\n",
    "\n",
    "    fig, axes = plt.subplots(1, 2, figsize=figsize)\n",
    "    handles = []\n",
    "    labels = []\n",
    "\n",
    "    ### Input Output ###\n",
    "    inp_out_ax = axes[0]\n",
    "    _add_true_fn_and_data(ax=inp_out_ax, handles=handles, labels=labels)\n",
    "\n",
    "    # Plot predicted function\n",
    "    pred_vars = None\n",
    "    if pred_ms is not None:\n",
    "        pred_ms = np.array(pred_ms)\n",
    "        pred_ms = np.concatenate((pred_ms, pred_ms[::-1]))\n",
    "        pred_bs = np.zeros_like(pred_ms)\n",
    "        loss_title = \"Loss Surface With Respect To Slope\"\n",
    "        loss_xlabel = \"slope\"\n",
    "        pred_vars = pred_ms\n",
    "    else:\n",
    "        pred_bs = np.array(pred_bs)\n",
    "        pred_bs = np.concatenate((pred_bs, pred_bs[::-1]))\n",
    "        pred_ms = np.zeros_like(pred_bs)\n",
    "        loss_title = \"Loss Surface With Respect To Intercept\"\n",
    "        loss_xlabel = \"intercept\"\n",
    "        pred_vars = pred_bs\n",
    "\n",
    "    pred_line, error_lines = _add_pred_fn_and_errors(pred_m=pred_ms[0], pred_b=pred_bs[0], ax=inp_out_ax, handles=handles, labels=labels)\n",
    "\n",
    "    inp_out_ax.legend(handles, labels)\n",
    "\n",
    "    ### 1D Loss Surface ###\n",
    "    loss_ax = axes[1]\n",
    "\n",
    "    pred_ys = x_data[:, None] @ pred_ms[None, :] + pred_bs\n",
    "    sses = np.sum((y_data[:, None] - pred_ys)**2, axis=0)\n",
    "\n",
    "    loss_ax.plot(pred_vars[:len(pred_vars)//2], sses[:len(sses)//2])\n",
    "\n",
    "    loss_scatter = loss_ax.scatter(pred_vars[0:1], sses[0:1])\n",
    "\n",
    "    loss_ax.set_title(loss_title)\n",
    "    loss_ax.set_xlabel(loss_xlabel)\n",
    "    loss_ax.set_ylabel(\"Sum Square Error\")\n",
    "\n",
    "    xs = np.linspace(0, 1, 100)\n",
    "    def update(frame):\n",
    "        # for each frame, update the data stored on each artist.\n",
    "        pred_m = pred_ms[frame]\n",
    "        pred_b = pred_bs[frame]\n",
    "        pred_ys = pred_m * xs + pred_b\n",
    "\n",
    "        pred_line.set_ydata(pred_ys)\n",
    "\n",
    "        pred_y = pred_m * x_data + pred_b\n",
    "        errors = pred_y - y_data\n",
    "\n",
    "        for error_line, y_i, error in zip(error_lines, y_data, errors):\n",
    "            error_line.set_ydata([y_i, y_i + error])\n",
    "\n",
    "        loss_scatter.set_offsets(np.array([pred_vars[frame], sses[frame]]))\n",
    "\n",
    "        return (pred_line, *error_lines, loss_scatter)\n",
    "\n",
    "    anim = animation.FuncAnimation(fig=fig, func=update, frames=len(pred_ms), interval=50, blit=True)\n",
    "    from IPython.display import HTML\n",
    "    anim = HTML(anim.to_html5_video())\n",
    "    plt.close('all')\n",
    "    del fig\n",
    "    return anim\n",
    "\n",
    "\n",
    "def plot_2d_loss_surface():\n",
    "    def fan_linspace(start, diff, step, fan_up=True):\n",
    "        quarter_step = step//4\n",
    "        offset = diff\n",
    "        if not fan_up:\n",
    "            offset = -diff\n",
    "        return np.concatenate([np.linspace(start, start+offset, quarter_step),\n",
    "                            np.linspace(start+offset, start, quarter_step),\n",
    "                            np.linspace(start, start-offset, quarter_step),\n",
    "                            np.linspace(start-offset, start, quarter_step)])\n",
    "\n",
    "    sim_steps = 50\n",
    "    anim_pred_ms = np.concatenate([np.full(sim_steps, true_m), fan_linspace(true_m, true_m*2, sim_steps), (true_m - .5 + np.cos(np.linspace(0, 2*np.pi, sim_steps)) / 2).tolist(), (true_m + .5 + np.cos(np.linspace(np.pi, 3*np.pi, sim_steps)) / 2).tolist()])[:, None]\n",
    "    anim_pred_bs = np.concatenate([fan_linspace(true_b, true_b*2, sim_steps), np.full(sim_steps, true_b), (true_b + np.sin(np.linspace(0, 2*np.pi, sim_steps)) / 2).tolist(), (true_b + np.sin(np.linspace(0, 2*np.pi, sim_steps)) / 2).tolist()])[:, None]\n",
    "\n",
    "    fig, axes = plt.subplots(1, 2, figsize=(12, 6))\n",
    "    handles = []\n",
    "    labels = []\n",
    "\n",
    "    ### Input Output ###\n",
    "    inp_out_ax = axes[0]\n",
    "    _add_true_fn_and_data(inp_out_ax, handles, labels)\n",
    "    pred_line, error_lines = _add_pred_fn_and_errors(anim_pred_ms[0], anim_pred_bs[0], inp_out_ax, handles, labels)\n",
    "    inp_out_ax.set_xlim(-.2, 1.2)\n",
    "    inp_out_ax.set_ylim(-.2, 1.2)\n",
    "    inp_out_ax.legend(handles, labels)\n",
    "\n",
    "    ### Loss Surface ###\n",
    "    loss_ax = axes[1]\n",
    "    _add_loss_surface(loss_ax)\n",
    "    loss_scatter = loss_ax.scatter(anim_pred_ms[0:1], anim_pred_bs[0:1], c=\"orange\")\n",
    "\n",
    "    xs = np.linspace(0, 1, 100)\n",
    "    def update(frame):\n",
    "        # for each frame, update the data stored on each artist.\n",
    "        pred_m = anim_pred_ms[frame]\n",
    "        pred_b = anim_pred_bs[frame]\n",
    "        pred_ys = pred_m * xs + pred_b\n",
    "\n",
    "        pred_line.set_ydata(pred_ys)\n",
    "\n",
    "        pred_y = pred_m * x_data + pred_b\n",
    "        errors = pred_y - y_data\n",
    "\n",
    "        for error_line, y_i, error in zip(error_lines, y_data, errors):\n",
    "            error_line.set_ydata([y_i, y_i + error])\n",
    "\n",
    "        loss_scatter.set_offsets(np.concatenate([anim_pred_ms[frame], anim_pred_bs[frame]]))\n",
    "\n",
    "        return (pred_line, *error_lines, loss_scatter)\n",
    "\n",
    "\n",
    "    anim = animation.FuncAnimation(fig=fig, func=update, frames=len(anim_pred_ms), interval=45, blit=True)\n",
    "    from IPython.display import HTML\n",
    "    anim = HTML(anim.to_html5_video())\n",
    "    plt.close('all')\n",
    "    del fig\n",
    "    return anim\n",
    "\n",
    "def plot_slope_grad(m: torch.Tensor | List[torch.Tensor], grad: torch.Tensor | List[torch.Tensor] | None, learning_rate: float = 1., figsize=(4, 3)):\n",
    "    fig, ax = plt.subplots(figsize=figsize)\n",
    "    # Plot loss surface\n",
    "    xs = np.linspace(-1.2, 2.5, 100)\n",
    "    y_hat = x_data[:, None] @ xs[None, :]\n",
    "    sses = np.sum((y_hat - y_data[:, None])**2, axis=0)\n",
    "    ax.plot(xs, sses)\n",
    "\n",
    "    # Plot gradient\n",
    "    if isinstance(m, torch.Tensor):\n",
    "        m = [m]\n",
    "    handle = None\n",
    "    for i in range(len(m)):\n",
    "        loss = np.sum((x_data * m[i].item() - y_data)**2)\n",
    "        ax.scatter(x=[m[i].item()], y=[loss], color='r')\n",
    "        if grad is not None:\n",
    "            if grad[i] is None:\n",
    "                continue\n",
    "            handle = ax.arrow(x=m[i].item(), y=loss, dx=grad[i].item() * learning_rate, dy=0, head_width=0.2, head_length=0.1, width=0.01, color='r', length_includes_head=True, label=\"gradient\")\n",
    "\n",
    "    if handle is not None:\n",
    "        ax.legend([handle], [\"gradient\"])\n",
    "\n",
    "    ax.set_xlabel(\"slope \" + r\"($m$)\")\n",
    "    ax.set_ylabel(\"SSE Loss\")\n",
    "\n",
    "    plt.show()\n",
    "\n",
    "\n",
    "def plot_grad(m: torch.Tensor | List[torch.Tensor],\n",
    "              b: torch.Tensor | List[torch.Tensor],\n",
    "              m_grad: torch.Tensor | List[torch.Tensor] | None,\n",
    "              b_grad: torch.Tensor | List[torch.Tensor] | None,\n",
    "              learning_rate: float = 1., figsize=(4, 4)):\n",
    "    fig, ax = plt.subplots(figsize=figsize)\n",
    "    _add_loss_surface(ax, m_min=-3, m_max=3, b_min=-3, b_max=3)\n",
    "\n",
    "    if isinstance(m, torch.Tensor):\n",
    "        m = [m]\n",
    "        m_grad = [m_grad]\n",
    "        b = [b]\n",
    "        b_grad = [b_grad]\n",
    "\n",
    "    handle = None\n",
    "    for i in range(len(m)):\n",
    "        ax.scatter(x=[m[i].item()], y=[b[i].item()], color='r')\n",
    "        if m_grad is not None:\n",
    "            if m_grad[i] is None:\n",
    "                continue\n",
    "            handle = ax.arrow(x=m[i].item(), y=b[i].item(), dx=m_grad[i].item() * learning_rate, dy=b_grad[i].item() * learning_rate,\n",
    "                              head_width=0.2, head_length=0.1, width=0.01, color='r', length_includes_head=True, label=\"gradient\")\n",
    "\n",
    "    if handle is not None:\n",
    "        ax.legend([handle], [\"gradient\"])\n",
    "\n",
    "    ax.set_xlabel(\"slope \" + r\"($m$)\")\n",
    "    ax.set_ylabel(\"intercept \" + r\"($b$)\")"
   ]
  },
  {
   "cell_type": "markdown",
   "metadata": {
    "id": "LDFz2kmhOquz"
   },
   "source": [
    "Now that we have generated our data, call `plot_data()` so we can see what it looks like, you don't have to pass in any arguments."
   ]
  },
  {
   "cell_type": "code",
   "execution_count": 187,
   "metadata": {
    "id": "b93saVj_Oquz"
   },
   "outputs": [
    {
     "data": {
      "image/png": "[encoded data removed]",
      "text/plain": [
       "<Figure size 600x600 with 1 Axes>"
      ]
     },
     "metadata": {},
     "output_type": "display_data"
    }
   ],
   "source": [
    "plot_data()"
   ]
  },
  {
   "cell_type": "markdown",
   "metadata": {
    "id": "-Df39gJjOquz"
   },
   "source": [
    "Now call `plot_data()`, but this time pass in a prediction for the slope (e.g.\n",
    "`pred_m=0.5`) and intercept (e.g. `pred_b=0.1`)."
   ]
  },
  {
   "cell_type": "code",
   "execution_count": 188,
   "metadata": {
    "id": "MlGZHS3uOquz"
   },
   "outputs": [
    {
     "data": {
      "image/png": "[encoded data removed]",
      "text/plain": [
       "<Figure size 600x600 with 1 Axes>"
      ]
     },
     "metadata": {},
     "output_type": "display_data"
    }
   ],
   "source": [
    "plot_data(pred_m=.5, pred_b=.1)"
   ]
  },
  {
   "cell_type": "markdown",
   "metadata": {
    "id": "ahhxkaYUOquz"
   },
   "source": [
    "The errors $e$ are computed by looking at the difference between the true data $y$ and our predictions $\\hat{y}$, i.e. $e = y - \\hat{y}$.\n",
    "Now if we squared our errors and then took their sum, i.e compute the sum squared error (SSE), $\\sum (y - \\hat{y})^2$ then we get a single value, which we call the loss, that tells us how good our prediction function fits the data.\n",
    "\n",
    "Furthermore, if we moved the predicted slope around we could see how different slopes compare to each either through the loss.\n",
    "To visualize this look execute the cell below."
   ]
  },
  {
   "cell_type": "code",
   "execution_count": 189,
   "metadata": {
    "id": "JMPWwaHOOqu0"
   },
   "outputs": [
    {
     "data": {
      "text/html": [
       "<video width=\"1200\" height=\"600\" controls autoplay loop>\n",
       "  <source type=\"video/mp4\" src=\"data:video/mp4;base64,AAAAIGZ0eXBNNFYgAAACAE00ViBpc29taXNvMmF2YzEAAAAIZnJlZQABL7FtZGF0AAACrwYF//+r\n",
       "3EXpvebZSLeWLNgg2SPu73gyNjQgLSBjb3JlIDE2NCByMzEwOCAzMWUxOWY5IC0gSC4yNjQvTVBF\n",
       "Ry00IEFWQyBjb2RlYyAtIENvcHlsZWZ0IDIwMDMtMjAyMyAtIGh0dHA6Ly93d3cudmlkZW9sYW4u\n",
       "b3JnL3gyNjQuaHRtbCAtIG9wdGlvbnM6IGNhYmFjPTEgcmVmPTMgZGVibG9jaz0xOjA6MCBhbmFs\n",
       "eXNlPTB4MzoweDExMyBtZT1oZXggc3VibWU9NyBwc3k9MSBwc3lfcmQ9MS4wMDowLjAwIG1peGVk\n",
       "X3JlZj0xIG1lX3JhbmdlPTE2IGNocm9tYV9tZT0xIHRyZWxsaXM9MSA4eDhkY3Q9MSBjcW09MCBk\n",
       "ZWFkem9uZT0yMSwxMSBmYXN0X3Bza2lwPTEgY2hyb21hX3FwX29mZnNldD0tMiB0aHJlYWRzPTE4\n",
       "IGxvb2thaGVhZF90aHJlYWRzPTMgc2xpY2VkX3RocmVhZHM9MCBucj0wIGRlY2ltYXRlPTEgaW50\n",
       "ZXJsYWNlZD0wIGJsdXJheV9jb21wYXQ9MCBjb25zdHJhaW5lZF9pbnRyYT0wIGJmcmFtZXM9MyBi\n",
       "X3B5cmFtaWQ9MiBiX2FkYXB0PTEgYl9iaWFzPTAgZGlyZWN0PTEgd2VpZ2h0Yj0xIG9wZW5fZ29w\n",
       "PTAgd2VpZ2h0cD0yIGtleWludD0yNTAga2V5aW50X21pbj0yMCBzY2VuZWN1dD00MCBpbnRyYV9y\n",
       "ZWZyZXNoPTAgcmNfbG9va2FoZWFkPTQwIHJjPWNyZiBtYnRyZWU9MSBjcmY9MjMuMCBxY29tcD0w\n",
       "LjYwIHFwbWluPTAgcXBtYXg9NjkgcXBzdGVwPTQgaXBfcmF0aW89MS40MCBhcT0xOjEuMDAAgAAA\n",
       "RjNliIQAN//+9vD+BTY7mNCXEc3onTMfvxW4ujQ3vc4AAAMAAAMAAAMAAAMASp6F4PZ2U7JeGAAA\n",
       "AwAAB9gAEfnfZWyAZ6SfMAZYhRahrxyuHhxlF+OAzgJwnI8hZeg8Wa1jA7+jZz7ZVVCP31jE/DXY\n",
       "VHlr4bp4CHh9e3DUPhYsv5D70+ERQavLCrKVy5line3BtaZXswWqGVGdst9/KIS10YQel/18XINA\n",
       "vzfSvYrX4Y9SAugMWAoY2GE2hunT6IYLN11yMBvvlH/+XK2XPqKxI60tCAuNvu2i2Ciz8XViborY\n",
       "BViwo3jzpn/7mUjcMOleN3XgX7qf1psdlkQDCUjOG4hpOSLdGiHs+Xfwzl3wLUU7jKuCueKOPlBt\n",
       "1anbVY8MU3GKRsBJ1eTXrT/esNXAMb36cUGYJxBHHvvNhMyODTdZwwpIewt28hmO6Mi9HFi7jqFY\n",
       "Mo9xvFwMhw12GTX4PgFTf5mfAmrXVOcD6J6+by14jQ3hh99YZr/IXyGZ3rj4cSXLensRdFpmn6Oo\n",
       "Cb7LHOtbSgwG2wIcH1vGX/UVB431ZGc0PuXBuWRZyjmmUSJBSZxdN1I3SOCZzorfZ3XB9dS+QLYF\n",
       "E+bvBgcz5ychQquUo1RBkInGdBCzi814fO/CTYUo+UlLIoit6WstP0Y5uxa4LzsWW4514vZ6SQjZ\n",
       "+NWJv8TgxHRqXnmHL/LNnY0n1s8BJ8ikw2YCfkwBfjp0iHd9MJ205ba0DxCyqlKOTFD1mdBazAE6\n",
       "JXs78U7QSZiw6ojG2LFMjXqL6pQchz9t3sHGdChJsKwuAlf/Q19rc2VbJ74L9GVCDDPXWqlzTgjN\n",
       "xDhFHukcpKWwwAuMLahC3aAOAagZJzvWPcKaMKhLuiiHb9d/QmFMn64fU72yd3YJTIJGZXuoPrAS\n",
       "d8hvlEkpTn3o4ZZYCnPxmQfnctLZen8zUN4HH/mtSpeeIujaZkV7AoCrz2yOM/APSn/wjvdpaNXZ\n",
       "HnpNRJinhv+jfy5dDfj8MgsCuCOArqgyI03XlUpXxPvcwuYlsgBBuuqliRfp6Z9TYfRVC15xLiNB\n",
       "PDjiRvun2625K9WDLgC20W7OKa1/QCV2crZ1dyst2xLigY2yT/V8/Fl/shv5inNdL2XMOczx8YNo\n",
       "fC4cDw8E1exjGXAxcRtxjZyTRsxQ0ooVoGtPA3i5vcy80ohXaX2qGLL9Vkpt5dn8uiN0Prbkiy0f\n",
       "ik68xWE67+svYfdnmQl8KC5ICzOevkIj0PFTB0wsUZ7+5laWYnKutnDHyoDmOCFfMrwze+56sjIh\n",
       "ZzsSJ5JYvv34fGJRIfU0QWWaR9ZEfZCXOahnzp5V78kfNhoYvNxQ2PxRTxnqJtaIqGMdMh3trsNU\n",
       "/IG8bdTNesoaHjGzmQhCsLYcK2YmxyqPhYLHJGFQSOnwFXPyR/hGf/JLV49fqF/KGYrDEauVQA/t\n",
       "oj0JGtB3tmDQca6SYFk3z737+//VHPYGWTJBKMyaWQ4Mke5klU931LGoIT6dFsSGdi9Bm7TpGzV3\n",
       "d93fgqz7wTCjfbbaGrry3PufgW8FAAgUfeDDqq6NmP18YiRbIJXmY84UWdxhwj9vO5H8yadG6i0c\n",
       "C5+6mAg+/OTnI7E8HsJEPzHe74cCGR+lCbio7Z9+L5Qpr2fj98Evb/mZqTkY8xR1u12GFmR1PhC4\n",
       "53rmgmjyeyA9/Npy12E80BOpUfs64STnRU4f3nv0Wh5LgSbA5kr7JnireNPzJ4VKtbLxWzNj1xo9\n",
       "xgT2tObcyelvCAoLSu1k2zCfr+9/uTYEJhO57R2mlPREkE817zinSQ4zkHfPKYBiJlPxdXn0s0Bq\n",
       "JScU1KrM6xPOYbj3VtLdRiyt3Hvchmuoi0BtZq8LLNGqNJxjDW7Oi/GqvcfgvJlfVovzII2+fmIk\n",
       "zeLHUCojylbQDkwe+5VC79zgL7uppUf98RXsoc+WT4nY/e24y5Y7SqQRQXlKQZ0to2q3KJ1bg585\n",
       "vGXuOfW6WEcIgWgstLK5JwvQvPkAaoTBa+AG2pGV+VTq3DBpKQNBgYmNQnyVhWFYAvXCVv0djVVr\n",
       "SER2Uqjoi3QMmUjdKamHW+Vj2FaJBae4QNPk6LwqWyFdR79A7/Sgyn/H/5CBZBvjEBigty+RrEy0\n",
       "EueP2xGx2r7OS47hrxZhHUxbl8RCvpbWGbTR3ClyKG4A/xPcAYNN6WdHMD8uTXLC3yPYQn8EArk3\n",
       "0zh03w7T0Xo2XUqw5lfzYIwA9h1LOZ+2wBD1SnzO2Q5tjI1sR3MJUynsTAa97nsb56Yqwy3xT+Xc\n",
       "3DOm2fZTZVHI4tKdHaOTSAToCaP9UALL1YYq6wXwXiLUaDcansNn7rAhs06pqeRrpH+9L227wSpZ\n",
       "2YVJHp3BdXK2iPoIJNfuKhk4G1z/3JLBMUd+oGCsX1JhPQCsSaGuLlK7ah1+HNgpDSZqs+A3mreH\n",
       "ucSEAESQBmKC0glX9uSBOzizCb+iCsC5Szhr54M3F/2TfvGAmOxG2F9jTQWCkyXfmFix9ZvDjygW\n",
       "zBbILhdhRUimGPWo+XZC4H3ZR3krpI+8bnGc1nOzVJjyhv8OUaJwjooVTX7pHmJmyLRh4esRjnWW\n",
       "daLML6GbmfWxu+DFt8OEWAL1ty8qVcyCeEyKHzlc/PY60tP4amVecCi4NdbZKEaw7OVzyoz0/0j7\n",
       "9ICHnWsYODL9/q429p8Jr+v+PLodStUnym7AFfpZHMkn8RLFPwPuHIHVSxMpGqCAT2GIv9A6Xh0v\n",
       "nmsdOsv+bo61Hjtgd6VBUC5PWzpbbdd1gIRK57zyjD2DhOieRuE6TyHLQ7JfaWup3ZcBKYNqIbRx\n",
       "Ctno5ArdncDOpn0fDEdDuqe1jgbItKKd3i+MYNWK3ubVmLj2oHyoeMMMS2byAFKm0moqA5z1DuCZ\n",
       "v54z6Eb7VU8PpGY9b0qs7lwlHS0g800ssSsbRPKC+4Mx8bMbMvyJnOO/BfdT9ndhNiXCqVrnP93G\n",
       "hv0M/nfNXZStqqdTXOvti0VaSFG8NdOuoIWfhSI9H9ZcCIB2XD+OMED7nwMaWgu8woc3Z2GW1jrA\n",
       "k2dZxy6jzDvpA6J85vjyvVy4ouFaVKOUk+i+xps5qc/Z+7lvq18pImAHTyfD2gh2cYotcQdyHECv\n",
       "VDR8OksUcVfdYhOuJPvWFYPP+NepMi9jGq66IVF/U8cj6rvw7C3D3//U49ig1Yfuf7uC8A+bO44W\n",
       "MAYkETGEbL9DZ3LFvf0ffpu93MlNFcF9H5kzRicDQoR1Wf8Z/nu2lKJraGK4cULVBE1VGcTsjZrp\n",
       "SgcQq1OccbtSNRINABxnJoiUXpEWD8CfFwwoDS0ylfpOc2G138K+vJzvz4uBe7j9re+/9myoNItO\n",
       "uOK2Et5uBZcWL9O0QGhjOY5M1aNYgC6hpKH5SOVQljcmsQJLQb6S413TJgl27z6kQsWVjw/7zxWz\n",
       "WeAJWf+JO3QYYHGNZD7Nyd3bovAemCevbJJYhJtoWD/9ObiPcsnJ25FSFQseKKPz/BdT3jTUhW64\n",
       "5TebQD4kuWnoOMnyXMvkjL03juxns10ifsTpzOILmyq0xMLM1QWXJvqcBv4gTl/B/2j6IikehHAg\n",
       "uf0ZueUbCRhb9k4q8nPgGHs7yPMcja4G/6Dgeg2ZB+WbHC9P4/9S+PX7rhwbV8rBf1XRoozFQNr/\n",
       "6P2Q0KeTKtD7Bo54vXrAeKa2407GF8P0SMJuqES7NjfLcr91DYWP8ny/mJw/4r/2xiKnDDOsaJW3\n",
       "BDoj4+Nb/CcS5Q2xJGgmvSWQJGPC+CrEMaVaBjqq28fVRsy5g2aHobSNZhYqE/4z/KAFEQQ90b9x\n",
       "NcciE2AV9IbfTMDaQq/gxgpylb0I1vn0DT0HeqpRuJF/JeCfhSiyNc4ch5FnbCNzLxiakljB9voB\n",
       "Fv9GQhIf/qaqcM1GS2KpJ+KXZPcMCFH/53NsOnpNu9ETiuJRVUBbP09KY1MvKk6lpR+jjHRo+1lX\n",
       "89Cu4GSQ4FTzv/q0C/QJ+O6O3p3WK/gsojVwLIW5+kBeSCsNflgLd5OXDegwXz2+fB3DkeWTpBVC\n",
       "n4klrv4xOnSaI9W4vU4xEH+aKcD6ZK3GgNyBFHDgLYHaXcsoFUShSBpXeVPcxb8xKdFJ/XeVgdIA\n",
       "g3tvvny/JOsIuZKsB0zfv15fDABlAkwfmm4Y8KWm8o996N4LjIObEAeugsyCYt6JJN0yZXEfHtVM\n",
       "CjNWVQ4696m1HKUrbNG79z9TqDCBFJ1kt0bp9ExzyoYX6QnRfUE7rEE6JvdkzXFUsOBi17CfVzmG\n",
       "Z02lqbZccGyPEvL79YfDm5qln3ODp83Bi4NYKnalLeQdg6Ur5qhwVkUCE6I2ryNjr8hUf9Jaglk4\n",
       "JlSL+AxayqCk1nH51SWsXlK++KoGOlwZd52G+mnxNj3Gq/7EajkUQmXDsRyhTr87mqE4aj6PwE85\n",
       "MDubMIEYQuatyc0vX4/h07ieFTZov1btq9t7oRTmuBPAERABO8NjNRTsgqjdjtUi7Ur3NzEs+rFS\n",
       "1Iu6AH3LD9gaX21jJWpcwpej/ZpS4wydBoTwpUOzTPApg/vf3aG9yioLlc06lPLxqP21B1/K9H+D\n",
       "mFEF61IWNzNk/+sU4Gc/jcXrk67AopmyIA5M08zbMCze9NeQuTTFSmQlN6ungSnEM04jXUDu6c3W\n",
       "5xy1FAIIGgGyL/rVcA6+LSuAM5xo2PLnpqEF/S11/4YWvabvyhRSoSZbn+cPFzfabUnNx8RjFvG3\n",
       "fq8dLw59oFfLYZkFTYttDqQZYGmLQzR2PkIe0vjb0j3RmA+T8N4u9VS0R9bsQdN0TD19QoKEw3CZ\n",
       "nbhGx96gTe4ohYmxXC2gq+bG3V3vmIWefNXnT8pLFrSaBbM1cJLlOiLxMNEhrbjOKbMPdekpWF4/\n",
       "5Fc5YN4dEONXaqaySdX39LMV/WuNv6HCaN9w9i+MEzUO5H7huGXFPSYObTWX22tS6SwfZWBpuwnh\n",
       "lQFQwCxHHP4AAAMAG5AqNSUHw/ey4nbRyvi3MeGy5RV/1Erc7c7xmYJxgrtFVnohITxaJEravRAL\n",
       "xiHM9kt8O5ZYvMu3rGjyx6Mqmq7bdZ2iW/gGfZ+Sz9uBTlkL4ZIvhnN5RjTnhXU1/7g15zLWPxkz\n",
       "mHaF3OJ5H4i6MMZZn7cXh7cpTzpJ6PcHFY7cZNLt7eWRTUhXX6iO7nXiWhIVtCakD0SR6m3INxb1\n",
       "DPsXd09Q+sWTPuXJTeSA5oaDcGE+G7CwYURCrfYmPSYcbiMtx23OIhZ0Y2uma6U0sYmcJPWGACOP\n",
       "afiwJjagRS8t/tDcVRckvN9kG4ESVRKqeBVQ+xeQ5cSiNXak8D6jjuLOauFBIozm8WQaAjAfNs7M\n",
       "3SlnqlT/tAzMcbnJUZHDjPRDC2qx2qXgnHf+zp/nv+wGb9urcVUpJ3ZXPWGUOgdP65JO2u9ha56R\n",
       "zFLjUBAwP8uwBonEBjp1nrpzfBvlWU0ybX97p2ulQ9bpXwvOZem5mfIREAOhPvMNsZZ0ZluXKoJJ\n",
       "afsxi9xHGI8hsccr/MFz+efD9HMQldHGwtA9stwJoAApaACbBJZAy4i0sCK+F4ODvmV0ZCm++X9/\n",
       "nrc2VJ/s2I8wRH/5CzwpdZBHSrlX1ZNoFjj+IoQFYlvr+nLhtfD0uFYsdD4033vQU/KPOdFt1DoY\n",
       "jZ7T25XtnBkaSWtWAXlJ4MJpxbSlkanhPmyFlIad64R/kAnYcBCYCdqAeDaBBGYHWN2AR4S+j+pH\n",
       "LCOt0gkxHK+M1/cDJ5SRrV7gFPvEwFSeQw2cI4a6se8VophVp+h4pCX1zddbFH/+13f6Cn7jwZKB\n",
       "R0DlZ3/BdLmP3rWUyjE7IcWgUUi4wXt+rB4ByXYT/nPvaFZ1swb69mUK+G51/p4IDqEoQIdUFHj7\n",
       "fisv4nRQdLNN9caIN51P73pVjFkkGnoYtRrUYpb5QrOrXLUmSHr93s0pX213AioPv+mQj2EcrViO\n",
       "Twfz9DoSR/M+wtocbEtyjeLb/rZhyMYgoE+UWhk1K3mvVTeRd9dCodN3pP2AR3SRr/llwdpNCWOM\n",
       "GBXxt3HLHjNfgok2zWc3X58HYFtzZQSZ+X7zss/HymAzjycP0wZoML0SLdh/0NT+qZSHKpoUlH6p\n",
       "Sjo0DZHt3mObdV6fw6QOpaEt6M+3e777Cf5GYLilPuMsYRwklri8fMXy9DC4Sq/UEHLlG2KUe5MV\n",
       "p/5sJvCab/TIj1cc+vkzIszvE1e4tpp79ZeA7/mSQ8YajZnLmCRn2IPrse7qpbCWqpCU24lqeYxP\n",
       "UyqUWfmb/ackmsmnSFsNrRwzk7d2HTdb1Fl9vGmrRpZ2WFUeeAaY4I6mFwt7nKZHZoZ0oeni5OB5\n",
       "8pbSqtysrqjO3Ux41B91Md9XnzcBoi0HPVXjxINSzfGtS9SKlyEtA32zQD6E2Uk0eK8YbQNW+gg0\n",
       "346fKSGjn9T7Ww7VDtTCFvRrDq3DdyfKP5eeqLTcwqK60JfTuC6Jqd7qEoMX4mXWiTtn2DcBJQHN\n",
       "WOxKK8LTC0O0nRpuHtYd99VG8dtdgFRwBU6pYzjsEf/kNB06PGXcgNeAlGOx3D7yot4gEtjGCY7C\n",
       "v4u4DFxs3b/HpNE1zrRj31ET6ocRJPygxH21lyCxVVJkJbOXxeA5+LwvTO5+23JgIud/1Pcf8nw0\n",
       "PSRJ55rIVtAqfUji+spPDDJZzTlVRYIa1d4ME0k6iiH4gmLlZzRuGFCneHEMq+MdVvjIzh+qpp/K\n",
       "QpXOmJ7KGCjM4TTyDMLnPq6epRMR/1fkghQQHN10THuwwWHCPMtK8t5WPApN/AS9BcpYjZJVqSGA\n",
       "vB96KntvCaARbJ7jTV6rlG2vntrbPH9KfHi385z7cgFOGg2COZlGN6NyT7hgPHxMJ0JaMOoqAhFb\n",
       "8WICpFHm1h67WuJDDIamvT/uZRwjrwHte65sRDAmrtOLDf+TZhuLc+Upd4rn7zwJftxSEAXxn6fR\n",
       "pWl2Xlz8BbC6lzdK1qPxPzDG+RASKAv7/6FvmdAxA2AMLDzmrwXAJyuvSa/KDYBGK1oF+g+Dqf8c\n",
       "q1MZayHSTEHtnuaW7ZFwYV4lMFBKD46I9uiWrhl3zTMqxg3K1JFgt0wx8OpQtfTZXD+zcUlZXq8b\n",
       "9u10xRgvcugo9kzceCrHs/Qdu/sTfIPeBmTXDQnnCwHtZWwCx+R66QBTYFqPgnQyChZJC2zl0+Vt\n",
       "2ybqZrsfWagU0CVvx+b+nukRheNG7wfEXfoXZ5WsFZtsQfcrnQwFMV2cMs8MuAxV5fd1qrTaJOln\n",
       "/3Vnf9mczuhMWhhxYG8XsAc34PO0GJOe7MLIRICTmsUdMsldFe1Uv7dVUYlnAU3Y/NNJ1Q2W/shT\n",
       "0o6rEODSIoCk+5PnfbfRVu0VKKFFebe366D+gSOrWNEjDjMWo38JssdI784q3oHshAyFgb1lWSuE\n",
       "UsQPC39BCZ7JxivmUxN87wQGBzrlGFG8EWfhTcNV6AWk2AmLEjSEPf5XzipP8pxboSEEClmlmwMt\n",
       "eI6BAN1jEDnP5sJX6D0WY7dvGNmO4JRRRwmrBYUfX73POKu96cZfi9/DwWff4JmR+8X815WFuwhO\n",
       "ARZcKqN/p1r0224rMWMA8dBxGt1Zvz/ZjMiFZTtRRnZ/MjKcd0mwAd+x9isn1AN22YCrIgLVtr9P\n",
       "Dfy1P7SFHixzws5EKlzMRx1suTs+njwqbaftT936cAIdkPjiL9zfYRlR0joOIf3Y89DMMCUb/C56\n",
       "HYggqJPfprjSX7bLh7M7ArTIzRGMCQN7fSBtz4Fdd49GCkQRmgtIGiWqWGf/kVcrl+CshzqTWGh2\n",
       "e6uFFipd14AJFjVh7JoByDAvEmvjDErpPXasnWTSMhuUHFVFeqHzWY+uyGihWWaA37LawICYogJl\n",
       "GRvW1AG/VYpbvCbHbWE5ZUqW1H2dmVcVj7TDCWVApSLZb/fu4ng6IsYRIUixY1wNvJYfsRRiB6IM\n",
       "n4xn7uGSX0LMEP1bye7TisQN+oXa/tFUFcSoTcBI8T41ZAPZUa4gsN3mD1s9558ohZ96mKGbfUVt\n",
       "JNSlIkQuz+Gy/EXiFc8JIviQTPTyGxCVFjr06hwfhvKAJhU/KngLUYdgK6ZkTDl0BfOUFG5dQ4tI\n",
       "rCFhIwHOB7jOeaEelgyOIUN/5fe/B7ZjCXYuVsThTGPvW7TxNJTVVa8pJyeq4k7QBXAk/Y12rWaG\n",
       "4TuLgjYvxewhaTKmjUKCvW47cJJlnV3x4uddOiP+Tf53lYzG2ck30Mfe7Ps8ZeGfxupVcMEvSQTS\n",
       "zoC01585y0b7CM8TEMYhJSaCkXRsQem+ZkUhWZvOPklndp6Fs0jCjfVYohu+AMDAB49z3NUwwNRe\n",
       "H1t4+0VCxPwaffFJkc4gf56dKqTkGc/MiPhNFPPX64SgKMHZtrVCrMcvzR1DDOcZtT0pVXSoosTX\n",
       "teejrVeJPHpA20dMUlJuiTdAFhyA/qL8Xul7UAjgAm8gz41hW5maJW0K0nlMdZytFoD1djggwDVw\n",
       "y82mkFlNZkpYW9pVqucvh95sDeMeH3DXlLAXgnio8+UDIUJA4EUqAvygpFq8Lvac7GwomD4A7+H0\n",
       "vfk3m9TMnnCaYUUXaJ+/kFGOEHxNRwM7meWVCzbSAWjY6cMf+t/TO9vIWqP2kMs95j+seulTxIpW\n",
       "VoEOoCEBIf+y8V514ZyP3k/Ar0D7/UZcTc01sSyqgwGS5FNqiHAfdBYscbVeQ6usEjXJkOJamV5b\n",
       "yB+OxweB2bRPyIa+G3lVLmEA/2iBn5wWw8ggRtq2McyS4CpgSdXGZ1gsHp7X2V1XgHOkn0Eps1gm\n",
       "nVqfJQgaKEna7RM3t+Iv5OWnMx5HlWka2UFv+LH7GRhXTQ12gomFzdQREEbXUdEMyKdfiKk8xoL3\n",
       "uZvlVsWarG16VWGuezuK5YkUl9+5eX5pnXdJHIaWN2jeDK/OYO++WGXCDLrnQxRpW6PohwJNpz7Z\n",
       "KpK7Qzzc6bMdQ+VM4OSmp9/i+esbJFldjgR7pnLrooLxIy1IHsmObsiFO3xTvNAib+HCbxveH2dx\n",
       "ME7KhcufEAddb/M6WZEdonQXDcm7WmGwFrH8uY+E7jpuK7miSJYv1wbYTj1QvKH3p+QdZvXiOkSC\n",
       "qkjuXXJb1EWoHLway2REv3b1OVYgCn9bMccry2YIVq1FQdCu7NRG7pmSv72Q+mbEN6RvyudzeeYj\n",
       "685IS8xw3XUy9CLV7n7g24gvdBsPFV+HzbjQyJIxQg2Opkv5JBwjJImR0E8L/cSvLQysAP0UiOjM\n",
       "gv+aODTIwhKrp0DI+UwF2wLe95kN2udBu68bVxIMV7k6gIKqvmLxa+7x0IAPuz812tXvjQmjscgM\n",
       "BGNJ49RqXhgf8pgiirCAqI71NUGwX4Bg/8AqTmVPVCejIMbozRGBQd4FyYsq2G5UIxhsCOCFXGs3\n",
       "LMwqwAFRtqfao23gF+0QSH4mrTl9S8/KlON7lwMBV51jK1rBd9vHSKHVpe56VfFLgHOXGC8Azbco\n",
       "GRv5u6jELyI0sXOlZQRfNOrWdsAKFgHRvua7yFU8vAQorMQc+9yantnFaJO9izEdsehNyanzxxRl\n",
       "MYcz7m561p7YBZuUuZ3wm/aBysnkuEJPOYZQQjzFr22d9368XPq740hemK8wyHsghDFeFIGAFBKK\n",
       "GN8nixi1mkIMsCocVm1yHD3WT+Mp2o5/46v7FumJDkEDF0K8sCIfY+/uH7QXmFPP5FfKLln91/w0\n",
       "LpyM8SPo9k/yn0MKPkPBW+9AzpAjqexXvr1M6l4VbFWvgFyga417yXO9GMUOq/tcj3n3EFwhBvJD\n",
       "i3EuG4jmvikyaiZNDJLzzcBFdeRwXf4gdNIuAHQETCidYMGdiomprzJABUSWZLW91to9abffOFb0\n",
       "QReDs0OSCbhDYrMdgAbNAw5KKzErjEX3AoRt9JrueqDO0keSloNzD/9ydDK0seKEfGfg2+XbHPEy\n",
       "Caxf8EvXbpVkLBlp8v7dMP49riYmzRbO7jkA+1k59RdKuBe+kb+DezckGhb0kF+/FK/JpbxTdyQu\n",
       "/2NO6fpVxHxzkTrzrGdSP4smUXtRWtK4d8eoW6WOWAF/EcqFcnAAAOXllIOFTXcFrSsF6bc/+Z1n\n",
       "DJaCoMGWXtKJPHbCeLBwAVcnjaNx4t4fllaSAwWsqzl6O5AsEpLmGTiSajgdlThTx/lSKlmhtPkw\n",
       "M44at5+YwKXv4g5aTaReoaYSRAkDuuGlU0NnM3RxEi7DhSLlNkBkoLSLMHEdaWCZJxDCchNsVlmq\n",
       "m1rdUvkSkXQtZtGOQtIq5celuRzp5g/lLbry3zeD6CAM36qsLiT6mRrpDvCUIW4VS5pMmDwyRWdD\n",
       "SZvZ5RjvmloiH0sf3pfcGqFC+fijyRME+PVOuauVAW7dqZeDjHy3mQn3vNbWOIYZJbW3lvobvhnx\n",
       "vPe7XfNyiZJmhEtgWjjDSjQG4MXyu8xNNMQRXv2VZ4a813dj2YeVRUYSG6L+QsSPMHdrzAig8LIR\n",
       "OUTBssrP/ztLVS2/SmACj7OGgB5jqhPI4P8WXvqwUKx6TQ/71kS8omOsAK++nDKcOCOVvDuJ5i+T\n",
       "pASsAKxCDaFFh+KpUdXjlokl5+VIxlVR9hGTxyUWMkvCwlrVlwxuyRxXzOmGCRMrMX7TlkTNh4zp\n",
       "jinZlddheWTnz/qVnsoiQvK38vCEml/74ZWIQ9nioHXADnAWXTfZANvhEKfZLjWFTiFShwwHWZ4g\n",
       "7GlMuXxAfxcJbH15xzQSU7fFT/347kJ58h1LU/quZVkXMWHL00YGeba8HVgDhjLPaLXg4LVbCeDZ\n",
       "qcOGSrPwgIgCEzBSx3KFgwEMzk4ae2T5tfLXdsh2MzwF1bBVnVFYwW8DaVLcVC1zemdTJceWnHAa\n",
       "oDN4+HFUikSChue4cl8drqG+bRzncnalAVyfTWI0MIWUXygQHUFqosX+1xPv3J6SOJBiEoJyN9B3\n",
       "jwx0U60RfmURDRV9CEanXfvoZ39N7iskX8vCa2uAmAOXJMVEm3OfAvMBs40TlE65j1/Nm4pxdJ5P\n",
       "W5eidnul2P+tQXfHgMBDjcVF3DjiftT/+VqLGhbW705zeJlL+QUjMTz3tP7bO9FfLDfG5WYZKsce\n",
       "6LKMgDtYZ4MB/ug8Cjiv2cqkyHQGDyFFh6P2w8MzwK4EJ5PzcTmCUTcwXwTpDPH9+LIVCG3KQ3+c\n",
       "/rM8dAz267B0htaEc8SSqEShsfD4vOHX4GX0B76kk2VK4M3bWvXwkj+/ElzR11e4y585WWqNeDs2\n",
       "t/z+m2yBwOTklHKb+6K3/4ddeXW8RPeff8ptQLGS1Y2nEPTMKHnGg9e5PY4R74DGK1eMchc034im\n",
       "a74J/cArbIfCA9N+oscxoqF8+y4lYs10Cf07OpyWZWUFUCo6FuCYZCXDeIf7HpZjaqjZqmEYK68c\n",
       "4eSEq31iIGFioXP9vqYRDLbSyjibIv1fKIhOV7b5/4alm9o0+Qgt5d+xyE6ObbNAjiPL7kWQPRif\n",
       "NAhHkmPqsfcuVVUPcTXrXnRLv/8NXmCAN1aPWXwz4+BosbSo0UkWCAA3w8MtaB6lsod9h1ir9Ltl\n",
       "tR6XlRa1I7qz7hCWhBSn/rWT9iDQCekbZbkVOWimLYYgj/I1bm3lUnMfywRFh8bgzZ7LpOihR1xJ\n",
       "mFXc7POyabT5Zw7UbVMo3T2MZOp8QIFDVpmZswWRl69Fxbq3k2k5KLf+WSfubYO+V54R6djq0QtK\n",
       "DwX7J9/n8jjuNpI6DdSp63nlO0mydpHaAXe3Kbtao5TtE4S9LQsjEf2kH2P/OJio8rH3jJMNSHt6\n",
       "tuMjZClxnmRJjL++C7gcfuc8Voutn4vvA114i52hJgDbIgaxnYNCg0cIudppgI8PxfR1wQTLKO6l\n",
       "IV/HwYBF5fNrfFijIbDtfmujed8PlR9ezNSeuHJ1sTItpfz2HHMusBoPylDtT9L+q2wNcLZBw5DN\n",
       "gqR0daWasTDMsydW4BiuxIzegoxiy9hmZkYxZVj7UNwavh6blO5lwEtFYDoGusQh50XlbjdCBiKw\n",
       "P+sVb66/l/E/VJbX8FtjI5sKgl5Hm7OgkQQvg6kDOBdDjaTW13r5DseiTs4dlShWUc/TdEJYgzSM\n",
       "zv/LlwsWvvfiOpL4fzNfpeA/N+MjGJLsJqBJnEAb9S0XuABlpQt5xxsmKJPRNKXdNByuGqFMEv/K\n",
       "Qw2TxszY1MmVKODjabJroHLDBdXZPlV2hDbr8aVOyRNNoc+wrr0fd5nwXohKhI+x8qJKBpJZpXv4\n",
       "9qKNr1L3v3iV7YK21mP4skW2Czj6EuvF9Kkb/wnV4ZPlBwAMaj/V8xvHGtUuASjcHEKLZJMuz3/y\n",
       "33BR1bkrqOx4pTL6sbyqXoM4qTjbiUkknNcRGr5xvVUB/2O7gVpS7zEyHY15uRfdIdmWjSGwPkrj\n",
       "bzhsFm628QW+rsxdxkMz6dprSqIhOV2Xc+hg/ORqHft59WDWjH68Nl/ybFz9CjaTHsjKMz/HyBVo\n",
       "jou2wLEtUptktE2TJN+xbVM+M2Ga98kiO52ALeo65t4gLD9qgioH94zI1lor8Q9X0uajxe/XL65D\n",
       "hfCWjCQFfWm3/T2hzLA0PvE9n5tKTTPnMEzMEcti6QG+BKN5JxjEkJqm50VA7bgKGKeYe0S7rUak\n",
       "H2pHGwSuPR39/ON9HhL0LZ1PzcaPgNaBzd2jBtWWGEfn7ZKHEuQDwroJnpYbxHk+FOChsBByOZa4\n",
       "IjzJPZemnWdLxm4AgcxTBiRibve4JObpYH2FNKsB95pUFwZOvbxQh+7cmu7LHQrdyAlX3lSUkjl7\n",
       "Ep4zJsDXulvL6XzkFrMN1XJpDz3QcPVdtELpMLKg319NJkYP4PuySgkiySPVmHe2/b7pmu4FWCmN\n",
       "R4YHo/3MEWXpeJBIlBQGJQm9UGU4kRImwfrNHaIg6ttsIeWVRYCXhTVXmOD4mKm9kNxAxAd4th3T\n",
       "mKMF1MJSDEHYux+xNuJU5clVaenl87txfQvPwWRoPhpePTC3uOAErSUmAX7DL+bfogGv0LObn9ha\n",
       "yGNr/QkSztyWaxUF4OhJtOUC7YzoaZkg3onsTqQdqZxpHrpBU1GYRJuwEn4vbOeQTrwmZhfoRLli\n",
       "XXuCfq+SYJAdeZiglfOIo/9kfB/qF7hT8p9eRrRTAzXz3W6Ic0/kFsuPp8vvzCEeGm09KlmMa+DJ\n",
       "U7gCLPKTfAxqkEE8l8R/AscqAG8p83HjhRadKkJtnBMkYZFjdT74nul6rHn38+tPPSJNz3a9I1qS\n",
       "tswa91SnZUkTWuHDYh82ofShriEokf3gB7e/3rLE8pkmq09yqyegJ5d3/yYmfSkCnKxYs8n2avgd\n",
       "jytowR77IdD3f6KTzYEh80gFvMgswFxI0q/AfOGEWw+k+gM2k+Ww81+KI6gUBxA4MXTFyA9c9ljX\n",
       "0JhDBSpn15/gDHsXxkKw1irEErxiNPSJOHJCcJPj8rUUVb6Yqz1Yd4ckh1yXm0RlFRcrD0r1G6no\n",
       "l7yxnPBuYF21IM8RER3D47brpJI7rftHHp9Mdg1eQnqBdwKKSuMHU/7bmsrLZn91b3BmPyQx/qT5\n",
       "qLD9JaXXvIx6Jim2QanJ7SI1KWu6pmwjImYug/gv0G6FAW0Fb3eJRxXbs4V2fc5BFZbpHvf1c8Po\n",
       "JW2DhuQLAAJeTUkhTN9sB0FrgdCf4tY2R+bDGc6jV2DlyDuZ0SP+FQaxRW5Ql+DtWd87cWHCQaRV\n",
       "HXanwS6hLRASDPu2Z/jD2/o6t73jYYI+DKw/Gihc16HFw165z+BW/Wqnz5meQMs827Ode9jVG0Ep\n",
       "MYHhuBgF7baI43Gf7yiGgeMQ+y2mSmp2bU7+f8gGbjXYbTQw+zD8hiYIXRN1AOWrfooipBtWUOs9\n",
       "jQCo500zm7L9ROd0N2GU0tnpjPJbdfopzidItiK/2riTKMqyCu4drw98D4bqh1iwrvEnURF49RED\n",
       "WP0yR0ZKqEpd+PfPUnOJgXzu8dRX4J6sMI/d9P6VQC+pIwUfsE2K9GXuoHLTn1+BiwSFr8NaNzem\n",
       "xX3l3Cse65y3JYBkz/kl2Oxxd5PJ2cNoIkyqXdg0YKNZ68zgGZE8OJw+Sg++kcKHdLC4SRuB1r/f\n",
       "4EmuQ6fo5IoHUcXrPHCAFjV+IvtkXpzG+6xLLRIOF9S4B+6H3hEvkYx756n1X1fOQeFeaHHQc/Kc\n",
       "1zlHMZaQF4c4ibww79WBWCjRwyAuFfR9Kus0cnRk4F8ugEAgwdMUdPvVllTfvRVo85kCqnpNaQXw\n",
       "Uh7fORizPg3aUEpsWKnzCD7zLzAZPqQBmE3TaILquss2UOe09PWrsUd6P6V6LKOqFB2CwHOMSBev\n",
       "OdW+g6QkE6VCoh/9kTTks/JXeKdbQyfjHCtV6VxAAyyXQx6HgEiPGQ+2pBU0IXIX+80g9waytS2S\n",
       "ACy87j1qrb52fXKg8icEaGdmkFYoZuVa0XFhZ5154cH3611MK73sh+wtr4LQVvLsTOWsedky538+\n",
       "GLeTiT0qpxlASiKHW7gcFKczeBWO6b1et3MT+MYNKKCzUjgYkn6YfyxZIJmTv9JrwPzt8GQxs+fj\n",
       "GJaTudXXs5bciyEeMFxU5xm3Ud+3xX61idzgzNMycrGjsFLGJFiMZm5eWPtKn1yT6LpjNvK4xkjg\n",
       "jBS8XyS3pgPKyJ6Hd8NbHhXuTnrl0BeZb47yhJQtKitzwAgrsvRacFAzhn7GrTHA8pwRojAxcVAk\n",
       "kbnVRl7Z4wUi+kFZWR/j02Nv8muYcXL2X7C17gUYkyTR6xqQ65NPhHCmHvQV68JTKX+apuDktJlu\n",
       "RlXvUP9oN5kS0LF7TxdjM5DkkzIC7ASKPDM6R6o+OgVWhYUACMOf+ps/TqJUogkyVcNNhDtY8Zj3\n",
       "WU4OE6iC9Gn2JlugOqUqxQDpwOQmvlSnpVCDKFLOdvbUPZ1xQBZuEsE8UbpOudGKIJ2GhKv1CSXX\n",
       "OWEiMKn6l86TVnci+6RUQIJ7ucywnihjDMMi5fbRijDwGZcAfG+ZHj/TCdZumbVP3U34Pv/AbpHx\n",
       "gtKN8hlQDprcTOzGPtSiasHs3RvzHO78mBbhTG1ZeafzUuZtw1X9SARSeZkU2IAwoJd1uA9cT7Ls\n",
       "20MTfVLZPwAHqpdev/7nTJ5hcBJ2VeSLvj+1APzoVd19lxYY0cFB29hUhu/XqPYfbMfHlqDqoCj/\n",
       "nywmtwQC38BU3t36r3bQKbOIBCQfmWHFlikHbIF/hjbvL4LhasGOpuc+KDyzeVjH3YWq8fY/TbEr\n",
       "DVGM9xVbUDxwPge9p5x0wO5rn1AdLA8Z8LPVnjefqbpmd+i8/7dF5tq/DKbp+kYPm9I2RieQg8pS\n",
       "VRlFKfKKGyt8MmaIAC6YmaenHPidfeEl6ymqnGRzphX5s6r0rFbLRMYuSE8QcpFYcW0RIICc2JsA\n",
       "HW5vwZscacekP7gYXjY0RpTWpL/bdTFtcZlaz90QokJWB7sLEFQI4oUwcOCiQFHLXSays0ru5WcF\n",
       "6QtVTNNnyAFbGIzQfFuItivTt99jmnPQqljv2E1nvoUFEXmL/ox3Xm6qEBdF6fr48W8Bz/4pfaBx\n",
       "QCab/Q/G5cbIgWkxYCihnLJvM9FFG47X50Wh+txRcF4zbcy8WMADU9E0+Iyiy2BBR2cCXycf3fQp\n",
       "YBsCrAbZeHJEJEw7o5o9wqz9lHwKvUV249+QPhjlMJNQ4cmexVUJOR6IqwoXxbyis4smyQnN6L0s\n",
       "T7IwvB+vvhe8OIf7xkIe+/bYvVRS4MNlyYvoB64L6OibE1UqbHC53EWrCF59krnpSUj8anrs1Aq+\n",
       "8LgQ+pnOXvOT9hleDc6C7sSC2Cv9HjxineggZJ49BCRDl0vRzv6FsetYMsbglqBs4krU0zmS++FN\n",
       "AiDcWO2A7pkJqAetAvGEf0q8hhPMVvXgKVtIvSkhPWtEe+shUom8cCaiwO1k+eSAleO/Acsbg1VY\n",
       "WSsXr2/Tw5KZQKmuYWCyQlBVJUXkSQUNU8OviSzHKsoixlifoEvLizVnuXZlMkJ4wLqoetUJmLPG\n",
       "4i4s/5bYLny7DH3rvz4vxRNY6ChLgs7KE1uAW9CTDTj5vCYfu660QmBs0bw7oV0pdXIAOe31zHXS\n",
       "d1onLLVUZeLeSzc7cCSyixTLFfrt3by/Smn5neKi6hzXATcPdX/i4SgjFpgUR6CYV3qy0nV+ZV2U\n",
       "0Nb6RQvHxs6ihVo4YEh8cgwwNpxR3ZgYfccTcojK23NWKe4k/u9b8kzHjn01ay8Za6axW1+6rR5y\n",
       "WkgSjjPGBt0E30eRkRVmzIOIHTqegFkQFRKav0LvZLkssmLvGhLjGmu+U4KQVu+GJBqvpHQ5cK9S\n",
       "GriwB0OYUjebDARVumWnoCYXYjxAplQScZRuaz3XvtU9cgCb3aoKebG43z6IBxebq5+IYgIuKnoj\n",
       "YJ9U7VMdUXW8ppsR8eKud+rUdDTk69YBDco8r4SfmK6zw4Do7+Kk/ezb6dAZHZW1VJhMg+can22p\n",
       "zAyNU2MDuaOMNu0mwNHdq71YgpVMCPzaJPSpIh2sLO5nw5oktqfcapU7r7Zsvjl32wQYjUiEnhXv\n",
       "xUCGpm2nXAhJq/N96WUCWbyrTsE/HhLpOQkTJaAyx1j2HOR39LdWHskYQjQqEuQABKlTNo590SBm\n",
       "5WljKxWplR2snZ4L0TQ4gw9BKaH3QuARZOlyYiPY5T9dK/T7VqDVDVb3T3Vuh0mMzIkbuesrUSp2\n",
       "QPTe+RuBZg99uGsb/etHOQh6x29wb21mx0UiCLrT/0b+ULW+yQiIW2gM+ZlLB93RuhMSKEKyL6y3\n",
       "OtgwKd96e2tQNswBB9PjQ8ZnQCCGTSY01zKu/di+FaMxDs5AZsVd4/OfQQGm6MByXjv8Nhy+coER\n",
       "UO2YB1rUhYfqKbEDKxmx94la5dSmOtgvokfjvIU/hfom3OefgxhLIJKYtLUQZApg25jNPxkJP00Y\n",
       "iBU6RIY7J8mjusr7TdkuhBxVNDvXQHdCPRfBiTWe1PA1MaPYkg/LBvhEr7rMiA/QDEuHRkkpi49r\n",
       "5O67U8t3SHyrWurboM8ZDwYeA3Nk/5tM8G09a8oCSn8Q6dBUgEcN/rCUeVo2NQptu1H12H+FTMTZ\n",
       "nNL3wpb5sG8AK/MGPyZ7xVaDwQWwxKPmayCLdQOT1s4cYIdw+Mja/PK1mfB/YGjv1CaQ1+ua87d2\n",
       "bxEt5ydOO18aGh0sqe4Aoy2/6Eazj0gZ/XcndH9IvhaC0ViAB+nW6DWVB0Qr9VyWJAC2V/9iShXu\n",
       "Wb7KRIruvcijp59nrl038NYd5Cz/+we5HiSXfg+PIQM7nmy38+vALuwkMkvkmE/L4qDjxHSvtE4Q\n",
       "1nJnY9+b3aJyCIclJc8CIJh1X6qeBiaVYS9bl0CknEFBixi1HpZT3V5eSI0Y2ZiuOWVFIIeJ9qjo\n",
       "x13E7uKAYg4HK+TWczU17Gcg08XuLs98dfAwqhRBPCLtBgZFc2vHnqFP9Xkj2ONrgb/Y/lcsfYk4\n",
       "sZlWvyz8/Soi5e6oyRhnIvro7mwho6mjOahECZtLADhIQfO1sWcdP//K4gy3v08HciHw/s+g56i/\n",
       "cjKrbyNSJZ+bhmMpdnw3tLsJJQICCJ0zABQn7TE2i8ZBjAZiAJts4+nyrW313rut/eq4vTL82/p5\n",
       "yxOIxPBYnPz6QzM9E7CTZA7A4jh4G1i6a2g1FVfZpKpEK9k8zZKZ1Iic9GCAzawRqfpvwNgS1G+M\n",
       "uUKA0dTUF+/fFy4z7m2aeBkteYgFz7g9eYcS+4wFXLMQGtK1fEUbZoJhEWoUj3aZCmHNyFy8/+AJ\n",
       "B+2S4d+3UpXnkUR8ksgvZ/8DFmTicck9BlGlHzF+BDzhxChBO8zgVT7fYTGc5YvBA24Kb4B+AuGe\n",
       "39I7XFJI0O7+pp6ikCnch4MVzZjr8qjJvIaU87VRCAAAD6cZS4+GNV//8GloO3KKRW1mLr7GLK6/\n",
       "e7h0PvGH+V29LUP1T2ES2cqcjU3tsfWTwmAMdhpB100sVmJMjMePO/eBGb1M22OEFcWmHwcuL20X\n",
       "EiRGgmeLJOrRHHrBso/Wz6aVbblS5ZC4jlnaOi9GnRgP0xs5ChCNY3LkaB9L9R7AqK+WaY7O3rsX\n",
       "SEsFzpnauCBsr6V0waC/p987D/kjTvf0+d4/n2xITGxaAqB45UvH5Lk81FvFA8ejTHiwVviMWk2l\n",
       "qPBsI/TZxerwom8BxNme6kna+a+qv/S7POg0X6nlxHUmTWpkeqjEckGN5Y9k3z9iZ9cUWmtNt+Uf\n",
       "NP/HV9obnlrWlxNuzs1G5iyw0nFdYADeYawuuHXONd3JUK6Mbu9L6Op/lgITHIo60ZPc9mMp8g74\n",
       "XdciMsOtPK+doJf4elE3Lk5PCFpyUaxI3AfZsiivVtm7bw4lIXTVaXanYPgbFFibtSHvut/3tiEd\n",
       "PYSf6q8EQpECPm2E+irgn99b23xg0Y6fMdXPUu6XPCgvzoKuo+5H1hFBvTxp8qeXE6jvRaX4/fMC\n",
       "LOYoUeOUkvLXAzs/wWg61OFTpzQCQEPcR1R/sWiT9DQOCN/5WJMxLaRItwozB3SariAtQMLBNTz9\n",
       "Nx8ZMWCEjpg1nv4O/+HCnkb9pajzNlqq1hSjTFJ87Ps12wAftB35pXxwrLlUVjiAcSEAevNiHbdp\n",
       "ZzIC8mitVdF8KLATzzk41dXervJWdLiimEjkBKe498FdjjoBRH+tb7gBfmC61PEvxM+BKi8+Uz/f\n",
       "i+VcBA9L4Fz3S4Fk5LlFCQmtL+LrosAo7XrcT0aVrqertC9r+jhSmiemQTTrHuXDlQ9M3UQXjfZU\n",
       "xm7pjguDMDd8c/i6hhz+nlLVUgjj0C5Od21hfIolHhEMr0lx33JNPSdHLLzVrdLzmQ1PZo6rbF4O\n",
       "gypfF4YsuOLZ7+SOKD361S/CA786KR+RH7PKeh8FgFeAvZJH/zEhE7OSkASPrRViXmiSIAc+e4vd\n",
       "s3ZiqtZuKJmrEsmL71DGJiaI9dyIFm4FnU99xpKPJQ7zLz5M6OeklXRrOkTQbA2vUhvUhpnEH7cX\n",
       "r2lifk4tfS5Eo4aXedlYtwKSFS8cvvmmb4KErQaXrPpw1WMNf/IayKIyaZSwZQbPkiHBXu6GDRLT\n",
       "nd2YFN7L2CKmU7EhxyvplURiMex0EO8C7fpWRoLKMuD+K1y+0OLkRNcR7RzWlFPc/oU48lcEWtdL\n",
       "YvJtMrT1Oqe0foTDjbAObXv8NTvAbYNwM6JXLsFOq5/4+SED6Hv/yDxIuzBSZiDEiQOMkX73/hJt\n",
       "MIbEv0+0LpUmcWXjIfe0tiCiI3pWhLJusEK17RaS9Wx2nECUxxP8JTwUphaQf8tUiEr3OqrU4m9B\n",
       "xyjCml4AtsdrO+IA1a08D6xEcqvgx+a5FXABX8Z6IEcEmTv/TykHCTEBPtt7ToEurnXj7MsyAplh\n",
       "mqDiKUBjbEYBF43bbpV9zICMrZd2NjwhNK2kz6wGYfW/ZUL8K4Fg7DPwfqTAsa48bMSBvwiNMesW\n",
       "F56CDY+zzV/h3+FxWrDIUTthUbGtSjeo/dascQQVdxO1coH2TbpLwSWUNsHBnGplfXKH0Gfedja7\n",
       "SGBwH6BNlvHWRLmcnEL7ejQUIXMjStKHw3XSFaCmjYzfr2/WvchwlS//H7f5inNH6lHWglJe/tPh\n",
       "jk0Ux15Lj49aNGi+4HqtkpwYUAi7vltGuuWwmSTFFmGEmGpjcnx6r0DOeBEg9tf8o6aOtwH9TMCJ\n",
       "33fxDsifxojuzV7eTo9fqhVn19uJe6VFCKW9zhV4gPWGDqiylMqt5TsRMHRJfnLf4UMn4d0ewnfy\n",
       "lD5aYfNERhBxJ2dGSkBXXvWO8pnhPvOnfSVrvRuOx0vo4bouFLz+ynVPuC8gV+eUgThdOC3UX0dc\n",
       "XZ0Y+Et1SVJoRoqbZQkL/9k5xqz5+6EgfuP0b5in1Ra8rN4xP7B0HSN6NhbLc4j7dneWp8vMyjlw\n",
       "ZON26XR8/OpFxByJlvYNpLTwiT4yKV9iQJaSbvDrewvHeM+V05d6xJzyC4hZXYp3nXTzBgp06Emf\n",
       "tMa9b/m+AM5XIzaBvHPETOpBz+LfHr3e8Vq2b3rkuVy6aGHID5sc8Ao3v4/3XgZ9ZnsJX8VRyI8m\n",
       "ctmn5xh0mrkct+YzE+u4I3B+1D1/qKMA+MKA/u/pGaTKxnfjk7CF/sauVKEgaxmbVzzCfupFTY8r\n",
       "PMhKLIw1A0gHxE8aUjcfDPt6PLW4SVvMASt79CgB01yCFg8M4JID9vcJzn02d682MlHFqA9cK3Ft\n",
       "EPoONw73TiWmTUAcqMtXwg4txcnjKwoK0OPmWSvHJOtvF4wMfuADIkATMvvZKgu35k0HWlAD258I\n",
       "SwpB8n3bl9VImQfFQc7N0NXMtbsfVXDqW+dZiu1qNVufWZ4FCahkHSEsPoyLHL5gVg2MinL4D6vW\n",
       "bdNA8G0tEa4JALXq71ODp4m/FI2wAW4FKVBgVnwCegIXX05t+Dd41z7WZz7hG5/FUzilLwbVgtVn\n",
       "YAMblLgnnt6Nwzwv0U2oa77nqVHPKGCqTc7MovTdRN6ptTbfqycvcqWF2+FaqpnrH3FA3jK7EVTU\n",
       "Paw3b5RkMaxGsz7OJcTvDPHA9EAAAAMAAGlu5ZrORLN3nxyiEM6CKDHcsrt+b2PZ1LWCxQq4h0Fa\n",
       "hbZjDb304YFSOGPXmJzcSJlBIXMBT81qykHHc5Os7GAuauXeEBNynlckV9F62V5HuMG13rFPelyQ\n",
       "YSlqzNH2R27JSspT6dwpwQVMAT4kkz7yQk322ejR23z4ML1MGUy6ZkJLRJqH/f5LlhcKp3UCI0gP\n",
       "Qv3346WZNZEJOGOcUMup18AKU3DK/8N52YRrv7vRG10dOHyxT/BWJmvFY72mZa8QaT2t2MEtj8u2\n",
       "RdBfG93UaodFKeYb7qqFo6QKJAWljiYYToD/g6aNmyuBJwQg3Ar6pqPSWcJQboM2YMuEd+PvOJTE\n",
       "hAa238ask6KMfAUy+UzqQ//vXLQfE6hFHLqwXlkSi+FZKhMO9pmXKUENuxglsmMHvmwywFXPDVHb\n",
       "XGf/qeungyCSyYso8T/dBeSHlI7+sclXj3l3ek9iuW7Xulpi8QxjPknTOLyNt9U4AgcIBwwzO5k3\n",
       "Ty+NY+R1EtVaER4yTuwgqk35bxiorDlDr+M2hA50U6FQD7Ac7FlmsFpERLo/s5kqFWLJ0EeAEuko\n",
       "kGzJ78Wdhs3n2DCPeDO1ku75OucQrMlFA4Jf/uWlkZQN7ZS9OlI77+744UJcL42G/lPc1Zd9sJeN\n",
       "gnTnAj1w9BFUX05lSh4vlm86F6iNgyz5ery/kyNfe4Qsjj5PFWtB1NtSS8yt1OAFu7tS2j51tN4h\n",
       "AmQSukQfx6f+Wwn4Qd610Ke+hc6SbWTjmrzmIkz4XY5RiLSkTxcKcuW+f6YgAFqBKSBucOWJmR4o\n",
       "2hvk8PYJYVh3kqH+eUxstbyEwx25rTBU9AMPlG7sBsFNIZKtEInfOkR2ZymhVWD++MjGe6+T71tB\n",
       "2V9SRieLOuFQTolSlt6FwFlUhgmYOwuD6404UQzOZzZa1K5SiE0kkTsnxLbME1VTxanjoFRgC3Dp\n",
       "Ywub8Fp/BDAfpY9amU7p2ROLmKV5Cksyr7BpfYOSC8JWZSbNSdy7tU1rjRiNPHd2rs47MLleaUw+\n",
       "TVOSwFiB05PDY1YsO3OEyIZPe8WWVB6idsghXqKPAHfSaN07r5/370Z+jRk4uLwPapxXlg/uygo4\n",
       "308jK5tUuTEIKYMcnb2oLGslWb0P5YeZ3rX/crzXQcmy1YLk9wmoJUqydLzSI4tMYzA3CMP9ybxr\n",
       "11xYfCYmFE0TrhaYWPqvsK/JFwzVguegWcBJucrVEVHXSMcgQLzeiGYy1bIFmFiy2224J5Fu6L/c\n",
       "AAj9hhStTNF1pqbVRbwM+qRa9EkP82xf9OSHFzdyyL0DZj6xnpPPP88VtHRY0eKARndccVQPUp1f\n",
       "0eTiSDEng0qNvEuO8p/303VUUbs/EB9vKsd3WEzuJk4L1uYCaiMFy4+qRDH3PooF7F0ylHx4iYn8\n",
       "sS7P4/iymFvzkvVz7h+vPoYrnsYv9Z9Q3zRxg+0ZcTLiK89f5NPafHmvdg5hAEumS5wHPpvuwCTo\n",
       "SV4KgnE1ZyGiX3RnIotBeZA7lUlCN2tT5bHjhxHeVnJUEX36x63CtO7JpB/xqfgoTtQk6GqTzyYH\n",
       "qMqYB05RtC8c+d3KniFtq299vU6nRcMy+WsM/XeMZQNuXOQ9ve/rQtVGraE8WPKKZOa7Qbi1ghRQ\n",
       "aPtPQ6ycvY+TYtqsUbt8rinx9jpL6vKNPxRaSjyZhZmTbe1Z5aUszUUmuH3oQe5oWkHy8F4232z3\n",
       "aGlPVY3tP8yD9y8WtVI1KamJiKJHcNl14qkHQ00xO63DLz6LTZYacaMUbzfRtet+NJ6PpO6Qihej\n",
       "myjync8n1FmFhB6h/DAPlNZkgr7cFaLGKYHn9wRtDJ1qkICnIF1AVLW5uYVj1wQ9IAz5T9DFLYnw\n",
       "SBU2Ob5HJE0EXAUuWQZZMLPC/i0q6g1DJ6YEboxRF5FUF7vnFlE1D62h9UdeOBl2y0N588Whh0wr\n",
       "8rI+kV4d4lXn5dUyyq2Uf46PiLIdctGQnLgK8t4ps/w+nUSF5erNj5lyPdZw9LS9kUYdPoc2hwpW\n",
       "/8gEBv/j//TfoRK41fMpF1ISsRT1TNsRwcNur90ItVCPS9V3+pFeFv/1aQt1jjtstGDBKx5uaQ9I\n",
       "UWIP92ANVAJ4ea6eo0AIAuTwHywWOYk8keFrraOiWuf9w3VdMvFT3EnzwG+4lBb+zYg91Uy78D/L\n",
       "D1+zJTb7CDGrqFq61fiyx86sWnYrKwuGv/+2UY2NtVKvVT/Wb3BKj0h7W1Qtz2TFnD8XSutg1508\n",
       "jEYGV+HTOYhFuMM7uR0EYbDRW4HNhIDgQkYBJwGGpt1SwKyMB/u5olVy71iq9nJL1EpAbEQGijC4\n",
       "Pc6Lsh9Nfju/bmMD1Pe2Kf6IysIviw0IwVm589u6zWBqQTRLxEaYWP/ue/boT0n3VvGwBo0njicM\n",
       "BbE73XRjEEjHKzZ0lgUArp5bfMdWbSs6v+ybeN8kqNhvnHef7etzLr6IN99qjWxKgLr7pyXZJlam\n",
       "LYIAazZ9YtF9b+d9+jxVGGYiw16GuryOkt1EOoEqC7rRqq8RmBYDIxpnRQoe6960czV9ooUTOaR1\n",
       "usg823/C4b0EmR43PWIm6fKPzzVMCpcfsHZjkX3pAquJt4vQRlsObOnKxd+aN4MeyaYo/hZmknQ1\n",
       "ALZ/n8vJqh+xN+qQ3VhvyydVkPCk0XMz0N2uJwE+8ahcsICN6DxPfNPrvPVCcv0hwcTVC4FSKXY4\n",
       "5cOU831xg0+qYDVcmLJqAKDJKvQcutH9SaBRX6qZFYO2Fd94N8Fdj3Vm6ecHiJU1T3DBWkjXpBUb\n",
       "YQ6VviS5/S9keMrCWb71XP6HbXwCiN9mohMhdNSWvgLorYZpsadMqclfOaAoSLrgyb5AayEUAxp9\n",
       "WAlKKg55dpQf12KIec7gBlcLkhXlfMemdliSP634wNZ/WBJBI3gzpGqxmlchL4i0XeeCVvsWTkAP\n",
       "5nNDZ9cIkXqj0X61zLAiOE3eDMK/Jev31aTyPTZSDSqBu86WkUbBkAddh1DXoAACQKos7MxplCaY\n",
       "+rfTkpDrlpJsGl49Cf3ZhJRCsBWX2f/QonHgXJMFOQSxxgYiWj1Yuka68zbf6WCFFyYeQslqhOzr\n",
       "zfTC71xhOaCTtl2+THNLb6zhJyQxp14N5PPJ7gAAAwAMy2pmNWCcMt7giGoTkLumsFvu0kvsPRMY\n",
       "Bd8Ezdr5V0ciBxzxcspGkDNgE17g5HPLYNY7QCLEc/sGBxYT0QH37OQW6oDpJ2k7/uHEDxe5VxpG\n",
       "iZ67ovuAu4qHXxqJMVocCcxNaIppVHge7hj+55r1uQA7j1RGDQ7EEjiAggIYMAlolFewsLAPwN4B\n",
       "RtkceiejWF4znM2LJfzpjeV1E3VPagSdg5EhsWDpSBLDx3ToX1h48iuWdhcWHfKHRq57CUdZrUbe\n",
       "h1JSa1l75laNthLkIyG0GjJE4xlxun/YMxuXAsjnSJaTRhamYEfKCAB0SdV4hRAL7jwPlH+FU5Gb\n",
       "Xr/HmzVThefKQVnLF0j2JOjh7s22KLS12xRaQECnUXZ4R33dPZS5vQE7IDDgAAGyAKwH7xMs01gL\n",
       "IGbycIQA6eXjebjWkvwAAB9RAAAC/kGaIWxDv/6plgABvNPioARuIa5dmEaO8Wqm9yz44LPMMpyM\n",
       "RvJGRRhTg+9HCeKRf65iX1ukOsEIFBvdQCaWI5OzLO6oROtINk4faC2Vq78LHZ0hxZzMhrdbbEj1\n",
       "hWl3M+PfEFOByml3mukXRaYri9ApQZp4ij/YW+YzsXUopCI20wBvYt5QC6CSucpe/71Ffck0WYAR\n",
       "hRQvLduDbgEa0C5iX+ii/KnXDzkn0f1nipGbGeasC7qmqcgyKmrfyHcV4NW8n6C22lZlJ/2U5QdL\n",
       "qKHqvK6mAaK9OQ2r7zWZpLxjNGfoYvtign5A5ahfQgIRPXLBn/mpxcHfnoe4eA+wRx/D5MmjfS0k\n",
       "79eAeHrWYuK22OZb4QP+JDPeMxLO7OBt4lgjkbyXrhwjEKBevpokdtTFVGEhmcNlVlbKOZOyLxKS\n",
       "5Wuuj68LSedwG3OqSVrzZxMzwawjvky/58m7nYAlQRhmCnReC7WrC55GdQhFrB4u6zTbszGqdkBI\n",
       "spIcast44B4+AfXP7imesG/MyLRWdWbojVdO1S40B7/J+PoybH7eXRW0kaaL+XQatbR/5PMjrthn\n",
       "ylguTNc0qN3bexYjT+ZI1U5tG6Zw7LuYsfFysLqrVitAKEhBL2E1Z1MuAB0cw9oKyl2mNihaNram\n",
       "GFxMQwF2EuYdWu/xqYHB8mYYM0/GesPMJKSHGqOnU2sYcEY8Ien0n3jliUWnjAwErbKGkGWa/e1a\n",
       "JncSgW+c/Fz5VaEqWOZyMrE3OPrRrEWo6xCrRnuMwd61JmJE3PWXeqLXM2bmLyPhp5LJq4rQ8Oeh\n",
       "Uc+1jcZ7NPp0q63f3snb0ThIfP2Vx7WoN05/ON7wdbzrTb+9jE6bXwY+cZ3e3ShYtX0iqBP+EODP\n",
       "ode9iZjmY7GpuRz+iwf7R8gwA+7xMomeXOIugj4Munh+J80p6gglp+pVoilA38+lbSDhHDdxzHR1\n",
       "78PAIAAB/1NgLNvEShJ593W0ia23hlnZpH9Lu37TroRDUfR3YpQb7FmVAZKSryAAAAM8QZpDPCGT\n",
       "KYQ7//6plgAABZObrYD9uAw7eIywzGzhy8oLdDrhXMiiMRB01GfoyI3tHZV1Mb7gK42vSEKhCUFG\n",
       "3fcglCrpP0JVXTsX8DMCnEpivpzH/37v4JLT11SwkMigtcaz9YqJyO4LKfRQhV0DKzX/+nGTzZta\n",
       "fgxYduWVEWVU5J6XFZ+nshIoZDgMtHXe0uKDlZklWg3VzEBp8CTzweoj49ruIEiQ29IN5ITnBRyx\n",
       "c+IVggNxbzxArTldOUzxnSkAAFrC2o9I6b+hFHFqErQZ/6sWOEdEwZhGdSxy+Y6Fh5pkVpkaC9Il\n",
       "bRE8dDJyyV84fv0TKoSCPWjCRxDAZqiwFXFGTf54Fyb25CrVnOZ3SKyqKuy8Kyfdm510XNTI5mLA\n",
       "rrSjO385bcMMwygQG/+e12gqH593I83M+LKhR96B1by2J2f94StKyJwHkd7lC8ySiM1djbn/iL+C\n",
       "F3BsZ5vfG+peACB7r342WXiwgjlKXicuJVUlSHI/zKaZTnDvhpjE1L0WZ1HZDwrzXGWvdZnrwzLe\n",
       "EThbxop7iD+gBdSegk6uW2BM24cLb9tZeSbu87NffQru9KPb0vEOOlsYzmbtusPNukzIhNBkfi5y\n",
       "n08lnXaUxO9KYSFWYV5d0u9r4Ak9pFTdgHffAiZZqt9hzpcc0BODdQhTDqfC3GX4spLQkEDtmNSX\n",
       "mhn7akEAAxqJadawCrHLrTEoovkdvBInc01/kDkf8/gwi4DKTumuGI1uH9gDCNnBJsANl9YQXI0f\n",
       "zccSxMId4SSZ9IdeBG5N4HmkI453lhzfvK+6EZuKDUSsH430oCR4sbxoL9sJH6F/8ga61xpyISQJ\n",
       "lKf/sOPpcnYapi4oveGVtUxuyeWe2FFtMs8s270iMbYUBbxaGAfw9y70EGuxdNfMq3nKgYOxnBIr\n",
       "uoEgxVCt0reXerfChYA5KkWf8MzlwQPA7TZSPkdcnsdpLWKq78kWTIcgFi/f7cw/yWB3u0VlMsM2\n",
       "k+pbxUIhgK1xLu+Ywbky5ev7giVKMnSKAVUFRjNMLwahzMIqLgtwYKd2D5LRgRYppzNW2xR9JIa8\n",
       "IGulXb0SE8LjA25z0Ni+S1IDmUo5QBvRAAABUQGeYmpCvwATJVIYEFiikIacbmjnptv6ADvwTx9y\n",
       "EG5K/g2JRhvdyoWxfyA1aiG16tsMTG6umC47wTscaGeTFn0nS+pkL9HOXqKURiYBiL7Rm8s6p888\n",
       "ZN9cZuxZt9b4Mlp4QBbuYlmC6mgAgwkV+6o6IW+YAEqdSFsVWBIsaen5FnRDV7+aaTfixL5Ye4fy\n",
       "f/AgWRKvUbuFK50UYPDrtEnuk6TOfiG+0tW2zxq9gRuA+BEDphIUGhhynVfBbGd8ij0JKKfivv7A\n",
       "mEsbEUQlYjyE00Rbk7BrMs94eyeaBESJOw3jz1HJHZaUanVc/1ymM/zb9JRZcqPtmPvoxjIdbH91\n",
       "uodAJp9KcvtmWwyO624irR0UqTa+LUGaCvheoubocjeT4uwJUBl2qn3tVzeDTdOw7YBenh78shLW\n",
       "UHJjB98l9LQCAKzlrFDhNCLFp2kkBVwAAAMMQZpkSeEPJlMCHf/+qZYAAAMAHdMpUApDePtj84uG\n",
       "WNjIuB5ykcLZQ3A9yE6d4QDUl12T2Tt4ZpkC2+8JiT1+sLsj3rhN7wP5QsZKVaBtj6K5etteH9VH\n",
       "Ceqm1p1MIvLYyE8WhB9peOxQ6ZTxSnMSdzGkn4KjpIHe/mLLOAinSJFWMVyU3VJMfbpks3QvqBk+\n",
       "E506EqV+TE3pGMBlcsH40Uj+54AIVH64en5ieOeKF7K/hA2qlWJlIQF6c+arKM7viDCxtMXdk++g\n",
       "egKjX+8Ix2cqO6hcJqIoBLZIFUArTl60ucfdeeIKTYTFOCBMIt9KtJLvjMV28LcynH4lwrwlQtTh\n",
       "q1cGpYV+wFCZxtV7GcLIOW47um8wFOOhFc3JbC3UlD8jhwKvKJQ/5lQbuvfXHZ23MyfRVSaV0t6q\n",
       "V1isGQDFpmxO/JkWRiN7O84ecxcuMZpBu2gkNG8+aJwUXBxAly6cEJX8UMlKlBvtXA4/XC3oWgSC\n",
       "XeB0tojrQYu1sxvedT9TUfXwJ1ttPJYEEhJEBj8A2s52pO/43YGBgfTJl36mRZYXqGQj8jdG1Lc/\n",
       "ppQaLX6fhvPbNYGjvpXAuGLEPE399vSAQc2esvL9rGOLLC2RAxUI3qqznRK8W+KHza5N0HjBdoi1\n",
       "E98AgMDEanECd7muAKEXKG+vKCHsYjuNa9u4qfXL2QywYyUl8kUs0HeRpTLFC4DV51id2gUPP6TM\n",
       "ZKC1v3KVzmaH5BYSfGjfYy/lusl1u/mZV9fkhq0i7kEznzTFg53rjpP/PRulIfAYoeOUtE09mZBp\n",
       "wFknJ3oBhSbEN1qmzN1CfrOkEsRHqqKjKImupqp7dMeBHhn4M6hrpw5FYEO3DF2NEa/8hV9O2bPm\n",
       "g9O1pC9qmGTu5Fhr0vaPw64/aMhLaugtewLWef2ltjX7Mw1hM5rJwSVwPmPgvqmWez8ec7NfCNcx\n",
       "nqq+bfXI1kl+6F4egHo+AIkEk2s15ZS6iYcTqU7xJZES4zvv3WE+1MQvdqp73P7L4ruu+rY2q7hE\n",
       "IPsIZad9YNyVAAAFYEGaiEnhDyZTAh3//qmWAAADAAADAHoaoLp6YOLbcAat6zaWl8TkrNFMA+Zp\n",
       "K54QoweAtPLd18g6m48Nnms7LuGXSgtc85TrkuKNnSZvvO+Tod1k/xs85SkvGJZP+btClXxieBf0\n",
       "aq7Z56w6YSEWT8EKAHeDEDBNvDEUBfhuGM5cw8iiLHtBl7zxuDecpDE6UoyqNj8BR51DdHUP8SnD\n",
       "NGH7PcfTVUr61eZEhJrop7g/8yXhVSywhxm/BB/oQZJuckibKLnTUYrtzkgbMkorhjE6PHKCLMHU\n",
       "Fa9pHbWgOyXVde3L2dHrotChNQy3YDHtHiWuyPgdxjOLUQ8tacWmhQ16dvP11mFImb0ooaylv5af\n",
       "SmbbJB95ITj7CQwbVQKDoQQBvclWVfsIF8HVdKfPBrKpq+KAwXTd4s23uqEe7foGYnSOs05i+hqQ\n",
       "1//6R9csDR6XifYxssMJkwc2wZfE9DxR8YtFv1SRr6NtTLK1YwCb09a1VxL5dHNcEep7JT/+j26f\n",
       "5NKHZSfDb0vq5icndE6qQY7K/+ayM47+Yrw5A92Y5NYwGJWwSqVFwzXMkHxB6HNIlhEldsENZJaz\n",
       "TPyy2B2YhV/oSOKQ8WFjyQpjfFtaiVNrddRxXIWtfEd913hr8G6wLg8DXnjm6dZWEZTECUaNwG6z\n",
       "1hyyGU5jFfV223LDyd4p2s0kU70SE2J56W8QcwGToe6gKtkclnhSV1DmgYIli/7ewrRUcTb0LX4t\n",
       "wPla6EOG7luiydpuz46pqn1z8C2r4KdvHmYw/eTqMyEkFEybFhfHZCx0Jzhdq9DlMppMmtBLRb/J\n",
       "VvMQ9KmNtUPNl1ObxsfyfjbUdtz0rAXpz2pCFq4SQsUxDnPSXXN5Z+NvDrbx64B6E/Et2hU9S2pd\n",
       "tEcKzfs63NMmBYIbu8bOYOH4IIejz+qIwP/pYZ6PeBt57RQgk1YQ5dvEViC0cdSsrsSyLFIvRV0w\n",
       "CKehTE2QmT5G6ljrtPPLaSlNgK6wqrlSFY+iKOs2Br0ntniEaTrb9o0+De9Dpt0nTQmn7/XYLcR8\n",
       "V28yJwlNQwNm1LuPbTcoveI7DtdvA2o9RBE7yQlU2iXjWD08gVLFdjwCexWyWEJgcffSS+xV4R29\n",
       "CQOxde1sIFnWj2Dorkj6ziIeFTxVXxsnVg25FOiF6qb0xS+i1fjTfeYrTg7WxA8j7NJJ+iIVAFBC\n",
       "KjpKb01/0yRr7UYlT9i9tS2/ZOpGiRgmzdhryas7Locy/Tw7umaLBu5vnQ6Wod+/+guqGMw2Gbwn\n",
       "7vSSQ+ltt+wbwjIEaD06BYRSBjinj2CyW/orrjVm5KjgqLQNaDtxU6Ib0WWwxM/CoCkerMSywpxo\n",
       "api7NYZk93HPKf0IIdI//jOo9felizspIHhs2HfOgfBEVuMzw6wJd84PH3aim2Vtd0dc+xx51bNN\n",
       "uBb+JJXFHKmJkz43FC7pbA3H0QFZ41CAbCj+kDoNGkTfUIG+BRI1F0YubhqF5q3RNUlJz7gg/SBQ\n",
       "3iCvjMswtjJXHOGIMM4AjpuWU23hL6Wr1pU7F+ovXobbdjhiR7t+7OTiw8ef3X3axI2ZIrqpl/NY\n",
       "sx2nDzAq+V2xt+CA8tpnOiRPQG8cDvD4GPXp7fEwqsf/aZDelcj2JdIzdwz9IYJ40aaoIXjYTznO\n",
       "SktZQrG1s1YMZjBc1/QRuNWvPbBW/XBcUwYjHcc1cg+9ouXOyk/WA5eWbeYz/x1adWRnohMBgR3i\n",
       "DTNZvPL8r5IVLIadFAm8SyEx7XCRfCG6FFhC11D7bNh3jkfzvSsCQeENHwx23hAUjq6MowQhReCx\n",
       "pmR01d1SUDZk5JEAA3IBWjXVAAM/AAACEEGepkURPDP/AAO2B8KwAFwwnMuA0LXe0pFzSkwZIAOs\n",
       "0npb+PViFUCMwETzUvzHkJ/H/I/T4n5rXlXWsU/ec0iGFa4JmtzQ2n+puFWDkHUAFEeQCiH2+UNM\n",
       "oT+dgxdl8KHoLdPjklVQc/6RWsWz2/XF2Y7Rk01xQkoPtAGRk5Yp41/fCGBmi0UAYsCbZ2vWlqyT\n",
       "B+y69K0BucduoLCOm6UJWZQZvFCyrsUbNswsF6vcXTexqNZ0Bqm3rVXaxCWOzrWxA2/u63Wa/Yyf\n",
       "4GgHGWRVIAZ9XAAHKLgmlprfWI5ZeVXnpWR8Ys9bI+oFrAvlr40knQnQPplQoX3+V0PU5J8xFCm3\n",
       "N6fGv7NqjQBAJvVVnzTo4DNvgRoJ6kAeJauBX4HA83+v8rbQSGRHwMYAME+boWP5Gs0lsajBH3wR\n",
       "oyq5nPWcGIpNH8lEq9FHGL0aRg1KbnoqIzw/R6s83uo2jOykyQqDPNT3xAwwHD0r9mNN3k6BtD8q\n",
       "e+SrlsBP27g8cYRX5Umt3nu4wOr2pBbswOr6l6NFRgH2AGiS56tzk7ormysO0AarkYtt1be6dwP3\n",
       "L6T9nxBaYxjV8WTeLCMbEYCxmno7SUJK2xcqCLYo4/ehchvxYgJI1L5qjodMQH1QsT9BuL/IBLP9\n",
       "lkuBdIMqNH07iG/BeJnXnEBIEaEq2kdVQmJAAX6C+gQLWtnYGyG0pQAAATUBnsV0Qr8AAAMAACSu\n",
       "gZ+q8Qe0+nvX8cEkAEztnbZ/8vyqmkbkTXq3LbUn5eRlRZ/FWdOmXjNOqWM0RL8/dOpqC9UCZWAB\n",
       "Zl2DnCoQiC8OGXXt0HiY6FK6dw56qD0GoOQE2afHQNHseCySKkWcB0tpWYxOwQ0jGP50FK+xAA6l\n",
       "CTDf19Xf1GWU2NvPiuPbTuAWanDT0HLl30Iv/Puaqu+GlclTDeSoIZWbqX7BWwCyv7KBjVnvi43t\n",
       "wUk4CQvp4uLm45L5jmXFl4nBjmnMsQgsfEYwv02IRphfTvaJaDnB19Ocdzix82tD31203T7jpYkv\n",
       "9wdVqPV0ElaSkHEa8ACucu/Cjo5Di+TWLk9uiYiQsKEJwv5z6VYj13qDXoLwqp2wk4B5Re8Yiwv/\n",
       "RpSqy6FMTUAAIuEAAAEyAZ7HakK/AAADAAAkuvoftfL+ZGDneaxFm8PrdkK15DJrZfCoAE4ee1ET\n",
       "VWF5tsJbN9iDzDk0yAw4RrlHKyP9ALN7gss/asncWlcw4FAaYOWfLKBYOZTKS1BBXNqGHa5RqR5y\n",
       "UQmPiI5X95gdfHkkyGloP277JN80osZO20PRvKcndmag1BHgpMUtJgvTOYfPB9tTnVChcrqTHH0m\n",
       "lLcbm1cwe/QMRsap9ShSoVGFx4L4jpyIV16l9qU4icG2VL5PtkP1fqBT6nNHRSM5GENu5MZtAh4H\n",
       "Fu0jnk5ysnvxDgQVZ24VJLVT9W8evyergnpNQPKCCGGXt+MMp/Jveb57K3WxzJ70dsNaBV10V04s\n",
       "n2Yz5/oLsfnkwlsyl0f/BlSTlK/2GqKWHdCXMg5bck1WAA0YAAADIUGaykmoQWiZTBTw7/6plgAA\n",
       "AwAAAwASA6j0AWuJ557b4qAIKuTxTDS4/C4LzX6cfjgjXx8isbjQvxfzpwGLjpml4t8CaHl6Sz25\n",
       "GCPy5cumCIH7/rP7jH6Oiz9hWtSG3/xgUOG90xz2mDxyNkQ6Tbz8ElompPHsdh1p8QTkqr/jnKRA\n",
       "SA5itlQbOkRZHTDY+lVWMbH7G4Imn2mo/vL6GSesuxhM2rWBLjv8AI1+Vx1ApbTlWfAI0UouH9M3\n",
       "p0fPlqartqbwyK7Mb0HYFXMTittqReq5fHoutdSEWbPOMNdsuVd7ufu9qd3NHQGGDfu2QzGrm9Ft\n",
       "lz45E7PrHfBce0m3aCAtuhS4tRKwaamvDTm1Kq+S+ZhKEwapE12BriXKmTjG+3S7G7rbUgs23zXL\n",
       "HLjGW2bEjq0ynOZoky2L/7g/fK3ujrMKJBQVm74uRrZypaz9h2OhRjIP5TBwbeqSvrrN4z/Jqz6z\n",
       "yH4rW9UJsnCfP9cr+iD9XvxkQIU6Mzfscui3teKx6OnUp9bJFky4WU+7P8ByTcaYmsdyLGZdsheK\n",
       "sHgROnF6ZsgweHkMLCnS71NBA7kDaP3LuozXK+z6Rse3+ln2kyuthfvFK2VNaNct1FRIiW7Dey8M\n",
       "NOeRKmxvIyPKQKb3DH4BGVlSpeeZena8ZKDtquIrxbHUn6b2MAVMm7NUMEM9UmixrECg651/aTMi\n",
       "di3N2V7pxzrNTclOwzIYr6IZsBTFj+Na5bMfEG816xv8jpJULfKGmgLClu20HZQyGdm1wvB7Fx1k\n",
       "ZMwornYW4E/1Sna+NKph+zVg1NclJXvhDrLQK7YxlQ3hu3Hg89WNpTamISxM7ifvkCXuBEZf/dNV\n",
       "5pdDeo0Q+PbuImAIXTgC+6JZuWEeMa4hjQqX+cYG5LFA39G03iqHiOPqsXwx7yhRNqZAUBWkPFNK\n",
       "zMlCIw0QDLnTiVcBtbfIK0OrVPko31LDXJwg6bA8W8wfWLt3i+uw4V5Go5nfkcH3WkHZjf71GGwS\n",
       "dt3XrKgJISclajQaeBch/PxDIdnP3M7om8Pk6f0ZXdMBopyPCzUgIADagAAAAdABnulqQr8AAAMA\n",
       "ACTBmCJwj8K4NgDS0tHhY/b6OVBUCJFBf+fwCwAeHvqRlDNuyaLwZJ7zPNbGhKxn3lPObccKIgsy\n",
       "xnlPci3bX9Aat93SfKT4xrCIgTYXOl/78Dk0c4uFOlApiptBhGTNqAdrCGIGrESAbnFPiNqn1Eo3\n",
       "+xKK/2NckltQJkVhDAuMSDlOeCcDFttM6V3nqLjGTRLtmAwBlSPeE2N2tFNTVP2z0VTDWNzrC+c+\n",
       "Me0ENpwaAko2x873ijUEtgcZjYts3jOWcMW1qK9TqgZ2wCaUvDT3uPpG92ZRgnTzHhLJttiquhIZ\n",
       "YB2IvzdB03XLs4fWuaI6K7ospRINbso93IIVzN3+kUHSgG94O1XzhS71lHixmyaZjp0TWrpkBHMo\n",
       "E9BIe9hUbPDD90hwWerhQ20s1UDhlmPtwO8vOJzxnWxTxs8h7L6vQ7oL1u8ZIci1OTFPGbw6a/uF\n",
       "UF67iTB0JhhiaVzH8qygC7x/liaui3m2QSSxQIENx7CYYuqmeS0vpWlge0Bk+Jm22zoPAGdm7UdV\n",
       "OYnokp+pTDmwQduzo5XfK88VTNkyyp9QBDtXUf0wW1DmC+QIwYR0qdL4snBnwC5oR6xbRi+pgQAA\n",
       "A5VBmuxJ4QpSZTBSw7/+qZYAAAMAAAMAAAMACpb6EA66dW7BH8F5VWkvKjsT4Akrj5C3i/UdxUvp\n",
       "q/eHvj8I08M0+yZxsI2rXzfgoEKUcv8OktI3cITIKPIfeqoc7sNhUEqd52Mlmk23q5RiAs6I1kPN\n",
       "2Sxhfgovm7KrFEiaZVoCDcV6O3+3b/AF3k0+cZDtA0J08G1zXTcF2zpb4Z8lbCOU6uNxcS4U7rNb\n",
       "pnoMDeRZ9acx23yRw6PR7f4+5+1YED8Dt6N7UVJizey7Mv2EQIStf2T2gIO1BUvYNpBeifGL9PN4\n",
       "B7aCIMISTtxv27t/5M3uVRcjdgAfikTmROLUdq/JfU53vbpXnPGCxzVSUBr1/9yh2SRXLnQsL60N\n",
       "qREvP+h2LOWUrOUkc3SvvLJmTeFH2SgBDQ3J4w7lmqCmOwrLOj86unM9fEEP+H3nY+/Th/puuohL\n",
       "U1olj+rnu1v3VjV9+FBTmes652DqrYkAksnYxaUStEBK4AFGxWnaYpEyyoO4D9b9hKOKYO8EKbEi\n",
       "5uwUBJ3gz2BagxUfk7FPZ+3fZOiBoEcwZkggnc2gN/usOY4/8x8mspGqvpaky4pwLWAO5U7JYjGz\n",
       "/H8Jsrw5Sui+SqJaIEUyR/wanXUf7lMtp9nj3kuN1kJMm+CZqOsUTGWQiQdK60e3L+GfeDbRFMPU\n",
       "cONl36g2Oy8mHsveK9esxOlC3oXOndfSb+NEpOx1uv0wcktsHXMBa1G5lUQIADYrsYvykoVyX1Yu\n",
       "WsxM8iWGAZfb311Ujq2OK2Cyb2yx2VUGL/+1NH9lkPqc6ufkLRiC4XMGOvAWBTcbMX92VQceqAGn\n",
       "FmYMEv9CKp007A4aH9bntryBZpntyi5DLfex54xw70Z8mrB575qqDCmP7qI/J5IKdxhH+zjo6Wsu\n",
       "ufD6MEyTLMi0JQucos1reqr0+qh/pFSFZ6d24nWAaYCawOM/pDxwxzWrNg9v8bzqJJWa20QEbyjh\n",
       "URLIbtihtOCd8sHVaGs4mKsMG2M991r1Y3TgPrkk+W7JsCaUCaDmJm6prCD3MCzBISvRqVIgkYiM\n",
       "Q9zpUbDrCWFTI5MEJYrUTJtOjs8W+/lgeb5HFYjiyRrOO18/ZmCxb4sc5SVSUgowX2GBLDJmyzjo\n",
       "/Wf6GQ5cFY9l3dn3OIIvsDZJe7U8jXFGaKNcTv2CLx4rGuPqahLuBCo9nPQFr0Sjhp2LgRZ2SFZw\n",
       "oTJ5f0dbQAAAAWwBnwtqQr8AAAMAAAMAHATQ1blZSdTyKygrj17Xt66zCVejPrgBbwiboate05Yo\n",
       "PvggUDa0i4t3tYstt1K48H3I9J09mufx2FOvC7eMRqIyYUdDyt9/KKXCwpy6U6vqhRmhV0bUuPn6\n",
       "bzveI21d2+0J1t0E+g3c6QINL/jUQn8SPfjWkoUzCHIZYRx1qolXr2S2CWkzrkCYPOz4l+z/snR/\n",
       "SPCkg8dqEQx2TZMx2YJJnuvfR5QKBjn9iYHEi8AKgH4f2SuXXr4uTACzD4kb/DoZALAaocxmJH2t\n",
       "5A7iswlswHNSrqCb4OSc6e+ZCgC1YyNqTAkJ4CYCa7pWD6fhadjtIRFzRSZfBek9stVLlF4iX402\n",
       "G6f/QzNbAjGV3YHFdg80BsWwAshUPTK9p2WPV6IPkYfWPRthMIxD7yrnv0UDKpgK4VBWSJftY5ra\n",
       "ou5oL1UxNhlZjG2BNJK7gFf6MzRBEBVQTp0IZ9Ha4g7AAAADD0GbDknhDomUwUTDf/6nhAAAAwAA\n",
       "AwAAAwAAGJu1AuB8EACqeJeu+A0xCwIYbQe+MnuB8KJk6dQ5prsi5edkkLt02U5T2gjETlrYtfwc\n",
       "Ci4yYbE9S7jnaGvjJMj0F3z2nVod64bYKdAzkSs3+MS2q0noJKHnJ4WdNbyYIi3FtWZIJMlzxTZ9\n",
       "VypK8lqw8SIE+/6vwlr193EAqWnDH/OKrePan6mXNtmCfIq0OlPp1UM772nszHKUaf9lfM6DLMhp\n",
       "ol0lWVwK5J9aaT+P7VqCiEhwrfdPz6NNWZJdEKbf8lXZ01BSc9fnq0S6TJT0lAjUw0lNA78pR9z7\n",
       "oCpj40pISZjZvUw7N/aPCdPS6vKG2LgVyS9rTO6PZw+deaKu9mVomixTkc/9SEe3rlzUPur3e39M\n",
       "UvHGSc7B75MzFAD5vJ7UVUZmjzFZb9zurJeoqA+Zyvpn6oOE5C3nPPPxYL5e/hiTPFw4hXhNn8nt\n",
       "Fe9+vJTx+VOHhnhQPUbbRdUTbraAmAktRZZS+Bm9SsF3uzdX6JYxlueUnzON0yORHqLQknW23/qQ\n",
       "c50EDB7R5lQPyqE+ZgEKveTh8TREOqNU3i0/gwlK+Rs5an1eyLGiyK0Q3zJArTUrqnv+FOuX873n\n",
       "msYJPzkvc70PkfImJdTDwpl/1MPiNp8MazdgWs1MMqe/su8joYR4Kq0XR74i+80H1+6s3kOyZUcj\n",
       "PEhxCiSZldVLzwqQ0XcZjDT8fWoN7ypbBYrdBgfcabDj4PSbpaFKCiZuh592R1rjZ1F1GJtgDG11\n",
       "pkfMKAv7L4iAehUfOLVdoYSqU64d8Yb/pWnF8vB0nnB7E8MvqHj6O5fS0NXtbWpu1UP/3gpvWo5Z\n",
       "cjpiWfiU3lvsNTlObhAl6EHM89T5FZz9U0Tg5JjqmcrdT63x7vXuLiEbAKTk6I6RpfwCAY5o8tFp\n",
       "KuIVmeWWWLzSnzRuQ8bo8fvZ4+4mZSkEJWhyKwp41yVPUL7cMhEqZfVnLnTo/xQP3nltNFQJT5d2\n",
       "uvjjjXcLw2WAN3gPy4aAAk8vCAAg4QAAATABny1qQr8AAAMAAAMAAAMBRy29mYh669pwZmyC+VF+\n",
       "A92wqDCADiz181qQhLkLqW0zZ2zTf0vH4jNghQINdHEhGW/6rbKl0KSf4NTIxTLDiG/GYMeUdvBd\n",
       "sL+JeuSccTfabgHJS9AKmpr/3pDOiDuax1dZUxBACskhQu1GeG/eNwoja5DyLgdx8WWDVQQ0pid6\n",
       "xo9mYvdRNIu7YNNWEQ+gFWHx0HbU3++FiT4Vh3YVsrUFIkJEQncgF3qrQY+46FYyoIrp+WRTW9ya\n",
       "xU75SgUbwlpRprkttFTNwjUBSqkwwAa11HPOQL5xtJyTtdMfiIBlLtvttyYph7/+tfTZLP8dmbAv\n",
       "LMmy0L7DQ9dJzz1L5RkEu0YkXyW5igVUMK3JoLCdSEteyjPwjpIIFW9V+F5BAAAC/UGbL0nhDyZT\n",
       "Ah3//qmWAAADAAADAAADAABUvj3CMxJJ/sufzA+GZRSHKdgafa/ohlphR0fhsdgATgw1skcT2Riv\n",
       "V2+9hs7xXY7rT6VI/1F10odZE2YzLQFfcyKQ6O8KBnDdbMUfIhHboya+ntCgAx5eKx9MSavAFe5Q\n",
       "PCBSPv0uroMJLrphkwKhqeHES2quuc2ey2RnHJP4/Fx8Z/vx4WXjxrbSiuywjmFTmI/SFR66kLQi\n",
       "BtQXHmC01mVIMx57qHssL/0drBtbQMyDGA4xlpgN3Pm4zJnzEH+snQPoyssx2VwZlpIgigiefX4t\n",
       "n3kn5dHuslMgmexMJeDCETj6w9Oncxdr1klwezZWJQbuIsNjWUE0WBTLSQa+UGUj08GWHBDl4vMo\n",
       "f9goNtAC+PTxikakmZB5hCE68Rlzy/1nXG6OOG7pFRKwU2qjfHFHt66FeRYAPfVKwMSnoV27gApo\n",
       "AdCoLcd8KXJJDxWBDkX+mErR9LdF8SoXhhUwi/k8XDvgbpa1XAztmI3ZUSW6FZiTjuFDpHTq1IGS\n",
       "WMJpHUB2FmSKqsUk3axJSCLXUhD+2zO8+xkZgQF5RL50dPnFmo40PycSBdP8z9qBmoi7IU88zV6e\n",
       "iPpRDeIFy0jyFj+t2Rkb5DJUwLB0QCecOCUgR5Q2OdM0vmyVLXv2IrgHlD1r+Rmu5+heghCeTEe6\n",
       "zVevU32T5p5oDhIT9lT3XMepMukZb3IMnVkY8KECin53kDUAmZv4OsDZSePE+ZLO7C7vPPLZuV4m\n",
       "DlNYn6gdiODMKiyRKE5bvsIg+1wisOFFOYrK4uz5PHmww4vVsjziuOV5/EOJS1ar+QVBDE+uGC6N\n",
       "RvkSAocYhUnwHJZgPIPBL1XH5jD9ik6jCWR3j3N8FrCDIJH3pSW3NEWJKCpx5N1lRgOBlX+76e9D\n",
       "SPx5hzUsMnx23Deqzt88jeIdjNfjVannmSS8MHAv5ErH0wLXsVtJ4Zxl1fKR9+N4lOvhf8PIcpVn\n",
       "/8WAAAjCABm4NyxqZYABUwAABUxBm1JJ4Q8mUwIb//6nhAAAAwAAAwAAAwAdHXvwjTosADj3ITU1\n",
       "WBmrljXFMUNIK/StfkLkX9ScOrcL/hzrEX2dYhIcQXLJxEm6XjPnyyxVI90ycpSUEt9fTe3Lf8nj\n",
       "wFXiisv31LFrlVLm/O64gmLX3qpHXiei4OoUMxlNHzAAWsRjRfua7gkdI95Yv/82sY4SmPIin5Ze\n",
       "84vyCyXMRMRuuURgilNOodLf89VaJWg+CXcl/LeOQeOQZxDY1dkT5CHl9cA5EDnz3aO3M2mLLEPC\n",
       "WssPgM3YgXL1GLXiLjyxQQFzBasicP7uPHL72oEPlxM7jfQR93YQb0fruwcwKNDh8eTZhbM4GFxm\n",
       "Eojs5VYysMpd6Y7k0t5S2xge+ptjs5sC6QTdocpyCC31SELrEP+Hh4nBm0VkNWKQ9iz+lMe7+v+h\n",
       "29YDVzg7pVcmjt1GENasRMI9IG2gfNHaX+SWipmKxvzOFy4vgeRolatnwpRgOs9g1rsSGCeX7Jsf\n",
       "QfDfB6H8l9bij+/AamRfc4uPSoVdghaKTT/RSZqrzaH/kiO2Q5ZMm4Bj8NMIxbcHofZVPwkIcLQG\n",
       "Zyv2eGAlIgIlqthhGrKWCDpW9K1bcXKKBc/cqZgTAkhZtmwvtA6A38PKZWQldrE3w6HYpdRAnAQb\n",
       "thjQVbCeF8kduzrIwygprjyYoBlVhSm3owVs94IcKLqtDQJC8DXzxWT4uRAvSDv0/U/8x9u6XunJ\n",
       "evTsvO39981YsjCktm8/+yQP1MV737zQJiLSL3ZK7fzH1mFD10/mNiIcwwTqCegaP/l4i/Snohg/\n",
       "SUeYsDmUuSbHgh1Lu5sqpXPvIFDlV/68kWWfFxZVYjf3wrnObqftAsBTiCl5WFUiD/wzm6f7ahxB\n",
       "URplBkFF8g+G6eQoLqWgOZTKH4MnSGAtAR9u86mpzjlFBb14Yjku36Xb1ZQu4QQamlj/oDzmP3/Q\n",
       "zXsD2YLIya0obakC8LYklVMg2ktTXMfc1CcPX+xtNJl6ZaQi3sDaXiO4jG4qvOVKIPnhk4oBc+GF\n",
       "gZHHf1VDHtrUtGAticlRElj9NGWgophFBqxJ8y6kjDOOu3WxcB+CD5Eskq7lCC6uQ+MgQAfDUX83\n",
       "zSGEhvehEK7c0No6iUax6ohN8V/fO21eQ26rZJWFitWhgSp1KSqRaea7JGQ5c/uA9QAMYTtyVHd8\n",
       "A/5ywgrsGsDt9EhgVPjYiHr5iWBcild1jZHywuHOMAf5dSl7Ch4A79epXhUVQlljVvUvYRh/V/I8\n",
       "n3Qb9mrg0xcS/TEwmVlnBCgMARa508KS3kyiKP+kMcHwp1iaEVAZcwLaL8YG81IQhIvdu8Q5fFRt\n",
       "4EbM7zLRu7sMBV9t3UuTMP3uOEKCtX9H3IvBSXTWTHyKG7EswzVQX2icfmq914Qt5DVO26xxDGZ4\n",
       "YhTdgKUfYwIC9Q3ytCvhRB8xaJtXZkuPdR+2TviRUhmIyzcUse4Cm9QQ8wHOdQ1eSKmvqqjeFXAx\n",
       "6XyHLbWSoSxyEZjehQ9ZIu6v5x9geZT7X3QiJOyLw7eZDtUrmRGNMqW76yqsahZGyriHUVGHLqJi\n",
       "5bl/jNitDLVLIrBu2+hRxh3keSlkB6Q81QTNkmpg4MXoaumWkZxSdRglqYJS5K1p2uBLipip5i4n\n",
       "im4U3193xhET9U4u6SfzZVJ3oSOnopF8GICiRtCD5836D26rNh5HedtxkP3+MIgluvSfeY3SNItM\n",
       "iZIin/nxJZQx9HulVcXRCmDbHdQ+zrvRb1IDS/1GOkUGVDyPU7SXMLi7qpI35dEeBKT87+0AGK3B\n",
       "0VBh5VAAFlAAAAHDQZ9wRRE8L/8ABR3xtvAAAAMAB8HtaOW7zLEiP3cJ326TXLIh41JTr/sx4gc4\n",
       "AKzIzQI2eZnZGRXiW7IROJEFZgPdCdyZ0fxxQFNGk1o2X1BMmo2L1L2UT8DZDs+k8LtmVSDesJCl\n",
       "+40cZ1AvxcZhrFZDrNNG3kRRPQ3k6l18RSqhXQ+BX+vu2/Val0hhoUUIFPq2KNrx8AWBs0yhgq78\n",
       "7s6B2Cw/ZnA8bej/6N9137Zzz1uDdQz3b7z6yi6byne9u5Y/x1cDsqa4OfAQj1SdDEML+dCTa3zl\n",
       "wIYWMfQhzWGg7JtZGPrVfw17IEVNV+o2kKSg7nmnIxZ+d1mmmmyeVpncoEs6kqOJSs/xQrZ0zxXq\n",
       "T2Wvy7fQnKPOschCHG5j474+6WRKr2obnO++vlEPWcnjqTMpZ+M1VSp1pffcA41R8F5pUK1F8Rwk\n",
       "wD4p31xNV6MrzjUOO867baj6jGIajN6vqgf7Sr1/Tv0nrbge0OF3eTld0tnwvno9xzDI2rSyK/gq\n",
       "HCpeR8Egs42TQmOdAd1tGxcka9Q4JTnm+aUu2tcDHRqXwSmZPc2WFq1k86HYWKvMziElIpKwAvSd\n",
       "xR7+9MbLgAAAAV8Bn5FqQr8AAAMAAAMAAAMAF+dJdKHoXQRKToX0ADThc01TOh9qxWEHMJlBupEZ\n",
       "Je4gAWa4rnWTqKQrwWk1wWWV5U0fQxgxUpmoAAlNNSfhT3w5mITrHdDxWtBdfo/3cBIXuFuLs5I3\n",
       "qoqKna+Q4IJ0gkm/7teg0oJWopTT8GO7D/+X2coYJw1dmHONCQvXVjDpjERWEWpuphAI/RT6rO/a\n",
       "sQlbt5aGHfjydKBspA47iU2qwvuWxyo7rPA18Kah0Oqr8+X++YQAq1ntximaTJ5YQmYr8hL1oBjz\n",
       "Rti2Ni9acjs+A13F8x0o0z9Vr4lRqDty7tpN00g3dXCgm14w1wNegKsXylka6b6dK3jLbGf/Rrpn\n",
       "q0/e+T5UrvX0q2LfHlSWfpxg/9vVbIPPUVcWiBhziy5XUsLcHmoGSwxYUf7hEYDIArQMKIvYDE5a\n",
       "kj9DRCJoU2WnkuB8Ro+Tcq8AAicAAAMAQZuTSahBaJlMCG///qeEAAADAAADAAADAB5jvL9wAuIA\n",
       "AoludzYKF29cs63xCl4TYiXxxDZgNsYAjspcqujcBDJI1u95Bswj+dZHkfYb+LzC/vF3FA9VVXU4\n",
       "RN9/RaMVU65FQle4+HPoBwi7wha9ioy4xl/6vZfmp7WurIeWu08gRWFB8tvTwOpvkVncTvR5fE61\n",
       "3JNb4b6VivVp/IJvawJCD+zO9uWBeEM/eJf4DaTiqrNkyVJTLboFnFC7TQjgLB+WRzHZM4JhH60M\n",
       "cMXdSBiP8jqWnBXO/mhSaHK1FP2XFQxNNqG1pMNxRksZM53LKmy+AHyf1Z6tnj5kDbRw+iZNJD6U\n",
       "BOLwvOYujUARV16rkplBHOgQr/kEQbgoe0eDw0/SRUONc+rIFXWuK00dca3wXT+qBxMkFPt0nBMv\n",
       "oVmFG1JAvinNkHcopeE/UdV4xHgt1awVWj8BcqU7dIzsSxRuqN1APmNJLWwqzs9PBeMMxCLG/enl\n",
       "NRYjISjf2k75sCaoG0SnULH6UhEzaH5HsFouJZDaPPjAWWAww7m1FM1wv8Nw3hjcCJkiIMvL1n48\n",
       "dUrWKiLrdG8azC6C5+wq5Fw0p5klXE0InTgyOpSL7KA855p9GCkJh1iDHh8WWjdRZS96WTQJ1vKW\n",
       "1AaeNgaFPg84f0RhNRh9Xut/F7iy7mb0AmTJfHMJU9DCcxouJ31XCiptfGlKVKb9c1m9tBD2mypy\n",
       "01/kk45t8zI/IR+IYdEJR90K6qdHHtFx8Yd2Vng/wvxdWKnKLD9gcCD8FcO66XFkC2Seqw10qW6b\n",
       "MX1obj4QY52hnyxfMeX/ictvE8SyBqbG/DwyYSsCkWKyYksMkiQDdnpS7TrQ0TFpNJ2iO4fhgF4v\n",
       "Zuw8TL77glaQiZrJaiDncOcnI2TZNCaWCZY2T7U2nw51BucY9cceI0h8AdY5SDkXH7E5dkE83mUN\n",
       "UHMxfeMjz6wZTFfTP6Tl5xm6wjesWSW8IgjHA9/jTCzu2TgrLdhPjFVJ+Tie+UruORWYAAAC7UGb\n",
       "tEnhClJlMCHf/qmWAAADAAADAAADAGekwSADariY0foEZbNCzOYTCOmKe+o+6UuqBKCpNOqZWVU8\n",
       "wnRJNEC3t5iUXIy3hJuSYJLlpMaHyULRWySV5Qg1BPNF3J+6bcZMbkKmMt2Z/wjda+KNZJU44paQ\n",
       "vpZDlpPrBqXZ1uXFo7095Ou7DyRSYhP4caW48tOQI6mhBWp91I05wSGae0xs2qd7kQ33Ap/htjg5\n",
       "6lb9c+RFK5CTRiuzgbLAW0omeJbsI1AisohYu6SOtNG33EasY6Itb6BN6tCUnz5/oEWeXeO/b73M\n",
       "+pQXOstvpz8NsrpAd+9+NcdlVBcIREg+8i07V0ntXEYqlDHCNd8ogANb4H51IJKup0I0vu8WVvXT\n",
       "bGAzX01SbOgB4HoP3ttfwb2ypqhgDGEoXrWVxJeqsFk6N2ECK/zW56iGONKe83fKNiruMvflYwjt\n",
       "tVhXi3cpZXcw7P/x2YHv0ENHcPq4SWVKk22vVC4l/s72ebilhPuguuPxcc4zeK+iHLlTvAEM9qwN\n",
       "C+o2Wt0vesTJ+B/btdj8O0iqlX2P5dcvxSDItWUuAE1ssEAdMOXnCc2qAtFHGMHIsU/fbHfNSuSJ\n",
       "+9clX1tbOJnzqQ4P8oX+eQ6vBjmDiW7xLXI5J5FhXFDNvNJ3EDJ5ZqZNcwKJ3FMSCu9pkcPXEfNE\n",
       "xM6knjFS70/MDs+yWmx0q6IZ5UMek38t16Fv1XR65xcQPyXpQiHO73ObLCrxf6iYYMcAAB8OsALi\n",
       "Df2VItj+OYkPLzq3+SY2WMgZWTym1AvxchLePe8jtaCXMfbDldZkQfvnHs6jcsLEDjv6Yt2fKQkP\n",
       "rsOGd7gctvrfzm8qxDovnfsjwMBJcQI6A4WObqQNR/bICgYrXzomkjisEBPQhV9301Vugo9ORLvw\n",
       "kQHnNX1yvcEoww1TlqBgS57jjdFjKBjveH/zD8NAluszSvAuEPoX1iMOlG6NjJ/BUwIby1Zaw0Sg\n",
       "aDEXUpkgAAADN0Gb1UnhDomUwId//qmWAAADAAADAAADArfKJwBzLnaAmGe24pNLuy9bo1K6pDb2\n",
       "rg9WCVEVAd7IOdPUwENXynsKPhbN/A78efIBPinBilq11FJUQq7hDK+m0EfyV3oHWdunJwVGmg6l\n",
       "N7s1JrjHEtQ8lQv5ar0l9KT5y/2TekrjC5Om/4s+9B6u3yD43WrYJf2VSACTaaAgshbDuj7RIYyf\n",
       "tmEcx7d3WTdXJMgOmX+DWM1DFwtyZqro70q0QyoO/oB0xh3vKSawh6wH0Z3spyzflTXugvwGe7Z1\n",
       "jAk6TgzuEbmahsZxVhNMU7sgrJX3U8HikC7EPr4gcvcKtK8ThaRplu+PIrHdIqa9E4n1RO0umrYA\n",
       "d9wyWlHdO/YQnXK0jw+KCx7J5oTAGgOG2asuS66fliQ8ZZqetyuDpcf3kmwVmLdbUVJt6CSqOGW6\n",
       "+RHvIz4n1NJ5Nim+qtCs+9PDD/U3FFlPgpU+rmDXeeSeHzMWXpu6uclE3y9UIBGOxmj5Oj8A92+l\n",
       "tb8yaiFXiZupNBV+k3wbFTynajvAOXvZ0ywys+xPLoNlJBlNzJWfxQ1q59KTbsmUfpvIJwRhZ8Bq\n",
       "6crx6qbMEa9GD5oO+VmxMBLsG/91u5ABb32RAQgWafKAZPUAJ62QBYGSnbLxhTcnFHjGAOpgYVsX\n",
       "nvS7VPJxhvFH73CFq0GFoFEJ1kISD1KCx1zmcLq027HfdZlL4zZHA6eIw9D9M/K0rF/A+gy3mSHV\n",
       "S8RBa8D0jDQ7WULDkxh0hnxAufQwXGjAjwHNQxrTLy8Vl7Rahtnc5+g+u4rEsqlrF6hb91FKIKOb\n",
       "azyPdueStAniA4OJ5jCVu+GUTp2Z752+OnMxQgRsj2nl8t/DqcgZ9WTiCZbnNMkQp4MzOIPrj8VO\n",
       "MMe2iFUzXVUluBoUOtvNvm78cCzMiz3WWeA4mQG8vbHosLO0dSXXgmhQcHMm44BORRTF6VefzE30\n",
       "BKB92w5m01FxvPni80TkX6a0u31rwnNRcBDQ4E+C7hCiamdJgtxEXPDLdK9qKd2RAmEVGSvww+PI\n",
       "bcgo8OPy0VanyJTOq1JBG3mEeaw3v0w8TEE3uyKohRaFtoEAAAhFQZv5SeEPJlMCHf/+qZYAAAMA\n",
       "AYL24AB4hEKXkADLzb8ICcDX5C1buFhAPgwaV/CB0Ewc8+Jfa06cXUbUSzpjm7XD1q+S9biK0U73\n",
       "4b5urL5/KlfN6zfNGZYBHu1fMzV2peFB8lSvo9HG7xqWZK/UAWD2NsDQBjwpzbBQxJK6hUrFbuOE\n",
       "c9X4vhieN/ZGyNVqYEO7PO+Y4Gwg75eciZ26zgUvXCKwYQ9Cea7nlh1HnDNmdiBibmNrD9RTBJ+T\n",
       "3qv8r4ePfXcxwUoIsfN1FimsiSwjBehke8w/7Wmk4miY26YCyMPO2BaPtT/dE1J/ZwbAEFUffpKJ\n",
       "hnR4Y5yMQxJjW+T005j4fAL3lasMylj/eVg+vMe0EO9TOfrik3g4gs/ib2oVt2rpMbZC0a6p1e3L\n",
       "tsqwwTjq+a/kLl2pKdQHL3hCz/8FH3P9IuzbUa3chb7VPSwzA2MguZ9Vo/Np0G9WWXQq+UvV3Ax/\n",
       "XjiJxTHdp+65D0XryFJMBq2vgY712Fv2LxTKlnpsdOxCKUz5gcnCLoS1Q/x73zZptzcxW1YRNz4d\n",
       "55/6g+BuulXXBIABjHqXLr6FwpfIU4P3Si/149cvoAMfUU4fwZfuG9THcN2hECToUhxLfBGbQc7j\n",
       "a2D48VjG+CrAUW4nzS84omUoB9Zo8X3C1pKqyhYJ4IcXM6cC4vxTy55Yf8T7LB8HazJrnnkw20+z\n",
       "XhLiQOOOiZFkSREQmKDl8ReHs2CednGYnzu4JH4W3YAV2zyZMhO5WWWYOSRjFr812e1Mylq5cSKo\n",
       "E95j+h+R7Z71Qyesj0GtDjDAQAT1azNZ76FCEJllVG+VmzqW+b/wTYwMuhloXIxLLmUZEkGumv2m\n",
       "lGFI5NPHLv5GZ0yAh3O3X1YaPqrSckhdWvo79pSklg4d4hN1bm4tCvm12o58eC+Gkl9RJnzyVKJZ\n",
       "hEeB312iFv0c82h6yF+pDv9zLyZAgX0KS2a+akwZWAQv8Rz8+I1UnQ2boql8iFyYPNeg0j2ErT45\n",
       "IQ1PzzGxvGLbib7EqhpwCMN23wKBAsb8E7Q+rjnfjyz/kexQaJXuNBatm1sVbA8jcuiZHlmoxVei\n",
       "oQ68x3fbiuW2Jd/14ILfnG0ZfD1oikfYh5f01DlWj2twREqoYA/dYB5wvO8H6xTegv8Sh7Nj/Trs\n",
       "3lHy+qXF4kYd6K7tPCyqUJuVpkhY8Jg6sa10emr/OlfBAxAN9qo+Yy1tMtqxZ1FfzN6zEEponOkQ\n",
       "9XTQhaCYd4j1oCxQU8AJQMSx4IK+L+oiTV8CH3AVtp+j7h47LA/kqtBNu6dDwhSpmxbkKo1eHpns\n",
       "+Ite+FVAzFV09OLOXcnq2GGXIWan9xxjqA4eisAxfFhqdxO/mhy4ZDIpjoUBet38fXUfFMI1ipYo\n",
       "ow4jkAoB3E/RNXmNI+nXUptj6n8tdmwY2A+BMv67LN63p8ITyO35On19fcyVCK7gQhxiX/zaHeJ/\n",
       "dwc9EmQBTu0uUE7adtpN+By2fnN6HSPJ2HDbYsz+NQgaSWZgGCk3CHN8txdXNQ1AFf3Zf4fUVroP\n",
       "zL+0x5f3W5NVAC5RFmEypq6do9kBx6Kfr7PmTd/YNJSfldyMegbeMinF1rMYnvWKNxeGvtDLdZEr\n",
       "I5lPA7Zg1S1qBnrT+TTPFUSuf8mghsvmInMNpKjz+/ltncz3fOwVeQBLAY/vBZK+Fskuy9Pa46pj\n",
       "pC/nye6dOmz+1GsaEuhh74CGZ07yy5SFuRUaP+L2hM2imQkbuu0siL2VE4DlgRYPib0bxnYQ1lmx\n",
       "vwBhGaUj3VJ0q70LIRhOsoO8kTcItb+u/4+K+bp9gdmE38RfOTGSbpphOzQaL2H+SPWtBJwDdIpA\n",
       "jszgVj9nbSorvgUR4Xz3mB0utp4RzDE8goMPoI+juBwlHn7joF+5GkP8OwBPnqRztYA9iAUvuJkt\n",
       "m2A1xmOC3y6SrVxqos1t0RJG5LRCX8zPPpIR/jyXU5KDYtYdoWJDl0Jh0Gvzk5OJlak1H+Zy8cZA\n",
       "++E2H3/IChTAVDQiotjVxt1iWqVf2mMYuMHiB0jwnVgcANwd9wlnRDS/iT9C6FPyt0jM78jvV/Te\n",
       "xW9YePOBveEeU1+GLNcj03uPp428fJZXqsEAa8eNAbzj3faNZ++CYcbasXlYmPh1qCJueuKP9hm1\n",
       "JjNX8Emf3ls+yB9UD9/rPZqAgKsnc0KetnMhpTl6Oy6il/Ky1XKd1/eBZj2pZZexUsD3XRN3ueDe\n",
       "q9Mg2AXeEBzZ6YWYKf1/BHaJscXayliqLHfBq9huqsyzoKjF7D9qfsl/pIfRKbTWIVdFcRf8lGmI\n",
       "l1LzqsamKwNTVRgvE9+ycmizIMMR2OwOOizWtZn1eR3ri1cbC/Peh+WV5f2nEyJ4bCbXPQW7ueAs\n",
       "XXysHWesZdkotyR6pdidWybNnRzFbdCt8L+GriCtWEukqXu8vOtRIFKYLt7gQT9Y1BRlol+u8aw3\n",
       "0NEMiQz6KAy7JKjjQBJFEQR0AstPMD5TZEC1EYiegzDc7rgFhGnjU3MB/6O/OQTxJRIv3XH0u/+L\n",
       "4EP3SHzJ/JQi3dirmF0pm+bFxcVbqED+qmIb68HAQCraGPbG2qj3BYRxI83o2tnQLQwgYWGtQmIn\n",
       "afSPUmbhFkVnar1doLobLgyXyPpLmp21ipMxlCGbKgjadrAukLWSpkLt6EYLzPqwRqQzxsvCl931\n",
       "vFaHOdQM8PngBfnpAAlaT+7QP/OgfwCewgoBgLuYsNIGTNyYYVc+JJ9oI5Hs7s3qwAuRANgGb6Uo\n",
       "jxaG/imkxCOl4kJV6Jty8Ot4B92estnwUbU5L+3xsdLivtjhFEL2Xo2RLOgAB0wAAALuQZ4XRRE8\n",
       "M/8AA7YHwrAAAAMCC3o80JfA1uCwBHvUfPnQi0lxtoIqqGvnfwnh+/Iw3aV+BTnCb+pZpgzWXVE5\n",
       "t9MN7hzmHVezuaVjyj63Qaq34EKl75aQUUWX0vAOO0t2tIqiwfCJK/eAf9BWWv9s01SbYQKupkBe\n",
       "64OylPzuDhzTJh4NYOWaTkc/AF0pEppDzRBmfBTPpMvtJ05scwnkFsB5sIzr2BIby7rUvEd41A49\n",
       "9Hhny1eTzOPeXoLtwGzO+EU+6y9/7dEytnoytbf16VkKtQxM7JzucxxFgDkJSk0loRX7+6XYkVV3\n",
       "1txcvRU9lUe6+lEF8nMfRzXgv1Wew/qt0eJf3YJOzqt/RGTtubKWLbz8ok5jR3lVItGEIEdqg0ZB\n",
       "0yX3VcaRyb4YpJQdKk6zlmVEQKlwH5fGDaI5+Weag1QQMs/5FUHk1vN+/QXtMaDbCvRUF1G8PE0V\n",
       "yRMMeSz402/P1KFbNkIOdmc8h7BtL5hE+5oJrgXThTAujW1tEQSLRy+sKUS2eH4XdsdliIEjyc2U\n",
       "+X2u6r9An3sB3Tguz+VCtgevAg+4QTNSaDhXlMMjXADrND7XodGysxsEnuXRAsvWnF72p0J5vbSL\n",
       "dJJGQz+Gr5xWmtugcf950trQElD+w9f68rsQAfuyRHC5Mlx/9L2EJokFsvUSgzltusfc4VFB/uKw\n",
       "2O4a2aAf7bpfc4kYipgu9OyQAo2fTBlmEKOt6AZ9vbz+RJ9TnSV/dpvpKbK1hSg1jSFp9r2R7QQW\n",
       "atRl2+R+N26XDP4DrL1nMxgX3Ct3GuiJV8CQtPHt20pdwnkuBgdfloHAKSiK6BstKubD4YSu0BCm\n",
       "ngshg0JGFZsIDTMjFrKEZT5J5rKOdBigOGrxpK+14dVfTULW6H25AFyS8/nd32ZX0rqyj+O8lW8E\n",
       "u+RtN7jY8b/3XCDIv2oG5yMfvqvTpgM2e/uSwEm614qHDCs+uhc3qEGKfS9N5n98SjIBRWfR3DPm\n",
       "X675AAACOQGeNnRCvwAAAwAAAwAAHmhuSYcmOVIP2gBGV6s+kPctrjuJNIdv3SL/z3TxVVkz2nmz\n",
       "FZgLAHoYIXCzlbBxWs0ZuX4nnkWTrrXgcROV02AqT/LFxvnDVvy94D1l1JEWxSNvbeBc91VFpAp8\n",
       "9FhwYjRp52VhTbY1PxerKTHo/orZ+O7IkKh8g/xJQaDmUx6N2RiI9ewwOkIhBEwJJKT5i2SPq9Aw\n",
       "THJftSAG9hxctVftMJgdiK2W3ut/rQlVT1QdJzohtnYPzYL5UJTfkrTgK7Veau/f6v/rQkZWfyWq\n",
       "L8hGb3l5jrUGGLXg4YwTrG1VYmdcBwZYlY+3x9TmHTgdfW7dAOZlT6AG2IKpjkQBXnVxRELrnKN3\n",
       "BggCJYVvrIerJpw/6Phk+bE6nfRmXRsdrqKJjLmNA8cIl/1PcqSMJ0UJd/cKCPGjGXeVknLPpKqV\n",
       "RXR5UoMA4R8vaEplyl8fAA3jEfwJ4oPOC+4KxoQuPQ94dF2iN3aVVXXibQqXnFKM/85sD7QyW9S0\n",
       "PKa58fu0HdgyHbtSg65R7rqH0ECoL/q4HT0Py8fYiMkUJ46hEDQYVSCnJzKfWQAZ3AWr+jo0QVy9\n",
       "GR+ovjMJm1nO0C+++9ijn5kHmvCH1uORlAu/76WjXBrmbwhR4FdeXWpXLjpo2dvvB9HoE2h5SvPq\n",
       "O+kQOgVk1iV+OSk9Q1+bMYZz6i+Jf/1xeDiFAqjKv4IOGe3KFeFJvdtyes9Kpp0Y6PkgHKz5VdJq\n",
       "tDsogAGLAAABqAGeOGpCvwAAAwAAAwAA0zoP663sGO3Cxab/Oxs3H0LrQBXFyzlCmnE8gBNM6vtA\n",
       "cclVOJfM26I1tW8D8qbAMaPMInEBbKY8eUiKKS3dhHhSGcRf5C3KzH4HFMiSV6WFwKAs6yu+Tpzt\n",
       "Vy/SZJNJojHvwu0pOqCo0p2jyaW6q9KPa5vmTmHse9O3VwjiagYUho0woIRC5cm3J7Rey4FoA5LL\n",
       "Ca+wjH1rV5I08Odzg8M2UEn64ILYnwlWsEEujzMhznr0oidW6z+zZ0LGInZ6u1Bb1Z1txfWpjIKj\n",
       "jBnDK3L9cCwc8QaS67hLZ9f2vQtoLbG58OUlQakb9ohQJqWaEaOwbcjBMO0tlZsh1lJQBmJ7/p64\n",
       "KYmSSuQDTJlZ2mI/6c7ylCz/Kggavpglg30zOnXfx3z7t8WPhIue1kgmiZ29l0y2AlVs2BKuqkTi\n",
       "/y5sRy1dEDzXxwb+6oDpk9BlWJsz03/7eljbvqqHHr+jp9/wxXvy+V7h+sNQzJYog8UU+NEuSe0G\n",
       "PUcSfZwngeEn7V/bAGq2miNzBlpMwwnoQd8QQ/k7K8AAMqAAAAhKQZo9SahBaJlMCG///qeEAACT\n",
       "cb74LyCITMRehU3OBgADJ4CbYxzf/UhBSy8YS0D+ZsLD4pDC2ByVJVXA2sMeiVhCzGfu9taOLqNl\n",
       "pFBBu8db7bIvV34KZFeNAKUzPlEjmb9kDtz6wrve4yyGdnwsKXFumxUcyIGvYpBXh+feB3PxCRQY\n",
       "MdcSnPAJC9+MrP82WoXnasOhhXq1e+pOHsXXJO3mmgfrRVApI/K/63cLfDkMP7UD+D1WRVo6N541\n",
       "b69re/7Drfpcos5XFZjUuyAlOk0qx41LdD8fUotSQEVrAVM3KMt2W5Bm3uM4cTh+gOnzJ1iXdZ31\n",
       "JufD7llqyVgn4xis65PDQORz94I3mWKYbV9oCjO81H0q43VuHTqmkbCePnYVZNVH++3is48cnM8Z\n",
       "RZQ4VEwIMvo6Y75rCEe2BQGnK1PYVWXBWnb06INmQlfsHligd/Zqmb0EA45cb0tdvMImV5vcDQfj\n",
       "0AQJtCcerONO46TOqZR/eQrQ1r91/k8qnLDZf16lWb44qqyDd8GqOR/YfpKSIl8l+nN8nyJRYeP3\n",
       "5WA2PMWVeJbbdTaav8VamMwgT8BeaTb2X6qBQxWzJ8z44Woiq+jhNlhrgtTCjXPeKwhkkgwlYWgG\n",
       "4LJnw4MKwsBSV9lpXpBKFdiJiH4kst+e9nXJ0gNA98Ye8RqazpLliHYVVV9CgDU+Y09kIOowkQZ8\n",
       "cozPL3PjO8q5PA8o06Go5V2Aa1kMrWXYgtAE0BY/VRAxcZjC39oC/C25ASYwOzMP1V2NBcDh15Mz\n",
       "y72Q7OToIpZmwwQEIYtitOJ5347Ctdh9Mg76sb7P4MLYGFKJmYvne5H4KKSDbdyrkFGu6trWhju7\n",
       "qNw59xdyrZZXsbCMI3cHxc/LHNR5ysDN9udjFjPXS5cnbpr2LwRLJALGlj+7IZNVe+N2ej+FkJUV\n",
       "iZPLHs+gK9HPRoWifHJdofztkaSvaIE+vxeGTzNbx4OxJ/uZT71IcxSIFBaEhraGAGVb0tUM1fNq\n",
       "nR/+XEOhft5JCjw/SyAcYR2wigZwdh0/tGHaAJI+hQnh2w2N9q+bx49zcWvcQZcs/teH2O9gZdtS\n",
       "F9ehvGB+tWFwoUnogERstaUihD2CMVTs0u55itIAFAMdc99PkpginSUadW64HATXrh57mIugvgn7\n",
       "/X2crdwbADA18XE438fAXpmDW9maeYKy+B0T5Rv3MpVPL3ZO6bXRM1NkhywY1NCChj60++N3Y7Pj\n",
       "AP73A5g7fIQ0Jirmliz/RJ7ggQohvxE0r68Ifv7BUIuyQICOGv2zmMTe8LOmJWxzBlxnOZ+CxIn/\n",
       "//+HvqAnXQZ2jeCEFQUCo/rOeWLd/+7kzkUo34YqdL1LuLZRcYvXxDz4xlD9p9al8ridGkUe9MZo\n",
       "ORag7Qvtt6+qlsTn4far8M5ZNnHiPTzqdn3eCa4rsgRynL7RzUJf+yQIpSbbYvJbSR/vodpp2LgM\n",
       "Bc+ILBtUfRva39GPVuO6Yw8Wx1q8EFYV/0jOLWHbaACQ7+z7c2IpJjYXLX9gmF+XnovAqul4azdO\n",
       "lO8gRCWw6oJaNHOEzMaVX4WXK50LzRQkOmPD/Hy4ONtA7YYK3zPHkI/7ROyRfUt+zuwvztZfU0zM\n",
       "wqX2nLF5qM0JNcxj1U/BhDsmkGCPV7yEMQldMrsGGP48ghdNXqiYMK+he3Hh4flpjX9fSs5q1GOw\n",
       "VD33Y3FEWxxHh7bN+4PvWkJ7Jn9Ihjvxr2OpT/4WiCvHM7jYMRoh2F5vRJXvM44mxNKJzftsP2T3\n",
       "XUNn75RwVbT5eD9Vs9hRwWolb4kWCwiosb17OfDTfLamiQylAxY+HNnroDT3YwnJN9F6OcRW6Krl\n",
       "HZgXfhxCEYgTXoxIEqbLCljQ8swtT2kpr/91sfMdmlRP9MbtV8bWaRsW+UjB+8Mz3N9GYxq3M5jL\n",
       "uuztP0UgHOuK3eR92VJcyHRLP2AluXkI5uoTGUXjWzbqoHcBD02ZPbC2kIZh8Ziaepzawe/C6wY7\n",
       "iMtrC2us7l1/lqptLPkHjWk7kgGdRjm2LMJmz7TZT2zLa6pHWx8vJEiEpIIRYoaZ5VZ71sKGcbfm\n",
       "bCMP2Xqg1zjXJlYY3+LTmy09R/nvjRQ+c64sRP/HBHw2e8mhTGw+7PR0ZSDaLXlhRF2lhnNJ1gu3\n",
       "K70GDx0tzQNTvFRjZG+smnb6IZvEIEu9OivjzFl85u7uJbw2Xpm2weNz1bq7IP8CDQ93cpmJTMCC\n",
       "w+YapLZADRZWWlL+4xcWVQQgSueoxNHsnldz5H9PiEjcHgPKL0yIyUrhJXLUS2jfBar1MY+PZpIc\n",
       "lJWhG4Y1SNLSbUBu1PrEQoAJZELhJg0IiXNXyCyFZ/y+3VrzkadahddYiNqFTf/uU4to6ZPY/ba5\n",
       "4Nbwq7/7eyr4U/AyFnZdo74juiPQf2fX8PChZvmWuIAdmzjMiKY98hixwO88cNEXkM0SOAwbK3zw\n",
       "8Y51cbOxEDgk1KImSj1dMyZiAbaUIRQ5YcdXjJmgcwFtWOGFE3Is7MvAoZp+kkeEMqDJwZPm8EHH\n",
       "yex9wowKpRD6b2I/v+8TB5nG3ZUb7B5BpaS73a7HJROZ/8pr5AY5+BlbpJmMXBDXoReRdxWaUiPj\n",
       "z6IJ/PYa6z1Z+Ydbso5yvkcQdIsl93aC3DQIgqn6QzhXsPEkEBUWPSS/OmLRO51zermv9nVxvuzQ\n",
       "JcjkdCXRrFD4/mNeMuu/akxCOUFin0P513+Hhqa2OTsaHO9tneIgNSdgD5jZ0ck09EbGMtMWr5gZ\n",
       "d655aD6Xlk4KezmJo0WY3QtxRY7psYjWBPcu+aMV58iUCQl7VG719HHwq72hbmvrvHwDPwAAAyFB\n",
       "nltFESwz/wADtsEmsAACoPrkPC/Le34OMnEAIyPqs/T6WQLTGt3x8S7gCO/OOAtoIqrO+BCsPR8T\n",
       "adRWCopQxEbfmLt9Z6tyNm+pncNbkzhJJrZVCQfBWH8rpnIps8MsM8QNZPKSPjPL0fZLSNlq49tI\n",
       "OmQVJDhprG4RxUUTrmjUsCfqAyWn/TYE6IJTbUzKf19SQgEZAuScKyEanDQ5o71YJiOvlGVEcahv\n",
       "+be0gLzBAiiW1g162axnawoB6Fm7p928lNs9+f6eGH0kabjAh86fXyrb/Bo9ISogMPIUQrcDjzWd\n",
       "WIyFjjTPYxBUioEChiBjPKmpxWSJ4mFcZOe9RXM2Ae5u3mR/qgxdpUwNtgVAwMPUKUNnBjDmiPvz\n",
       "JAHug96ud5TGCLzgxVhSw2EsW58tgtA5E02mU3uKUeIZoOFB0I2eZ9Gaql/y8d2l3E24MLUBFZDx\n",
       "ev8Wc6wcFiAtgJ6OOCijgHVjMZRFqx+a7538KSZZxJnuGOPExMw6Y5VXYX0vSPiwgGPnZeKliN3O\n",
       "/ls+3eKa+cTiIhFhbyVeOL5FV+/sBWOG6xTGkDbxHil4/RtcTrTQyh1coFqCAo63se/qunuXvQGs\n",
       "ZgYDeNTnOmfwaZBijYV3RwPnvNF4SQPttCjAgg5ZP4qSaK+UNNB7vXqoW62JuV+3HYWt9oCgfivD\n",
       "Qvbmc3wfv0y1EoovMQJ955k2+W7NUz7ZL2WSwvZ1UKo54bRVf1f79OWj51yX58PvxCZZHKG2ZX/H\n",
       "PhZS/DH4KZJuOeIX8+p2q4GrgsAAAAoCdGBaxfk7FNUWgX9CcSuetcmNSNLTWTeUAHTFI7z6tHqS\n",
       "g5GkJVaSlXydWx82OvuWY/BptADJzN3FDS0TL2X4gaD6K6WaPBv08x+R5PxcTwvpatYLNazEIQMQ\n",
       "+mQnsUNm06Q9K00HZrwNc3yYp7rlqEY/4bl/2nWY+vlHtDmUMMTizeMwiNHTum3xShMPlzHORpLS\n",
       "uPqO1vKF32e9chgqAXl7NySNwddhTRTAE/EvRZ9H7FKqbO+BMOTQ3r6Xw55c1YjwhPABKBWtanLA\n",
       "QWUAAAGjAZ56dEK/AAADAAADACW+HreaZlEAbfnA5z2YEnzcD4ev6gU4PT4GANEEoTepNVvLc5Fs\n",
       "TFqgxXFuszsSw41sOQ053PoWj/fbq5P6h/aWKqS3Yw0Pnn/cWZFf8iOVIEnzBzZBXh38NNPZi3/h\n",
       "FlvgbztVBzVsvTT2bcdVK7+/RrxuWNrjVB+oVxSurGjiJZkfPlEcsjnBJfS3n1pfrUNaLppHv9os\n",
       "VRrylh8dj7eM3Dkll4AL+fmUzJTJgfJNGTetCURysHrZ68yGf0wLKy0WIjdT5clx3Is++fCZz503\n",
       "UlvYzWCYnVPXxbj6kv+Wl7JZkdb1jVr2o0P2mBRw5VJhxcWVxHZ2b/uztR9UcSmf/19To/CKnqAq\n",
       "jooskf0ATBY9x961wN1C7Ey9StMvvNRSSrRdyhaHZQy4Qn/eGcWwcxpOTbGZcfC8ODWglCNBTwTO\n",
       "gbVqehw2d2N//QeddXoBKFvTvUQxZki7Yegnm6Incme1+D7mPfo5VJSdPmeN2iKwZMKaIn22Sy3Q\n",
       "9no4PJEIxsmLYKNPNpJTPDcmPsFvmCAAfMEAAAHJAZ58akK/AAADAAADAQXXcusyoVptv2U4AZ/A\n",
       "2O0ZnZkL9DQrhJgn8/vyF7Z0J1Fdh87GlProvCSPkatdZOeeIADZzEFpzdBgdT0nkChhV9/ajIhB\n",
       "I7E7eVQpc4LrJYJG29aPClXmhErvDCS5gXTvHnP1HOz6+VhZ6MoEdX2JtopihjBLEKbZBusH/RAY\n",
       "fu+FtmzP2lMQCDo+ASlBBa3L7VN/DpI9d7KtMtYWFnfkxkTRjGEQpB8BcJBcUJdFomPeZJRblTbE\n",
       "wdLCxLrX/KCpVCIphj197vaP8+pDpJniRiuE60JIvj64dt7QJCVzLOMn+ocGR0YZrmA948Y6LvP6\n",
       "/bP2yrt4dw/IUKMXTdU9CPYGwVE9uzZaghUBdm5OAT/4FzdGneTR6hZeVEp6snZYJh1iz3IjTEC2\n",
       "JNQJH0kTiPmaSABOlHdgmGFXxgy285s3du6lYlvhaAWN1ZRd7jz54z5CMH83dqtGQFH6UnK4UMT8\n",
       "5eUv9zPjkTD2x1tTosD0VaJuYKSCCHsc53k9nAsoyS5iMkT/yrzGDb2JbGK8Ef4zyOgdnQl4JHNC\n",
       "9pi5qaqASNojkXhAd6kx+JViKqo+oqNW/PUhc8AOmQAACCpBmmBJqEFsmUwIZ//+nhAAAjpJBpPg\n",
       "/qsjTlFgsOS5Wa0TGL2ZOAJ7zm/e6D5bf8mT/ssJXwbhFK5lesQ0OQNfRe353B+m/2YibfDapPyX\n",
       "TeOFcPKZIY/hJfhzCOIlnjIKpbXtUzL1ZRR5aG0vXAWR6Ee1nJIaaAh14IScjTcdlJfqoxQVmLoD\n",
       "BpyHOtmsDaUDvTAMti1TcUjG7FGQmv7qKuUsXPYTMN3WU5zUcTvY2gesyjPzTvO9wqLXSxyx2MP6\n",
       "IOa33wgRjSBZS7cqEnCVkW0/QxAgcu4i4io1mkaMPF5E6rpBHkoiV6KMziQ8MnQWzwj5wJ5yanjO\n",
       "m3bF5lDMCESWPOSPkLBzabASlt6iunaSvUXJ51marnMgtuBfzdaqdwyE1GgUqvaKLRDWwJlnCiT7\n",
       "ozU5Lc+2tE74omz7vGvDodhBezZP34ukWUmVjydcF0UM300bwVKfohxeal0OEIcH2a3Kv3A8jM8m\n",
       "7qrbd8NGImYqBL6f95/jmjy2dQrAESsINjWp0cLggkwwh8ELOTraBpScciLX78qoZe9bKb22cJsg\n",
       "yY8x+zdiq2WMhI2gaXc74+2Tt+9PR+XFFX8aajb1S4eRLLu647BZos6z1OkXP+jEbWK9SOPHUN84\n",
       "pA0GWHpzhMxV9l2eqq05RRZTIuAxePQSHqN3IF+vN6EKqoWhYbPUktRQeHlGTjK1qiXFOmrI7yqZ\n",
       "wlQIi6/aoGdooSwLFfzJZJutSpeLQXgDqjdOi8atnuqhgUDc1rcUE39/KQYHvUgJsg4tXwFh4Msc\n",
       "7hIBxjHKVYyeT5thwkIo1I5r9coQWhtIxoNCxe961jNQgwY3KArF4tOGpncv/iOenIqwFIaA1z8A\n",
       "48npugxnjajrlXrUeF8M84cTY2GF2thlQqjgjZPmqCmVyYAw/TvwHCRx23Z0ZPjuoHyiRQ4wbM9p\n",
       "UEdjgwhC/8GCYEVCurDm9iwlozVzXyvl79dVH0SbqtsX7aUVxML4WOON7fiNQYrlOi131gNEA2Ky\n",
       "qtvzPTXRG7w7DqnRwPsN5TFhE9uny90ojpNs0nKA6QM2KXnGUw4RYjEPLPP/m2zDQdo1UBICNR9y\n",
       "qw5czSqNrRZKoOW1/TWVCvc3YWr+Ktk/PX+EUu1gJBn9lY7k7Uqo+hgO2b0ldwMCeaAsaxfeCYES\n",
       "Tf49XTOP9/ThIVRXjNmWCKdjt656v85Fm51JnGwWWWcq/fit18qDfDNvYjlvSvQtyM1ZlVGuI6q2\n",
       "8ypfQmHFqX/ZlBwtZwyKeZmcLelJFsoMr/j3UAjxFp8qDhtzbKFBIUQztJPeiVko0IuEXNgdc0Dh\n",
       "HgKRpfBvj83ln2uH8NJi6lg5jiO4kfJRfDd8jWHVwpLQIchXhOE4Pz8/z8MbX/06qp1AN0KQjDLk\n",
       "IqElJ8v8jGj+VOU6SZQGzYWJj54mtM6qLKVS34YEOMrnmIogJ+eoafsqZ2Mn3zImmGMARah7PkGn\n",
       "0g59HuKP/DX+F1DJqCUPCMje9wyQs4rtATknBmK3m7rSE+VxR/LqLDWKsLUW2MYZHP0NFy2qUoDb\n",
       "Pnw0GoKQ9ZotMMLhLerw2qOE5+q3qd60aBe/fUIteUcRDtBp/wKbGnfOoldOXPb9r5pZm0I4AgZD\n",
       "/mP9Hr8g86grqAfzm0/YTvaBpQk4Y26eLWWpWxW05k36ky4wKFmPsorx30x41qowat9MhG+fWo6M\n",
       "ZW4Y8jpQb5IOXoUD4Op0rZIayrw3K8DHR9P92CCkcsYuTZAbkdR1QhC8nZA4BtJ9fIrLGqiBV/1L\n",
       "vdPG1VaK/G2N5Lz2TJdCoA9InIBL0eDLn0NBOfW7PjGbbBvjriHCyQL4QPS4DdwtL5LOpxFsG8bJ\n",
       "SbEmVmZdK6oav/xo3YJnTSNqWISkwDvglfbm8F/Lirba1RMBsGM7yMFyHpMQbcMuZWS/1+KMWR5m\n",
       "roTSlb3qG566Y65fqHBhq2clDQ5EF1aEWxoSknVH2R1bUiMwCmR+JsP0wJb9pNdHPizea3eVidwl\n",
       "8zb5HoI+IBm+elXcbpKPCbgwievTal2TzOwS+pteQ5UNlwZBveDSpqqoyjqGDI7yTbsReq/wNml1\n",
       "G1Ik65wwyMw9ccq/rtIUS3Mz2Gf0cxP3gea1aUMLly/b/GILBjlEfcCrOinQu8gPXjVusn2eim+q\n",
       "EYHr78ub3nNi3uUztjl7Gm3VQMMa0WEDFC/t3Z/qY62mcQvd/z+SSL5gOLu2vunG/tBfg4nVYFTF\n",
       "GSd3m6k3NHSBUI66nf8Nr4UpcakA90SQOcPCUtHtRpQURpIvq1KMqIdq6vKREBj00XdATU9aJ/vP\n",
       "uijc5cVdZvP1XzCg8mnQwEomsLfFNvdAdOIBD9ujncEOD8NXlnD92xxVUWgGjYrFmSvBo0O1seTj\n",
       "1haHWh6NLTHwy7n4pA/kWsjoYmlxtVVcRU5wTvfW3WLAo/c3eCZ0p7dmbHFaKgc80I3qoFNG1ksO\n",
       "3mzKkW32ThX0Rt+yDHkJiy3lj3kahtAw2PB4dv/PI9j9/2WTe1kg1tD5OliLycMhxVu6EcrjNVa2\n",
       "gpq6GIrxftG2bxDZBiMdg9zcolFsO6VN3z9E23Kh5jke6sGwqeA3D7IRN/rXfkLfU/OqdVJu71Nx\n",
       "jgoLrbpGtbyDsi3dZY15zOebtB+3Y0gf/HYCeD5j7ucEku/5LNyM9lvNLyQQxkI3tdiuh9EQeb0v\n",
       "TttjD4rCcubxA0H2Ovm4kVAPmtni3wds1CPK9T7DDW+fAk33ARTpDmEZkKweq2IhM94Hi5s7ZzkD\n",
       "23cEbr87LkjI0MBDMAAJOAAAAjZBnp5FFSwv/wAFHyLW8AEtuNI0FHgivg1dVgAce2Q0qDObM15O\n",
       "Slp3aGSsdyAdkxA6KY5kMBtf5wFv+NHeVRRnu6E8FYWnxaJ2S25NaE/DacKjOYWAL85xUNkQPlw4\n",
       "eh1r5z/EkWxtoAUTEP6RPZBPYiGBpettiLx5isevcJYhO1Kc3UT1912G49L/KxqeL/s5U2Vst3gt\n",
       "TmureL3QWWh1lXSThkEbB61ijXQUPJ52uTnjemfUgkZk1+sQn391O1hldCAv4AC7wqQM6vvtdhv8\n",
       "6Ipz++063xz3b1bdBghksSCKf6cDXvTNbFtnz63/MIJj0tLAGcVg/c2tjfTTBVam/xyPIoXyhPv/\n",
       "tSmDMI5hx6ei2/m63V4i4j1j3rgsTSEg94CyrOu6ukMdgSWbWCFDYR3Q/AD/7hA4dwTFZRSz0hUw\n",
       "zg5f/2k3jxyOXmbXvmz4aKWgKaj/JiWIE7+qrSWrQOs2/Hoomc+pq5PYfPmfJW2RTOyloVvA+mC6\n",
       "iGT55edDju5V9ma/VdA0qwe2nRrDRw7qtsYNZlQIKDWTdA1T2qoxuX2VrjJp1x3et/FQfFb4YOoh\n",
       "2JzQZ8+9M4Egz5bJVgwIqBJnKTrd/uOtqs6LeU47ciAyd1XUz8aElkvo9Tut+D9OrDbKwRXq/4ow\n",
       "qVTwgvK0GBh8wAW7a5qs0gcOhro/kzsuuvnFjWa/M83OsOPGZ2OyCLkdnSoSQ3rcyWTCUdy0mDwg\n",
       "JjBc15V0t3A8Q+YQXHdHUgAAAUUBnr9qQr8AAAMAADEOhl1mVCs2DMRMW6eqkoNct7O8G9MhHJxR\n",
       "p8Gaq3I2qxTmpV1m3lQX239+NDAuMlEZ5JUm71NJPCT6mNM8gKNwoKiAFWIIuG1MzZ0ZGOYrNqhL\n",
       "OLW/iYled3vr82JfMRBaPD6AewAH8NRg6jY7+OHcvlWrJGvjpMGi44bNid5k187eD3o+WecO+SY2\n",
       "Ct4BShoZ+H4EoipT8mfJzxnoEyKHCnpTA+BUIVDryUSDzjBqWFfh17j9HzuFkZhy+AWvWFWwJ7Y3\n",
       "jiCknfT5cQXzLUBk0TDFXBPy0rgoAL4jnjbX9fqU/wnetmUp63v/tWiVMQbPO1HU+R55U3tVGrhX\n",
       "+QTCEUymzcaCbN8+xRwo7DZ9/Hu3/AthHWcIJJtvSXmbRFyx76JF+F/aFT6RbKHwCjytUE0AAwvu\n",
       "AJeBAAALzkGao0moQWyZTAhv//6nhAAAsO3JADcIFQWlKyz+ittHQGcfnBRMKuMsMlgXwYX81asy\n",
       "POT7+8MMq7/JiQJdkwwutxD6GgBWnBztmuhQZhzRd0R5AJyO8X2F/LFjFrKs5Zqge+PcnoTgXVd+\n",
       "HGfGn4aVCnPPyQ1iuz0ci1ECANvwk5/PVOxMenqpYJghQnFCX+kKGMFLKDGg0YoDm6HHgrPmbhEu\n",
       "NTCpqdhy9WFpo+Ud54J1LhGALr5VteqNa21s9jdGS9B7nTUDpDx/oFmvp4088sGRrNAJgMkPlHWB\n",
       "eyLUPMz0jSGvfkLoauvYbwiBIId8IYdaJemf6CJl6YOWxGxPkcotbuN27phhMXeI8vPGRX4+1law\n",
       "pEskuR9gCQ2beRu9TjxQW+3NnE6QhSFXQA4SXsblVzuVsxHPqzzIWI0HaEX6734TB2/7lYOXl9hO\n",
       "AwJBRFbv+avIgHIuGNcXuJN2x7168Z72Vu19SaRdoZEv4yYlexMBe/7upX61bWzIxfEvt0DYcE5a\n",
       "QNeTwv2ul9J0DE6UukeE2FNV1LEeqmPrL2O8oLMiTrLdc9yWYQuzTskGahtH+q52HxI55K0ALfvS\n",
       "QQDBjxoGqrlryWA1HnFhhXLLPfX2dZwbEQUHjZIe5LK3QrBlO8TT/GmaG66AVPeiAF17LNShWCP7\n",
       "2WW2I1Z5dNuZlkeeny+O99Ibq2V7rptrg2B40Hz4WTd91/WYCdenSUJanzqkKAOe1CB3FiiinsXH\n",
       "q4ReG3t1cUu4bnMGkWerrhgdAyQGj9V5Yls+mZUx4iXlxK6XFjypJ4zvi3zYnWExVXOLTYtkAAZq\n",
       "BMfxqP19VUDrJXOK3Ye+aR7o26LuFO4zrY7LQNTORAFLpWljSPOtRVYMyE6rFTYY5DSV60cX3/t2\n",
       "yv0nsgLsMrZmSllnsK7C4SE6d0rZ+5ZzIFQvzKsOD+6EhLlmMHqeMb4bCRXxkyCWi1zsl9YXSQ4y\n",
       "LEIy4hgrY3S6G+2aXoxE5VCtsElkk8OIxl6EYJP7JqE+QCqRN6QWS7UDQgFT7BVAlYs6gTCgjMMu\n",
       "T1xltloMm1q3or1mbMZGqt4qIWU7BOC7UqyTCMv6a0aq//TWmJkd5ClWizaNsGKgHHMQ6HIckNtb\n",
       "uJkSw6hrbaSq1TCI/7v11Y8o1TE/eaCQs0Zol+nEIMOLbluusWyAA2QfrpO5Fzr7K3l+CgQQItGA\n",
       "xbjJr086Pv2ElctM3O3suGpA440++Jz0in6MhrbRD/O/yz/LNYJDYw+XMUZ2tDr245IzF+leazur\n",
       "TBDBqSpnTY/rQcLVEUmuCw+dkEkRins2Nnw23SUHzRgpKfWrCdXOmGw4Frrn3mVBBkLltqeRNi25\n",
       "XbmKybpxPJLpFX/Ws3cJ13Y1j02ETqeU6VABW/iLhcu2/n/PLKktgqOR2syfFJbAHBYhEovB7ie5\n",
       "ARkQvZoJXfQ+1b1Uz+Sfd/gADFWSfXt34FcKnPQYOZCloAizrpRoAi/qa7ZAaMAX/mKpRRb0UJ+v\n",
       "vdrDBzIj8wHpPTrNPZ5z4eZsW4ccSfCl2RFOSsJj21A0xJwcUBHviEgfwQllT6MF2meA2ua5n9FM\n",
       "a5GzVAsnhXvlHF+yALFbl+z6Ipa9hp1lZY4G/VarU++fo0ArJxDkuYfVK6QxBKwpCT4afs+RxwBh\n",
       "VvWCMzxbIEGFDI6yD0N8jknYEOuc1hyfu++dj+jtleKbaYsJGAvh5JJs4hj5LL0lagzOPheo4TvR\n",
       "9Gq7DfcpAFnUM09MM5k/bqzb8gpt6o4QhAJFCnTGOK0ZdR8PjqBIGyVZ1v3Tc6QvVVGha2tU9c/d\n",
       "Fw7nFdaKpH1hXQiM/lkVkmyVNEfNeVFLzXRt3GKMaaLXPFwDYltEV/RSj6oO4+jIb+V6hy7Ip0Ow\n",
       "Y/96xVwp71p/IgTxLbXVwdQmds35AL87gH46a0/XsDoRtYMYwWClv+ap6SvrLygPOeitVyK41Mur\n",
       "FZnI/8oygNW6x1xAW55gP8T0zWj/1yzzJ92eejlA+EIMV+2XU8es/aKeUEfpxD/JJaAu054zHvvx\n",
       "moSfiF4TlyMjbjTCr7ACZ1SX3wYKAITl4KbNlXvWc+RkWj+Aw/QC+B6WAXfvaz0tUSu/pSR+jJvB\n",
       "wLSvKnAgBSXmpRBx97BgfLQFCUtiG4EokgYhzjDEJaGiTsmU+WNBRkuYs87eK97bod+do9dKJvVH\n",
       "IUr9dNGxiKw2KFB4a7tUXxctDz95G5JLmiA1cFV+57TVdURzf+QdfnFuYVMLtxUNV+W4jjFH4NyT\n",
       "IFaF9AzySWm6OnyQy82ztIWcMiJSeZjS7gXMh7yvmhrC/MnezHt2y3lt8p63lp3fDeg5MrDVcBpR\n",
       "kpFSOHcocKtAi9bB2qBRHPog2oDSrUN5ko1ZSUIbynYnWoUDIu4gisBlGM0gYZFrYmOrC9LHxElY\n",
       "Q7vMEdEp2z65dOzRRN6JebXDrHzBV39YE4E5bRSizC3WzC5ic/rwZYUBofTRpDCCk80Ai89O9m15\n",
       "n7N6bXUUw+EsF/pOBIpJLTCbCMCVARkgpnKMZWwDvwgZ/FGG6zsyRKcidCM3p+NQ4gPxJEYm3oqS\n",
       "MR2ea9T31V8hEw6zy8xwsu48t4/PSzkiMc+b/kRtVEXjqWO08mWgrB0MTEpVujzV/83OXgeE71a2\n",
       "fbCGDX9txpuRSGv4IQNJ/SE6PiKU4K64++wMfKqZDFvhf6wDClBRvggKoS8t+gcGjq7qt1PCgBET\n",
       "Wmd0y6Ow4XC9u50vz3XN49MrtfLDDW/qC8cab+dJe1dosEStFbopF/UJmjotn89nExBjj+W9EQD5\n",
       "2p3zAKQ+KZxjzUPb1Y8geypkHAEqa4/Tfa5v6Dra5RHdroMwFCWQ9kyhVGJq+UmoJmBdFjq3UoCK\n",
       "U3vl8toRFQMHcYYtLePxkjTn8f4jzR7F5Xn2NPz/HCl+nYiuzQxNPO/4qGl+r5icNGJsjid9x+8r\n",
       "elExcc5195n8OKX4ZsvWmBkXgV/cajWG252tlOzNd2IH1H+30p3LKWqgZNTQ73xlxjd/rWdcBRrz\n",
       "wlS35N/Pe8Yp/V8hOHOV5U0ltT+wuujhVPMxVdoqIV1nHc0XlHUX1K6T2tZRs1Mo9cosNdu0tVPO\n",
       "OINH8Wdj6HQ8vFa0HCNaHieDkXvNhXlIcp+8GRcA5ln4NYdle0XZK51qfINFhQULtb6qR1mcLXXJ\n",
       "Qc3ow5hDTvd8/oQbjU3tghw3HjkTub7vVATIo2hGfy5R5dF0xjI6jhR9vKv++/9NeQb6TK7RMfYh\n",
       "d5TRzoxEFSiOnsAcTTvF9+4LeR/g9qQo8rEC51xCnXFdvLbt2GjFferUcGD2cFMj7li+7DdSJP9/\n",
       "Wmt3LoOx8W7flNVnyLTMrNN6KPEAU4dXEUjH+DI+EHGZ1+sezSAfzsmnhNw1kOjTlVPsi0N6Rwjm\n",
       "Oq7nbr9uYTXYAE+VxftM3foxaRiqPox1P3IpZSwZ+2motb0L3D0mMi2P95cnl7JNZZimN6AmHIIa\n",
       "TwkP5+86uVmG335IdgMg7Vf8Rz5fZ2gprA7DtAduRhEeavmucryu4XrU7fYP/+BGY5b0XC0GaFdt\n",
       "xb9Tm6VgNe3mXLBPyawXKuaGe7mDXseJmwGFjndM1JUq5VpdXvjuUE7eKEcV6eRu+vJapIHEI8G8\n",
       "J+Gae3DcykwR/uyjkioeleGQFiV5FDkUDaQPNXp24roL5ILzbHffcLx+/aIYqzimB3kexLf8oU7E\n",
       "XT5k6YSRPaD6Drv6f7g3Z3gsydg50PHooulNY73kZeHIWi7c1OsTrQV6Vex3jx0UIvVtJ7TS72iW\n",
       "Im1fd82i7fxzZTjX4yT6V3P0RpB3w9xPTi3H4Dsiunuzt06S2feEXBAgVCx4nSA/A1WZmGIx4l/o\n",
       "rrmlyBIpAFcEaieTvFKOOSpI/UjG7XuVT+TfdMFbNyhT2FEKkmSj/FY+lxXmKLoHToQkjWWyoWVW\n",
       "suAmDevS9jSDp9Pt5w/tKg4rF3UjYK+OFIjOi6uXUq+Qwn+77aLWgl01EsVHl5/7JeYUcRG8sOFO\n",
       "x7tkmwAABHwAAAH1QZ7BRRUsL/8ABR8i2mSVj4/L02PBeSdgHxt7q8Q42oSXqaEPBtSAMZleACMj\n",
       "zVG4R2h04tNo4w7QRI7kA7G+zaMcsGA4BM2l/sdff95E5NzPA2hUKiEcKDsvNWbEUe5XJiyO6eP7\n",
       "/oUpzhRzIf+SnqJi3BI0BlTj/6WdLOXp6Bt1rCgysHtezzt3t04x+LPjiU3mDSVWxE5zhnuz3BDZ\n",
       "2S6tAbuGm+Rm01/p6shqdQTl3LA+VPjlHpGXzx14Oz3T8Do9J/EsuoPOIpC9W5em9i49+93+1AWw\n",
       "0tBmn7roJgz2WMrDQcxPwURbS8lTMJSc+HxNn84w/ELHfLCjvw5HTRWDdl/QbWlcdTXge8WBQ0uY\n",
       "gNwzfkLKrhbFkkO2v2JgC/kzVAPVjZLhD/QGVax2tEByze2LFhA3R84ZVoMurEvhZJpJxbXzJzPV\n",
       "n5Dg25QAzTsW/Vk2fqJ+cy63UG50YkXpIMjSMfRrltdYFmrnihu8VfbogGch03K8FUqe8oQIM7QK\n",
       "07wiPkJ+IuIuwDWJ0VRINCvI/sSk2NFBl71s04rrKwe3ILe/69mO6nPOS3AHjgfE2cMa6YIBso0D\n",
       "ECZTR+Tdz7GKvXfEEcPfQHqE1Tg4aPi8iZvPdi/57u9nD3QsfxKeuh7KMZBZjRpgBLLmuoD0qXbR\n",
       "AAABeAGe4mpCvwAAjuu5UYxidlO/2iYGfDcQnRG9hkCF001ZIvLSdo80Ra5ozSxP3gAA2XH+H/4a\n",
       "k7lWOm0DxOxZkN8WAzVHLUIq5pWOs/Qd3wIulfuHnCTwffBVLehztZyiBdlYE32+klVLsRTns0H2\n",
       "9KpBoWtkMa/JyoC9uG1d4NPPQ2M/yCjZOCUBkhmDl4wS1RbUqdXUf1N3Co7XXwwB6Cn88i6tmR/9\n",
       "lY79kyZ9xKVYij9qsX/9e+Y49aRkpOXASqcSsSuVQHSY7U0OWjc3bThJKEoSGDjfx1V6PvDHR3QW\n",
       "p27E74GP8G0fCCEck1botcfqaSDRewLXaC1sWnx5dfcKSuCZRx1Xryx4I+ilNnAQ2Igd9jwfg3+t\n",
       "BKJbqtu74Z7ZEOxlWQywmYlRmZmtBi+s4H9casgTRNcDDcOv5YcATod7XEqx083hUcIB6gp1zRis\n",
       "vIrlEqqBTlOyZRta8PbuPrW5RvZyFI7Zty1aEN5GsFOewB1Ak4AAAAgHQZrmSahBbJlMCG///qeE\n",
       "AACSk+ar7vsvhKUHgdnAFarWkOlyl98llo1989BJ7VPkQgcYRsuechJ9HT7Rcu9TowffrCReYY3Q\n",
       "4BLG4QJ6AnkOKUKiDa9Bj1qroxLJqrs9nrjOHqSfJOyWj4HdPagrWDVG5A+58h87+9XAXTHF5zAX\n",
       "qtl4zyIuHwhIJezcM9zGe3eS9dyWzQuyEhL9hBC5/9fzy1aSSRncXxwJ8DSAxTBG8OIE5SzKnC9o\n",
       "ffGDueW6eTY7OUKhPj+x/vBGQ4GgoVltUrPPITpWbFTa2aFpN8cj27mDYRJCyeWmcjZaXTucKV8w\n",
       "9NCvAuet10/HwxDhAvqBvJNetbb5QuULI/dzQlLAJ+icQOC8TFPEkVhVnbsdeYM1AqbOaU7FyYCQ\n",
       "shdrg2K6bCngs4wr0+c6vAwdG3k/IWxbdX24OHRJDYbmANxb/pbfvUYuyyppDhg+9ugjLH+SQFwM\n",
       "ete217Omz+G6pdZnroiqVW2C+gDefZ4157bFN9qWe6nETOsOpXswmBWbMUcIdp+JfkkRx9cvc7x7\n",
       "1Lo/U4uB37WeQBvWcDQkh+Yr/NsXpMFBrk/TaA9YkTDJnOjRKD+LTnQciiXlz82T+NqPU4EMMVV/\n",
       "C57Kj/0i2Ka54vlrDpzUP4SIQ1QkqHUs905qU5kQXwTQyNBscMGS4Qxob+EDU0XDs1ed2MkLoUOv\n",
       "m2DiQA8poffQ7amQxMPBwU9+8Ul5hHJZ8KWeeTOrTbF8tbUsuA9DeVSJp0IwdyQLmAkzQMrR6vx1\n",
       "ncm5Nd+0jowYb4yRGJxGlKkXxUAT/Qa70Yu1A97O3Sf+E8mTv8MJJOi3yW6hrtZ2XBYlJ5Rum6JB\n",
       "YYS4RH5LBRoesBLIDdEhPyFVLGTUBdZNbbl2UUn6c3u70w6I1rbJEN4NwJ4saJa9v14NVZS5eVWD\n",
       "pZ8BYFteYbz936lUArAgjPkpAMl/3380Ey+RYH3LbDI37IPXyOgJDWqJJH6X8Vwk/erBwzV3apAI\n",
       "g1K+PEr/1/7x+TF2oXCpaLRHV9Xx2kcURygD6968Qk6tTomR+mqOIfuiqdQGzA8iOFqTmwUtw/Qp\n",
       "agEBw09BthrNDDvIS7XYOPo/oeSmR9xwJUTLd/gAkRe6Pm256G4iutpa1w2sNQSvv/KORYKi0Dbt\n",
       "nSwMkyEnEdTmH88l0akEcuBPjOQtxc5vcdcBt5FgFCDacI8s43QmabPzw313G1X7lUMTD4Us6KSR\n",
       "NwCMc+H2fhtHtEMa2Vb1kMGHRXXmWwZQmvSnU5v9jjx3duiyOpdhtnLZnu15LBZfKq7dHWbQZ+vt\n",
       "WRTaWjSAVV+hO0Ie0XhFssXMGX+f+2t2CkbLzZhQARJHyy47zAM+fGRk9s/M4ak5yi/ZvHzRxZDB\n",
       "evUegfy/McTt4oCuZyBhIW/gKk458euQvw/sz5EH4LLtM8TiFzMXfMoAIEHmlaypBcK243tZaxyF\n",
       "OtTN1b/4NP2/yOIs1Ex7P24PV962KhvrWRugc2KHCYeCohaS4jH2b9EInn7ZjYLei69XpWSBPHrz\n",
       "2YwAkRz/aopwMaT2+mnq7mTLUB6phQAOFutCCZ8RR89VceIf3jmirpy1zzPZb8hwWO/QR5rFNCfG\n",
       "shWqX6SDw4bCU9gY92pHwil0PNp61FQU2UutV5IgDcX2nrEFwYAezCHlkLasdILzRKHQQW1ruHY0\n",
       "awPmNWKDXH9IjiKlBCt0VlpgMRPX66g4o/RvWAzGQuNlZLZjeDQF8Z1On2IckXne3HvY8YFQ+1hF\n",
       "5HbeKNRLdBgn43BDQ2jPCZmb5P8aVG6kuCr4hL9Cu58W8A50WRhnBcdqMykCxYtSkhwKubrLFgae\n",
       "PbcdqInRfLyvy69kgZu0urqXmSAcpzkRcl8T+aHvPTkjcqMhbfIO3MuC0lJKThHi3k9epPQALAkW\n",
       "z2weqCYOxvUVC7zppDcPPAMFtOahjmdARRPzHif7ApSNm0YqOXFTqZmYx1W1CFo9Dw+NhZxOfMdR\n",
       "N15pPaUrZk08sKYHpAKTQBZoOQPRMqKof8h4LXQxrO9BfOL2vr9/LUGcMj+qsvuOnFvsiX9Mkdgi\n",
       "LLboOML7qypBHAVDMFRxqdWYs1jxHHz0YjgmEbRoeUx9wMUFDBXgsVQjos0QsuxINWArNhFe/IhB\n",
       "8utA3k8DnPG7pJWijgZ4uEqPMvo8w8WWmaVaeVbvBUmdJclctg/LMWigFqYGYNMxLgz/FgFkDX/f\n",
       "y/hlvgPVZ1970DrBWVWgPqGJhld6wxmzls8OC9l0MtlOoTYKCdA2jJmDWGxZO1HsnOlt033Oc0y5\n",
       "9WffypGEoSCMP3afngQK2Z0Ud9daG7vQxrHRA6ZcGZGEA9vihKoNkIRWHEqgpALMSs3bM/2ay2pB\n",
       "41QHJsrBfT8r0zFZMifmNCuD99WHYBN4GWB/piewBOVnyidc+zypp1IZ6KASwX9/hIjpBebXLk81\n",
       "GtpPWJ/MN9yArpvpXtXAaO0L6HeN6AJaNAxbJDk8a075ad+Vtna+07kDxdwrc2n1uTJVycicC3DK\n",
       "yd7tIEfEsoTVgoCRV8YX2cKHbWzj4B4ry8SjyNIGdNIoB/jieRxdVFX9ULMpazC2Ksn4dvt8tzLs\n",
       "zk/nI93uFq9xt/gUIUj6iu+aojy42hXSKtMdtTY4TNucgO5kzfr3upj1Ldmx+aKXs62BqhC3cro+\n",
       "ulh4JAhP2s2c7ke+eDPk11tqL0+U3ikinZ7HIV8KvUse0boySyazVnuwAL2BAAABzkGfBEUVLC//\n",
       "AAUfItnYghQm/Y+q00MsYoDGFCHi6yVizIQA4vY5SBAYRP5jWpsLws30p3crCuIQv51Qv0pIl+p7\n",
       "GuTZ+4dKl2NzTgj+xuUUbrNxsW/zYVCEp2fIBEXETy1HASYSwMY+5hRVDVODHqcEoIqGI7pTHGyn\n",
       "uzSrAAJRpdFKGs/22DAWnsFWPOiuXYvxtJJcmYpj8zFmULDQgL5EsdYagqLUbkLrVp7E98RfCGex\n",
       "JS4SKVwMwJXMU0BFizVckUILBZ7Fgf2G2psmrxPWCeP0wwjhLNmzyFxE+wNV94C5Abzq0W27DWhf\n",
       "hgN8Wa4WU/w4LVxDwxD50o7H8fhG2VndEs9CePNKeljRBoxt5VsBbeDz1OZNj/0uiIDnUczrdG6Y\n",
       "qhYenRbRpX5MDLJL/hX12q9j6ac+2acTbLB8S3iDvAY3/+NKOLfjKMpx6BImlsmPkrLnCrgcK6IK\n",
       "m4nagzWjgakOkoJv++Mr2dbpN7boubiGbfSJ4l52G69e3Zo3cg7/M/yAvG8daJKt5RLeAJ3TXWt2\n",
       "ISJ/7IopEyZgXdz9qP/kMSsTbxdPVGmb61UT3BhB/t0VIcaGeFkGiUPSlAHvplxA/iK2dGXOtwAA\n",
       "ARYBnyVqQr8AAAMBnHSXShzKymslTC6o8sCX2zU0ACFiJHbQALVN7ODiQGJINr7mDrrN9G8JnZoj\n",
       "UiuBM+qmPsdJF8W8Krfa1DcEHlwDF06wY17eV8xnKOp/eBSoJdWidn2NWYAYMQius/ZLZ8TmgICf\n",
       "8PChtKuXuqjxqJeUeopdfm0s53fzSo6/3OMyjo+q4Tq1MllPM0B8QOjRhI9+NaGwfEfPTCiQsznO\n",
       "ZWe3ruwiSchHVU7Pm1t91AzelvHUHrnEmtAxstHHR1QtHK13GHSRTFFZjMkD0D+63h+IPfcq/96w\n",
       "RAccAhn3RMi8a1FmVK8FrollWU/QbaaA/cypAuq9641ZaMqkjzdDZrYvny4XNfgCa0KM4wAAAEVB\n",
       "mylJqEFsmUwIZ//+nhAAAAMCKpAyhW9Q/oGlGt0gIM0/twodQk1+tf/Nd5AK9eoQKGHHDimhUEZG\n",
       "B1VUpRkwiQAAMCEAAAHQQZ9HRRUsL/8ABR8i1zNkXSdOawJAm2AD7bYKq563/9ZDmkH3SThjA5AF\n",
       "o/lo5S5QfK8kdQuxAm+CRLEa7MYG6WVrsT74I5wednqUJb2I8Q6eo/07trGIrsbc4CgYo5K1ViJ+\n",
       "Lg+zNR3ez10/r9V40V+6pPpfIsRmlw8//fia6kMOkYqNlmlGAs5cW1TF5nFXPg/8l8Os6O9npbyB\n",
       "ZqY8dOXDytcf8p0S8gCuhYORXo868RZLt2Z8CLofL4JyB9hOYevXMdSMhFp/46CcUNOHdqmRDwoD\n",
       "26ttSOrzhjz1Y4EgCvi7YT8aNN6XGB2E0wYZUEpXuaXYEsQXjSmkVIttrhAFzFGQ8oCMmj1awqf4\n",
       "rYp+MV6mormGlgUrGN3wRHNi8b2yIrKVblZJMXv6N7oGsk/SyzvUGgg+MSbbhGZb8+wLQTgWWUoI\n",
       "PwjFlhdwMCRuJpgk+8RuZ4mw8ai15DUyL3yV3WzkHVILHgnR/cto4+eozU+WE8AkB3MGHnVkxjne\n",
       "SDX3ewmn2eyt7jN5GWuWhrliGdv7kyflWUT7OTwYLE4VTOPkGP7EZnHm0SrbYkG3ktTFqxRMZ0fV\n",
       "47hKfZ4iIdkysWHM7beDSIThzE5RZMAAAABiAZ9oakK/AAALFX61bgF03Me/Ncl7ITLNql0jRoP5\n",
       "mFiEDS0FH0FTxnzeCuRLVy28lz72L69zXDwTh14cehjAwTxQz6jGn5mUA7WS0Le+rhpANIQcxmqH\n",
       "UJTdxP1CeJAADpgAAAn5QZttSahBbJlMCGf//p4QAAKxi9ABST1WQxH4g84NuDb5t4Y1L7pngQcb\n",
       "b8F2DJgbyyapqRCum5RUxlO5s3/6ituuLBk8z6U9XMhV44WwaUIz/Ucp19xl5XilWy2DMRxsZ4vv\n",
       "LiVTRhzftPsBuV0aTAXHwzVz37uU/HyyS+jGEF500/8jxvUKZnU7suYneQga/8H/dnGweWCJM5G3\n",
       "liG6dDFxevft4EZT/x2qD30BMVTKg8JKEZfjePRzWcb+h1xX5L/523/PTcXC8GF5fslXzVM7t/hi\n",
       "ndrsorwCpcoeK49LdZJr/m+sdltqK0rUs82Il5Pikv8za1IISo9zW5DoIK0HaYTHctzB6Mx2GaLZ\n",
       "MIJqbPBLoYAveHZdqCxECUos5SBMuK4Ha6nRiyWAXmFLw2WW7e5wAGVy1wlgItttXNHrkx9MGKz3\n",
       "Mw6OtDDMRwyfMDolVROpLemvAEJujl1Wy2LzN9kTFhylcAZzjRBa8aA7fr6fb79nrD+d5hmDYWyG\n",
       "bwpHgEcH4wo6MW1FIxGGfMjJR2tVC+kayNjLmrUeKBEWz81kfoBS036HEQmPMbXXTXKGuoi4Lo+h\n",
       "Ne2jqTrb7apZ8XydAo7B3fPYAAADAO8On3/+nO+UIsqTlSLixJ/+4hTflT8T4DMPclttjhkC/txf\n",
       "hQgP3a0aTTYgV4YWer+K0Bul3Zt6DS+pYu/MnFZOjSsSvW51h+HlrGXKJZELFg//cbzxdMHUr2mP\n",
       "xz3MOq9tLh5LJnzoe6jKCUKU7t7mCOyN4RzU6FW+xLMRIWiFltFNYd5sqgWK8jNoOYIjHB26L8C6\n",
       "MHWV+p52tUCKXlv9oblzjmCRTIqbmZJ5azHDUkgRLF5DlxKHm9gchajeEe4I5aM60qulFMXhzhms\n",
       "qCExwJoaxPP9oFv7pUtJi3kd7qiyJc+FAvBOO/9nT/Pf9gbt3Vr/1/Q5NSZNLZCbQAALT6w3EMPe\n",
       "gtuYpLu/eTPUMOC/FYh9HclBTPKU9qabM8BXobPZJ8PwhAuvBa1W+r/YqohB+ivsX6otXb73548Z\n",
       "Xbin60vAFE4xHZTMF9Ft77XmoVX+ZG0IikHb5Yd4L3YuaNNo7Q9eEvHw4V2bDAjhdY39q9HggfON\n",
       "uxhrxZFAvuGYizAFFY4wv+KlFhW1kzUZKeJs3PLH5vnwu2pAtD4F3KF8q7o504upwzm2mf4DiwcM\n",
       "eev7nMofDCRiB83I8XPDWCKoBQt2SmW+wNdqDywM15vRoaonhqh0YEa2exQqwXVdRnaZFITNbj8I\n",
       "61vry5MqX6euWKPr2d39a8Rs8ATx0/25TDeJXZ0fEegamgGd1EHoULO0mw1mFVUQmpZQzBwQMpmW\n",
       "5a/fuTpeaKJh33ciG12/V0C+sxMIDqBmCKjjVqlbZL1ur34s0sV/DAZbftjcZrLE1SwWr071k8QT\n",
       "S+4cO8xzahJur0j6NFsS2256SS72IPmszA//Y2jv8UfIvWQYGNyFuUMgyQyUs7KANKZdiqDMMban\n",
       "YNCa9zTBhaxz6+TMjdhwd4PISmnv1l9TygOJDxhqLKpKC0dP+Ui0WnUub8Fq8fmjJSaSF837TEwP\n",
       "wO/7I8vQAAHC6h8cuR+eSs6xVRrefF6Ju8sFGLy+n6EP8LnVqhcrCUfH0y91os108n/k1OHezv00\n",
       "9mExc3woLX3J4JqP2Kt/Y2rGYkMZ69UcZJPAVxhmde/gI/R6rE9nl20UUvMRH8L+8eM3n1PUTDht\n",
       "6Gn40GY1JOlk2Jk4M0XQps06MIdF90G2fyFPpQYvRDuySU728HmlueVsLfLo0ni2HgsTbHlCCioQ\n",
       "kmj987VzAn4iApZt4fcFlzftjKBLdIqQtOKF+TcDR4huK+Vh7E1s5ESn5RnoZXkHRnPE+XgbvxC7\n",
       "6YgpNKut7NxyteU1W0HWl2Qs2lhKjgJ+okcf7N0t3dUYK0MqR1ZhYeMUymLHIDjRHtZv2VAn3eYM\n",
       "W4stw9cSAn4l9FzeJrqG+eP78KsPmYiXNbBiXPerLRG05LApe2VCdQTuD4f2ko17YCJG3HMTGp8a\n",
       "WqXc0JKIJvFFnnDO3Ydfee5AOiy2F9pGoA9fRjj+7sMUWGQxPPjvVqFrNEP1DdCslgk2xwZ0JxsN\n",
       "e1Er6c1IdDKCdXDppWB7qnjK+PrnzLg2zv0le1JvJdonAyyyFbDf/RZXv7+pIPdQX7TeZwwWfd56\n",
       "pLM5Ae1rneSE18j/4z8QV4adG0KPYlM32EksQWOtfaMnZ5NUUhpVwT6pVcm7H2bRX5Hz7+zuDfxz\n",
       "vlX33lg7eidB9re5177fkQw99X3AuVBMfDwCA7vBw6lytOb30YnF1DXX3syUVmM3BWkTHRRFfBtZ\n",
       "4IsnKuzQiwX5qvdFWqOOc6yiDYS6OOKRTsjrJtJc1/pdh+er8lFRTn9SCQ4FF9vRatwmRy8DThVk\n",
       "mnP4ur+R74thW+Ti4AYVVMtmes1tZRU5Hqxl/QQzR902sjfFAjOWT+GepimqE7MhLhvnH9gUU9dt\n",
       "FaE6tH5lnXYLHwTsgwzFS5tKrcVDNrhyjifmxgr8vS6DB158t79982JLVesgHzj7J0LP7g5MrHXj\n",
       "32bkJpnYNGsaQRI3TMmGhvJ053myDhFiAIznNRiGw5QiZNIIVu5iNl8tQdrXyDHToIKGASh1TvO8\n",
       "TC0MEL5m6g4g8Z8ZhGsXXmxJw36tsr3mQ/zcpFGwvGz4HIWER/HyD7xtU2JaQUv22MYIpRPIjhwd\n",
       "2F9aabc1PTrE77TgfaMxSplt/wiiWBj6bKGP/1/Tdn7J8+/tZMQ3kaejt+8VjH/3KxhfM2ai5WmB\n",
       "Nhnk26S+THgT9wgKuxwK6mtL+kMGxyT87FmrfNLQYPoQTLQsEMS3Ig4wMUeQrf76PHbMZlI59SbH\n",
       "2IWvkiPt22+uQFzqHbABye+iOA/pPGJVry8tWVcL90j2As5p071QO8rZaVjBomJY0rdqtluTJblL\n",
       "HJw4d5hvRQ7hfXlAIuqPTS9f/+LXBBM1SabpGaBJqk76XmVwb0KeCd+wJf5mD49kdR9wT9LobuPL\n",
       "ySU5lwU1XYL8ntvhV5wlcK5/SkTWpdAz+m8JE+TcDIO3jNnr3gUmoOOL7GrYuAubl5mzKfKXe3NO\n",
       "BnCqfwjrnH7eaOlRaOYrvlCF1OPtWZ9pGTrJpQG7PjiKAgl2Hgf2qAE+BHt3a53zA0IRCzU2K09j\n",
       "EnzjuEMoV6g2u4JrX/GV9AQXFTJ+q9jNN7gApsxQOkF5KEYG50zR3XTzuYoUQACIjd7bSSKgAoVH\n",
       "c9ziWrPn10XaqGo25sMOCipd2UEEFDexLN0NrrSefezgsJutkzEyC81eflWL4e60Oy7Vxu/yBIaq\n",
       "yovC9p12uquYAQaJ/bls63EbMbmKFzPbpgzLGh9WLrj7PSy1Xb7wsxqGnRTECSBmBQfxYG+pAvro\n",
       "/A7pAAACYkGfi0UVLDP/AAO2wSgcfPFLoigSBd0n+qVKEDp1gKoed6l1HzB5UW9N3mvw+e0eE36X\n",
       "NA2WiQBGR8iLU2kl7tbl5+3isB+aXrBRQHJIPqqWXdQ+fUVzVbCqNrBX3fSuw1vKj2MasqM03FjT\n",
       "Q3LbT0Z8V0lXTcavBl8pamOTLxBEXUIfwZLtuCB9WUjTKV+kXU6CL3/38dWiGnlxDpP2Cd0Cvf+W\n",
       "LSXinOlHnQNB7JfHrgdY830kGi2kpcJGj9oAAAMAxR42mngn++FSzHNx2Ta9Dq4cyO3NvW26xxd5\n",
       "89oT23LVdFR1/PXufdtgAOZizXiFMMylyF5CiWLEdY1U5htH6TcM9lJ20D2nr0nsYLGHOO6cwLl4\n",
       "gP7srFjbm43x5UOabG9qx47fr6cQsm0sCOQhJEKlj1T6AOzZNPvsnj8V68luFjQ2vO2g89MdbRY3\n",
       "9FJreHMADN7ffubXcbPdQhlJg4IycWpPHJP20MXBjfKvx0kbDr6T3HVR3hPMNw59y6QYFhz0/eCc\n",
       "o+1zFtsobl/7h1wAAAMA984GyNUaGDocrOIr6CoAo0elF/bJtMhivY9wcXzkSy8/vWkv73c/7ITe\n",
       "UzjJjckHaMOXNB1fbEHx1SHxMikO53BUric94t8zIjOxEgbf3acBdc9607TjuVgqaqjAO7IfYfvf\n",
       "kYqVugFK0qz4NGVI6yrHlbtLe1KwqSF8lkqN3OyP1y6qp2Hln7zvJKxTxSMKA1k1Ub0cTop6mELR\n",
       "IHd+AlsldBaY0+GqEbLqcPrG9jrHF9IK0jhe9QY9vOz1MCqJ6JDs2yJYztbb3jAAAAFkAZ+qdEK/\n",
       "AAADAZv+i5zkBLU1SeBgOehdAC0Vrct90oZz22nH5XZ8vpHvNXcTcxVUYD2eD3eOQ6DE2SE3P1jr\n",
       "iU6waDW2tdKoT9j795uy+Yr4CxLLgwYrZoVVBzyi1Z26OuLIUn/4jX1hijj3s12IMCbzCKFqH7jH\n",
       "mRJkS0BMT1vyTuW+7c0cOmKJb9w3qQNxsyiEUX61FSssFY9oT0/E2z8d3N90hEGBfWvWiP4O1zKI\n",
       "ohxTD1EB/VAJnAcFKIDllx1pzTpxZ1dEjZdfrcbPra2ztcaAN/04Z9iRpTJLo0nGIxVyOgBlKkOo\n",
       "LA4fJKOxltCr8W4EaUuPPEJhsAS7KVE2E7xzRp18lavr616q2yN20XV+hOO7FTaOCiOAie98S3Oq\n",
       "W6gSUYif7xMN5Sfjpwrlx33hVH0Fyx7BrZGKJTAfHd2X1hrD2p4fFdpWhYQol3rDqIKxSXypesun\n",
       "B2HIoYcABlQAAAGeAZ+sakK/AACO67lRjGJ154N/LgDYxGcjcWL6kILz9jOTUYCbtGPCY8KTzLCQ\n",
       "AtdTo9EC4WACc1bkVRGSV+ohBkeXwr8qituzQ5XcpSF5UhK52kPbcQjeHGUm+KPEZfOUvhM88LZ/\n",
       "PscTE5j3pJ7+xcCsXogwoUuvfnmm+gktv1UowxnRT7RhIw17zovQSim3veaCaJ/40DYY9fqIytLi\n",
       "fQlRyhXJIz+BLCcZ6fDgsiQ5D8UIXOxdfNgzGoZ+NrKZ97JtQhqGCC4a1wvuKCEKN+C9u0ZUPhxh\n",
       "Rt86ITrpbrpn0smAMYFksmTaDG7KzdTwAVopVHr3iaM+ziU3pFqrNkyKIOO15HER6MRpZcLGSdyK\n",
       "iKfapno5E+bO1UUL4LqGDmYspv0Hv8BSaN30rcsDrbZO+M3YK33dXSJzkFdbVj/Tf9UKeNqm8dpd\n",
       "Cy1CIGsbdgMwYPKu+ynNIZKmchoKgIr5W8r1Px47vA13dPizn/k6WikyLQT41l7iKkh2pCsRDnvk\n",
       "0nvgkH2lnxkF8J5pgXJe+avbgpucZhDQAAwJAAAFaEGbsUmoQWyZTAhn//6eEAAAAwArGb3gBaxg\n",
       "79AT5q24hnoRNp1wwaeaftD5RPVIR/ZCl2O1z6gXqcYH1UqEzHnHAW0EVVjUSzN5lEsTT3UO7aPE\n",
       "6oNwYBai9D4Jje6cecvMKKlkd3jyvxJc6aBOvP+t/i51ttL6ASHJHFYTR9Ul9Mfk5F3cXsshi1at\n",
       "EWeSxXMpBqMEXnwsBbbzAnWT62uMTcjROsZpj3rhKL4nr4mfj3amyCI12ISiO49/Qn/2jzqs1KNG\n",
       "X0k1ow60URcRuaqfflcCyHKo8VPkxi7f56fxqpIzIaYzp+mphq4SDpCeo233ALvXqSIs8GoGwIj1\n",
       "44D7qxi3yXTwUS3KiMXPKeL7w6xSRGL+/p44vv44lt7kBLZfUAhNz8cUYd7LNKmVQnBdzfXgjQQT\n",
       "5Kf4YspItCLqnzami1FOx2csZYSciEE7L4eP4ebugTsofgHRCL/NhsGszJvUG98rmhVKQi3TIRkU\n",
       "fmxb9pmyQTu9ZSkOE+9TKGEUXM3jdLbDvrn7aCTBnTF1hNkATHKoE2g1vC/rC7ofMtl2xB6ybclJ\n",
       "045cJlMUhCJjAdBDaPhFxskx3ZL6Uq8BRGHuP5OG/LoseWiuNX13/Uk5w29PQw88Vo78xRkqQjo3\n",
       "kx8KT+k4KQvQcAqP19y9yhcWAPNaPWura19YiZrJRQzmmpRuhlPgPXOObSCO/bWOl/Kddfl9Cuca\n",
       "Tm7A+0OzJt8MrBLXSUAXXerLSfrrQ3qAJkfCR4rbJRGAZf6O4RefLOhSEoOwW//MKzdsOrCQdz+H\n",
       "8SY3fenm/AmaNlXUbS8qq1pXPmm/J1QJIp9oyf//t4nPR0L2sf+EIrwe4Qy2dRGfSgVAHLsij4Ir\n",
       "WdIfCdsCOqOZBWifn8O2oNM+JnsTm/u5ZNiq/niGCy1iUb4aHAWDg5vSsdAroDDC4J28mHVm6WkW\n",
       "Ad4ZwAF1nzMiUTp+ecmEQNGyboHhVTSdt8Qb8uqNuKsyWHv1tkgST+/3sPtc8hjyTVV37Xut7C/p\n",
       "+6cJP+QPub8mP6LvZNTrikRE2ouAVXa0ADkteYIZTr710Ky2Kn88QEUBj8H20LmHmbHwYwcvq17T\n",
       "VjIZetYGFgcxSWOx5fyu+zRU3VLelItofv1R+KV05TYho74qaM5v6LHyi7mJeBYL/dnS95hHuZbZ\n",
       "GrtkUiGvWAYMYL9kNXQv/wEXjh3NHbCiSj3GbqesPI3Ts9WM2XIx12i/+mEkM2sFvGsLgXP6ulBY\n",
       "M/exXUNCAQQfGcwpmSozbP0uC1IV4y5HleRdRz0Q/I58SF6NJWXcjnPAc+svVll+X1OZwwa33zoZ\n",
       "jFLKcDo75W4M2nyDklOh9agoAatbFoj9k/////03+Cfn+Ycwv48yUB09LgNL7ubVphy9QdPZgx38\n",
       "Lf1leAEohRxkCM+9a+agRvbur4/mOU4vUClR6nW7I/5JkI5Hb0S0cKpfuY0oTSIOsOEXpVdD8gIU\n",
       "VVVVYl/0Q2wWguw2Wn0NkdfNDTt4MFkfSM9nk0acxhJ/JtDiNSbojSA0T554fFO5FtK0uG66YA4k\n",
       "YkuFE5B7KU7ds9lZrdcBlMdq6fhN9P8N9tsf1TV3TGuPq4h+W0TlWoMoLyMlSiKm+5nnfsExVarh\n",
       "p5V0PMBETqF9zALHdLFA8EZOvrl+/x8xdR42wKv3hCKhJ1ih0e34tbc95A+Bh52sKb+0xQlWbkap\n",
       "wS8IIxviU3krgVfuBZVKYmzP2za+Z4bznMGrruSB46zPzzcOB3BklvHEWO4fSSmrwIaqd4L1zex9\n",
       "90o6b2lUcLfEscUcPQQHr5sfAFhMcaeQhp02xsw5rnj+ZLnLgkcFhrNy6/bMAekAAAKdQZ/PRRUs\n",
       "M/8AA7bBJs/HFeDfmRLBXrmHynRSn1amn3/6ImDjIseQF2IOyqK5jVa89t33iJUmISQHSghPnGsG\n",
       "dpk/JdN44Vw8pkhj+El+HMI4iWeMgqlte1TMvVlFHeMm1B3a6sy7gKA6pyC4YmVEgVZKxHX95XeL\n",
       "lxvI1MARltqjc5B6+SBRy+Xv3AgUl+fwSN4uSDOoSOjAKxNyswfaSF6KWiSPDtc4ZUbU/6SEI7Qi\n",
       "2C0iGUHh06Bda7x0e3X2edxhFGhHW0sqTuYUw8ACefkSqYQL9cKEznQoQJQrS9xzjpqNlARTDAXA\n",
       "HFwW43z7ELmJFpS1CwFVUtsHUst33st/WYMLbq0aoocvht+gPF+UysOHWVM2WEgXXLdpyrdWR325\n",
       "fCrH4cjgkDaoXdpZeXQigo+Xd4XxPq0YV1Y0NhVg/qqEpqSJzslKotoBDjIBLiXWhbnmGmSqChg2\n",
       "qqHOcstdKooUutiSqGdknkOr82kGFCko6O93DwQZoX6zWhPTVLKmYethPKk0V+lkkMmDKA/9lwrv\n",
       "l7Dqx2porT+gw8EofZ0wLC7ha6o5K5KHd89PBHOiYAsap6DJAMFO6w0qD9zvSpTZimHHDICnaUQ0\n",
       "0cmmnhu20mLKXqus3LYnSyhx3zSjX+abDbcEUFZrPYWaQbrEGJwY50AXECiKZMIzFiq4uAJ0Em0n\n",
       "W6hn2qaism9BJtthT0nQ9CnPw95a6zQRA5EGKVg6kFUmOjgvFQ2vE8tNVFBfJmjVP+CSa0lLJvmt\n",
       "CMpF1ChzAtBt+Ydzfwu0KnXT+NjdBfVCscZeE8cL+mvxd9Mi0+jARtx9ebzKZWCzjs9xW3VoCd3T\n",
       "BURkO7hp0Dwc+7Z7PoCqr9svH+TU/06jZm16BrTo9X0KHhYhAAABjgGf7nRCvwAAAwAI65sZ3pQN\n",
       "oAce0kqFgYhrfQJ1eHUuYdxEnz3x+gCgv87XeO3vbGt7uAayTFVYhvCtRDf+YJTpDt0PMUl4ixhW\n",
       "7VlyjIjU0InKk3VLoDuiFRBOkYiu1QZDHR17WgpEbh/+EOUbDnvDWPTW2BzNL+Lp3Jpm0ZfrMIbe\n",
       "Krva37n26tqFLYQCST+xZLqVm7TztHNiMZffUsam+1jxJYQSDP7Pq9LiHxl1Jm5g9jjyAmiCH8Su\n",
       "04bIk03oiVHPlaav3jMbpu0ucCinpVF07EOyf6ejTXW58/i/u5twflXT1xiI2VOYOCEmJKDHc9JZ\n",
       "EX4kyn008eFnasHp0W3E8VqD7+2qz9E1eUxRRPw0rVKLyTXRzrCpHLbAwxr+R+hkVHeMY0KaPMkB\n",
       "Q9WySQmiO4bb0gYMBMxJyFuLd1070LG7d4fVdenOmlVrLatx/1knUqukRNoipBajDbAe7cwI4RZP\n",
       "ty+bGoUS07c3W1U2YlfPj+s3eYSVLDL9Qh+6Fh2s3UwVVpakYAf4AAABdQGf8GpCvwAAAwAIrr6H\n",
       "60GlAyHCy0A/EY9aXP9+PCGEYAzkq85zkPYAGjnaW2q9RAWmozo7GF9Ox8Kasf2z4jkqyzIpXZEu\n",
       "W0TkIsaUFEpVD2zdUvDEkKtJDfNdtTh8AACtLEQ8Djl2gMAJcvKn2X5huEnhXEmE+MLLPjwHLfVA\n",
       "GBR7cY+aKqbA7pQY7F/cTZRgTcZyNgGmRRC/lVUM3L72asX+TouwH7VNQin5kTUVlNwTO9Zxybxu\n",
       "J4Nc1IS+KgD3qT6poeOt/oR0AChxSvi46O2jpNTHfaIYZP5eVkdQnZOWSFPHjN1TFHaMwOpVKL2f\n",
       "oL8Bpp3oLKn2OgdG4QaRuzEHHuHqLVQj9adwhfn4IkTNBNHB1mRzxLYgUFPigtAdoewkxT5GRba+\n",
       "KjRSmINmupSqlI8/ZpbbRrhw3oJhCKZTjKnCWttprc4hRpAvC1GYU45we2xwYpWnsdaUH6JbFaSM\n",
       "iP2rSGQf4WjeCZJgAQFAD2gAAAZYQZv1SahBbJlMCH///qmWAAADAAAER+YmSF2Zp7L44avqzs+A\n",
       "aY86k/M4Acb480Bp+AXdH/8D0pqNFm6Bdrua6EOJcGkHj95pLSSUV+Qn2MCSfGGzcQdNuPWtDlM/\n",
       "KGwkXNN84vDWFsXbN5M9NyJJJW6kbwCBAda+AzkLKaIqzHZ+/vwJj1gea864B1fezoh1uMWQmrYb\n",
       "+CUJ+sMnZkztwnCH5YnZcjl7pZm4BwP4lcg1PUI4XwR1OkdJRNLj/kL6NzZlarZcT81hhcl9eIR0\n",
       "i8Ht/JQndDIS4elIZCBvRwecA1qK5Fvbwr04QC/tzhvzQAVWRxlGftPS3Ji/1lLlz+Jf/2x1s/zH\n",
       "GEMih+fhKlMnCetu5GWJLpouqXvrpLWT/3oKZIeq6eC3rlfppaiKgnoN8HDmKSWvo8cdhq6Ok8Q7\n",
       "i4rbZFk4CF9w+3GD2habrbgfxh3EzhaMlGm1LtCpKI8QH+EzDQC9iuG3WTOkwOSck+oPwMsVyMbc\n",
       "67AmM4+eKCP//A5B1wi9Bj51dXy5MO9M+HbLUoM9nYVxjCCaAs+bpQ6aZZShR0cVhJ2ixRqsH/I4\n",
       "bkHsbib8sSHB4IoB1iOAH6CI55NaUeBI70+pKOXvQi9X2c/S27/m+zZu2BdNne3XkDd3TtTvD56f\n",
       "QJjI9sH+mMFkMf766xlwIDgbvyi2UyjsW/XOrIawo5Pkh1PcK7i0RLK+kRsKt/ujixMFdKUFL1j9\n",
       "QbA/hAtPP6vXYIZcG2S5dRnN1js7N1mUul+BLG0reFlLp412pd2A/2sfnpMDybJ2RKANimD9lqGp\n",
       "VQeVKqBiBOG8jlLarRVO0OTlj8oW8aigMz2gBgNN9kJfEV6vi6hnlmg6p9NpThxdkUBtWl9vrAsW\n",
       "+GoqJ6Km0b7aLgji0DHrDo2FpdeSIEj6p5XfrPfAlQfYiTghUoOLzcr/xmfYlVpboR5XajN2cPUV\n",
       "5RDOgEk1NxIYUSHCDweixIlwMMbH5+9If0IVxMCB+LMwbPKpqsj7f1Vz9f1zOPCYdxMuKJpSqUkM\n",
       "O3Npbaw4WhkGkX8+ueGSt9mshCFAssArPolUTlm8t7Rj3Da6lXq2d1vxusG/C+3rjC+kXZ7ijevT\n",
       "QmUB0fmuBs7V9W9AumMCLHsofH5EvpVZ+kYHMTcQ/g+5jXZu7OkCPQZ4SaRrRmPbqAZShPqGiZKm\n",
       "emIQB2aASUhxXfXZMFMpgooBmNf/QRu78LV4UZ8r9UZU1tbX7l8t2eDqmANRLh0xTYgqb/dTNI8H\n",
       "s8HdXa5l/1NyEHReofoqS7Jeu1fLev2wbJhQ/z26cwI47XRXiUMyustPJVek7YELQBlZOCY9o3QH\n",
       "egMnTp9RMM5Fh4mQlST7NOM8b5Bsj4PDzAA8YM9wH7CTE/K3Ur8NqvS0OuqNPAglbcSxy8+nptSC\n",
       "fWOjLwB9wAJBpN/e9NUENlklGEhlGEHRsxlZXuUmYYC0AKOthGNixQUst0DwBfVyPCGb/6zyzr/z\n",
       "hwjVrccxEi3d71q5jVRyyZAus6gnPTuiQ5SmZ4tJEx6Rge8n5vUkh+SK8uq+BeDqH93mdyPh9M6B\n",
       "96Uqlwfxlw4iO5dBGBewoSXuQJojkiaS3fRqT1vqZt1fhDTwnL5/txwgG1WUqI06/kBdVH5YOnbi\n",
       "XGFNC6ayXC9WBkVFxpPQQVU0Y7YMSPRmGEZl+fLtKj6ux3nuOX4AjxoL7SJmtWy7BTPdF8dmFfnl\n",
       "JHKrchP6/fRShjh46doxOQqOCWZJ+QRsY2DhIeOrw0MArKlunpOYML6GUBOh20OkHJDu4QEC7Ali\n",
       "CKI6ckULjboTNFM4hWNFbpzRKPAguMAml5j2FqCvBM11QVLdwcjY/uH1NrU+agJcmwzkDe2kyYK9\n",
       "kDY9CujcLIzMBX9v6N21zYh0znZGC1ZqM4JxALFcOjVCC2r5XOaAwNP+ItDvNUIpBSbxuG/44BxP\n",
       "6p1OV81AxEFal8CFCdjBI681lQ/bpnbhJGPhmgp9Yopf8ieXeP3ACFP2OX8SI7+DDdhpk1UC1WFL\n",
       "+MtN1kkxsetIYpSHC5/NqGWMX+0TSSPo+vSoOftBAMBBlKGTGveTjlPANf9W3L7Au+hsbJVr/AVd\n",
       "/6V4GuA8v/yiHDvBb5m+08dzt9cAGB+jBcBAjyHmuBEtYsbRmL7ZmjaCZCXEAPIBqQAAAq9BnhNF\n",
       "FSwz/wADtsEmz8cV4NUp3Dnftu44AUAR/MszPA8i0ADg74pHIrM+Sw1G8T4qk1mmqrw6QT3Vxt0R\n",
       "NtBdPYuOqGN30CccZhiS1sw5xzqMptY9MoLdGxcUDwq4J6H1mcSzlr5XeUaMNdinkYuviwgjdMp+\n",
       "Kt6xIamxwpmAWzwCWrsYOyELnH9AI+cWuo0eRN149ey1WOU/gd/aYXznTnvYndOo609YDtwFGFpO\n",
       "gcotH/Ws0GPjvWpB144G7yZQchZ+61O7x4tzIYqG9VjuPvMR3dcW9PWQH3CL61ssCT1YwWU8DRq/\n",
       "Lfks/cuJXjCrrlNaAVJuqxULuUppKlTRr6q+cYCBWF926fT0ciZRJLNMzks0YCcLjCKKpWksjZ7J\n",
       "nndtYM9zx6bb4DmSo3skc6aWOQeDntRIpv7tMRUjelAvj6eARUoojJn4UxxIUnvQDQVGirR+so6E\n",
       "SmiOA5RQZ7lBz+S8g7iijKF3R6Vvjxx31rUAbxO5a4McVOhwuZRhsfli4pobsYD/RDQVbgp84UHY\n",
       "uFH0E01CGN9eUWDq2wNNse0XQxUr4fqevoioU0HgO0MUEdggy1A8Iep9ndNpRfqCWZwDjIa2jf+h\n",
       "kujZJEpdWXewIo6aKsI+9+rNLGdRapNwfKoHxjGOLXIM8UFdUZpU2TaNZZc3NpxsORYLEPjcdJDe\n",
       "BZSU8V31vy+ibPCjgZmpKLGIpQ+/oYveVEuzunrl25dJ4t35wNwfpk7jo/GH+e4vfoJoUsK0tqR7\n",
       "2cLBV+lTrzhigKY39/f1QCLwHuXU5w/LXSZtJahK8NTpQyBMCSPHmDt0IBaea//yomtsFomLJCa+\n",
       "mFybL40XW29UcxKKy3xmyTHsd6TgsVyecbRuFEBF/m8Xbh4YC0mbecROt0pZct4Cxf6ju5XnAKAA\n",
       "AAGXAZ4ydEK/AAADAAiroGGNShdvwfcRs1Sdf92jJhTd0jTeGUGObwr/UAPsWvwsWaB4ack+Wmyt\n",
       "sN+ybI7aj8fdmTp3aSe3kwPuhDnAJpQPK74BrImr0pvXUkBdJNpHlEVAz0t81Onoxc7E9AjiJojq\n",
       "09iywPRkjtJCPzE4BBwyjz9L/vbaLucEELIqYAyyKsrd0oDHzDiLfsxfyK7NZVApnOkjDWyBaz7q\n",
       "lcY/AjiavXxBey7ywqv4UBciPc8lYZrB0Ms6N36TZmm8KikGCQ0hbi1nFxeDE66WHBowEZLCkjod\n",
       "Wyxk/krpNFxdPxWQu3tlBMZCPNZxkLvLzrDLupy3RBs79CbKH7ElhNZBI/Z8wXqsyVz45ecPfYnZ\n",
       "3Jt/H9Oeci+vfRZa3iipLlRDHJc4tqQ0ZS3Cd8/6m9AgbCi3g79mICFNXlXU97vDuZ2WOh94sKf0\n",
       "zBKIR4sAySrg3JVO1C2pR+o9dcTjWHslo16VZYPbzezu7F/Q86qkLn/lGrytQ+UbHqSA5HV7FwjY\n",
       "kJNJZp9HmzLgCtgAAAG3AZ40akK/AAADAAiuvoCvzc3p08a3AnUw9gpKSMfPIBdT2He1P6kLcUqg\n",
       "BVQ9a1G6+3caaZtX18jZcLT+VWdO6BomEfsbbRdvHbh8HO0X0x8Dsf5VpBAuBZlVxOcovQVGRhov\n",
       "4ikrSNRIlSV9spRvogOv2CkxIy44AqumHeKz6b75R43+8zgoY7M1cfbNGYOgnGNE8gEh/7FhQkQ9\n",
       "vE9BtUoehMuaXTQPwov8nL+SAuFOjJKLYhrxD6uN1diAKzBuVN0yaFtJGLKwNF2Nk8iFA3lZ1w2J\n",
       "DIikB5CcoXfkwJYNacMnyKBTlgdO8Wcbut+mOJ0i+T3MIvz4wVj8wyWMH59SThO+6Sm9Y0p5ocrk\n",
       "2RbspPRvGZdoqzjpccBHWrWYohSpJ7sziGDYDXvaLcz6egjqN5z5DaW7qBpdMSpmpt/olt1HnvpI\n",
       "vobCQWg5ybIs8hj8vTPiUaOVMKih9kF+wudW3UKoNfjkqHgmPOHM89zbGUm79/D8pDLeLt+ljl9A\n",
       "UjDa1OZrKe08VZz4XI8//VFvxxFnlFJpV8ASjtZZAUY+oXH3mhU8bkATXosOe5Sk+BSV4AB3QQAA\n",
       "Bw5BmjlJqEFsmUwIf//+qZYAAAMAAAMAF4+FcDZ2aAoAs2CRLupGv1KqX8KdowKcv/GcdIgAzRDX\n",
       "CIB9Klcc8Z0hMlTjcedWf3rPs2NGdPnOvGXxK/GgBBEuoBSfglAIezHC4KzqMYw+Gfga0Uu0LlmD\n",
       "ubqh1j3hnMMm9Et121Ky6VsN1plVO9IYAYsEN3ljsCCF7QiR3JjaYguBmPWZf35lg8/HV5yTEhDm\n",
       "/Mp7EaRQitOYFxPwLbhcO82+0U+if33h94BVwro1ZQ5/q/rG2noowTJPRrTBPvFzhPHzcvHm6wAv\n",
       "+Sknn2dcirnFXq9w4uBSbPlZm3zqDEHqf92aK4Rg+bwCQugDKiClSwW6GvkWfr8h9N0xSIov+8he\n",
       "6RmSAmUFdsrbvSuRIvIRsbJ2V0rmf97ECMPHktnvgzSpJD9rYAhRzYrhEAEyQfo9tHCGJ/nY+QYI\n",
       "Kk7R604XolDgLqjHHA8uqbF/FiKvZmGU1Ccir+LkW5/KAFOQmz6BJkCPltnXsVIedkNBIfwIf/LQ\n",
       "fjQNaslOEsGqK8okC/2SR52vfalq+u7+N+slXZTnV4/8Bg7WAJM0lnMN3nPX/Zxwh2DzjddWL5Gh\n",
       "Hnj372iQE42nwxtFRhY/a6Mkp3HNYoaGx42xq26RP1IP4K4nRMRlH6YEDuoM1M4mVRajEvaLGrpS\n",
       "SgELp9N/nlUhKQsJ09ZayjAfXqWu06hLy+pC2NJC0KpWu0Ps+xlFIhUQraXK6LOtqNQ3rzi3/YL6\n",
       "r7i703OT2v2mJFOMEgt1Ggk1C2YWrrYMWC4TFpYFFZzEyV0AKvkRBgRIl1C2tloxNuQNyEIgt//B\n",
       "7sF4rq7RIdLrGnQluqSRShWaN0MlgAADWRDiproQCkXtmKhf/MbGE5NZOQnLSTL6gW1PNrclYNcJ\n",
       "k6ng7dLGvhaJfv+hSWJ+kj9iZWRZDnnnK+jDICS9heIQEhnsaUSflffKx93s+5iFI/UbuMTam/m9\n",
       "YqEC6847qfhj87Vdikh2Ljng4rM1k77ooQXbr2n21Iv67dNl3GY/N4ZJNdSjsiANY5Vq3TUUGMIO\n",
       "incM03JPYF/GmZMGUDVDChSzY190tpu5Nc5TLVurgsX0NC2he9ei7r9U0ErPPXlOdrnaNlNg9RbV\n",
       "daYQ3MIInYh4xX/NfDlWFjypR5oL2twCteqztTIMFgzkkcD8Llzg+5iZJyLV/3pO6rYMGfbZxvgR\n",
       "20G/oM9uebzf1J1cXI/MHbud4NcFVwZ1rjeZnRUTJq9NR67QeLU+khSSsM3kSQwdPGe2vS0URf+W\n",
       "LHgE9bEiAKVd3QkaA18v4UmFyukmiuiLvOQmdhCsmtAHpSIp28VquGj9y3/h1RojAVb2BCIAjtJm\n",
       "ui3WHN9K7/AvopR+mM42jt9CBL7CFWOaEVn5/okIFLqQNkHpent4vzhOjl2vkOC3aYcemt02yaKF\n",
       "M6bJ9DSxRIsoEEIkPG0+3Ar79od77qfrKyRjNfqtO+leMsszqJlZS2GvZkjWQYr8kPotQSoa6d3V\n",
       "B1U+sUsrca+fEwcWdT+bdvxsILngOFLfyhssWDgQE4WLqljtlq+lNa7iOfKCbz70lVcQG7OvKkS5\n",
       "iduAiVmfdMJb/bbvD5cCYCNMYultSKBDTaSiJX2f6krY8iG7hOswmrgxb8tmw4aWmENxTGSFGu+4\n",
       "gM7fKLoz8iSqYOtc0kStXouxBM5+iivULfyDf/+tqURBVstalhtSZCMiDl8QHwxURnXk4Hr+Vnj6\n",
       "SzUnBtLjA2LSku3DXTom8Sy8JCy3qm/Bl3iiqP3FwwveGezA7X/PeRaOQnUASwHNZKbmsdota+lp\n",
       "Vsvz8jO/obBwNBcbgaQE0X0JL8mUBE5N4TarXH2zmfpjn2mmqCf5d5+jyNpC5sTYmYb/dwflQ1Bf\n",
       "vjFfgsgRYQVFJRjAhG3Enhdf4hB8qH0IeUUcLHyhi1wHlkj4Jf7SeTDswNU8oOZ6w/gsV58S/ko9\n",
       "ba/EVkWQIBP5VBgUiuA2CqS+EEK4E+VzU2viKdwQZk6czGP+xEf2VCCy1Nj3Z+TIkGRfyFgILcbI\n",
       "NcrJhuZIsP1cTHX34F1sqvE28+3vykD+Ia+ZwEXXkwWNZR9ImRcLGTIwmPmuf5JPfUed7PNkDM7y\n",
       "n9ur4JgCLNmPTRjVbk7al2sqmSWHAj2oHSRwEMJfoR3RT+f724G6D4roczQ6kYIJThNBfok9vz0n\n",
       "dgT+ujAECiAy0lJ527XB3K+IPDTBLwLoLgO2vOQWs0h3ZdkljzSNBLx+TaYGh661fY6HrZSuO51t\n",
       "gmxiAI1kQHWdrVecpA3WCSVLdGCaJtSzYJL5pJGhuWuoOEAiTNw+/Ke7hmdKETBRjQ+KnyDqplOa\n",
       "u82G9H4VdKn6uKXo4VF9mNltVmGMo5vfDCMGg27hURErEhcQXBhINmAAAAMnQZ5XRRUsM/8AA7bB\n",
       "Js/HFeDVKdwKOxpnNEMFODMEoADjetbQ/cBGDQ8wVMt845xwFY8EsKZ6w5ly2XimivyXd6LRW7v+\n",
       "cRVZnvkkUNmoYz/LjP+/MXHw1hf/+3hJfNs0FlAB3wF+W8FrsxRGNzwAh27Fz0oqLPiA+7OfyDVf\n",
       "NQhgZmzuS2I0Eiw+4U4+AD8s1MCijMNGoUnWDQNWUB7NGoF259tK7b4nc/JCASKCVQZVygRPw0SM\n",
       "fSOPaFidhrPyGQet693McAT7UtFQRU6nFpIZgNkIGI31XvVHtuY/6mB+LfR3mhgkyFdcEJU1qlqe\n",
       "MzBUYsG70n+sh8Lx152l36DYVj4Fln43kUS/KW8kKFvGmMr6Ez4XRrINUAWgSNFLZEZy9LaBj8VZ\n",
       "SFzgMngwhvGrO6K4Hvsmf79o7wzUkZWUwZIOLLzZeDv9qxXkdBwg6b8iSRoHqJHKPWIHVQWYR4wO\n",
       "GjfzliJR66UuD9DR2a6sPg6dEmolp2wby9Yue8AU+ImrLkDr1Rd5EFgrD3L17piuLYwynXe50tew\n",
       "eOkAX4bATl4/jNM72TTIjYLGkfvIxS5zEF9hXIPTmedp+fijh6sxbrGVjOJ1lNgMIamsh912ouyG\n",
       "NIXph4u+GJ8I52UZ0s0+dgWqshUNT4LbkNXaiewerHt0AjtUeouCTpxKmKUJDdJP1JgK8IVtT+OC\n",
       "GWHMMWzibvX6sl49SM4oHOIMWQZYM8cC0mGbCNB1z+hOinIkhke8qlE78C/yuBz05s6YnuZUoiir\n",
       "a3xcXNvvFySBimxy9Id1ronpakEzTxDlaDqVDZVaB/9PTnfNocq1Cmk5onrvHAn2Zrmd/WUmUiJd\n",
       "O1V1oj5CwoNuxmDMFPFIkfSKbOaLdjmiBTT+znMRlIUOkCDwaj/zxSI869fKQj8ox3XqsvaznD5W\n",
       "9pkS8Ii1H6bTIG1pWBPdMFDutmaCj2AExYFCYLLims2fUHVAWcDXg5fnwWgxWuuKVGB3Tr86b39F\n",
       "yb3w6ZvRZqUvex2DBblqDW4NlLaPmypKDs07xDMgJrGv0cAeYCSAIpF7Bqn2QBuq84QU5mB5AAAB\n",
       "kQGednRCvwAAAwAIq6Bgr7nzXW165h1LqJ5vOs6erFJVWeKtkwASyUyVTaxIKAyIS04VY7cXhHV7\n",
       "JI7RGe8tCtn3yCfbLCyL5ykmgjbNSWcCaL4bmZ2MrdUr/KAB+8ADZvs9w62gLKe+CWDrowT7yvJo\n",
       "wXlboUfPRcHP/jK72LWyNNPnmj3toNRjZIOy7GPem3ZQ7kD3zD+eni4Dzidi5HHTQ928Xpk0Gzg3\n",
       "MfuF9lLJkbVRo+1iTDHvy2g+VBiGbH/vIoYRGpBwyGIdFSyRD5CapRFevOuUdVcpPdqz8GoIowX4\n",
       "72gigNRsb1X0PnOl2YixN6g7RSeHsjga6UQEk2bY8mztd6KbgaPJ3Ril9PC7M8L26WZkvoOT78jV\n",
       "SjJRAanHh11u5lSIhxewSJpNyI7qMihiD2UmDJiuQN+5O6/DcpmTNTWsKOGyZlU+TAglcdGfoZxq\n",
       "C1eUtDpH//TBkw6s06BCRu9daMNNCvqhK55N3VBEGul5ISDQlBS4fgowRz0oH7FPoDv4RAbuttVw\n",
       "AAXdAAAB9wGeeGpCvwAAAwAIrr6Ar83MeLWNn7Y9Qu0s6sWuLABt1nlgvaBXT4egr3F7ialbKIMW\n",
       "N0ZptnAO5Qld9MENC7GhKlB2Es7NuahmSR/5SKEE6Cl4nH74oCR2YS7Q0Ni/api4P3P2CU1Wo5re\n",
       "rv4eKQZ0msh+psxXnfm4j8bOH5muCruF1EvjPDHvac2LXj9BBV38YXe5rTEtFwi7G/0DK7y2pIeP\n",
       "twQsP2pOB4oxJOk/GAJqr1F7e6ZTf1UgBQfJE+Se/9YkLPhFvk3KxxEnTZLE2Yaqe9X8GaM3j/2/\n",
       "gil3WQPELRqHyjTN92ZI8Q2DmgtrivurFjy8xEEKIAv7ku0PVE1hkIZM6so8pz8hqIP2O3X7NAXi\n",
       "fRvjqGHneH/s9Z36itnngoO+uk7gNfHIG1ZF22IEG30TiRANt0EWv8kFhK+6nAdvYSJexBH8Qlf8\n",
       "YiiDmBbzSVgv8jE9GU1kixCpyyeIwPinzMKX4ZyHH43EgafW8M6Ti1a/GDsWg/2SdcZ07+EzI/Um\n",
       "EjMTWvA4Eow5TFMyXwP6I3dYQsL0MrIr0SvbiBbqhPSjg+zoWE/8GAqvE+5OkuqC/s9p0uC0qAYJ\n",
       "/P1FGELPfy82t0ozgoe0QmBZunE4MSkclynqEgxXvozmSq/rGhclmOulJGLmpyycWbgAAKCAAAAF\n",
       "b0GafUmoQWyZTAh///6plgAAAwAAAwAAAwLKLgPYypVphD9hJMAODAGJFDm6I3TYeHS7N9fXByF8\n",
       "Oy617DNylpTAk9NQBMWtonA6JNaYayQddveMdVLUxQkjbz4qdMrDtNP4ayLsUqEWuWFIrE3uKoau\n",
       "bGlIoVUowY1PusaabgBVYJ9LWFMmN8OOA+rp2z84tCB3GwrtDQ5WRb5dXhaBUQwyk7IypO7CY9QU\n",
       "bYfFjVFD96noDkqpat19NTwHgCFXDQ+t3zaWgzpM03McQX6SptRIKnTo9HLzWhU+I08IbRkfHrl1\n",
       "vyiFl7pgZoOI5Fm+1gFW2PnjtEHW+YySu1TC7aOKn0iz0tXiwIqcSxLOgDgM5iIhKdSj0Ua7yxZi\n",
       "0GyaJ3wfpNFDAW8RxgBO3wOZUR6ORA5kae+/MlGHCHU9j9VaeCoye7NP2tTvK2GJG1sEArVY9Noe\n",
       "SWPsu7JhkPPP8K8rSrhdtuN/vOiHu3yq0Fhq8KMYUVVgkIWRj6zlt06d8I/1L8O7eZ7cFdvt5/EN\n",
       "M1S6s6AL8rnQt7syPRJCFpeg4rrl3THkBNyloC36HMyZRCNkdig6LHCDcGBrLZwmJpN1YwyLNBCd\n",
       "A9F7wJMbXuR17he2F9mU852M5KJoqvAlGPla7qUqcoPfGvoVmkV+pjElZ4Z2NPe2BYw795X5LJiS\n",
       "QltKrMnCIAhmP3WgXt0FNSXgk8P0oZSwnGijYhtsYNp6MBuK36SBS3LJKaNJ2cIuf91t1IIIbc0Z\n",
       "03RXD3EDWmHnuGi0P6yXngCzS5EUYJubGQbiuoUn/BjS2mcgQMjtmND6VlPWSTKr6cQFxMn3Q9kw\n",
       "ZNIewZ/lZcT6dOSbv39M+m/+hrLjLalG2b5tqxpTPl/6xOEBUqzPRzxgeasNydFSib6YmNgddb8W\n",
       "S8H3PzdlT8sgtcOFubuWZMjJGPwb/ilnWEbQriv4q4s0Mzi3RGl4NUEL3B842WAZDCe+r2nXOH+A\n",
       "rZw0EFSvjyMwQyPpdtruYQ5Pt+wzsGWYaFzIXZEQeniGGWEG2zdS1RXKB5Ba3wmzrTNud2JHC+8f\n",
       "stnHDS1VM6tLVp6u+EsOrPg2rOkdJyW41bmv+c4I20VeDg1hciiTnkD+2GoK4c3KE5MPquPMK7QQ\n",
       "E3/DMnZOzdNJ+cwb79Uia0Vlr1Fos0L2YpJEVQyD9NO2s9Ir55rCINq+59QIQTsX3AQP6IPs/bdy\n",
       "w1fkMvvz7t/1eEZUBBcrC3viM1l+W5IDpgGvx54hUFsfVUvtfr9W3FIRxZyCS/961GUDr9RCRrx5\n",
       "qSKCSDqjBdNJ7eXanpYibWfXkJWnd943nZIAcpZEaoe5qruv/mzXT++NR0cnEGpN+xBxuH+AGsvr\n",
       "1KaVIxbGFtgJkXzeMSqisT2137dRLLlBAC0x1hZ31W4iR+4RCeXJrWM/tXqfavrBFGYMS/Ph8aKp\n",
       "FRD/rFG7XToC+nKF7XmidTsAXUnoijTnZDZLP7Vnquz9BXsVGRex84auLgiSwk5KzDZe6A7egYGu\n",
       "4UdYcav7o/HyhuGCLb8pXT38DEnzw4sRzc7YxiOeLLnMFcMBS6Mp0xtEaIpRKmNa2/yncLFFDNE9\n",
       "TkTyITFvk3OKdJb0bPyaF0x45Zn8ITVrqg2PsdkmVeXfOh3FKtni9TnZR4CmlzSXyy4ZMU7T6BYo\n",
       "eRQpfsRG1u1K3gpBmzb+WOv1njnvrdYEnFEZZhTBUUmtnoy5ZHXZDiswVuuYED33CgAJwuiMTAop\n",
       "BS9tdpCTJ6DTWjiDphDtODOpOZO94scStjrtp//veVjz6xTPeJXNfs0Tuf0Kx3n5nDr6R0Sje4lI\n",
       "wXeYhXHQ5AqT+W87Y8RBjhCqRupJCgFxAAAC2UGem0UVLDP/AAO2wSbPxxXg1SncCjsaUhCGwzGp\n",
       "nwKPAR1CsEeAFvHnKRGQJdCo1jwKkqf4H8gOIKTTZSmjuaAPnVanTFKF9ic+b5yih2WPJhofBCHd\n",
       "ooI8fDaRjl/I4Q6WoJrXvER2ohU3S+QdAiTv8dbE0dRcif7jSX0wwp1CfB6qj5HlJ1AJvj9Uzwa2\n",
       "mWdv5iAkG5mlSxH9enOr1z44e7RoS6lMJf7GfRQv0vbj78LMJTR7GR5deW597CctXLuvC1F/SMLr\n",
       "wf8c9HdBqfyH1WED6WNjaIJM00Oad8ZdHxxDh8E/VljzwLKW0jTGKcok/lLcELut4rYxtQZqec0x\n",
       "EHhsNe4agrjfDnZtNhIaRjDs//ADMzxJkp1zP55Y2LfcnyWB7KVmYyeuUae4st1I0NTlvZSeqq99\n",
       "pUJPPVCH5e4tX2FE7yREoAQxzL9IWV7WWm9IzHwgsK/WFQ9A2Q21GCd0o2+LIM5iI8/d2FyThtxw\n",
       "GTjtzF2CVTtvK2JtFX9CtSGPlQjtx6eKHX94fIvT7XDsSecYZqY3M0sgcmTnc9/UyFVuPbUiRRh9\n",
       "O9fmJKHVS3pQR8dry3Wocov6mxIdDRNvKwhnUTlUNUOJqWOrpEN19A2ivgVFh6cWVWIsaP7RkOsT\n",
       "8ufej0shvp0XAdhMeX6mgLGzc2nFFIysrEhGUiapv5l/BM/zBWG4VLlqwcsQxNRG8ofpnc++PY3S\n",
       "nI9seexWZ0zERqSR/MDkPiRi9xOFT2q9Zbjw1tZbKz2mnUYWCnWqUT/wb8dQJmAVivsg8BF2WOLY\n",
       "CKGkU49FlZQLG1jBh5/Iyo1UCz/1evv3E2bFxjFH58/m3TggC0KSOJFg6r+bLCIIWg1uBE0SwRfh\n",
       "bgYwwjSMNfibrxU5UZsoVyycWBvQ9TEgRk2/J4UK4BwOb8JivctCbxqtDAVBh2Keg2kZJtSx3/Qo\n",
       "Xb3bQOr78AIpGAhhfPaWwAAAAaMBnrp0Qr8AAAMACKugYK+58vhQeUbAQAXUdAAnBW+4tQIyvT5l\n",
       "ciVFtjnce2rHFESVRbp6GmCspgP3OUqVOSF1sqM3K9bLnr8XfQCd3xHfDMRB99lHC4GCPrNi5bwh\n",
       "P+ix5YqmQ/Y+T9M+xcCglt7+bTTL0ZqGRNYaCOpZLafXXgL0xFn0qPZwXE7IiZ6w9J+k+7hHnci+\n",
       "tMePDIms2XWrDsn6gUHedWfh4mbKHMLK7k2u+tLJcq4PpcrmJuoDcV+3frr7CxqfPm4dNeqFLPwE\n",
       "vMWTwoBZ5m+67cLaVjoZN9BTyJ9WJGM8f2IAUqGwNLrcLz0rBrjQGKRz7RpcsvSt/a7jBAXtbgvq\n",
       "AE+k95ROnLgW+KVyR/zw5RueJfPGcFEL9CBKAFKYnJ/+KY/yrNoh0sOZCCQ+FZjMB5ojhLFyhK4C\n",
       "Q25renF/CKzPEQiDDq5BC3SrR2ZkeRJqScSgSZs0CW8axRm6sM89t4axr7gPvQqi1gEoQxrEixKH\n",
       "mat8Gzmtn1S0nrH3yFcXHlV4wy0JO1z5W/wztVcpMb7gxvXEbAA8YQAAAXUBnrxqQr8AAAMACK6+\n",
       "gK/NzDwIUQAaCnXAC1TylUHmk6JakfEBepWtQGAJwx0mnOkTdl7aYYYE66TxHmzqUNpgFE8CdRcc\n",
       "xhF3oAgF523jFYbm8nTrExyAoflsBFcE+G7gW/n7qIEHLDC5YmHWgIUjv0CukuuL6xW+d0ffr0Ka\n",
       "51Bp9TvkiB0e3osm65TqEZUO+f7BYmyj2t/nGlT2jyI6XPkvcbXN/uNt33PLPvTPZzBLuobqXAYE\n",
       "EeDsGXIt80dnaZUy7DGFRsolhtEzbcKQ0Ns75NH4oIEl7qPwIgR1O3V/HaQRISe1yrVd2L7INOyJ\n",
       "ta+ewnZZheMSf0L7qYWC7K8pjbim5wJQm0v6pugXm/V0twiIaILgNTdxGcgwWBvWqkRWud2YGyBS\n",
       "MgTK2y5pq5Jtg2hUKjQZ9coXl8fLTOJvAJTPdEEY20f0YqgmVbVq5exbHiu3dRGLMklXC1+JPWa8\n",
       "JqovCPdQKqQTELsXdcR/gANTAAAFmUGaoUmoQWyZTAh///6plgAAAwAAAwAAAwAOp7pTbrpGRheR\n",
       "HAk+x6+usafm4XQYNdB/hBOsUAF82VfEkHUbGwmD+j2Bl7wQmeqwinN2aB5vbht4S3Ffcx2aUL7F\n",
       "7NxzxN0B8cDn7XUblpMo6W/4ljX49iovB6Oe6A8W4LxGwJpnJ00uI6JAtn4mIX78L84EREUaVMZA\n",
       "3pb9wQnyQyPdJ7ztt1hraK/zqrFz4sau8KSNnTZCW3yvGiZZdx4b+MireG9sgmD+017PMRUoYw7H\n",
       "GQ3wMZ5ZKA7xclWa++aUXpX8ufp3L3PkfkkGD1DWfetNxkHyXr5TYS/Wrpse3zO6bvtCWV9Vfr7O\n",
       "mSMj69DF+H/StZ/l6rgsWSJvpnBKvK2aFHYHARGmQIE1t8g0UAWWnIJCNuCVnXuHnhoSxH7Osoh8\n",
       "85jZjwcXGU5/5BebT/sHVKTmguhs55FxgRty9xu0vOunoUMEGksV7SusiMmUyPamMjdU2Qk4vnDa\n",
       "Ua73M/HLPg4JytYk4G/jNWSYOTN1Qdje7njrmPsQkyvEUst78qlxgnWQkSK5KBfZa0st8Yfhftq/\n",
       "DcEPv3WHLEnqu0cvIWKHEjiZwtSVnCZKKXHLhnYT8I//6FuX1CBa/rUkCoBCVsEpWufwaACQipGc\n",
       "AjAJxQbcgJ+YJ3eYOVtCKqE4/lYvBuvGB7cPCqcorNjeHY3/pwJLqlNlD3OtViD+7sfCVkw8Ab2U\n",
       "AzbYWegCzXk/OcCWqqJGtN2x7ko2s9Hq2j8V2jbX+oAe77pn50ZI3kkOdkI/fxNQVK3u61pMMOh+\n",
       "Z+gWQVF7DNl7xjAtKHLnVMOXw7GKbtaSREcMl20a5y2XTiHm3lT1FEjFBlDqDtBhT0ZJ775SEGIi\n",
       "gPUE2bIqfzH0SKhaSO6pKM6yT2l9xOEdLw57AvnX1sgcsYiUJ95cCeVYxc+PfixUDwHtfKM0EnbW\n",
       "jHWgJ6/Q8DndsxbM7a7A2NjYDkdZRqN9+/kAldnaKI2OkQ+VByrqSAu9HD6F5divFLiYvzBtSaBC\n",
       "FFlP9ePL0K/lKc3M8Bz+BE4EvNLu3fitxdscJIrm4mYJEDt/QCCHRsj1I+ay5pxXTivj3deYiJm/\n",
       "QEybltBC2qgXgAbTOIknMRgomnVDOYQToCJQ568EOuZQPlL6BsFlsRJgmtOFHSCTLJxMBXG3aQCV\n",
       "IIQsNgMwElZbslbCcu2Zt+6pSv/0doT2s6Lm7trQLQvLNpXcqNS6iYvBxlRX9+YbSXc64bEq5SmO\n",
       "tpodM8sACFhYB9YOlAoE5LZlIVyHfXj4KtUhPXLblDVIl6QWVqACrFPj+SGiNhZ0Er17eQJvnx3o\n",
       "i61bDRj0+skFJjC3kzivRlhwqrXKTKV5225hCi9CNDJxrJKEq+qskDbPCmtKUbIVUjCTw276b0qO\n",
       "wxcWRBBxFnXD/GLUW6WKFUEscd6BvoTAvTlccn4o54/U7gGQIx/wMmu6pBgeIzcrS7Hs04ABUfUc\n",
       "5mvtYpkc8ycyRxB+7/eFalfhL7WMy81hzd8x1HI8uIBDlP2ZKPrLVOWNrRfVjeFY/Ll8yN9yS1Pr\n",
       "vKsSGZj+/5+7la/KMHd2b9/T+CWvnuxtMdowk6tx6INeCtnxNumRBk5cRA1/JVH0oDIPwyoxWDVX\n",
       "/lSojU37CzTqVwEKm3ZRwtKqXSBIwypVuCw0w385BBexTVZNT/ShE4+na9u/in2YC8FTE63vQnBc\n",
       "KallcUuR+syyGeRF4mIQvz8YiKp4f1SNAMpgl9mY0S3JyhbByrfwNxa8GeyjvmZpTB1PSIQeNrT7\n",
       "jK2Og/LmxvdzTwIOH9AjrbdWC/J1s5kN9iN7Nx0SbDQFN3tokEGulYVhx+pro96mtHpNd6ZG/W7Y\n",
       "ufJd5xty/22iaxD7wEhtYGpHoCCZabHo7KbgAALuAAADREGe30UVLDP/AAO2wSbPxxXg1SncCjsa\n",
       "UgS+hb6gQC2CFKz/8Nr5WPFVjcERFpXRJAEZHtcey5uCXq197idzGZmtzm6CA2v42uEvIqy+ihD1\n",
       "lMC/OXeEt2zKgdfVmhqGJ1CfxcD0tBtSQ+wgb4SyGfEv4/+fXeVDjqrqjHDLRGQtWL0OKw2Xwx5o\n",
       "cB42Mawijk9X+NxKQnHc1j+f0uJYbY8Lv1OiVVUyDrxGXjODNBkrtVQTq0O1XCZaNubZAXvaypOa\n",
       "tCB8W3IxTmJ3c+KSvuMBC+AXLCUhb9zOhsuTZwXKYH0Mr06OO07ANpqrFopt6FoXXJywVK7SPqGC\n",
       "N0OyKJOwogNJwliCimFx9+YKHp/AFfnZx2IS+TisDAqnW3NJobQ8r+axt3UPkXYWBtZQH+qFS90X\n",
       "t2c1VUI3pu1omxqswBzMeMYKhz2NzFBb2Nxo0pdyWz5/Hcps3+4jvRkUIZ57e92GTPuu/kQjMNph\n",
       "CJWIqs01u1iuCv4apJvPabG/KKGXN1OTwEddA6MW4LI4LJ4EQ0FiLnF+CnACLhIxhPq95RSG3A1S\n",
       "BYRLAiUX43ZvNYNxQFfWlRzSZL843RcWbxlx4A4RuKa2VJDz37ShKvroPjBfr6ZT/Aq7m78UGOVL\n",
       "eNdQh4b5AN5cAEo56ShYHG4p170UwMZz8nH37JywjYyEl8m059uougb7jyhxoRI97jMSNthmewwa\n",
       "0Y3SYgvkY7f496HiY6O5qq4x9cvI1bOkLoxKRGaa2mDzzZXKW4WSIsMbAvHqW5aN8ASHG7u0cQAZ\n",
       "Pg8+ypq9cJURbA1TXyRAi947+3/GP+3rDNIal/4uieucaR81SmvTlhuBv91KbF7B76PjlhdcUhJL\n",
       "xrQK+UoyYtGujr+P6995U76Xbf2pgd7JVkt7+a0FdYjEyT/M0xQ+D8NcjB4vEuwnb7zgsjPbAGHU\n",
       "SxPqHqSLgvAYa/5rOb7XWtlbkyDZNzfb3Rq2vV59wuu49YaGIac/Fo6zZSt1MINizNomjAVHy3fq\n",
       "m/ygcpp/aUaOL/za6cFqtT7Vql0PTyL5a3p/X9EVNB1aJ1hfHzJqGVtw4I5DVtAkLDvfX8FuSGje\n",
       "HGENGW7t+FLo9qs8B6mYAAABbQGe/nRCvwAAAwAIq6Bgr7ny+Az9v3pnrJHM/fmofBbkRQAV9YSm\n",
       "nn2oDe/ZdmE4+DQFcAW12IrLEoZ69eIa4xzIay4WB9B5216qh+DcAqSfMWJ2QrWIA35HS+Gq75t5\n",
       "usdw5/ye+I5dYdY7oSK1oLr9IY+TSF0nxZbBM32oerSfZnrusR3XSNNE91jspXXkUYTHHGrlMvUz\n",
       "YeK0rfV8rBPFei+D09ZqIneBjcF4uFcwyM7Mb8iMlL1mKZ57hbUwZE1J/7WT3m8WMu73hhYO8grR\n",
       "rwF7VP52aBxXKlaxDRsVuLNR1YQUJC1Ov6zoRFCb5V0o4e7vMw+2HhU2ZgvdU3DN/RvYeVca8+gs\n",
       "QCL+WL6LXRO8nvevVN4EeUEJ1beMban5joIZaotDpYGkRWJBc76cvggdXP7c6aClX++jlVkUXW0q\n",
       "HF5FBerq914NBLWQ6nOPmEP0BQITRPvg1ud2aWlkACmliaIIrg5agAGzAAABaAGe4GpCvwAAAwAI\n",
       "rr6Ar83MPAfxQChT2J/WCrcp0V2WiUTBecFTbazVacoMmvfWdIikX4AGkP/SvMKV/05Pa/q1TUcH\n",
       "NDrIOA+dSSKGSlMlhnUq32ml0WIs9HrvRJ3IJ0egzEYFeb/4KDNnVCc6Z094OO12C37i7CSgs5XQ\n",
       "LFY5JWekzNgxLCaDJFFrZmS0X9UEryVSkB2ZQYbtTheFhxJEBzRzBVIQtRHJNl5ei7zLE5LwDPXu\n",
       "iZe/c3+KUpDeyrKsiQhjR6pRrZQd+hE/8v/IzrkzAB2OdRTXHHZ1As5zGlOO6bpNOILdBS8jN/Y8\n",
       "DMQ4WTkxGzyjudXJqK1afUr0oJ/n8Gq36JqffSjVSPgBYjMKJ5DUa0sG/JKmESYzFrModdFjZ2Sg\n",
       "JSr1Cdr3/XOILvL5/j9fRGjQpS7eBORCZ6N0mYxigoN2pfKJ1bbtucUO0jVkipSzz+XC70C3bOro\n",
       "evNgB0AJuAAAA/9BmuVJqEFsmUwId//+qZYAAAMAAAMAAAMAAAwXrmtCfEGrDx5tvljB6IAMeA7T\n",
       "HKqhIs4fK6fw1VZ5A9scY0O0lMjoHcfJxw3zO75zSQyf+ec/f7wW1U69T7/cO0fePwlk31E0WKmk\n",
       "iyc0I//HOS6R3t8ZnCbj1rQQWKtmQRe+DY/afHUMLwbzdGIYZK6C93j50wHm8rpnLbowmyyFaFBV\n",
       "AQsqOP4DynQgnwr+ckMv4+2NDcH/4JZg9tI0KD7BxtDBNsnjB4Sk2H2PPwKsG20JqkNrLRUxKcAc\n",
       "jIoadHH9/ZH9BuR7xcpzcQ3dIKvIIp5hPBdjtKH8ZWh/ppfIw/x1rQZFgzbzSs8A0bGjzATxbM7P\n",
       "hj43iwCOcWlCM4kWj3+kGnGIJZZ9aGTDwWOL39wIS2jxm1YBM+yqUQwBUoIUjZqE9zXQVuJPah3f\n",
       "RlURjd2uw2BB2jZtDgqVcG0CGpbY//8bwxr36Jzg+Ec3P864Pj+wqoZcGGaKvprLjZFn/7VKfABR\n",
       "visEm0AWe0/6L6bY2ixks9Nio/XgSXhXhsr69JOGcbcGK7WbqzzQWvr6MySOfTcElJuyfOHTF1Gy\n",
       "wycjoz6QSt7HvTIfNLXCChbY75OhY47j3AhVl1iGtgY/tMJfas3r/U8gMyMkwt+IvrCShyvE5IFm\n",
       "FzzTx2+q5/trvHEjXpD7WbTilv7lIfVQUeDZl18m3+bNXN1revWvEDACjz2+iPuEUNcMt2QhE1KQ\n",
       "7tAzTe4MG33D5Wu5mO2W975ojGcFiH/pXmmwhFSQ+1xTA4fbdkj7v/aF9It8kuvSKxrYtSdR4eLT\n",
       "4Ougl8lP1/RSir54cX6X6OOTwhG2kB7zyCV1AgpWaKFYZyPtgXfWvhZNDvxBMf/ih0S4ChAZjjNc\n",
       "YWceEaPL99U09+VD1BV8jFjYbjXHxsAk38sqb9RdmsBSetzeOesK7zh8WN5nUZzCktZMu2uZe+1M\n",
       "l/wI43koFxGpuot52OTPvAMOJgMyTrzsNtiyFE1qquKIL12PB1hfnUqfX56TEac59Fwi+O6lhpwW\n",
       "HD+9Ehda323YyPrT5Gjbigz8QSJdqTIAObhZCk5fbYfyNBLKpw4N1NTsOLEXs0tM/SxvmGqh27Px\n",
       "0th1h3rCg73oAHTqj3BlRgxWom4XqAJz/sk2DxKGgkKA9vDbVGY0hW4bwIeVRMoypTKPhBxH6d87\n",
       "wfeV3bYsmIES70xDqGEGHta61iGvwQG0RZQqRnTveBgM37yXAgwIbdYW9REnHqA3Rhl++9FIoPMa\n",
       "ZAcKoQ41EA22her/stMvWgnDxdVM7+zUpFdpTaF5zcTMeZlUf94uAl7UvYeIMkkgk6+n+EMLGYSr\n",
       "ANUeB8AA44EAAAJVQZ8DRRUsM/8AA7bBJs/HFeDVKdwKOxpSBL6FxdsKhIiuMHGhMSKYKciXIwxH\n",
       "VlKNlzO14qIKwYHcDAAEZHqtHuxm7SGAw72XLZrJsSJ9vKROSO7LLoYrPwZBzDAclba56YwBOnTq\n",
       "ZTjBjNJTidrNUUV+eqEfvo9OFg89Wc5j4X8d5ixETENXfju92gALv7Ms4enc8d198ppGuyF+koHu\n",
       "iCtVV/b/pJy/Yif7sHWkLep98cAGzDrUFhgPdrpOL9uAQOFBDdWKH8dA6z0Scd0igdh+/uDP4xiM\n",
       "aHWuXCXOUN0XBJLyFan+0FujVljJEFsDVhXxqR3q2Cu/0L8IHCSpdVd9qQCP/m6tB8g43Ybag2ra\n",
       "5L1EhOzvVxvVt9/Og18r7i+YH7O9rqm7052lRQSd5we6mZKIJsJEDhn9HrvXMQatmNqfu77y3K3C\n",
       "Vw+0DhRSD4U8XJ79fFPKFSXrJPRVkgUdFsKpJ64+iHHOyuSb3xXM8YMRxKZJ4923Ljhe8MaHnMOZ\n",
       "TKvCJntQHNBxrPTZV4GC4nqr83+KR8Md3Y/WwHm+uK3NMD3izeBxZDF7F7cuVZpb7ueN5isY4Aaa\n",
       "B24EkgojgvlVVjG8lUoTW3Ux7v4/+c03CVguyw4uYQaGZx1PDG7MUU82iC4mxCQ+aIjIbIw91fNe\n",
       "y/fpbjMq/wI9QWNv9WShXxBHle4N6VA8Lgp191ztnM11995Ei90ybcjw1Hs3zak1yyXUEyPxIMNU\n",
       "HYo8IxcjRhXmYOsCkZcCzOODpYvcL/CdtipjXcLXgV6hEmA/5v5AAAABSQGfInRCvwAAAwAIq6Bg\n",
       "r7ny+Az9vh8YxYv93lkGtqlqTllpaHUEXAaQgA4s9fNakIS+d9z57jRDgoSGZPzyNUWZzSKtbqUm\n",
       "IyW93WTVa6qACEMoUAf5sfdFDR+B79O+AyN3+r2sNGKOR3ncKeG8H19PWxVmuv3ak9hIR/tnkOx0\n",
       "gzQzGZ1w3pImtDmWEiNvgdIhzlIkaBxJUnN37vc6DvyEBNm9H8ssPU+kpHvmvhvOaLpKo4Q84MaL\n",
       "AKOL3vbUccApykWu4zs0PhSSpEETyECEa8O4tTYY5AVA+xy0dCmRS8U1rThT389BcI+S+LT6RYbV\n",
       "n6Be/oOi9jLW+pTfyL8yitWDagla7QmAIIZwUONV6YS4Nb+gi9VBJG5tefsshCixRX9EFflf/puV\n",
       "2LRx7oFS8WqFe+CG6O0TedVPCHyl/mf/E/NgAN6BAAABQgGfJGpCvwAAAwAIrr6Ar83MPAfxQA9g\n",
       "h2iWOPd7rV05fTFBiAC3pB8XtDIJEkd7adr2aYt/vRKuLXrps3fpSwNezf4tn0UDVVs7UBchgvMm\n",
       "PleRzOrZALF0Na7lnYp1Lb2D5IfgEcSoK9reO6GQVROoH4UPMVamYz/sOORdzJKrXi5ewsEwUtGG\n",
       "7uZQKHQ+A4Badh7nZ1221Ym8aoC9GTefM3XeDlrtW98j9cvo4ptrVc+PWqUu+46d3bNdmA23nHO5\n",
       "TFSroQXPKLGxJ81BfEf3Rb0VltQYyxZvXqw2KEAuk62OAhFxe6+GJD+ZCbdTSoAecC4iQDpcXOs2\n",
       "lVY5ohqyOtBv//mWoqx+UPRoPaTN/WQtjShQxYtzt4bOY+ko9/VTVTj65lqfKhmaGV/oeWd71TWk\n",
       "Be0hd5Aq5YM+8znABjUAAAO8QZspSahBbJlMCHf//qmWAAADAAADAAAN4n6EufoAH4mjwdo5v5P8\n",
       "kbsC2rtChZA0pB11gaSuXaHOyH95vezsSQBrvYYclf7WzFHitgixOuWiNIQpBXmfwU9Qu8AY3n/L\n",
       "guwyVjRaUwQIP6ftdXBItsmh02mQWLz+KAqig2aaWM0S5CFNAcaOijhK2iFwKafVaOs+7Us/csuF\n",
       "Tih5lRLsLOcYkIvsiqLWEbjdcXlK60jsdMWQpSuL7BamKoglg1aFRhK/SeMLU5sVUPqArwkGfGRc\n",
       "iC7xOoyQVgs0ISVSTB+vtAIimQJd4SPnsqE3/3a6SXIqTmor+jd4Uqc9U7uOFoobmTvbnGikiPzl\n",
       "SMcUOhL9GMF+xF4Wy0Td2Xz11YxqWjQvW6ogQSXYSSxRGopf1gU5V+zPwLThmDMskocztNWIyzv6\n",
       "2fm6GX1rFCQ1geEwwWtNhShWkfWNZdETPpBdK+TNm5v86TBCJAkAehM7fn8uzwUtv7mG/d+U6rJ5\n",
       "MqI/6YMa0Oc9+ykyaQk9dO0uT1BiAktNb3IAAcvhWFrGb5S30pA4AkZRvMLB+HF4j6WsxjUzyPPx\n",
       "RS07rC1n/LFzXoCMz+MDBzsxKKA3tHX/TnhdQbeBm8indaIu1tssBEEVWMHD2ZDe9N3vCULrBoMk\n",
       "9/nYQDg8OyE8P39gI4wXEG5rm30wHpRI4aE4iN+XpFS7VU6pyCtihhXyFcmz94YqBuxpKx+/yBSM\n",
       "cAf52YTuex9w/8GyajnmSr/1faLwKzA73VDGVpoFUK+9wEq+8UopXUxUoarqwOoEpK+n4t6QxHF7\n",
       "jUn3Z+bOE2Qo8FgJMEqw/bDpzBXumRlU+jrzsBLwlCth8wGhrkBLa41K5MMKBDN+NY0NUPbbNqh5\n",
       "ly6gKSKHJs2xcbh8RROctmRGUdPKV67SeHxqAhVqUDtrA5+jpm5Snh1SLBLEBGYbaHJSIqpAFxdP\n",
       "knS6JvduTAm2CuqESxLahy7x+FxGjHdj6X+ggwcFy/hghZdTSGID0F57nT3qMQiqDnORd8Vdv7Z2\n",
       "j7mTPbd2SvBl32PIGr7TqQ15uoGbtC3EefRABXJm3aFUlyBQCdXDkSS5wqiuOt+XDT+mhXDNWaDu\n",
       "hwOlL9eHVsurHxF1WZ7pO4OekLrKeAwK1UYYc9GYMMAMERAa+W1+oMPtsRHjkc54Xl/alx2QO1Dk\n",
       "ysawI8xq6XLCD8Nt16ZVBEHubgKqBdD8BtkjGAONRe6VBPzHyHN+JmDOoNpwFNp8Sn8hWcwneguM\n",
       "CzLAAUEAAAJiQZ9HRRUsM/8AA7bBJs/HFeDVKdwKOxpSVLj3q6/vvfEZu4tADrqfPa+lwAE7euqO\n",
       "pNSz3kjwqsLbM+X7wHsyuDMOqlzdh3rqAZtDMeUSuWhBlVk87LwMxhQUvVw47qCrQK0eqnjC/mlZ\n",
       "V0+z1ULBzkWGPK8QlF6zgxBJF9X/UUlso1UI5Ipgb324zgzWoOTUBVmMCDWhqvjJz5Qb8Dmzd5XL\n",
       "Hg8cWcVEHQwfSLYfjXhgijgueA6lWQqFHJg3TmaV7kL+46SpFvpZ/vwIYEp0fmW/2utHgy573j/9\n",
       "+d6X+Glk5vt+bKLg2ELPg7XJJ4PAze0iJP3TIPeh9ftlVk8q/Aosvcssya9qaJ4xNzjrRlsPPDvu\n",
       "BkyTIXBC75z26N8LEGLUU9DYD4OpypAGq5nkyJsLOqhDEC2SxX4BxulhQgYcTYLpPVFLsVkjIQAF\n",
       "Q0AKt3vDxpt2u9XEJ9aT6iLwpXYFRFTN5cDm/sgQ7rdCq6NVKXMrsMXTGWDZi9amlnWlh4acgyhW\n",
       "mQyYa1/dBheunfU+vdk6JwoGSWX0bJKPVOhI03yMFkmilyvzZjG3YUI7T1sAYfrVZy5RfD3sY2xv\n",
       "qYwDU/4bXOGyykLOa0McvCvhqtHlDwxTrcK88UjO3Y/+zQ/k0D8Qnmwxzgi0dbZ8oLznqMbp9iiN\n",
       "rUrkeoCcYPb1QYI9Z+Pujnp3w8CLmkhW4yQwqynoauG0plluJD14eDesINcniYhzOHT+2IhdEQFJ\n",
       "BPzKzjs27VUTS5IRpBjUxttsMcl+n9/Fhi9sDqpOoAAjWnyHM2GYxgqwRBfBAv1ggQAAAXABn2Z0\n",
       "Qr8AAAMACKugYK+58vgM/b8ZEUHGOVanlG/8/N2ABK0zFibAPtmjIpIW+anMeNBjKfM71YuOb8Xg\n",
       "TiCzLGeU9yLcoqaiqNJAy4Wtq8aDrvlNvrlh5e1Wof/mxyAq6gFn+UhgZ63fb7zQTAuCKfn3zn06\n",
       "oKg+0FfDiYGmZh9RKN/sSiythefaTMuAmqvwjRtjuPdpNtW51DIXk9Fy093G0E1NPtSgWk8VELnl\n",
       "LVv32y6kcoofBmqhjdqPegN2d4MaeNfaO+3iFHeeQsIc7nmfzvnPVYShaSNVdQI0JnBQeNCjIPFL\n",
       "i1MgmkjgnD3VfGd/o17Sj2klCIYqEWc66S12VjRdt2kZQctPHBOttv9Rf2USdo9+RcSzZVRXqr9j\n",
       "uB6+perY5DLSUHROCLwDFQWqnQ338+hGsiJD9WF65DNVcHZf7Jch7/6vsxnRIOyzed0vsn+DQO51\n",
       "mJEk0tc98Aw/4SEou/fLkV2ObkABHwAAAXYBn2hqQr8AAAMACK6+gK/NzDz4pxrTmd0iH0YrXkMm\n",
       "tl7DwAfgFZKiaqwvNthLZvsQeYcmmQGHCNco5WR/oBZvcFln7Vk7i0rmHAoDTByz5ZQLBzKZSWoI\n",
       "K5tQw7XJ3VQCVG+p2++dPaO+WYksFKnDVUmmupc2kHjJVQoThv7v4Stgkz9c4jGyvOExKG1wCxgj\n",
       "X+Z3516JjcPWB0WBczFfi4fTL/rJ0QW0bptGVVOCR/MsmmMhT1So8eed/FKEHQzMQSnfrZz9fITH\n",
       "iIKcrvWTZv0V/Ox2Hfl15gYb3+g2xUKvtjEnOdrRvT3fBVEgdVIIDXxKQJRnLgTflV625+o5btjx\n",
       "iOduy0PQzcOyaBRoqPRFuw/UzY0VlTsIenb2pAgXPzlgFpnnrWVgZReRb8N4zWpE+LNRj+FoONzp\n",
       "UGEFfonITRMPaq52Xutory9/lx2/r9076dp5riNIaIx37L81AApUX79SFr0CE+2VlUlIz4h+aABD\n",
       "wAAAAs1Bm21JqEFsmUwIZ//+nhAAAAMABNosLUOADYuzct6VFosvy8EH/+G+9nXq+hNUPUIGvVtU\n",
       "+m5mKaED/zSMIeObTOs3+WGd6mZCwMZr2swN4fFiMp15zNuGEgn2Jxp3/OyAQ/mch/BZfFVAgmz/\n",
       "c/Te2zF3caQhIAjpU5gOUFsliey4fpbtAtP3jxaDLuDkggr7C4MPxI+dy1cdZ20o4nbhzzLmxe1A\n",
       "A469f1DEO8kMlTWijKASm0G9+4m61gPNGjyjb2nwhbtOjUVx2a5q8B6O2qZ7Lvmlc8di36phTVM+\n",
       "6caROwpAOwDgltagpdjsi1Mk12o9UGmPvL+goI9Sf7UUIA88m5VLGwc6bsu2fGD5vy9Z6w5rzdLt\n",
       "Rv8zrUo8xPrJGJfV3wgxI9+KGC78uBzvj1338OkGBESb9tfGUvLSxIrNh0UWwajZaE4SeKTlurwR\n",
       "OMWc/8vockiBcw+PqeDpXawZobjxa1jkhMlDw7oTFtXGUHYMQr7roXhAOoCfkR3yl/Rq8vVy5Aur\n",
       "mlCrm72DyNhJ2QBXbe8I9CBiexjv+mfhJ8S97SptQqbtzfPpfmiIt0GGJUnV4WIfHyvOcd6Y7D65\n",
       "P2iVz8UdJYrU4eB4W+9X8SNW10A3O3bAnT0uikDMv5gkvOPkTVoQTkr8tFo7XZfXV9GQsGtgbZdW\n",
       "4rPKrFG5f7WIZPOpZIqKIqUc6CccyJfFtD4Z989zCHuj67f0IVCzUmA3oAnmg9bM8w4TNcOYgiTu\n",
       "boSiSiUURNl6eAkeSp13iYh9KKsGDIfYb03zLAmOjVqaKFNlrXK/8kIaGO/dvugMBTzQUOzo3t43\n",
       "D4PAKm+Ank6+GelN7+DMqe5ycPJjQPQS9j13LPVXl1IZQaZCCI68YN141rkaxlwR3nuVnks745TZ\n",
       "JlKyW4WD6dTuQu9x3QiiVwJZSZg/pOVbPPjHoWSNpgi3TwgAAtsAAAKOQZ+LRRUsM/8AA7bBJs/H\n",
       "FeDVKeRlpoOZzvAFAPng4qAjsNdNbABdJXp728TqxNpvhJgUUTwclYOk4+DGeGT6e48ebsHxQJW8\n",
       "7C1YKzztDM1skSGbb41tux3eIM8vFFMqN1oAy2L+rttrWOzDY0lhHkAt5FYPzDL85S792aYRdTSV\n",
       "hsIO+5QcDrjdbAf1I7Ay+T1uquIjzcNbnJM4DfQZpTzeKLsBgoiS89gEOY4P5uJs0FG5953ihNO2\n",
       "IK2pr6mcNyrsp5HuIpgrB84Dth5UDS4RmqAVRFnv2imRU0BQabnKap8JdCfbeW6qPBfepVC5HP9T\n",
       "1qJ13cpNjFryBoXuAyXO0v1HRqM/VfRiRE7ZtGxcv4Yyt6p+tLUMhdmvKXH1AJt10DPzoorrkLzh\n",
       "SMU/egmsHA5GTG5ep/80pvCgpCDrL9KeRCeHYo/613ytTQf7hFyRg4KbCzWv+DDNWJfaIwAqg1aN\n",
       "HE5aO0gNGKitJg+1+S/wk2EF5roSdj0UREUJCKoHDkX+zKOIQ9F2RmoINSXrJd31hUzFmnsNYQAf\n",
       "NGJs+3yUgRilrQy0CsrbGgmUJ0BBZ8mReHVllsuMsSiu8AK5i9JhDtMruzzbO75yV18SJbcoT1dn\n",
       "wSBxQtHnZ1hRjQgGPOQthr+1R4iYBUb6tZ9bc7p6OMF1nnt6Bk7zo4PgID99YYeaw6VtyZohTfHy\n",
       "JfDuLmBDtpcanzLVBZqwYyRZZH0hC6XkkP7mTIjp4Px59UzU7oE/yeDauZZI9S5RRVE/TpRliXl7\n",
       "Lg+Rsukl+3g3ZekKZsD/DxvV4FwyBGoqNU1WksHJzCIpEg5+7qN0exEZ1w7reqHjauiVFGJ1KFg3\n",
       "E6thcgVXUFOM5+rpAAABRAGfqnRCvwAAAwAIq6Bgr7n0+9PdEf1lw8ywAmds7bP/l+VU0jcia9W5\n",
       "bak/LyMqLP4qzp0y8Zp1SxmiJfn7p1NQXqgTKwALMuwc4VCEQXhwy69ug8THQpIpYdJoqsTaWu/R\n",
       "AhSFghHkjwQktICNrvHCIoWBBRedcORaRDF+QCZsKnCO41FqhoEjL/wVqaopOoFSXO5MjBFM/FFP\n",
       "jOc23nE4SLO0K2sXuShRijAFfIbwOyvG2pViZLENoaSNN6JapYwHj38xKLRXiBZZHeYjw5lPY3Sd\n",
       "lY9jlNsVabOzfZBKflWa/REg2H7YBQK7Ks8rXUoDjIpTK2y/T6P+p1icfK0aWPp2PjPHPLgKU01y\n",
       "4PUSIYboGeovTOV8/plEVlpNsOUrRqi8wgQl85mdOjA3Wr414U5cnxmg2VSAVKyXvZwGAc+T/AAA\n",
       "AVYBn6xqQr8AAAMACK6+qFQ40bIGKD7rQkWoAWtjYpveX5a8eE1yRevwNb1/27TbzmbBKRQ/6rk2\n",
       "RFnHOBMGWosgVtGmzkJ4CLVvuiCHGF73sh2lXzaH7T3WpC0DrxpE8uyo5nlqdQFag6ttPGp0HJZ1\n",
       "ybCVmegTH3WyPQLe99uu5sqPc3oNzOnJ46a64t2uvWjliWuB3AwWT1ELKdSAAPNoHDa8BA/DvS7C\n",
       "+H0KdTqvAMeYjAey7yuVfUnrOV0Tl34sgS4PNl/H99VI4ZjsEeWCI9QT4OGJbrGYfsgWRvmlb3Lo\n",
       "9E4WgqFyk38bTygpYhac6/VyvYVRObyCjVvNd0Opk+nw/+PlHJ6EXMXkEMGEmbTw9brnIPksDXqR\n",
       "g1ii99PJlUx3H/uFYNWgsOQaKMSTGIHTfyZBIrVQPZ5aQEWVIi37o/0B/nlHLfx9dqML1ODtAAA9\n",
       "QVkAAAGCQZuvSahBbJlMFEwr//44QAAAqO7fXZjD3rwAfBhKVsAVsFcOlnEiNcMYeRsOntDO0yHc\n",
       "uX2uvtCt1xexzrG7zTSbVKIyS2O4gtppAntVP3QLfgAAAwAKMXNvtOsE1ZCMwOn8GpF33aORb4UD\n",
       "3IdD0+OSh+acwX2mMc+c53O44fojHYI7HoFzEEyl8nKjeFeEEZJhRoE3/O/vbfniKbRfMCMy1qNo\n",
       "uVL8iFjye1dVsiHXgbzCTCtQTB477n9Gl32F6yTv6pi3ZeIOlptUcTwIiJ0uus/En2tTuAjD2CI3\n",
       "a5kiMc+ZlCFKvupe3pAbc0jkL+VtDbQgiHe+YNYBUHlT9DDfXK0mpQq3xDgcwRo+3eTR3rqn4rnj\n",
       "PSAQqbfCsnafRcwnsz760vR/bL4wHSz51DcCDMVmxSiG2cWoTsN96XLNaBzfZ2fp/i3tY3cUQD2F\n",
       "+1a/dwijyR6V6Sd1KnMDciy5KnyrwsPzYgG79xVyi71ZmfiUXCnZ7RxafaGrFKoAAW0AAAFFAZ/O\n",
       "akK/AAAM5Yb3AWyJHuYAAJThby6Rahd8GwaQXGTtmFab4x3kENsbMrUB2Cahkb0O5Colv9sWSc42\n",
       "Zud7Of1r08yFRINzbY16VBSFACVcTslYBzfRdvgg/+f7/rGzP/KvUzP1Q8PT2DMfk1I1b2YnmAF8\n",
       "sDq4TQFt+DU6VICZSyd3zGo92B8U8/PG3vvDxY1+sUqEU6eKKtUcfNYb51J1T173AvKwAIw0oNJh\n",
       "KcPfH4Ny+V29l62KeYaKIQ3Q+cOcj9cfjQZj1o+PppHUrCBAlrRr3k6Z9pFJwDE1SqTW0d6iezUK\n",
       "KqjNeuI+v/4c44O8r4gIxlORwPaCMLPi4/+rhsUbd0peBjFJp+Pe4q6e4xWT1av4E4MgQkrfZgxV\n",
       "kh+FcK5gxLv3VHkojlJax1SM8Dx6+Fq6jgStTynDALSysuPlDwAABrNtb292AAAAbG12aGQAAAAA\n",
       "AAAAAAAAAAAAAAPoAAAPoAABAAABAAAAAAAAAAAAAAAAAQAAAAAAAAAAAAAAAAAAAAEAAAAAAAAA\n",
       "AAAAAAAAAEAAAAAAAAAAAAAAAAAAAAAAAAAAAAAAAAAAAAAAAAACAAAF3nRyYWsAAABcdGtoZAAA\n",
       "AAMAAAAAAAAAAAAAAAEAAAAAAAAPoAAAAAAAAAAAAAAAAAAAAAAAAQAAAAAAAAAAAAAAAAAAAAEA\n",
       "AAAAAAAAAAAAAAAAAEAAAAAEsAAAAlgAAAAAACRlZHRzAAAAHGVsc3QAAAAAAAAAAQAAD6AAAAQA\n",
       "AAEAAAAABVZtZGlhAAAAIG1kaGQAAAAAAAAAAAAAAAAAACgAAACgAFXEAAAAAAAtaGRscgAAAAAA\n",
       "AAAAdmlkZQAAAAAAAAAAAAAAAFZpZGVvSGFuZGxlcgAAAAUBbWluZgAAABR2bWhkAAAAAQAAAAAA\n",
       "AAAAAAAAJGRpbmYAAAAcZHJlZgAAAAAAAAABAAAADHVybCAAAAABAAAEwXN0YmwAAAC5c3RzZAAA\n",
       "AAAAAAABAAAAqWF2YzEAAAAAAAAAAQAAAAAAAAAAAAAAAAAAAAAEsAJYAEgAAABIAAAAAAAAAAEA\n",
       "AAAAAAAAAAAAAAAAAAAAAAAAAAAAAAAAAAAAAAAAAAAY//8AAAA3YXZjQwFkAB//4QAaZ2QAH6zZ\n",
       "QEsE35YQAAADABAAAAMCgPGDGWABAAZo6+PLIsD9+PgAAAAAHHV1aWRraEDyXyRPxbo5pRvPAyPz\n",
       "AAAAAAAAABhzdHRzAAAAAAAAAAEAAABQAAACAAAAABRzdHNzAAAAAAAAAAEAAAABAAACUGN0dHMA\n",
       "AAAAAAAASAAAAAIAAAQAAAAAAQAABgAAAAABAAACAAAAAAEAAAQAAAAAAQAACgAAAAABAAAEAAAA\n",
       "AAEAAAAAAAAAAQAAAgAAAAABAAAGAAAAAAEAAAIAAAAAAQAABgAAAAABAAACAAAAAAEAAAYAAAAA\n",
       "AQAAAgAAAAABAAAEAAAAAAEAAAgAAAAAAgAAAgAAAAADAAAEAAAAAAEAAAoAAAAAAQAABAAAAAAB\n",
       "AAAAAAAAAAEAAAIAAAAAAQAACgAAAAABAAAEAAAAAAEAAAAAAAAAAQAAAgAAAAABAAAIAAAAAAIA\n",
       "AAIAAAAAAQAACAAAAAACAAACAAAAAAEAAAgAAAAAAgAAAgAAAAABAAAIAAAAAAIAAAIAAAAAAQAA\n",
       "CgAAAAABAAAEAAAAAAEAAAAAAAAAAQAAAgAAAAABAAAKAAAAAAEAAAQAAAAAAQAAAAAAAAABAAAC\n",
       "AAAAAAEAAAoAAAAAAQAABAAAAAABAAAAAAAAAAEAAAIAAAAAAQAACgAAAAABAAAEAAAAAAEAAAAA\n",
       "AAAAAQAAAgAAAAABAAAKAAAAAAEAAAQAAAAAAQAAAAAAAAABAAACAAAAAAEAAAoAAAAAAQAABAAA\n",
       "AAABAAAAAAAAAAEAAAIAAAAAAQAACgAAAAABAAAEAAAAAAEAAAAAAAAAAQAAAgAAAAABAAAKAAAA\n",
       "AAEAAAQAAAAAAQAAAAAAAAABAAACAAAAAAEAAAoAAAAAAQAABAAAAAABAAAAAAAAAAEAAAIAAAAA\n",
       "AQAABgAAAAABAAACAAAAABxzdHNjAAAAAAAAAAEAAAABAAAAUAAAAAEAAAFUc3RzegAAAAAAAAAA\n",
       "AAAAUAAASOoAAAMCAAADQAAAAVUAAAMQAAAFZAAAAhQAAAE5AAABNgAAAyUAAAHUAAADmQAAAXAA\n",
       "AAMTAAABNAAAAwEAAAVQAAABxwAAAWMAAAMEAAAC8QAAAzsAAAhJAAAC8gAAAj0AAAGsAAAITgAA\n",
       "AyUAAAGnAAABzQAACC4AAAI6AAABSQAAC9IAAAH5AAABfAAACAsAAAHSAAABGgAAAEkAAAHUAAAA\n",
       "ZgAACf0AAAJmAAABaAAAAaIAAAVsAAACoQAAAZIAAAF5AAAGXAAAArMAAAGbAAABuwAABxIAAAMr\n",
       "AAABlQAAAfsAAAVzAAAC3QAAAacAAAF5AAAFnQAAA0gAAAFxAAABbAAABAMAAAJZAAABTQAAAUYA\n",
       "AAPAAAACZgAAAXQAAAF6AAAC0QAAApIAAAFIAAABWgAAAYYAAAFJAAAAFHN0Y28AAAAAAAAAAQAA\n",
       "ADAAAABhdWR0YQAAAFltZXRhAAAAAAAAACFoZGxyAAAAAAAAAABtZGlyYXBwbAAAAAAAAAAAAAAA\n",
       "ACxpbHN0AAAAJKl0b28AAAAcZGF0YQAAAAEAAAAATGF2ZjYxLjcuMTAw\n",
       "\">\n",
       "  Your browser does not support the video tag.\n",
       "</video>"
      ],
      "text/plain": [
       "<IPython.core.display.HTML object>"
      ]
     },
     "execution_count": 189,
     "metadata": {},
     "output_type": "execute_result"
    }
   ],
   "source": [
    "plot_1d_loss_surface(pred_ms=np.linspace(0, 1, 40))"
   ]
  },
  {
   "cell_type": "markdown",
   "metadata": {
    "id": "rDiJTGjPOqu0"
   },
   "source": [
    "If we are trying to find the slope that will minimize our loss, we can use the gradient to tell is which direction we need to move in order to optimize our objective.\n",
    "First, we are going to convert `x_data` and `y_data` from numpy arrays into tensors."
   ]
  },
  {
   "cell_type": "code",
   "execution_count": 190,
   "metadata": {
    "id": "6GneqZWuOqu0"
   },
   "outputs": [],
   "source": [
    "x = torch.from_numpy(x_data).float().unsqueeze(1)\n",
    "y = torch.from_numpy(y_data).float().unsqueeze(1)"
   ]
  },
  {
   "cell_type": "markdown",
   "metadata": {
    "id": "VjqT73AvOqu0"
   },
   "source": [
    "Now create two functions: `forward()` and `sse_loss()`.\n",
    "\n",
    "The `forward()` function does forward propagation.\n",
    "We apply the slope formula $m \\times x+b$, but we need to vectorize it. Dimension 0 of `x` is the \"batch\" dimension: it separates the 9 individual points. Dimension 1 of `x` is the \"channel\" dimension which contains a single channel of data (since the input is a point in 1D space). To get our y predictions, we perform the same function on each batch instance: so we need to matrix-multiply our slope `m` across dimension 1 of `x`. Our model's prediction is:\n",
    "\n",
    "$\\hat{y} = xm + b$\n",
    "\n",
    "where `x.shape==[9,1]`, `m.shape==[1,1]`, `b.shape=[1]`.\n",
    "\n",
    "This ensures that the output `y_hat.shape==[9,1]`: we predict one y-value per point."
   ]
  },
  {
   "cell_type": "code",
   "execution_count": 191,
   "metadata": {
    "id": "3vjJRoe3Oqu0"
   },
   "outputs": [],
   "source": [
    "def forward(m, b, x):\n",
    "    return m * x + b"
   ]
  },
  {
   "cell_type": "markdown",
   "metadata": {
    "id": "7uIAhgpbOqu0"
   },
   "source": [
    "The `sse_loss()` function takes your predictions `y_hat` and compares it to the true output `y`, by computing the sum of the squared errors."
   ]
  },
  {
   "cell_type": "code",
   "execution_count": 192,
   "metadata": {
    "id": "fOOw3snZOqu1"
   },
   "outputs": [],
   "source": [
    "def sse_loss(y_hat, y):\n",
    "    return sum((y_hat - y) ** 2)"
   ]
  },
  {
   "cell_type": "markdown",
   "metadata": {
    "id": "Twyf8izMOqu1"
   },
   "source": [
    "Execute the cell below to validate your `forward()` and `sse_loss()` work correctly."
   ]
  },
  {
   "cell_type": "code",
   "execution_count": 193,
   "metadata": {
    "id": "AarcvNJGOqu1"
   },
   "outputs": [],
   "source": [
    "m = torch.tensor([[2.]])\n",
    "b = torch.tensor([[0.]])\n",
    "y_hat = forward(m, b, x)\n",
    "loss = sse_loss(y_hat, y)\n",
    "assert torch.allclose(loss, torch.tensor(5.4452))\n",
    "\n",
    "m = torch.tensor([[1.]])\n",
    "b = torch.tensor([[1.]])\n",
    "y_hat = forward(m, b, x)\n",
    "loss = sse_loss(y_hat, y)\n",
    "assert torch.allclose(loss, torch.tensor(11.8534))"
   ]
  },
  {
   "cell_type": "markdown",
   "metadata": {
    "id": "6Q5-vFbyOqu1"
   },
   "source": [
    "We will now analyze what the gradients tell us.\n",
    "At the moment we will only focus on a single parameter: the slope `m`.\n",
    "Go ahead and execute the cell below."
   ]
  },
  {
   "cell_type": "code",
   "execution_count": 194,
   "metadata": {
    "id": "l1peeg3MOqu1"
   },
   "outputs": [],
   "source": [
    "m = torch.tensor([[2.]]).float()\n",
    "b = torch.tensor([[0]]).float()\n",
    "m.requires_grad = True\n",
    "b.requires_grad = False"
   ]
  },
  {
   "cell_type": "markdown",
   "metadata": {
    "id": "gfdwqmErOqu2"
   },
   "source": [
    "Now use your `forward()` and `sse_loss()` functions to get the SSE loss for `m` and `b` and then calculate the derivative of loss, i.e. call `loss.backward()`."
   ]
  },
  {
   "cell_type": "code",
   "execution_count": 195,
   "metadata": {
    "id": "srZPQY28Oqu2"
   },
   "outputs": [],
   "source": [
    "y_hat = forward(m, b, x)\n",
    "loss = sse_loss(y_hat, y)\n",
    "loss.backward()"
   ]
  },
  {
   "cell_type": "markdown",
   "metadata": {
    "id": "1DSTCqR4Oqu2"
   },
   "source": [
    "Execute the cell below and validate you calculated the correct gradient."
   ]
  },
  {
   "cell_type": "code",
   "execution_count": 196,
   "metadata": {
    "id": "SKXVvM52Oqu2"
   },
   "outputs": [],
   "source": [
    "assert torch.allclose(m.grad, torch.tensor(7.7423))"
   ]
  },
  {
   "cell_type": "markdown",
   "metadata": {
    "id": "ov4jevzjOqu2"
   },
   "source": [
    "Now call the `plot_slope_grad()` function below to visualize what the gradient is pointing towards."
   ]
  },
  {
   "cell_type": "code",
   "execution_count": 197,
   "metadata": {
    "id": "9Kwof-YAOqu3"
   },
   "outputs": [
    {
     "data": {
      "image/png": "[encoded data removed]",
      "text/plain": [
       "<Figure size 400x300 with 1 Axes>"
      ]
     },
     "metadata": {},
     "output_type": "display_data"
    }
   ],
   "source": [
    "# execute this cell\n",
    "plot_slope_grad(m, m.grad)"
   ]
  },
  {
   "cell_type": "markdown",
   "metadata": {
    "id": "PKyDv94jOqu3"
   },
   "source": [
    "Notice how the gradient points towards away from the minimal point, this is because gradients point towards \"steepest ascent\" (which will become more apparent when we work with 2d loss surfaces).\n",
    "To move towards the the minimal point we therefore need to move in the opposite direction, i.e. `-x.grad`.\n",
    "Create the same plot, but point the gradient in the opposite direction."
   ]
  },
  {
   "cell_type": "code",
   "execution_count": 198,
   "metadata": {
    "id": "EUDLRsXgOqu4"
   },
   "outputs": [
    {
     "data": {
      "image/png": "[encoded data removed]",
      "text/plain": [
       "<Figure size 400x300 with 1 Axes>"
      ]
     },
     "metadata": {},
     "output_type": "display_data"
    }
   ],
   "source": [
    "plot_slope_grad(m, -m.grad)"
   ]
  },
  {
   "cell_type": "markdown",
   "metadata": {
    "id": "vHdN1xlJOqu4"
   },
   "source": [
    "Now we are pointing in the right direction, but as you can see the gradient, $\\nabla m$, is telling our slope, $m$, to become $m \\approx -6$, which clearly overshoots the minimal point.\n",
    "Therefore let's apply a learning rate, $\\alpha$, to our gradient.\n",
    "Call `plot_slope_grad()` one more time, but this time pass in the argument `learning_rate=.05`."
   ]
  },
  {
   "cell_type": "code",
   "execution_count": 199,
   "metadata": {
    "id": "Iegany5KOqu4"
   },
   "outputs": [
    {
     "data": {
      "image/png": "[encoded data removed]",
      "text/plain": [
       "<Figure size 400x300 with 1 Axes>"
      ]
     },
     "metadata": {},
     "output_type": "display_data"
    }
   ],
   "source": [
    "plot_slope_grad(m, -m.grad, learning_rate=.05)"
   ]
  },
  {
   "cell_type": "markdown",
   "metadata": {
    "id": "kCtHdxADOqu4"
   },
   "source": [
    "Now we are pointing in the right direction and with an acceptable magnitude (this learning rate is perhaps a little too small, but it is useful for our other visualizations).\n",
    "Now let's update our slope by apply the gradient, i.e. $m \\leftarrow m - \\alpha \\nabla m$.\n",
    "First print out `m - .05 * m.grad` below."
   ]
  },
  {
   "cell_type": "code",
   "execution_count": 200,
   "metadata": {
    "id": "RHeyLsRKOqu4"
   },
   "outputs": [
    {
     "data": {
      "text/plain": [
       "tensor([[1.6129]], grad_fn=<SubBackward0>)"
      ]
     },
     "execution_count": 200,
     "metadata": {},
     "output_type": "execute_result"
    }
   ],
   "source": [
    "# execute this cell\n",
    "m - .05 * m.grad"
   ]
  },
  {
   "cell_type": "markdown",
   "metadata": {
    "id": "bi7wWtAVOqu4"
   },
   "source": [
    "You will notice this contains a `grad_fn` which means this operation was put on the computation graph because `m` is a tensor that requires gradients.\n",
    "We do not want to calculate gradients on our update step since we aren't doing meta-learning.\n",
    "\n",
    "Instead you should update `m` by accessing its `.data` variable and setting `m.data = m.data - .05 * m.grad.data`"
   ]
  },
  {
   "cell_type": "code",
   "execution_count": 201,
   "metadata": {
    "id": "7EUFjBhBOqu5"
   },
   "outputs": [],
   "source": [
    "m.data = m.data - .05 * m.grad.data"
   ]
  },
  {
   "cell_type": "markdown",
   "metadata": {
    "id": "9z8b_25vOqu5"
   },
   "source": [
    "Now that we have updated our slope, call `plot_slope_grad()` below."
   ]
  },
  {
   "cell_type": "code",
   "execution_count": 202,
   "metadata": {
    "id": "z_uSnnyGOqu5"
   },
   "outputs": [
    {
     "data": {
      "image/png": "[encoded data removed]",
      "text/plain": [
       "<Figure size 400x300 with 1 Axes>"
      ]
     },
     "metadata": {},
     "output_type": "display_data"
    }
   ],
   "source": [
    "# execute this cell\n",
    "plot_slope_grad(m, None)"
   ]
  },
  {
   "cell_type": "markdown",
   "metadata": {
    "id": "hGfcKQv5Oqu5"
   },
   "source": [
    "We have take a step closer towards minimizing our loss, which means that our slope is beginning to fit our data better."
   ]
  },
  {
   "cell_type": "markdown",
   "metadata": {
    "id": "7QPGpbPfOqu5"
   },
   "source": [
    "Let's see how this function will operate for many timesteps.\n",
    "Follow the directions below and implement the `slope_optimization_step()` function."
   ]
  },
  {
   "cell_type": "code",
   "execution_count": 205,
   "metadata": {
    "id": "WakbGjeeOqu6"
   },
   "outputs": [],
   "source": [
    "def slope_optimization_step(m: torch.Tensor, b, x, y, learning_rate):\n",
    "    m.grad = None\n",
    "    y_hat = forward(m, b, x)\n",
    "    loss = sse_loss(y_hat, y)\n",
    "    loss.backward()\n",
    "    m.data = m.data - learning_rate * m.grad.data"
   ]
  },
  {
   "cell_type": "markdown",
   "metadata": {
    "id": "4GK6rZfAOqu6"
   },
   "source": [
    "We will now use your `optimization_step` function to plot multiple optimization steps. Execute the cell below."
   ]
  },
  {
   "cell_type": "code",
   "execution_count": 206,
   "metadata": {
    "id": "WEXmsmEpOqu6"
   },
   "outputs": [
    {
     "data": {
      "image/png": "[encoded data removed]",
      "text/plain": [
       "<Figure size 400x300 with 1 Axes>"
      ]
     },
     "metadata": {},
     "output_type": "display_data"
    }
   ],
   "source": [
    "def plot_slope_optimization_steps(m, b, x, y, learning_rate, steps=4):\n",
    "    ms = [m.clone()]\n",
    "    grads = []\n",
    "    for _ in range(steps):\n",
    "        slope_optimization_step(m, b, x, y, learning_rate)\n",
    "        ms.append(m.clone())\n",
    "        grads.append(-m.grad.clone())\n",
    "\n",
    "    grads.append(None)\n",
    "    plot_slope_grad(ms, grads, learning_rate)\n",
    "\n",
    "m = torch.tensor([[2.5]]).float()\n",
    "b = torch.tensor([[0]]).float()\n",
    "m.requires_grad = True\n",
    "b.requires_grad = False\n",
    "\n",
    "plot_slope_optimization_steps(m, b, x, y, learning_rate=.05, steps=4)"
   ]
  },
  {
   "cell_type": "markdown",
   "metadata": {
    "id": "z12r6KeZOqu6"
   },
   "source": [
    "Now if we had a smaller learning rate ($\\alpha = .02$), it will take us more gradient steps to solve the problem. Execute the cell below to see."
   ]
  },
  {
   "cell_type": "code",
   "execution_count": 207,
   "metadata": {
    "id": "Pz4XZdjZOqu7"
   },
   "outputs": [
    {
     "data": {
      "image/png": "[encoded data removed]",
      "text/plain": [
       "<Figure size 400x300 with 1 Axes>"
      ]
     },
     "metadata": {},
     "output_type": "display_data"
    }
   ],
   "source": [
    "m = torch.tensor([[2.5]]).float()\n",
    "m.requires_grad = True\n",
    "\n",
    "plot_slope_optimization_steps(m, b, x, y, learning_rate=.02, steps=8)"
   ]
  },
  {
   "cell_type": "markdown",
   "metadata": {
    "id": "GHAgdtfgOqu7"
   },
   "source": [
    "But if our learning rate is too large ($\\alpha = .42$), then the parameter will bounce away from the minimal point. Execute the cell below to see. *Note that $m$ starts at 1 in this case*."
   ]
  },
  {
   "cell_type": "code",
   "execution_count": 208,
   "metadata": {
    "id": "__ExxMDMOqu7"
   },
   "outputs": [
    {
     "data": {
      "image/png": "[encoded data removed]",
      "text/plain": [
       "<Figure size 400x300 with 1 Axes>"
      ]
     },
     "metadata": {},
     "output_type": "display_data"
    }
   ],
   "source": [
    "m = torch.tensor([[1]]).float()\n",
    "m.requires_grad = True\n",
    "\n",
    "plot_slope_optimization_steps(m, b, x, y, learning_rate=.42, steps=4)"
   ]
  },
  {
   "cell_type": "markdown",
   "metadata": {
    "id": "TomPDXHDOqu7"
   },
   "source": [
    "Now let's work with on optimizing the slope $m$ and intercept $b$.\n",
    "Execute the cell below to see what the gradient tells us about $m$ and $b$."
   ]
  },
  {
   "cell_type": "code",
   "execution_count": 209,
   "metadata": {
    "id": "D5Z2tn1fOqu7"
   },
   "outputs": [
    {
     "data": {
      "image/png": "[encoded data removed]",
      "text/plain": [
       "<Figure size 400x400 with 1 Axes>"
      ]
     },
     "metadata": {},
     "output_type": "display_data"
    }
   ],
   "source": [
    "m = torch.tensor([[2.]]).float()\n",
    "b = torch.tensor([[1]]).float()\n",
    "m.requires_grad = True\n",
    "b.requires_grad = True\n",
    "y_hat = forward(m, b, x)\n",
    "loss = sse_loss(y_hat, y)\n",
    "loss.backward()\n",
    "plot_grad(m, b, m.grad, b.grad, learning_rate=.02)"
   ]
  },
  {
   "cell_type": "markdown",
   "metadata": {
    "id": "lnHwUPStOqu7"
   },
   "source": [
    "As stated before, the gradient points towards steepest ascent, and as you can imagine if we looked at the negative gradient it would point (indirectly) towards the minimal point of the loss.\n",
    "\n",
    "Let's visualize what gradient descent looks like for multiple steps.\n",
    "Follow the directions below and implement the `optimization_step()` function."
   ]
  },
  {
   "cell_type": "code",
   "execution_count": 210,
   "metadata": {
    "id": "xY3HMSY4Oqu8"
   },
   "outputs": [],
   "source": [
    "def optimization_step(m: torch.Tensor, b: torch.Tensor, x, y, learning_rate):\n",
    "    m.grad = None\n",
    "    y_hat = forward(m, b, x)\n",
    "    loss = sse_loss(y_hat,y)\n",
    "    loss.backward()\n",
    "    m.data = m.data - learning_rate * m.grad.data\n",
    "    b.data = b.data - learning_rate * b.grad.data"
   ]
  },
  {
   "cell_type": "markdown",
   "metadata": {
    "id": "f2HEUiTjOqu8"
   },
   "source": [
    "We will now use your `optimization_step` function and plot what it looks like to perform multiple gradient descent steps.\n",
    "You can set the argument `plot_grads=False` to make the plot less noisy."
   ]
  },
  {
   "cell_type": "code",
   "execution_count": 211,
   "metadata": {
    "id": "uoB7N3q0Oqu8"
   },
   "outputs": [
    {
     "data": {
      "image/png": "[encoded data removed]",
      "text/plain": [
       "<Figure size 800x800 with 1 Axes>"
      ]
     },
     "metadata": {},
     "output_type": "display_data"
    }
   ],
   "source": [
    "def plot_optimization_steps(m, b, x, y, learning_rate, steps=4, plot_grads=True, figsize=(8, 8)):\n",
    "    ms = [m.clone()]\n",
    "    bs = [b.clone()]\n",
    "    m_grads = []\n",
    "    b_grads = []\n",
    "    for _ in range(steps):\n",
    "        optimization_step(m, b, x, y, learning_rate)\n",
    "        ms.append(m.clone())\n",
    "        bs.append(b.clone())\n",
    "        m_grads.append(-m.grad.clone())\n",
    "        b_grads.append(-b.grad.clone())\n",
    "\n",
    "    m_grads.append(None)\n",
    "    b_grads.append(None)\n",
    "    if plot_grads:\n",
    "        plot_grad(ms, bs, m_grads, b_grads, learning_rate, figsize=figsize)\n",
    "    else:\n",
    "        plot_grad(ms, bs, None, None, learning_rate, figsize=figsize)\n",
    "\n",
    "m = torch.tensor([[2.5]]).float()\n",
    "b = torch.tensor([[2]]).float()\n",
    "m.requires_grad = True\n",
    "b.requires_grad = True\n",
    "\n",
    "plot_optimization_steps(m, b, x, y, .02, steps=10, plot_grads=True)"
   ]
  },
  {
   "cell_type": "markdown",
   "metadata": {
    "id": "3QmzOZ1-Oqu8"
   },
   "source": [
    "After 10 optimization steps, we were not able to reach the minimal loss, so let's start over and optimize for 100 steps."
   ]
  },
  {
   "cell_type": "code",
   "execution_count": 214,
   "metadata": {
    "id": "-m8vGQOgOqu9"
   },
   "outputs": [
    {
     "data": {
      "image/png": "[encoded data removed]",
      "text/plain": [
       "<Figure size 800x800 with 1 Axes>"
      ]
     },
     "metadata": {},
     "output_type": "display_data"
    }
   ],
   "source": [
    "m = torch.tensor([[2.5]]).float()\n",
    "b = torch.tensor([[2]]).float()\n",
    "m.requires_grad = True\n",
    "b.requires_grad = True\n",
    "\n",
    "plot_optimization_steps(m, b, x, y, .02, steps=100, plot_grads=False)"
   ]
  },
  {
   "cell_type": "markdown",
   "metadata": {
    "id": "v3A6lgqpOqu9"
   },
   "source": [
    "After 100 steps we are pretty close to reaching the optimal point.\n",
    "For fun, go ahead and execute the code below, which performs 20 optimization steps with a larger learning rate."
   ]
  },
  {
   "cell_type": "code",
   "execution_count": 215,
   "metadata": {
    "id": "l62dQWJROqu9"
   },
   "outputs": [
    {
     "data": {
      "image/png": "[encoded data removed]",
      "text/plain": [
       "<Figure size 800x800 with 1 Axes>"
      ]
     },
     "metadata": {},
     "output_type": "display_data"
    }
   ],
   "source": [
    "m = torch.tensor([[2.5]]).float()\n",
    "b = torch.tensor([[2]]).float()\n",
    "m.requires_grad = True\n",
    "b.requires_grad = True\n",
    "\n",
    "plot_optimization_steps(m, b, x, y, .085, steps=20, plot_grads=True)"
   ]
  },
  {
   "cell_type": "markdown",
   "metadata": {
    "id": "bHwRsmTkOqu-"
   },
   "source": [
    "It is interesting that the learning rate is a little too big for the intercept (not big enough for it to jump away from the minimal point though), but it is better for our slope, which converges faster than the previous examples.\n",
    "In the future you will learn about optimizers that can handle this issue."
   ]
  },
  {
   "cell_type": "markdown",
   "metadata": {
    "id": "iymNI1hrOqu-"
   },
   "source": [
    "This process of gradient descent is the power house of deep learning.\n",
    "We will usually not be able to visualize the optimization process in detail because once we scale up the number of parameters we are optimizing we lose our ability to visualize the loss surface, but this process still happens in that high-dimensional space."
   ]
  },
  {
   "cell_type": "markdown",
   "metadata": {
    "id": "8ddyvUr9Oqu-"
   },
   "source": [
    "---\n",
    "\n",
    "# Lab Submission Information:\n",
    "\n",
    "Colab stores the saved changes of your notebook on your Google Drive (NOT the file on your device). Remember to download your notebook as an .ipynb file to get your changes, and submit the downloaded file. The file should contain all the changes you've made, including code and output cells: if you can see it in Colab, it will be stored in the .ipynb file. If you download the file as .py, it will not contain the outputs.\n",
    "\n",
    "Submit your .ipynb file online."
   ]
  }
 ],
 "metadata": {
  "colab": {
   "provenance": []
  },
  "kernelspec": {
   "display_name": ".venv",
   "language": "python",
   "name": "python3"
  },
  "language_info": {
   "codemirror_mode": {
    "name": "ipython",
    "version": 3
   },
   "file_extension": ".py",
   "mimetype": "text/x-python",
   "name": "python",
   "nbconvert_exporter": "python",
   "pygments_lexer": "ipython3",
   "version": "3.11.10"
  }
 },
 "nbformat": 4,
 "nbformat_minor": 4
}
